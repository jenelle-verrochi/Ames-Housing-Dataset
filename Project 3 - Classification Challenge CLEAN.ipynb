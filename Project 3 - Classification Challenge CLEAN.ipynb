{
 "cells": [
  {
   "cell_type": "code",
   "execution_count": 2,
   "metadata": {
    "collapsed": true
   },
   "outputs": [],
   "source": [
    "import pandas as pd\n",
    "import numpy as np\n",
    "import seaborn as sns\n",
    "import matplotlib.pyplot as plt\n",
    "%matplotlib inline\n",
    "\n",
    "from sklearn.model_selection import train_test_split\n",
    "from sklearn.preprocessing import StandardScaler\n",
    "from sklearn.linear_model import LinearRegression"
   ]
  },
  {
   "cell_type": "code",
   "execution_count": 4,
   "metadata": {},
   "outputs": [],
   "source": [
    "ames = pd.read_csv('train.csv')\n",
    "ames_test = pd.read_csv('test.csv')"
   ]
  },
  {
   "cell_type": "code",
   "execution_count": 5,
   "metadata": {},
   "outputs": [
    {
     "data": {
      "text/plain": [
       "{'float64': Index(['Lot Frontage', 'Mas Vnr Area', 'BsmtFin SF 1', 'BsmtFin SF 2',\n",
       "        'Bsmt Unf SF', 'Total Bsmt SF', 'Bsmt Full Bath', 'Bsmt Half Bath',\n",
       "        'Garage Yr Blt', 'Garage Cars', 'Garage Area'],\n",
       "       dtype='object'),\n",
       " 'int64': Index(['Id', 'PID', 'MS SubClass', 'Lot Area', 'Overall Qual', 'Overall Cond',\n",
       "        'Year Built', 'Year Remod/Add', '1st Flr SF', '2nd Flr SF',\n",
       "        'Low Qual Fin SF', 'Gr Liv Area', 'Full Bath', 'Half Bath',\n",
       "        'Bedroom AbvGr', 'Kitchen AbvGr', 'TotRms AbvGrd', 'Fireplaces',\n",
       "        'Wood Deck SF', 'Open Porch SF', 'Enclosed Porch', '3Ssn Porch',\n",
       "        'Screen Porch', 'Pool Area', 'Misc Val', 'Mo Sold', 'Yr Sold',\n",
       "        'SalePrice'],\n",
       "       dtype='object'),\n",
       " 'object': Index(['MS Zoning', 'Street', 'Alley', 'Lot Shape', 'Land Contour',\n",
       "        'Utilities', 'Lot Config', 'Land Slope', 'Neighborhood', 'Condition 1',\n",
       "        'Condition 2', 'Bldg Type', 'House Style', 'Roof Style', 'Roof Matl',\n",
       "        'Exterior 1st', 'Exterior 2nd', 'Mas Vnr Type', 'Exter Qual',\n",
       "        'Exter Cond', 'Foundation', 'Bsmt Qual', 'Bsmt Cond', 'Bsmt Exposure',\n",
       "        'BsmtFin Type 1', 'BsmtFin Type 2', 'Heating', 'Heating QC',\n",
       "        'Central Air', 'Electrical', 'Kitchen Qual', 'Functional',\n",
       "        'Fireplace Qu', 'Garage Type', 'Garage Finish', 'Garage Qual',\n",
       "        'Garage Cond', 'Paved Drive', 'Pool QC', 'Fence', 'Misc Feature',\n",
       "        'Sale Type', 'Sale Condition'],\n",
       "       dtype='object')}"
      ]
     },
     "execution_count": 5,
     "metadata": {},
     "output_type": "execute_result"
    }
   ],
   "source": [
    "g = ames.columns.to_series().groupby(ames.dtypes).groups\n",
    "d = {k.name: v for k, v in g.items()}\n",
    "d"
   ]
  },
  {
   "cell_type": "code",
   "execution_count": 6,
   "metadata": {
    "collapsed": true
   },
   "outputs": [],
   "source": [
    "ames_num = ames[['Lot Frontage', 'Mas Vnr Area', 'BsmtFin SF 1', 'BsmtFin SF 2',\n",
    "        'Bsmt Unf SF', 'Total Bsmt SF', 'Bsmt Full Bath', 'Bsmt Half Bath',\n",
    "        'Garage Yr Blt', 'Garage Cars', 'Garage Area', 'Id', 'PID', 'MS SubClass', 'Lot Area', 'Overall Qual', 'Overall Cond',\n",
    "        'Year Built', 'Year Remod/Add', '1st Flr SF', '2nd Flr SF',\n",
    "        'Low Qual Fin SF', 'Gr Liv Area', 'Full Bath', 'Half Bath',\n",
    "        'Bedroom AbvGr', 'Kitchen AbvGr', 'TotRms AbvGrd', 'Fireplaces',\n",
    "        'Wood Deck SF', 'Open Porch SF', 'Enclosed Porch', '3Ssn Porch',\n",
    "        'Screen Porch', 'Pool Area', 'Misc Val', 'Mo Sold', 'Yr Sold' ]]\n",
    "\n",
    "ames_cat = ames[['MS Zoning', 'Street', 'Alley', 'Lot Shape', 'Land Contour',\n",
    "        'Utilities', 'Lot Config', 'Land Slope', 'Neighborhood', 'Condition 1',\n",
    "        'Condition 2', 'Bldg Type', 'House Style', 'Roof Style', 'Roof Matl',\n",
    "        'Exterior 1st', 'Exterior 2nd', 'Mas Vnr Type', 'Exter Qual',\n",
    "        'Exter Cond', 'Foundation', 'Bsmt Qual', 'Bsmt Cond', 'Bsmt Exposure',\n",
    "        'BsmtFin Type 1', 'BsmtFin Type 2', 'Heating', 'Heating QC',\n",
    "        'Central Air', 'Electrical', 'Kitchen Qual', 'Functional',\n",
    "        'Fireplace Qu', 'Garage Type', 'Garage Finish', 'Garage Qual',\n",
    "        'Garage Cond', 'Paved Drive', 'Pool QC', 'Fence', 'Misc Feature',\n",
    "        'Sale Type', 'Sale Condition']]"
   ]
  },
  {
   "cell_type": "code",
   "execution_count": 7,
   "metadata": {},
   "outputs": [
    {
     "data": {
      "text/plain": [
       "Normal     1696\n",
       "Partial     164\n",
       "Abnorml     132\n",
       "Family       29\n",
       "Alloca       19\n",
       "AdjLand      11\n",
       "Name: Sale Condition, dtype: int64"
      ]
     },
     "execution_count": 7,
     "metadata": {},
     "output_type": "execute_result"
    }
   ],
   "source": [
    "ames_cat['Sale Condition'].value_counts()"
   ]
  },
  {
   "cell_type": "code",
   "execution_count": 8,
   "metadata": {
    "collapsed": true
   },
   "outputs": [],
   "source": [
    "# 1=abnormal and 0=not abnormal"
   ]
  },
  {
   "cell_type": "code",
   "execution_count": 9,
   "metadata": {},
   "outputs": [
    {
     "name": "stderr",
     "output_type": "stream",
     "text": [
      "/Users/jenelleverrochi/anaconda3/lib/python3.6/site-packages/ipykernel_launcher.py:1: SettingWithCopyWarning: \n",
      "A value is trying to be set on a copy of a slice from a DataFrame.\n",
      "Try using .loc[row_indexer,col_indexer] = value instead\n",
      "\n",
      "See the caveats in the documentation: http://pandas.pydata.org/pandas-docs/stable/indexing.html#indexing-view-versus-copy\n",
      "  \"\"\"Entry point for launching an IPython kernel.\n"
     ]
    }
   ],
   "source": [
    "ames_cat['Sale Condition'] = [1 if x=='Abnorml' else 0 for x in ames_cat['Sale Condition']]\n"
   ]
  },
  {
   "cell_type": "code",
   "execution_count": 10,
   "metadata": {},
   "outputs": [
    {
     "data": {
      "text/plain": [
       "0    1919\n",
       "1     132\n",
       "Name: Sale Condition, dtype: int64"
      ]
     },
     "execution_count": 10,
     "metadata": {},
     "output_type": "execute_result"
    }
   ],
   "source": [
    "ames_cat['Sale Condition'].value_counts()"
   ]
  },
  {
   "cell_type": "code",
   "execution_count": 11,
   "metadata": {
    "collapsed": true
   },
   "outputs": [],
   "source": [
    "X = ames_num\n",
    "y = ames_cat['Sale Condition']"
   ]
  },
  {
   "cell_type": "code",
   "execution_count": 12,
   "metadata": {},
   "outputs": [
    {
     "name": "stdout",
     "output_type": "stream",
     "text": [
      "(1538, 38) (513, 38) (1538,) (513,)\n"
     ]
    }
   ],
   "source": [
    "X_train, X_test, y_train, y_test = train_test_split(X, y)\n",
    "\n",
    "print(X_train.shape, X_test.shape, y_train.shape, y_test.shape)"
   ]
  },
  {
   "cell_type": "code",
   "execution_count": 13,
   "metadata": {},
   "outputs": [
    {
     "data": {
      "text/plain": [
       "Lot Frontage      253\n",
       "Mas Vnr Area       16\n",
       "BsmtFin SF 1        1\n",
       "BsmtFin SF 2        1\n",
       "Bsmt Unf SF         1\n",
       "Total Bsmt SF       1\n",
       "Bsmt Full Bath      2\n",
       "Bsmt Half Bath      2\n",
       "Garage Yr Blt      83\n",
       "Garage Cars         1\n",
       "Garage Area         1\n",
       "dtype: int64"
      ]
     },
     "execution_count": 13,
     "metadata": {},
     "output_type": "execute_result"
    }
   ],
   "source": [
    "X_train.isnull().sum()[X_train.isnull().sum()>0]"
   ]
  },
  {
   "cell_type": "code",
   "execution_count": 14,
   "metadata": {
    "collapsed": true
   },
   "outputs": [],
   "source": [
    "from sklearn.preprocessing import Imputer\n",
    "imputer = Imputer(strategy='median')\n",
    "\n",
    "X_train = imputer.fit_transform(X_train)"
   ]
  },
  {
   "cell_type": "code",
   "execution_count": 15,
   "metadata": {},
   "outputs": [
    {
     "data": {
      "text/plain": [
       "array([[   50.,     0.,   452., ...,     0.,     4.,  2010.],\n",
       "       [   80.,   251.,  1271., ...,     0.,     4.,  2008.],\n",
       "       [   94.,     0.,     0., ...,     0.,     4.,  2010.],\n",
       "       ..., \n",
       "       [   90.,     0.,   315., ...,     0.,    10.,  2009.],\n",
       "       [   68.,   450.,   194., ...,     0.,     7.,  2006.],\n",
       "       [  104.,   860.,     0., ...,     0.,     7.,  2009.]])"
      ]
     },
     "execution_count": 15,
     "metadata": {},
     "output_type": "execute_result"
    }
   ],
   "source": [
    "X_train"
   ]
  },
  {
   "cell_type": "code",
   "execution_count": 16,
   "metadata": {},
   "outputs": [
    {
     "data": {
      "text/plain": [
       "array([[-0.90702082, -0.57681092, -0.01443692, ..., -0.09403024,\n",
       "        -0.78982578,  1.68453116],\n",
       "       [ 0.48732651,  0.86220815,  1.74359278, ..., -0.09403024,\n",
       "        -0.78982578,  0.16097402],\n",
       "       [ 1.13802192, -0.57681092, -0.98468041, ..., -0.09403024,\n",
       "        -0.78982578,  1.68453116],\n",
       "       ..., \n",
       "       [ 0.95210895, -0.57681092, -0.30851514, ..., -0.09403024,\n",
       "         1.37165473,  0.92275259],\n",
       "       [-0.07041242,  2.00310375, -0.56824847, ..., -0.09403024,\n",
       "         0.29091448, -1.36258313],\n",
       "       [ 1.60280436,  4.35369267, -0.98468041, ..., -0.09403024,\n",
       "         0.29091448,  0.92275259]])"
      ]
     },
     "execution_count": 16,
     "metadata": {},
     "output_type": "execute_result"
    }
   ],
   "source": [
    "ss = StandardScaler()\n",
    "ss.fit(X_train)\n",
    "X_train = ss.transform(X_train)\n",
    "\n",
    "X_train"
   ]
  },
  {
   "cell_type": "code",
   "execution_count": 17,
   "metadata": {
    "collapsed": true
   },
   "outputs": [],
   "source": [
    "X_train = pd.DataFrame(X_train, columns=X.columns)"
   ]
  },
  {
   "cell_type": "code",
   "execution_count": 18,
   "metadata": {
    "collapsed": true
   },
   "outputs": [],
   "source": [
    "from sklearn.linear_model import Lasso, LinearRegression, LogisticRegression, ElasticNet\n",
    "from sklearn.neighbors import KNeighborsClassifier\n",
    "from sklearn.model_selection import cross_val_score, GridSearchCV, train_test_split\n",
    "from sklearn.feature_selection import RFE, SelectKBest, f_classif, f_regression"
   ]
  },
  {
   "cell_type": "code",
   "execution_count": null,
   "metadata": {
    "collapsed": true
   },
   "outputs": [],
   "source": []
  },
  {
   "cell_type": "code",
   "execution_count": 19,
   "metadata": {},
   "outputs": [
    {
     "data": {
      "text/plain": [
       "LogisticRegression(C=1000000, class_weight=None, dual=False,\n",
       "          fit_intercept=True, intercept_scaling=1, max_iter=100,\n",
       "          multi_class='ovr', n_jobs=1, penalty='l2', random_state=None,\n",
       "          solver='liblinear', tol=0.0001, verbose=0, warm_start=False)"
      ]
     },
     "execution_count": 19,
     "metadata": {},
     "output_type": "execute_result"
    }
   ],
   "source": [
    "logreg = LogisticRegression(C=1000000)\n",
    "logreg.fit(X_train, y_train)"
   ]
  },
  {
   "cell_type": "code",
   "execution_count": 20,
   "metadata": {},
   "outputs": [
    {
     "data": {
      "text/plain": [
       "(1, 38)"
      ]
     },
     "execution_count": 20,
     "metadata": {},
     "output_type": "execute_result"
    }
   ],
   "source": [
    "logreg.coef_.shape"
   ]
  },
  {
   "cell_type": "code",
   "execution_count": 21,
   "metadata": {},
   "outputs": [
    {
     "name": "stdout",
     "output_type": "stream",
     "text": [
      "Lot Frontage -0.0245796150147\n",
      "Mas Vnr Area 0.191236447639\n",
      "BsmtFin SF 1 -22.3177071146\n",
      "BsmtFin SF 2 -7.99418714547\n",
      "Bsmt Unf SF -21.1697937594\n",
      "Total Bsmt SF 21.5630845364\n",
      "Bsmt Full Bath -0.167222849294\n",
      "Bsmt Half Bath -0.0252668801314\n",
      "Garage Yr Blt 0.130219449538\n",
      "Garage Cars -0.30647909692\n",
      "Garage Area 0.179427414478\n",
      "Id 0.686674561002\n",
      "PID -0.186661787499\n",
      "MS SubClass 0.224667667812\n",
      "Lot Area 0.0179549695281\n",
      "Overall Qual -0.320275286094\n",
      "Overall Cond -0.312858154847\n",
      "Year Built -0.211098520125\n",
      "Year Remod/Add -0.135694080267\n",
      "1st Flr SF 0.239657880114\n",
      "2nd Flr SF 0.0483852220085\n",
      "Low Qual Fin SF 0.0716603390259\n",
      "Gr Liv Area 0.235564496817\n",
      "Full Bath -0.477142382621\n",
      "Half Bath -0.265042814258\n",
      "Bedroom AbvGr -0.0648022538289\n",
      "Kitchen AbvGr -0.0458807224927\n",
      "TotRms AbvGrd 0.00445772890154\n",
      "Fireplaces -0.193948503144\n",
      "Wood Deck SF -0.240730953267\n",
      "Open Porch SF 0.161499567486\n",
      "Enclosed Porch 0.0152277541942\n",
      "3Ssn Porch 0.0214984778923\n",
      "Screen Porch -0.106632347536\n",
      "Pool Area -1.26340940483\n",
      "Misc Val -0.624125731394\n",
      "Mo Sold 0.178296718574\n",
      "Yr Sold 0.698310128302\n"
     ]
    }
   ],
   "source": [
    "sx_list = []\n",
    "for i, col in enumerate(X_train):\n",
    "    if logreg.coef_[0,i]!=0:\n",
    "        sx_list.append(col)\n",
    "        print(col, logreg.coef_[0,i])"
   ]
  },
  {
   "cell_type": "code",
   "execution_count": 22,
   "metadata": {},
   "outputs": [
    {
     "data": {
      "text/plain": [
       "['Lot Frontage',\n",
       " 'Mas Vnr Area',\n",
       " 'BsmtFin SF 1',\n",
       " 'BsmtFin SF 2',\n",
       " 'Bsmt Unf SF',\n",
       " 'Total Bsmt SF',\n",
       " 'Bsmt Full Bath',\n",
       " 'Bsmt Half Bath',\n",
       " 'Garage Yr Blt',\n",
       " 'Garage Cars',\n",
       " 'Garage Area',\n",
       " 'Id',\n",
       " 'PID',\n",
       " 'MS SubClass',\n",
       " 'Lot Area',\n",
       " 'Overall Qual',\n",
       " 'Overall Cond',\n",
       " 'Year Built',\n",
       " 'Year Remod/Add',\n",
       " '1st Flr SF',\n",
       " '2nd Flr SF',\n",
       " 'Low Qual Fin SF',\n",
       " 'Gr Liv Area',\n",
       " 'Full Bath',\n",
       " 'Half Bath',\n",
       " 'Bedroom AbvGr',\n",
       " 'Kitchen AbvGr',\n",
       " 'TotRms AbvGrd',\n",
       " 'Fireplaces',\n",
       " 'Wood Deck SF',\n",
       " 'Open Porch SF',\n",
       " 'Enclosed Porch',\n",
       " '3Ssn Porch',\n",
       " 'Screen Porch',\n",
       " 'Pool Area',\n",
       " 'Misc Val',\n",
       " 'Mo Sold',\n",
       " 'Yr Sold']"
      ]
     },
     "execution_count": 22,
     "metadata": {},
     "output_type": "execute_result"
    }
   ],
   "source": [
    "sx_list"
   ]
  },
  {
   "cell_type": "code",
   "execution_count": 23,
   "metadata": {
    "collapsed": true
   },
   "outputs": [],
   "source": [
    "selected_X= X_train[sx_list]"
   ]
  },
  {
   "cell_type": "code",
   "execution_count": 24,
   "metadata": {},
   "outputs": [
    {
     "data": {
      "text/html": [
       "<div>\n",
       "<style>\n",
       "    .dataframe thead tr:only-child th {\n",
       "        text-align: right;\n",
       "    }\n",
       "\n",
       "    .dataframe thead th {\n",
       "        text-align: left;\n",
       "    }\n",
       "\n",
       "    .dataframe tbody tr th {\n",
       "        vertical-align: top;\n",
       "    }\n",
       "</style>\n",
       "<table border=\"1\" class=\"dataframe\">\n",
       "  <thead>\n",
       "    <tr style=\"text-align: right;\">\n",
       "      <th></th>\n",
       "      <th>Lot Frontage</th>\n",
       "      <th>Mas Vnr Area</th>\n",
       "      <th>BsmtFin SF 1</th>\n",
       "      <th>BsmtFin SF 2</th>\n",
       "      <th>Bsmt Unf SF</th>\n",
       "      <th>Total Bsmt SF</th>\n",
       "      <th>Bsmt Full Bath</th>\n",
       "      <th>Bsmt Half Bath</th>\n",
       "      <th>Garage Yr Blt</th>\n",
       "      <th>Garage Cars</th>\n",
       "      <th>...</th>\n",
       "      <th>Fireplaces</th>\n",
       "      <th>Wood Deck SF</th>\n",
       "      <th>Open Porch SF</th>\n",
       "      <th>Enclosed Porch</th>\n",
       "      <th>3Ssn Porch</th>\n",
       "      <th>Screen Porch</th>\n",
       "      <th>Pool Area</th>\n",
       "      <th>Misc Val</th>\n",
       "      <th>Mo Sold</th>\n",
       "      <th>Yr Sold</th>\n",
       "    </tr>\n",
       "  </thead>\n",
       "  <tbody>\n",
       "    <tr>\n",
       "      <th>0</th>\n",
       "      <td>-0.907021</td>\n",
       "      <td>-0.576811</td>\n",
       "      <td>-0.014437</td>\n",
       "      <td>-0.216069</td>\n",
       "      <td>-0.943632</td>\n",
       "      <td>-1.023438</td>\n",
       "      <td>1.073722</td>\n",
       "      <td>-0.254190</td>\n",
       "      <td>-1.548494</td>\n",
       "      <td>-1.016855</td>\n",
       "      <td>...</td>\n",
       "      <td>-0.933304</td>\n",
       "      <td>-0.711576</td>\n",
       "      <td>-0.718603</td>\n",
       "      <td>1.803317</td>\n",
       "      <td>-0.106626</td>\n",
       "      <td>-0.286408</td>\n",
       "      <td>-0.065889</td>\n",
       "      <td>-0.09403</td>\n",
       "      <td>-0.789826</td>\n",
       "      <td>1.684531</td>\n",
       "    </tr>\n",
       "    <tr>\n",
       "      <th>1</th>\n",
       "      <td>0.487327</td>\n",
       "      <td>0.862208</td>\n",
       "      <td>1.743593</td>\n",
       "      <td>-0.287442</td>\n",
       "      <td>-0.518582</td>\n",
       "      <td>1.196261</td>\n",
       "      <td>1.073722</td>\n",
       "      <td>-0.254190</td>\n",
       "      <td>0.636700</td>\n",
       "      <td>0.283164</td>\n",
       "      <td>...</td>\n",
       "      <td>0.618503</td>\n",
       "      <td>2.458116</td>\n",
       "      <td>-0.125376</td>\n",
       "      <td>-0.388782</td>\n",
       "      <td>-0.106626</td>\n",
       "      <td>-0.286408</td>\n",
       "      <td>-0.065889</td>\n",
       "      <td>-0.09403</td>\n",
       "      <td>-0.789826</td>\n",
       "      <td>0.160974</td>\n",
       "    </tr>\n",
       "    <tr>\n",
       "      <th>2</th>\n",
       "      <td>1.138022</td>\n",
       "      <td>-0.576811</td>\n",
       "      <td>-0.984680</td>\n",
       "      <td>-0.287442</td>\n",
       "      <td>0.802030</td>\n",
       "      <td>-0.344577</td>\n",
       "      <td>-0.846493</td>\n",
       "      <td>-0.254190</td>\n",
       "      <td>0.040738</td>\n",
       "      <td>-2.316875</td>\n",
       "      <td>...</td>\n",
       "      <td>-0.933304</td>\n",
       "      <td>0.245312</td>\n",
       "      <td>-0.718603</td>\n",
       "      <td>-0.388782</td>\n",
       "      <td>-0.106626</td>\n",
       "      <td>-0.286408</td>\n",
       "      <td>-0.065889</td>\n",
       "      <td>-0.09403</td>\n",
       "      <td>-0.789826</td>\n",
       "      <td>1.684531</td>\n",
       "    </tr>\n",
       "    <tr>\n",
       "      <th>3</th>\n",
       "      <td>-0.070412</td>\n",
       "      <td>1.854042</td>\n",
       "      <td>0.938634</td>\n",
       "      <td>-0.287442</td>\n",
       "      <td>-0.284463</td>\n",
       "      <td>0.588858</td>\n",
       "      <td>1.073722</td>\n",
       "      <td>-0.254190</td>\n",
       "      <td>-0.038723</td>\n",
       "      <td>0.283164</td>\n",
       "      <td>...</td>\n",
       "      <td>0.618503</td>\n",
       "      <td>3.400052</td>\n",
       "      <td>3.463646</td>\n",
       "      <td>-0.388782</td>\n",
       "      <td>-0.106626</td>\n",
       "      <td>-0.286408</td>\n",
       "      <td>-0.065889</td>\n",
       "      <td>-0.09403</td>\n",
       "      <td>0.290914</td>\n",
       "      <td>0.160974</td>\n",
       "    </tr>\n",
       "    <tr>\n",
       "      <th>4</th>\n",
       "      <td>-0.070412</td>\n",
       "      <td>-0.576811</td>\n",
       "      <td>0.661728</td>\n",
       "      <td>0.265700</td>\n",
       "      <td>-0.666327</td>\n",
       "      <td>0.133306</td>\n",
       "      <td>-0.846493</td>\n",
       "      <td>3.694739</td>\n",
       "      <td>-0.038723</td>\n",
       "      <td>0.283164</td>\n",
       "      <td>...</td>\n",
       "      <td>-0.933304</td>\n",
       "      <td>0.634048</td>\n",
       "      <td>-0.718603</td>\n",
       "      <td>-0.388782</td>\n",
       "      <td>-0.106626</td>\n",
       "      <td>-0.286408</td>\n",
       "      <td>-0.065889</td>\n",
       "      <td>-0.09403</td>\n",
       "      <td>-1.150073</td>\n",
       "      <td>0.160974</td>\n",
       "    </tr>\n",
       "  </tbody>\n",
       "</table>\n",
       "<p>5 rows × 38 columns</p>\n",
       "</div>"
      ],
      "text/plain": [
       "   Lot Frontage  Mas Vnr Area  BsmtFin SF 1  BsmtFin SF 2  Bsmt Unf SF  \\\n",
       "0     -0.907021     -0.576811     -0.014437     -0.216069    -0.943632   \n",
       "1      0.487327      0.862208      1.743593     -0.287442    -0.518582   \n",
       "2      1.138022     -0.576811     -0.984680     -0.287442     0.802030   \n",
       "3     -0.070412      1.854042      0.938634     -0.287442    -0.284463   \n",
       "4     -0.070412     -0.576811      0.661728      0.265700    -0.666327   \n",
       "\n",
       "   Total Bsmt SF  Bsmt Full Bath  Bsmt Half Bath  Garage Yr Blt  Garage Cars  \\\n",
       "0      -1.023438        1.073722       -0.254190      -1.548494    -1.016855   \n",
       "1       1.196261        1.073722       -0.254190       0.636700     0.283164   \n",
       "2      -0.344577       -0.846493       -0.254190       0.040738    -2.316875   \n",
       "3       0.588858        1.073722       -0.254190      -0.038723     0.283164   \n",
       "4       0.133306       -0.846493        3.694739      -0.038723     0.283164   \n",
       "\n",
       "     ...     Fireplaces  Wood Deck SF  Open Porch SF  Enclosed Porch  \\\n",
       "0    ...      -0.933304     -0.711576      -0.718603        1.803317   \n",
       "1    ...       0.618503      2.458116      -0.125376       -0.388782   \n",
       "2    ...      -0.933304      0.245312      -0.718603       -0.388782   \n",
       "3    ...       0.618503      3.400052       3.463646       -0.388782   \n",
       "4    ...      -0.933304      0.634048      -0.718603       -0.388782   \n",
       "\n",
       "   3Ssn Porch  Screen Porch  Pool Area  Misc Val   Mo Sold   Yr Sold  \n",
       "0   -0.106626     -0.286408  -0.065889  -0.09403 -0.789826  1.684531  \n",
       "1   -0.106626     -0.286408  -0.065889  -0.09403 -0.789826  0.160974  \n",
       "2   -0.106626     -0.286408  -0.065889  -0.09403 -0.789826  1.684531  \n",
       "3   -0.106626     -0.286408  -0.065889  -0.09403  0.290914  0.160974  \n",
       "4   -0.106626     -0.286408  -0.065889  -0.09403 -1.150073  0.160974  \n",
       "\n",
       "[5 rows x 38 columns]"
      ]
     },
     "execution_count": 24,
     "metadata": {},
     "output_type": "execute_result"
    }
   ],
   "source": [
    "selected_X.head()"
   ]
  },
  {
   "cell_type": "code",
   "execution_count": 25,
   "metadata": {},
   "outputs": [
    {
     "name": "stdout",
     "output_type": "stream",
     "text": [
      "All features\n",
      "[ 0.9337232   0.93177388  0.92773438] \n",
      " Mean:  0.931077150341\n",
      "Feature Selection via Regularization\n",
      "[ 0.9337232   0.93177388  0.92773438] \n",
      " Mean:  0.931077150341\n"
     ]
    }
   ],
   "source": [
    "print('All features')\n",
    "scores = cross_val_score(logreg, X_train, y_train)\n",
    "print(scores, '\\n', 'Mean: ', scores.mean())\n",
    "\n",
    "print('Feature Selection via Regularization')\n",
    "scores = cross_val_score(logreg, selected_X, y_train)\n",
    "print(scores, '\\n', 'Mean: ', scores.mean())"
   ]
  },
  {
   "cell_type": "code",
   "execution_count": 26,
   "metadata": {
    "collapsed": true
   },
   "outputs": [],
   "source": [
    "#Must impute and standardize X_test"
   ]
  },
  {
   "cell_type": "code",
   "execution_count": 27,
   "metadata": {
    "collapsed": true
   },
   "outputs": [],
   "source": [
    "X_test = imputer.transform(X_test)\n",
    "X_test = pd.DataFrame(X_test, columns=X.columns)"
   ]
  },
  {
   "cell_type": "code",
   "execution_count": 28,
   "metadata": {
    "collapsed": true
   },
   "outputs": [],
   "source": [
    "ss = StandardScaler()\n",
    "ss.fit(X_test)\n",
    "X_test = ss.transform(X_test)"
   ]
  },
  {
   "cell_type": "code",
   "execution_count": 29,
   "metadata": {},
   "outputs": [
    {
     "data": {
      "text/html": [
       "<div>\n",
       "<style>\n",
       "    .dataframe thead tr:only-child th {\n",
       "        text-align: right;\n",
       "    }\n",
       "\n",
       "    .dataframe thead th {\n",
       "        text-align: left;\n",
       "    }\n",
       "\n",
       "    .dataframe tbody tr th {\n",
       "        vertical-align: top;\n",
       "    }\n",
       "</style>\n",
       "<table border=\"1\" class=\"dataframe\">\n",
       "  <thead>\n",
       "    <tr style=\"text-align: right;\">\n",
       "      <th></th>\n",
       "      <th>Lot Frontage</th>\n",
       "      <th>Mas Vnr Area</th>\n",
       "      <th>BsmtFin SF 1</th>\n",
       "      <th>BsmtFin SF 2</th>\n",
       "      <th>Bsmt Unf SF</th>\n",
       "      <th>Total Bsmt SF</th>\n",
       "      <th>Bsmt Full Bath</th>\n",
       "      <th>Bsmt Half Bath</th>\n",
       "      <th>Garage Yr Blt</th>\n",
       "      <th>Garage Cars</th>\n",
       "      <th>...</th>\n",
       "      <th>Fireplaces</th>\n",
       "      <th>Wood Deck SF</th>\n",
       "      <th>Open Porch SF</th>\n",
       "      <th>Enclosed Porch</th>\n",
       "      <th>3Ssn Porch</th>\n",
       "      <th>Screen Porch</th>\n",
       "      <th>Pool Area</th>\n",
       "      <th>Misc Val</th>\n",
       "      <th>Mo Sold</th>\n",
       "      <th>Yr Sold</th>\n",
       "    </tr>\n",
       "  </thead>\n",
       "  <tbody>\n",
       "    <tr>\n",
       "      <th>0</th>\n",
       "      <td>-0.778696</td>\n",
       "      <td>-0.533505</td>\n",
       "      <td>-0.888271</td>\n",
       "      <td>-0.301859</td>\n",
       "      <td>1.028140</td>\n",
       "      <td>0.068631</td>\n",
       "      <td>-0.734695</td>\n",
       "      <td>-0.245322</td>\n",
       "      <td>-1.941232</td>\n",
       "      <td>-1.015501</td>\n",
       "      <td>...</td>\n",
       "      <td>-0.904091</td>\n",
       "      <td>-0.807320</td>\n",
       "      <td>-0.695382</td>\n",
       "      <td>-0.346888</td>\n",
       "      <td>-0.103662</td>\n",
       "      <td>-0.292714</td>\n",
       "      <td>-0.058279</td>\n",
       "      <td>-0.090551</td>\n",
       "      <td>-1.248586</td>\n",
       "      <td>0.201214</td>\n",
       "    </tr>\n",
       "    <tr>\n",
       "      <th>1</th>\n",
       "      <td>0.876234</td>\n",
       "      <td>-0.533505</td>\n",
       "      <td>0.786785</td>\n",
       "      <td>-0.301859</td>\n",
       "      <td>-0.983340</td>\n",
       "      <td>-0.329248</td>\n",
       "      <td>1.168833</td>\n",
       "      <td>-0.245322</td>\n",
       "      <td>-1.293734</td>\n",
       "      <td>-1.015501</td>\n",
       "      <td>...</td>\n",
       "      <td>-0.904091</td>\n",
       "      <td>-0.807320</td>\n",
       "      <td>-0.695382</td>\n",
       "      <td>-0.346888</td>\n",
       "      <td>-0.103662</td>\n",
       "      <td>2.900487</td>\n",
       "      <td>-0.058279</td>\n",
       "      <td>-0.090551</td>\n",
       "      <td>-0.114245</td>\n",
       "      <td>-1.328012</td>\n",
       "    </tr>\n",
       "    <tr>\n",
       "      <th>2</th>\n",
       "      <td>1.460327</td>\n",
       "      <td>-0.533505</td>\n",
       "      <td>1.035443</td>\n",
       "      <td>-0.301859</td>\n",
       "      <td>-0.830459</td>\n",
       "      <td>0.068631</td>\n",
       "      <td>1.168833</td>\n",
       "      <td>-0.245322</td>\n",
       "      <td>0.648760</td>\n",
       "      <td>0.320273</td>\n",
       "      <td>...</td>\n",
       "      <td>2.327955</td>\n",
       "      <td>0.703342</td>\n",
       "      <td>-0.695382</td>\n",
       "      <td>-0.346888</td>\n",
       "      <td>-0.103662</td>\n",
       "      <td>-0.292714</td>\n",
       "      <td>-0.058279</td>\n",
       "      <td>-0.090551</td>\n",
       "      <td>-0.114245</td>\n",
       "      <td>0.201214</td>\n",
       "    </tr>\n",
       "    <tr>\n",
       "      <th>3</th>\n",
       "      <td>-1.216765</td>\n",
       "      <td>-0.533505</td>\n",
       "      <td>2.366897</td>\n",
       "      <td>-0.301859</td>\n",
       "      <td>-1.295654</td>\n",
       "      <td>0.899758</td>\n",
       "      <td>3.072362</td>\n",
       "      <td>-0.245322</td>\n",
       "      <td>-0.085071</td>\n",
       "      <td>-2.351275</td>\n",
       "      <td>...</td>\n",
       "      <td>-0.904091</td>\n",
       "      <td>2.079123</td>\n",
       "      <td>-0.695382</td>\n",
       "      <td>-0.346888</td>\n",
       "      <td>-0.103662</td>\n",
       "      <td>-0.292714</td>\n",
       "      <td>-0.058279</td>\n",
       "      <td>-0.090551</td>\n",
       "      <td>0.641982</td>\n",
       "      <td>-0.563399</td>\n",
       "    </tr>\n",
       "    <tr>\n",
       "      <th>4</th>\n",
       "      <td>2.433815</td>\n",
       "      <td>2.172005</td>\n",
       "      <td>2.631380</td>\n",
       "      <td>-0.301859</td>\n",
       "      <td>0.108669</td>\n",
       "      <td>2.579695</td>\n",
       "      <td>1.168833</td>\n",
       "      <td>-0.245322</td>\n",
       "      <td>0.950926</td>\n",
       "      <td>1.656048</td>\n",
       "      <td>...</td>\n",
       "      <td>0.711932</td>\n",
       "      <td>1.063023</td>\n",
       "      <td>0.157040</td>\n",
       "      <td>-0.346888</td>\n",
       "      <td>-0.103662</td>\n",
       "      <td>-0.292714</td>\n",
       "      <td>-0.058279</td>\n",
       "      <td>-0.090551</td>\n",
       "      <td>0.263869</td>\n",
       "      <td>0.965827</td>\n",
       "    </tr>\n",
       "  </tbody>\n",
       "</table>\n",
       "<p>5 rows × 38 columns</p>\n",
       "</div>"
      ],
      "text/plain": [
       "   Lot Frontage  Mas Vnr Area  BsmtFin SF 1  BsmtFin SF 2  Bsmt Unf SF  \\\n",
       "0     -0.778696     -0.533505     -0.888271     -0.301859     1.028140   \n",
       "1      0.876234     -0.533505      0.786785     -0.301859    -0.983340   \n",
       "2      1.460327     -0.533505      1.035443     -0.301859    -0.830459   \n",
       "3     -1.216765     -0.533505      2.366897     -0.301859    -1.295654   \n",
       "4      2.433815      2.172005      2.631380     -0.301859     0.108669   \n",
       "\n",
       "   Total Bsmt SF  Bsmt Full Bath  Bsmt Half Bath  Garage Yr Blt  Garage Cars  \\\n",
       "0       0.068631       -0.734695       -0.245322      -1.941232    -1.015501   \n",
       "1      -0.329248        1.168833       -0.245322      -1.293734    -1.015501   \n",
       "2       0.068631        1.168833       -0.245322       0.648760     0.320273   \n",
       "3       0.899758        3.072362       -0.245322      -0.085071    -2.351275   \n",
       "4       2.579695        1.168833       -0.245322       0.950926     1.656048   \n",
       "\n",
       "     ...     Fireplaces  Wood Deck SF  Open Porch SF  Enclosed Porch  \\\n",
       "0    ...      -0.904091     -0.807320      -0.695382       -0.346888   \n",
       "1    ...      -0.904091     -0.807320      -0.695382       -0.346888   \n",
       "2    ...       2.327955      0.703342      -0.695382       -0.346888   \n",
       "3    ...      -0.904091      2.079123      -0.695382       -0.346888   \n",
       "4    ...       0.711932      1.063023       0.157040       -0.346888   \n",
       "\n",
       "   3Ssn Porch  Screen Porch  Pool Area  Misc Val   Mo Sold   Yr Sold  \n",
       "0   -0.103662     -0.292714  -0.058279 -0.090551 -1.248586  0.201214  \n",
       "1   -0.103662      2.900487  -0.058279 -0.090551 -0.114245 -1.328012  \n",
       "2   -0.103662     -0.292714  -0.058279 -0.090551 -0.114245  0.201214  \n",
       "3   -0.103662     -0.292714  -0.058279 -0.090551  0.641982 -0.563399  \n",
       "4   -0.103662     -0.292714  -0.058279 -0.090551  0.263869  0.965827  \n",
       "\n",
       "[5 rows x 38 columns]"
      ]
     },
     "execution_count": 29,
     "metadata": {},
     "output_type": "execute_result"
    }
   ],
   "source": [
    "X_test = pd.DataFrame(X_test, columns=X.columns)\n",
    "X_test.head()"
   ]
  },
  {
   "cell_type": "code",
   "execution_count": 30,
   "metadata": {},
   "outputs": [
    {
     "data": {
      "text/plain": [
       "(513, 38)"
      ]
     },
     "execution_count": 30,
     "metadata": {},
     "output_type": "execute_result"
    }
   ],
   "source": [
    "selected_x_test = X_test[sx_list]\n",
    "selected_x_test.shape"
   ]
  },
  {
   "cell_type": "code",
   "execution_count": 31,
   "metadata": {},
   "outputs": [
    {
     "data": {
      "text/plain": [
       "(513,)"
      ]
     },
     "execution_count": 31,
     "metadata": {},
     "output_type": "execute_result"
    }
   ],
   "source": [
    "y_test.shape"
   ]
  },
  {
   "cell_type": "code",
   "execution_count": 32,
   "metadata": {},
   "outputs": [
    {
     "name": "stdout",
     "output_type": "stream",
     "text": [
      "All features\n",
      "[ 0.92982456  0.89473684  0.94152047] \n",
      " Mean:  0.922027290448\n",
      "Feature Selection via Regularization\n",
      "[ 0.92982456  0.89473684  0.94152047] \n",
      " Mean:  0.922027290448\n"
     ]
    }
   ],
   "source": [
    "print('All features')\n",
    "scores = cross_val_score(logreg, X_test, y_test)\n",
    "print(scores, '\\n', 'Mean: ', scores.mean())\n",
    "\n",
    "\n",
    "print('Feature Selection via Regularization')\n",
    "scores = cross_val_score(logreg, selected_x_test, y_test)\n",
    "print(scores, '\\n', 'Mean: ', scores.mean())"
   ]
  },
  {
   "cell_type": "markdown",
   "metadata": {},
   "source": [
    "### Predicting"
   ]
  },
  {
   "cell_type": "code",
   "execution_count": 33,
   "metadata": {},
   "outputs": [
    {
     "data": {
      "text/plain": [
       "(879, 80)"
      ]
     },
     "execution_count": 33,
     "metadata": {},
     "output_type": "execute_result"
    }
   ],
   "source": [
    "ames_test.shape"
   ]
  },
  {
   "cell_type": "code",
   "execution_count": 34,
   "metadata": {},
   "outputs": [
    {
     "data": {
      "text/plain": [
       "Lot Frontage      160\n",
       "Alley             821\n",
       "Mas Vnr Type        1\n",
       "Mas Vnr Area        1\n",
       "Bsmt Qual          25\n",
       "Bsmt Cond          25\n",
       "Bsmt Exposure      25\n",
       "BsmtFin Type 1     25\n",
       "BsmtFin Type 2     25\n",
       "Electrical          1\n",
       "Fireplace Qu      422\n",
       "Garage Type        44\n",
       "Garage Yr Blt      45\n",
       "Garage Finish      45\n",
       "Garage Qual        45\n",
       "Garage Cond        45\n",
       "Pool QC           875\n",
       "Fence             707\n",
       "Misc Feature      838\n",
       "dtype: int64"
      ]
     },
     "execution_count": 34,
     "metadata": {},
     "output_type": "execute_result"
    }
   ],
   "source": [
    "ames_test.isnull().sum()[ames_test.isnull().sum()> 0]"
   ]
  },
  {
   "cell_type": "code",
   "execution_count": 35,
   "metadata": {},
   "outputs": [
    {
     "name": "stdout",
     "output_type": "stream",
     "text": [
      "<class 'pandas.core.frame.DataFrame'>\n",
      "RangeIndex: 879 entries, 0 to 878\n",
      "Data columns (total 80 columns):\n",
      "Id                 879 non-null int64\n",
      "PID                879 non-null int64\n",
      "MS SubClass        879 non-null int64\n",
      "MS Zoning          879 non-null object\n",
      "Lot Frontage       719 non-null float64\n",
      "Lot Area           879 non-null int64\n",
      "Street             879 non-null object\n",
      "Alley              58 non-null object\n",
      "Lot Shape          879 non-null object\n",
      "Land Contour       879 non-null object\n",
      "Utilities          879 non-null object\n",
      "Lot Config         879 non-null object\n",
      "Land Slope         879 non-null object\n",
      "Neighborhood       879 non-null object\n",
      "Condition 1        879 non-null object\n",
      "Condition 2        879 non-null object\n",
      "Bldg Type          879 non-null object\n",
      "House Style        879 non-null object\n",
      "Overall Qual       879 non-null int64\n",
      "Overall Cond       879 non-null int64\n",
      "Year Built         879 non-null int64\n",
      "Year Remod/Add     879 non-null int64\n",
      "Roof Style         879 non-null object\n",
      "Roof Matl          879 non-null object\n",
      "Exterior 1st       879 non-null object\n",
      "Exterior 2nd       879 non-null object\n",
      "Mas Vnr Type       878 non-null object\n",
      "Mas Vnr Area       878 non-null float64\n",
      "Exter Qual         879 non-null object\n",
      "Exter Cond         879 non-null object\n",
      "Foundation         879 non-null object\n",
      "Bsmt Qual          854 non-null object\n",
      "Bsmt Cond          854 non-null object\n",
      "Bsmt Exposure      854 non-null object\n",
      "BsmtFin Type 1     854 non-null object\n",
      "BsmtFin SF 1       879 non-null float64\n",
      "BsmtFin Type 2     854 non-null object\n",
      "BsmtFin SF 2       879 non-null float64\n",
      "Bsmt Unf SF        879 non-null float64\n",
      "Total Bsmt SF      879 non-null float64\n",
      "Heating            879 non-null object\n",
      "Heating QC         879 non-null object\n",
      "Central Air        879 non-null object\n",
      "Electrical         878 non-null object\n",
      "1st Flr SF         879 non-null int64\n",
      "2nd Flr SF         879 non-null int64\n",
      "Low Qual Fin SF    879 non-null int64\n",
      "Gr Liv Area        879 non-null int64\n",
      "Bsmt Full Bath     879 non-null float64\n",
      "Bsmt Half Bath     879 non-null float64\n",
      "Full Bath          879 non-null int64\n",
      "Half Bath          879 non-null int64\n",
      "Bedroom AbvGr      879 non-null int64\n",
      "Kitchen AbvGr      879 non-null int64\n",
      "Kitchen Qual       879 non-null object\n",
      "TotRms AbvGrd      879 non-null int64\n",
      "Functional         879 non-null object\n",
      "Fireplaces         879 non-null int64\n",
      "Fireplace Qu       457 non-null object\n",
      "Garage Type        835 non-null object\n",
      "Garage Yr Blt      834 non-null float64\n",
      "Garage Finish      834 non-null object\n",
      "Garage Cars        879 non-null float64\n",
      "Garage Area        879 non-null float64\n",
      "Garage Qual        834 non-null object\n",
      "Garage Cond        834 non-null object\n",
      "Paved Drive        879 non-null object\n",
      "Wood Deck SF       879 non-null int64\n",
      "Open Porch SF      879 non-null int64\n",
      "Enclosed Porch     879 non-null int64\n",
      "3Ssn Porch         879 non-null int64\n",
      "Screen Porch       879 non-null int64\n",
      "Pool Area          879 non-null int64\n",
      "Pool QC            4 non-null object\n",
      "Fence              172 non-null object\n",
      "Misc Feature       41 non-null object\n",
      "Misc Val           879 non-null int64\n",
      "Mo Sold            879 non-null int64\n",
      "Yr Sold            879 non-null int64\n",
      "Sale Type          879 non-null object\n",
      "dtypes: float64(11), int64(27), object(42)\n",
      "memory usage: 549.5+ KB\n"
     ]
    }
   ],
   "source": [
    "ames_test.info()"
   ]
  },
  {
   "cell_type": "code",
   "execution_count": 36,
   "metadata": {},
   "outputs": [
    {
     "data": {
      "text/plain": [
       "{'float64': Index(['Lot Frontage', 'Mas Vnr Area', 'BsmtFin SF 1', 'BsmtFin SF 2',\n",
       "        'Bsmt Unf SF', 'Total Bsmt SF', 'Bsmt Full Bath', 'Bsmt Half Bath',\n",
       "        'Garage Yr Blt', 'Garage Cars', 'Garage Area'],\n",
       "       dtype='object'),\n",
       " 'int64': Index(['Id', 'PID', 'MS SubClass', 'Lot Area', 'Overall Qual', 'Overall Cond',\n",
       "        'Year Built', 'Year Remod/Add', '1st Flr SF', '2nd Flr SF',\n",
       "        'Low Qual Fin SF', 'Gr Liv Area', 'Full Bath', 'Half Bath',\n",
       "        'Bedroom AbvGr', 'Kitchen AbvGr', 'TotRms AbvGrd', 'Fireplaces',\n",
       "        'Wood Deck SF', 'Open Porch SF', 'Enclosed Porch', '3Ssn Porch',\n",
       "        'Screen Porch', 'Pool Area', 'Misc Val', 'Mo Sold', 'Yr Sold'],\n",
       "       dtype='object'),\n",
       " 'object': Index(['MS Zoning', 'Street', 'Alley', 'Lot Shape', 'Land Contour',\n",
       "        'Utilities', 'Lot Config', 'Land Slope', 'Neighborhood', 'Condition 1',\n",
       "        'Condition 2', 'Bldg Type', 'House Style', 'Roof Style', 'Roof Matl',\n",
       "        'Exterior 1st', 'Exterior 2nd', 'Mas Vnr Type', 'Exter Qual',\n",
       "        'Exter Cond', 'Foundation', 'Bsmt Qual', 'Bsmt Cond', 'Bsmt Exposure',\n",
       "        'BsmtFin Type 1', 'BsmtFin Type 2', 'Heating', 'Heating QC',\n",
       "        'Central Air', 'Electrical', 'Kitchen Qual', 'Functional',\n",
       "        'Fireplace Qu', 'Garage Type', 'Garage Finish', 'Garage Qual',\n",
       "        'Garage Cond', 'Paved Drive', 'Pool QC', 'Fence', 'Misc Feature',\n",
       "        'Sale Type'],\n",
       "       dtype='object')}"
      ]
     },
     "execution_count": 36,
     "metadata": {},
     "output_type": "execute_result"
    }
   ],
   "source": [
    "g = ames_test.columns.to_series().groupby(ames.dtypes).groups\n",
    "d = {k.name: v for k, v in g.items()}\n",
    "d"
   ]
  },
  {
   "cell_type": "code",
   "execution_count": 37,
   "metadata": {
    "collapsed": true
   },
   "outputs": [],
   "source": [
    "ames_test_num = ames_test[['Lot Frontage', 'Mas Vnr Area', 'BsmtFin SF 1', 'BsmtFin SF 2',\n",
    "        'Bsmt Unf SF', 'Total Bsmt SF', 'Bsmt Full Bath', 'Bsmt Half Bath',\n",
    "        'Garage Yr Blt', 'Garage Cars', 'Garage Area', 'Id', 'PID', 'MS SubClass', 'Lot Area', 'Overall Qual', 'Overall Cond',\n",
    "        'Year Built', 'Year Remod/Add', '1st Flr SF', '2nd Flr SF',\n",
    "        'Low Qual Fin SF', 'Gr Liv Area', 'Full Bath', 'Half Bath',\n",
    "        'Bedroom AbvGr', 'Kitchen AbvGr', 'TotRms AbvGrd', 'Fireplaces',\n",
    "        'Wood Deck SF', 'Open Porch SF', 'Enclosed Porch', '3Ssn Porch',\n",
    "        'Screen Porch', 'Pool Area', 'Misc Val', 'Mo Sold', 'Yr Sold']]"
   ]
  },
  {
   "cell_type": "code",
   "execution_count": 38,
   "metadata": {},
   "outputs": [
    {
     "data": {
      "text/plain": [
       "(879, 38)"
      ]
     },
     "execution_count": 38,
     "metadata": {},
     "output_type": "execute_result"
    }
   ],
   "source": [
    "ames_test_num.shape"
   ]
  },
  {
   "cell_type": "code",
   "execution_count": 39,
   "metadata": {
    "collapsed": true
   },
   "outputs": [],
   "source": [
    "ames_test_ss = imputer.transform(ames_test_num)\n",
    "ames_test_ss = pd.DataFrame(ames_test_ss)"
   ]
  },
  {
   "cell_type": "code",
   "execution_count": 40,
   "metadata": {
    "collapsed": true
   },
   "outputs": [],
   "source": [
    "ss = StandardScaler()\n",
    "ss.fit(ames_test_ss)\n",
    "ames_test_ss = ss.transform(ames_test_ss)"
   ]
  },
  {
   "cell_type": "code",
   "execution_count": null,
   "metadata": {
    "collapsed": true
   },
   "outputs": [],
   "source": []
  },
  {
   "cell_type": "code",
   "execution_count": 41,
   "metadata": {
    "collapsed": true
   },
   "outputs": [],
   "source": [
    "ames_test_ss = pd.DataFrame(ames_test_ss, columns=ames_test_num.columns)"
   ]
  },
  {
   "cell_type": "code",
   "execution_count": 42,
   "metadata": {},
   "outputs": [
    {
     "data": {
      "text/plain": [
       "(879, 38)"
      ]
     },
     "execution_count": 42,
     "metadata": {},
     "output_type": "execute_result"
    }
   ],
   "source": [
    "ames_test_ss.shape"
   ]
  },
  {
   "cell_type": "code",
   "execution_count": null,
   "metadata": {
    "collapsed": true
   },
   "outputs": [],
   "source": []
  },
  {
   "cell_type": "code",
   "execution_count": null,
   "metadata": {
    "collapsed": true
   },
   "outputs": [],
   "source": [
    "\n"
   ]
  },
  {
   "cell_type": "code",
   "execution_count": null,
   "metadata": {
    "collapsed": true
   },
   "outputs": [],
   "source": []
  },
  {
   "cell_type": "code",
   "execution_count": 43,
   "metadata": {
    "collapsed": true
   },
   "outputs": [],
   "source": [
    "y_hat = logreg.predict(ames_test_ss)"
   ]
  },
  {
   "cell_type": "code",
   "execution_count": 44,
   "metadata": {},
   "outputs": [
    {
     "data": {
      "text/plain": [
       "0    843\n",
       "1     36\n",
       "Name: Sale Condition, dtype: int64"
      ]
     },
     "execution_count": 44,
     "metadata": {},
     "output_type": "execute_result"
    }
   ],
   "source": [
    "PRED = pd.DataFrame(y_hat, columns=['Sale Condition'])\n",
    "PRED['Sale Condition'].value_counts()"
   ]
  },
  {
   "cell_type": "code",
   "execution_count": 45,
   "metadata": {
    "collapsed": true
   },
   "outputs": [],
   "source": [
    "ID = ames_test[['Id']]"
   ]
  },
  {
   "cell_type": "code",
   "execution_count": 46,
   "metadata": {
    "collapsed": true
   },
   "outputs": [],
   "source": [
    "Prediction = pd.concat([ID, PRED], axis=1)"
   ]
  },
  {
   "cell_type": "code",
   "execution_count": 47,
   "metadata": {},
   "outputs": [
    {
     "data": {
      "text/html": [
       "<div>\n",
       "<style>\n",
       "    .dataframe thead tr:only-child th {\n",
       "        text-align: right;\n",
       "    }\n",
       "\n",
       "    .dataframe thead th {\n",
       "        text-align: left;\n",
       "    }\n",
       "\n",
       "    .dataframe tbody tr th {\n",
       "        vertical-align: top;\n",
       "    }\n",
       "</style>\n",
       "<table border=\"1\" class=\"dataframe\">\n",
       "  <thead>\n",
       "    <tr style=\"text-align: right;\">\n",
       "      <th></th>\n",
       "      <th>Id</th>\n",
       "      <th>Sale Condition</th>\n",
       "    </tr>\n",
       "  </thead>\n",
       "  <tbody>\n",
       "    <tr>\n",
       "      <th>0</th>\n",
       "      <td>2658</td>\n",
       "      <td>0</td>\n",
       "    </tr>\n",
       "    <tr>\n",
       "      <th>1</th>\n",
       "      <td>2718</td>\n",
       "      <td>0</td>\n",
       "    </tr>\n",
       "    <tr>\n",
       "      <th>2</th>\n",
       "      <td>2414</td>\n",
       "      <td>0</td>\n",
       "    </tr>\n",
       "    <tr>\n",
       "      <th>3</th>\n",
       "      <td>1989</td>\n",
       "      <td>0</td>\n",
       "    </tr>\n",
       "    <tr>\n",
       "      <th>4</th>\n",
       "      <td>625</td>\n",
       "      <td>0</td>\n",
       "    </tr>\n",
       "  </tbody>\n",
       "</table>\n",
       "</div>"
      ],
      "text/plain": [
       "     Id  Sale Condition\n",
       "0  2658               0\n",
       "1  2718               0\n",
       "2  2414               0\n",
       "3  1989               0\n",
       "4   625               0"
      ]
     },
     "execution_count": 47,
     "metadata": {},
     "output_type": "execute_result"
    }
   ],
   "source": [
    "Prediction.head()"
   ]
  },
  {
   "cell_type": "code",
   "execution_count": 48,
   "metadata": {},
   "outputs": [
    {
     "data": {
      "text/plain": [
       "0    486\n",
       "1     27\n",
       "Name: Sale Condition, dtype: int64"
      ]
     },
     "execution_count": 48,
     "metadata": {},
     "output_type": "execute_result"
    }
   ],
   "source": [
    "y_test.value_counts()"
   ]
  },
  {
   "cell_type": "code",
   "execution_count": 49,
   "metadata": {},
   "outputs": [
    {
     "data": {
      "text/plain": [
       "0.06875"
      ]
     },
     "execution_count": 49,
     "metadata": {},
     "output_type": "execute_result"
    }
   ],
   "source": [
    "33/480"
   ]
  },
  {
   "cell_type": "code",
   "execution_count": 50,
   "metadata": {},
   "outputs": [
    {
     "data": {
      "text/plain": [
       "0    1433\n",
       "1     105\n",
       "Name: Sale Condition, dtype: int64"
      ]
     },
     "execution_count": 50,
     "metadata": {},
     "output_type": "execute_result"
    }
   ],
   "source": [
    "y_train.value_counts()"
   ]
  },
  {
   "cell_type": "code",
   "execution_count": 51,
   "metadata": {},
   "outputs": [
    {
     "data": {
      "text/plain": [
       "0.06879777623349548"
      ]
     },
     "execution_count": 51,
     "metadata": {},
     "output_type": "execute_result"
    }
   ],
   "source": [
    "99/1439"
   ]
  },
  {
   "cell_type": "code",
   "execution_count": 52,
   "metadata": {},
   "outputs": [
    {
     "data": {
      "text/plain": [
       "0.04642857142857143"
      ]
     },
     "execution_count": 52,
     "metadata": {},
     "output_type": "execute_result"
    }
   ],
   "source": [
    "39/840\n"
   ]
  },
  {
   "cell_type": "code",
   "execution_count": 53,
   "metadata": {
    "collapsed": true
   },
   "outputs": [],
   "source": [
    "Prediction.to_csv('predictions_cl.csv', index=False)"
   ]
  },
  {
   "cell_type": "code",
   "execution_count": 54,
   "metadata": {},
   "outputs": [
    {
     "data": {
      "text/plain": [
       "0.93769018436351392"
      ]
     },
     "execution_count": 54,
     "metadata": {},
     "output_type": "execute_result"
    }
   ],
   "source": [
    "logreg = LogisticRegression()\n",
    "cross_val_score(logreg, X_test, y_test, cv=5).mean()"
   ]
  },
  {
   "cell_type": "code",
   "execution_count": 55,
   "metadata": {},
   "outputs": [
    {
     "name": "stdout",
     "output_type": "stream",
     "text": [
      "0.931729345573\n",
      "0.931729345573\n"
     ]
    }
   ],
   "source": [
    "from sklearn import svm\n",
    "\n",
    "clf = svm.SVC()\n",
    "print(cross_val_score(clf, X_train, y_train, cv=5).mean())\n",
    "\n",
    "\n",
    "clf = svm.SVC(kernel= 'linear')\n",
    "print(cross_val_score(clf, X_train, y_train, cv=5).mean())\n",
    "\n"
   ]
  },
  {
   "cell_type": "code",
   "execution_count": 56,
   "metadata": {},
   "outputs": [
    {
     "data": {
      "text/plain": [
       "SVC(C=1.0, cache_size=200, class_weight=None, coef0=0.0,\n",
       "  decision_function_shape='ovr', degree=3, gamma='auto', kernel='linear',\n",
       "  max_iter=-1, probability=False, random_state=None, shrinking=True,\n",
       "  tol=0.001, verbose=False)"
      ]
     },
     "execution_count": 56,
     "metadata": {},
     "output_type": "execute_result"
    }
   ],
   "source": [
    "clf.fit(X_train, y_train)"
   ]
  },
  {
   "cell_type": "code",
   "execution_count": 57,
   "metadata": {},
   "outputs": [
    {
     "data": {
      "text/plain": [
       "0.94736842105263153"
      ]
     },
     "execution_count": 57,
     "metadata": {},
     "output_type": "execute_result"
    }
   ],
   "source": [
    "clf.score(X_test, y_test)"
   ]
  },
  {
   "cell_type": "code",
   "execution_count": null,
   "metadata": {},
   "outputs": [],
   "source": [
    "plt.figure(figsize=(10,10))\n",
    "sns.pairplot(vis, y_train)"
   ]
  },
  {
   "cell_type": "code",
   "execution_count": 69,
   "metadata": {},
   "outputs": [],
   "source": [
    "vis = clf.predict(X_train)"
   ]
  },
  {
   "cell_type": "code",
   "execution_count": 67,
   "metadata": {},
   "outputs": [
    {
     "data": {
      "text/plain": [
       "(513,)"
      ]
     },
     "execution_count": 67,
     "metadata": {},
     "output_type": "execute_result"
    }
   ],
   "source": [
    "y_test.shape"
   ]
  },
  {
   "cell_type": "code",
   "execution_count": 59,
   "metadata": {
    "collapsed": true
   },
   "outputs": [],
   "source": [
    "y_hat2 = clf.predict(ames_test_ss)"
   ]
  },
  {
   "cell_type": "code",
   "execution_count": null,
   "metadata": {
    "collapsed": true
   },
   "outputs": [],
   "source": [
    "PRED2 = pd.DataFrame(y_hat2, columns=['Sale Condition'])"
   ]
  },
  {
   "cell_type": "code",
   "execution_count": null,
   "metadata": {
    "collapsed": true
   },
   "outputs": [],
   "source": [
    "Prediction2 = pd.concat([ID, PRED2], axis=1)"
   ]
  },
  {
   "cell_type": "code",
   "execution_count": null,
   "metadata": {
    "collapsed": true
   },
   "outputs": [],
   "source": [
    "Prediction2.to_csv('predictions_cl2.csv', index=False)"
   ]
  },
  {
   "cell_type": "code",
   "execution_count": null,
   "metadata": {},
   "outputs": [],
   "source": [
    "knn = KNeighborsClassifier(n_neighbors=5, p=1)\n",
    "knn.fit(X_train, y_train)"
   ]
  },
  {
   "cell_type": "code",
   "execution_count": null,
   "metadata": {},
   "outputs": [],
   "source": [
    "knn.score(X_train, y_train)"
   ]
  },
  {
   "cell_type": "code",
   "execution_count": null,
   "metadata": {},
   "outputs": [],
   "source": [
    "knn.score(X_test, y_test)"
   ]
  },
  {
   "cell_type": "code",
   "execution_count": null,
   "metadata": {},
   "outputs": [],
   "source": [
    "knn.predict(ames_test_ss).sum()"
   ]
  },
  {
   "cell_type": "code",
   "execution_count": null,
   "metadata": {},
   "outputs": [],
   "source": [
    "knn_best = knn_gs.best_estimator_\n",
    "print(knn_gs.best_params_)\n",
    "print(knn_gs.best_score_)"
   ]
  },
  {
   "cell_type": "code",
   "execution_count": null,
   "metadata": {},
   "outputs": [],
   "source": [
    "knn_gs.predict(X_test).sum()"
   ]
  },
  {
   "cell_type": "code",
   "execution_count": null,
   "metadata": {
    "collapsed": true
   },
   "outputs": [],
   "source": []
  },
  {
   "cell_type": "code",
   "execution_count": null,
   "metadata": {},
   "outputs": [],
   "source": [
    "\n",
    "from sklearn.linear_model import LogisticRegression\n",
    "\n",
    "lr_params = {\n",
    "    'penalty':['l1','l2'],\n",
    "    'C':np.logspace(-4, 2, 40),\n",
    "    'solver':['liblinear']\n",
    "}\n",
    "\n",
    "lr_gs = GridSearchCV(LogisticRegression(), lr_params, cv=5, verbose=1)\n",
    "lr_gs.fit(X_train, y_train)"
   ]
  },
  {
   "cell_type": "code",
   "execution_count": null,
   "metadata": {},
   "outputs": [],
   "source": [
    "best_lr = lr_gs.best_estimator_\n",
    "print(lr_gs.best_params_)\n",
    "print(lr_gs.best_score_)"
   ]
  },
  {
   "cell_type": "code",
   "execution_count": null,
   "metadata": {},
   "outputs": [],
   "source": [
    "lr_gs.predict(ames_test_ss).sum()"
   ]
  },
  {
   "cell_type": "code",
   "execution_count": null,
   "metadata": {},
   "outputs": [],
   "source": [
    "from sklearn.tree import DecisionTreeClassifier\n",
    "\n",
    "clf = DecisionTreeClassifier(max_depth=10, random_state=0)\n",
    "clf.fit(X_train, y_train)"
   ]
  },
  {
   "cell_type": "code",
   "execution_count": null,
   "metadata": {},
   "outputs": [],
   "source": [
    "clf.score(X_test, y_test)"
   ]
  },
  {
   "cell_type": "code",
   "execution_count": null,
   "metadata": {
    "collapsed": true
   },
   "outputs": [],
   "source": [
    "Prediction3 = clf.predict(ames_test_ss)"
   ]
  },
  {
   "cell_type": "code",
   "execution_count": null,
   "metadata": {
    "collapsed": true
   },
   "outputs": [],
   "source": [
    "Prediction3 = pd.DataFrame(Prediction3, columns=['Sale Condition'])"
   ]
  },
  {
   "cell_type": "code",
   "execution_count": null,
   "metadata": {
    "collapsed": true
   },
   "outputs": [],
   "source": [
    "Prediction3 = pd.concat([ID, Prediction3], axis=1)"
   ]
  },
  {
   "cell_type": "code",
   "execution_count": null,
   "metadata": {
    "collapsed": true
   },
   "outputs": [],
   "source": [
    "Prediction3.to_csv('prediction_cl3.csv', index=False)"
   ]
  },
  {
   "cell_type": "code",
   "execution_count": null,
   "metadata": {
    "collapsed": true
   },
   "outputs": [],
   "source": [
    "from sklearn.model_selection import cross_val_score\n",
    "from sklearn.ensemble import BaggingClassifier"
   ]
  },
  {
   "cell_type": "code",
   "execution_count": null,
   "metadata": {},
   "outputs": [],
   "source": [
    "clf = DecisionTreeClassifier(max_depth=20)\n",
    "bagger = BaggingClassifier(clf, n_estimators=10)\n",
    "\n",
    "print('Decision Tree Score: ', cross_val_score(clf, X_train, y_train, cv=10).mean())\n",
    "print('Bagging Score: ', cross_val_score(bagger, X_train, y_train, cv=10).mean())"
   ]
  },
  {
   "cell_type": "code",
   "execution_count": null,
   "metadata": {},
   "outputs": [],
   "source": [
    "cross_val_score(bagger, X_test, y_test, cv=10).mean()"
   ]
  },
  {
   "cell_type": "code",
   "execution_count": null,
   "metadata": {},
   "outputs": [],
   "source": [
    "bagger.score(X_test, y_test)"
   ]
  },
  {
   "cell_type": "code",
   "execution_count": null,
   "metadata": {},
   "outputs": [],
   "source": [
    "bagger.predict(ames_test_ss).sum()"
   ]
  },
  {
   "cell_type": "code",
   "execution_count": null,
   "metadata": {},
   "outputs": [],
   "source": [
    "bagger"
   ]
  },
  {
   "cell_type": "code",
   "execution_count": null,
   "metadata": {
    "collapsed": true
   },
   "outputs": [],
   "source": []
  }
 ],
 "metadata": {
  "kernelspec": {
   "display_name": "Python 3",
   "language": "python",
   "name": "python3"
  },
  "language_info": {
   "codemirror_mode": {
    "name": "ipython",
    "version": 3
   },
   "file_extension": ".py",
   "mimetype": "text/x-python",
   "name": "python",
   "nbconvert_exporter": "python",
   "pygments_lexer": "ipython3",
   "version": "3.6.2"
  }
 },
 "nbformat": 4,
 "nbformat_minor": 2
}
