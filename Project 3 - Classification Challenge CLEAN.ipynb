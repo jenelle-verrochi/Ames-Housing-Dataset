{
 "cells": [
  {
   "cell_type": "code",
   "execution_count": 3,
   "metadata": {
    "collapsed": true
   },
   "outputs": [],
   "source": [
    "import pandas as pd\n",
    "import numpy as np\n",
    "import seaborn as sns\n",
    "import matplotlib.pyplot as plt\n",
    "%matplotlib inline\n",
    "\n",
    "from sklearn.model_selection import train_test_split\n",
    "from sklearn.preprocessing import StandardScaler\n",
    "from sklearn.linear_model import LinearRegression"
   ]
  },
  {
   "cell_type": "code",
   "execution_count": 4,
   "metadata": {
    "collapsed": true
   },
   "outputs": [],
   "source": [
    "ames = pd.read_csv('/Users/jenelleverrochi/Desktop/DSI/Train Data - Project 3.txt')\n",
    "ames_test = pd.read_csv('/Users/jenelleverrochi/Desktop/DSI/Test Data - Project 3.txt')"
   ]
  },
  {
   "cell_type": "code",
   "execution_count": 5,
   "metadata": {},
   "outputs": [
    {
     "data": {
      "text/plain": [
       "{'float64': Index(['Lot Frontage', 'Mas Vnr Area', 'BsmtFin SF 1', 'BsmtFin SF 2',\n",
       "        'Bsmt Unf SF', 'Total Bsmt SF', 'Bsmt Full Bath', 'Bsmt Half Bath',\n",
       "        'Garage Yr Blt', 'Garage Cars', 'Garage Area'],\n",
       "       dtype='object'),\n",
       " 'int64': Index(['Id', 'PID', 'MS SubClass', 'Lot Area', 'Overall Qual', 'Overall Cond',\n",
       "        'Year Built', 'Year Remod/Add', '1st Flr SF', '2nd Flr SF',\n",
       "        'Low Qual Fin SF', 'Gr Liv Area', 'Full Bath', 'Half Bath',\n",
       "        'Bedroom AbvGr', 'Kitchen AbvGr', 'TotRms AbvGrd', 'Fireplaces',\n",
       "        'Wood Deck SF', 'Open Porch SF', 'Enclosed Porch', '3Ssn Porch',\n",
       "        'Screen Porch', 'Pool Area', 'Misc Val', 'Mo Sold', 'Yr Sold',\n",
       "        'SalePrice'],\n",
       "       dtype='object'),\n",
       " 'object': Index(['MS Zoning', 'Street', 'Alley', 'Lot Shape', 'Land Contour',\n",
       "        'Utilities', 'Lot Config', 'Land Slope', 'Neighborhood', 'Condition 1',\n",
       "        'Condition 2', 'Bldg Type', 'House Style', 'Roof Style', 'Roof Matl',\n",
       "        'Exterior 1st', 'Exterior 2nd', 'Mas Vnr Type', 'Exter Qual',\n",
       "        'Exter Cond', 'Foundation', 'Bsmt Qual', 'Bsmt Cond', 'Bsmt Exposure',\n",
       "        'BsmtFin Type 1', 'BsmtFin Type 2', 'Heating', 'Heating QC',\n",
       "        'Central Air', 'Electrical', 'Kitchen Qual', 'Functional',\n",
       "        'Fireplace Qu', 'Garage Type', 'Garage Finish', 'Garage Qual',\n",
       "        'Garage Cond', 'Paved Drive', 'Pool QC', 'Fence', 'Misc Feature',\n",
       "        'Sale Type', 'Sale Condition'],\n",
       "       dtype='object')}"
      ]
     },
     "execution_count": 5,
     "metadata": {},
     "output_type": "execute_result"
    }
   ],
   "source": [
    "g = ames.columns.to_series().groupby(ames.dtypes).groups\n",
    "d = {k.name: v for k, v in g.items()}\n",
    "d"
   ]
  },
  {
   "cell_type": "code",
   "execution_count": 6,
   "metadata": {
    "collapsed": true
   },
   "outputs": [],
   "source": [
    "ames_num = ames[['Lot Frontage', 'Mas Vnr Area', 'BsmtFin SF 1', 'BsmtFin SF 2',\n",
    "        'Bsmt Unf SF', 'Total Bsmt SF', 'Bsmt Full Bath', 'Bsmt Half Bath',\n",
    "        'Garage Yr Blt', 'Garage Cars', 'Garage Area', 'Id', 'PID', 'MS SubClass', 'Lot Area', 'Overall Qual', 'Overall Cond',\n",
    "        'Year Built', 'Year Remod/Add', '1st Flr SF', '2nd Flr SF',\n",
    "        'Low Qual Fin SF', 'Gr Liv Area', 'Full Bath', 'Half Bath',\n",
    "        'Bedroom AbvGr', 'Kitchen AbvGr', 'TotRms AbvGrd', 'Fireplaces',\n",
    "        'Wood Deck SF', 'Open Porch SF', 'Enclosed Porch', '3Ssn Porch',\n",
    "        'Screen Porch', 'Pool Area', 'Misc Val', 'Mo Sold', 'Yr Sold' ]]\n",
    "\n",
    "ames_cat = ames[['MS Zoning', 'Street', 'Alley', 'Lot Shape', 'Land Contour',\n",
    "        'Utilities', 'Lot Config', 'Land Slope', 'Neighborhood', 'Condition 1',\n",
    "        'Condition 2', 'Bldg Type', 'House Style', 'Roof Style', 'Roof Matl',\n",
    "        'Exterior 1st', 'Exterior 2nd', 'Mas Vnr Type', 'Exter Qual',\n",
    "        'Exter Cond', 'Foundation', 'Bsmt Qual', 'Bsmt Cond', 'Bsmt Exposure',\n",
    "        'BsmtFin Type 1', 'BsmtFin Type 2', 'Heating', 'Heating QC',\n",
    "        'Central Air', 'Electrical', 'Kitchen Qual', 'Functional',\n",
    "        'Fireplace Qu', 'Garage Type', 'Garage Finish', 'Garage Qual',\n",
    "        'Garage Cond', 'Paved Drive', 'Pool QC', 'Fence', 'Misc Feature',\n",
    "        'Sale Type', 'Sale Condition']]"
   ]
  },
  {
   "cell_type": "code",
   "execution_count": 7,
   "metadata": {},
   "outputs": [
    {
     "data": {
      "text/plain": [
       "Normal     1696\n",
       "Partial     164\n",
       "Abnorml     132\n",
       "Family       29\n",
       "Alloca       19\n",
       "AdjLand      11\n",
       "Name: Sale Condition, dtype: int64"
      ]
     },
     "execution_count": 7,
     "metadata": {},
     "output_type": "execute_result"
    }
   ],
   "source": [
    "ames_cat['Sale Condition'].value_counts()"
   ]
  },
  {
   "cell_type": "code",
   "execution_count": 8,
   "metadata": {
    "collapsed": true
   },
   "outputs": [],
   "source": [
    "# 1=abnormal and 0=not abnormal"
   ]
  },
  {
   "cell_type": "code",
   "execution_count": 9,
   "metadata": {},
   "outputs": [
    {
     "name": "stderr",
     "output_type": "stream",
     "text": [
      "/Users/jenelleverrochi/anaconda3/lib/python3.6/site-packages/ipykernel_launcher.py:1: SettingWithCopyWarning: \n",
      "A value is trying to be set on a copy of a slice from a DataFrame.\n",
      "Try using .loc[row_indexer,col_indexer] = value instead\n",
      "\n",
      "See the caveats in the documentation: http://pandas.pydata.org/pandas-docs/stable/indexing.html#indexing-view-versus-copy\n",
      "  \"\"\"Entry point for launching an IPython kernel.\n"
     ]
    }
   ],
   "source": [
    "ames_cat['Sale Condition'] = [1 if x=='Abnorml' else 0 for x in ames_cat['Sale Condition']]\n"
   ]
  },
  {
   "cell_type": "code",
   "execution_count": 10,
   "metadata": {},
   "outputs": [
    {
     "data": {
      "text/plain": [
       "0    1919\n",
       "1     132\n",
       "Name: Sale Condition, dtype: int64"
      ]
     },
     "execution_count": 10,
     "metadata": {},
     "output_type": "execute_result"
    }
   ],
   "source": [
    "ames_cat['Sale Condition'].value_counts()"
   ]
  },
  {
   "cell_type": "code",
   "execution_count": 11,
   "metadata": {
    "collapsed": true
   },
   "outputs": [],
   "source": [
    "X = ames_num\n",
    "y = ames_cat['Sale Condition']"
   ]
  },
  {
   "cell_type": "code",
   "execution_count": 12,
   "metadata": {},
   "outputs": [
    {
     "name": "stdout",
     "output_type": "stream",
     "text": [
      "(1538, 38) (513, 38) (1538,) (513,)\n"
     ]
    }
   ],
   "source": [
    "X_train, X_test, y_train, y_test = train_test_split(X, y)\n",
    "\n",
    "print(X_train.shape, X_test.shape, y_train.shape, y_test.shape)"
   ]
  },
  {
   "cell_type": "code",
   "execution_count": 13,
   "metadata": {},
   "outputs": [
    {
     "data": {
      "text/plain": [
       "Lot Frontage      239\n",
       "Mas Vnr Area       15\n",
       "BsmtFin SF 1        1\n",
       "BsmtFin SF 2        1\n",
       "Bsmt Unf SF         1\n",
       "Total Bsmt SF       1\n",
       "Bsmt Full Bath      2\n",
       "Bsmt Half Bath      2\n",
       "Garage Yr Blt      87\n",
       "Garage Cars         1\n",
       "Garage Area         1\n",
       "dtype: int64"
      ]
     },
     "execution_count": 13,
     "metadata": {},
     "output_type": "execute_result"
    }
   ],
   "source": [
    "X_train.isnull().sum()[X_train.isnull().sum()>0]"
   ]
  },
  {
   "cell_type": "code",
   "execution_count": 14,
   "metadata": {
    "collapsed": true
   },
   "outputs": [],
   "source": [
    "from sklearn.preprocessing import Imputer\n",
    "imputer = Imputer(strategy='median')\n",
    "\n",
    "X_train = imputer.fit_transform(X_train)"
   ]
  },
  {
   "cell_type": "code",
   "execution_count": 15,
   "metadata": {},
   "outputs": [
    {
     "data": {
      "text/plain": [
       "array([[   68.,   451.,   569., ...,     0.,     6.,  2010.],\n",
       "       [   80.,    39.,   528., ...,     0.,    12.,  2008.],\n",
       "       [   73.,     0.,   708., ...,     0.,     7.,  2006.],\n",
       "       ..., \n",
       "       [   73.,     0.,    16., ...,     0.,     7.,  2009.],\n",
       "       [   80.,   125.,   380., ...,     0.,     9.,  2006.],\n",
       "       [   68.,   120.,   527., ...,     0.,     6.,  2008.]])"
      ]
     },
     "execution_count": 15,
     "metadata": {},
     "output_type": "execute_result"
    }
   ],
   "source": [
    "X_train"
   ]
  },
  {
   "cell_type": "code",
   "execution_count": 16,
   "metadata": {},
   "outputs": [
    {
     "data": {
      "text/plain": [
       "array([[-0.05994568,  2.09726548,  0.30543841, ..., -0.11330669,\n",
       "        -0.05748512,  1.72029826],\n",
       "       [ 0.48748504, -0.3409686 ,  0.21409183, ..., -0.11330669,\n",
       "         2.17139168,  0.18292538],\n",
       "       [ 0.16815045, -0.57177231,  0.6151256 , ..., -0.11330669,\n",
       "         0.31399435, -1.3544475 ],\n",
       "       ..., \n",
       "       [ 0.16815045, -0.57177231, -0.92662646, ..., -0.11330669,\n",
       "         0.31399435,  0.95161182],\n",
       "       [ 0.48748504,  0.16798318, -0.11564705, ..., -0.11330669,\n",
       "         1.05695328, -1.3544475 ],\n",
       "       [-0.05994568,  0.13839296,  0.21186387, ..., -0.11330669,\n",
       "        -0.05748512,  0.18292538]])"
      ]
     },
     "execution_count": 16,
     "metadata": {},
     "output_type": "execute_result"
    }
   ],
   "source": [
    "ss = StandardScaler()\n",
    "ss.fit(X_train)\n",
    "X_train = ss.transform(X_train)\n",
    "\n",
    "X_train"
   ]
  },
  {
   "cell_type": "code",
   "execution_count": 17,
   "metadata": {
    "collapsed": true
   },
   "outputs": [],
   "source": [
    "X_train = pd.DataFrame(X_train, columns=X.columns)"
   ]
  },
  {
   "cell_type": "code",
   "execution_count": 18,
   "metadata": {
    "collapsed": true
   },
   "outputs": [],
   "source": [
    "from sklearn.linear_model import Lasso, LinearRegression, LogisticRegression, ElasticNet\n",
    "from sklearn.neighbors import KNeighborsClassifier\n",
    "from sklearn.model_selection import cross_val_score, GridSearchCV, train_test_split\n",
    "from sklearn.feature_selection import RFE, SelectKBest, f_classif, f_regression"
   ]
  },
  {
   "cell_type": "code",
   "execution_count": null,
   "metadata": {
    "collapsed": true
   },
   "outputs": [],
   "source": []
  },
  {
   "cell_type": "code",
   "execution_count": 19,
   "metadata": {},
   "outputs": [
    {
     "data": {
      "text/plain": [
       "LogisticRegression(C=1000000, class_weight=None, dual=False,\n",
       "          fit_intercept=True, intercept_scaling=1, max_iter=100,\n",
       "          multi_class='ovr', n_jobs=1, penalty='l2', random_state=None,\n",
       "          solver='liblinear', tol=0.0001, verbose=0, warm_start=False)"
      ]
     },
     "execution_count": 19,
     "metadata": {},
     "output_type": "execute_result"
    }
   ],
   "source": [
    "logreg = LogisticRegression(C=1000000)\n",
    "logreg.fit(X_train, y_train)"
   ]
  },
  {
   "cell_type": "code",
   "execution_count": 20,
   "metadata": {},
   "outputs": [
    {
     "data": {
      "text/plain": [
       "(1, 38)"
      ]
     },
     "execution_count": 20,
     "metadata": {},
     "output_type": "execute_result"
    }
   ],
   "source": [
    "logreg.coef_.shape"
   ]
  },
  {
   "cell_type": "code",
   "execution_count": 21,
   "metadata": {},
   "outputs": [
    {
     "name": "stdout",
     "output_type": "stream",
     "text": [
      "Lot Frontage -0.0480314930924\n",
      "Mas Vnr Area 0.21957812821\n",
      "BsmtFin SF 1 -24.201067381\n",
      "BsmtFin SF 2 -8.95010519641\n",
      "Bsmt Unf SF -23.8273655184\n",
      "Total Bsmt SF 23.4742662274\n",
      "Bsmt Full Bath -0.0366421885153\n",
      "Bsmt Half Bath 0.0684377150811\n",
      "Garage Yr Blt -0.168876622714\n",
      "Garage Cars -0.598973635303\n",
      "Garage Area 0.47925754568\n",
      "Id 0.565065977262\n",
      "PID -0.0695481294171\n",
      "MS SubClass 0.205415831638\n",
      "Lot Area 0.0260942838975\n",
      "Overall Qual -0.331213172881\n",
      "Overall Cond -0.300341145774\n",
      "Year Built -0.139859465812\n",
      "Year Remod/Add 0.106357033014\n",
      "1st Flr SF 0.197386126196\n",
      "2nd Flr SF 0.0338004981028\n",
      "Low Qual Fin SF 0.0856619668784\n",
      "Gr Liv Area 0.192306735967\n",
      "Full Bath -0.406224024588\n",
      "Half Bath -0.198399744823\n",
      "Bedroom AbvGr -0.103076632978\n",
      "Kitchen AbvGr -0.00250977625038\n",
      "TotRms AbvGrd 0.193650135205\n",
      "Fireplaces -0.270448797815\n",
      "Wood Deck SF -0.312496356035\n",
      "Open Porch SF 0.169702252634\n",
      "Enclosed Porch 0.074869456482\n",
      "3Ssn Porch -0.0295607004536\n",
      "Screen Porch -0.0392450849131\n",
      "Pool Area -1.76999907642\n",
      "Misc Val -0.255169458206\n",
      "Mo Sold 0.356775695633\n",
      "Yr Sold 0.540504717441\n"
     ]
    }
   ],
   "source": [
    "sx_list = []\n",
    "for i, col in enumerate(X_train):\n",
    "    if logreg.coef_[0,i]!=0:\n",
    "        sx_list.append(col)\n",
    "        print(col, logreg.coef_[0,i])"
   ]
  },
  {
   "cell_type": "code",
   "execution_count": 22,
   "metadata": {},
   "outputs": [
    {
     "data": {
      "text/plain": [
       "['Lot Frontage',\n",
       " 'Mas Vnr Area',\n",
       " 'BsmtFin SF 1',\n",
       " 'BsmtFin SF 2',\n",
       " 'Bsmt Unf SF',\n",
       " 'Total Bsmt SF',\n",
       " 'Bsmt Full Bath',\n",
       " 'Bsmt Half Bath',\n",
       " 'Garage Yr Blt',\n",
       " 'Garage Cars',\n",
       " 'Garage Area',\n",
       " 'Id',\n",
       " 'PID',\n",
       " 'MS SubClass',\n",
       " 'Lot Area',\n",
       " 'Overall Qual',\n",
       " 'Overall Cond',\n",
       " 'Year Built',\n",
       " 'Year Remod/Add',\n",
       " '1st Flr SF',\n",
       " '2nd Flr SF',\n",
       " 'Low Qual Fin SF',\n",
       " 'Gr Liv Area',\n",
       " 'Full Bath',\n",
       " 'Half Bath',\n",
       " 'Bedroom AbvGr',\n",
       " 'Kitchen AbvGr',\n",
       " 'TotRms AbvGrd',\n",
       " 'Fireplaces',\n",
       " 'Wood Deck SF',\n",
       " 'Open Porch SF',\n",
       " 'Enclosed Porch',\n",
       " '3Ssn Porch',\n",
       " 'Screen Porch',\n",
       " 'Pool Area',\n",
       " 'Misc Val',\n",
       " 'Mo Sold',\n",
       " 'Yr Sold']"
      ]
     },
     "execution_count": 22,
     "metadata": {},
     "output_type": "execute_result"
    }
   ],
   "source": [
    "sx_list"
   ]
  },
  {
   "cell_type": "code",
   "execution_count": 23,
   "metadata": {
    "collapsed": true
   },
   "outputs": [],
   "source": [
    "selected_X= X_train[sx_list]"
   ]
  },
  {
   "cell_type": "code",
   "execution_count": 24,
   "metadata": {},
   "outputs": [
    {
     "data": {
      "text/html": [
       "<div>\n",
       "<style>\n",
       "    .dataframe thead tr:only-child th {\n",
       "        text-align: right;\n",
       "    }\n",
       "\n",
       "    .dataframe thead th {\n",
       "        text-align: left;\n",
       "    }\n",
       "\n",
       "    .dataframe tbody tr th {\n",
       "        vertical-align: top;\n",
       "    }\n",
       "</style>\n",
       "<table border=\"1\" class=\"dataframe\">\n",
       "  <thead>\n",
       "    <tr style=\"text-align: right;\">\n",
       "      <th></th>\n",
       "      <th>Lot Frontage</th>\n",
       "      <th>Mas Vnr Area</th>\n",
       "      <th>BsmtFin SF 1</th>\n",
       "      <th>BsmtFin SF 2</th>\n",
       "      <th>Bsmt Unf SF</th>\n",
       "      <th>Total Bsmt SF</th>\n",
       "      <th>Bsmt Full Bath</th>\n",
       "      <th>Bsmt Half Bath</th>\n",
       "      <th>Garage Yr Blt</th>\n",
       "      <th>Garage Cars</th>\n",
       "      <th>...</th>\n",
       "      <th>Fireplaces</th>\n",
       "      <th>Wood Deck SF</th>\n",
       "      <th>Open Porch SF</th>\n",
       "      <th>Enclosed Porch</th>\n",
       "      <th>3Ssn Porch</th>\n",
       "      <th>Screen Porch</th>\n",
       "      <th>Pool Area</th>\n",
       "      <th>Misc Val</th>\n",
       "      <th>Mo Sold</th>\n",
       "      <th>Yr Sold</th>\n",
       "    </tr>\n",
       "  </thead>\n",
       "  <tbody>\n",
       "    <tr>\n",
       "      <th>0</th>\n",
       "      <td>-0.059946</td>\n",
       "      <td>2.097265</td>\n",
       "      <td>0.305438</td>\n",
       "      <td>0.191276</td>\n",
       "      <td>0.255786</td>\n",
       "      <td>0.646505</td>\n",
       "      <td>1.106287</td>\n",
       "      <td>-0.252471</td>\n",
       "      <td>-0.615349</td>\n",
       "      <td>0.305192</td>\n",
       "      <td>...</td>\n",
       "      <td>2.203998</td>\n",
       "      <td>-0.728114</td>\n",
       "      <td>-0.319034</td>\n",
       "      <td>-0.381421</td>\n",
       "      <td>-0.102037</td>\n",
       "      <td>-0.288711</td>\n",
       "      <td>-0.073356</td>\n",
       "      <td>-0.113307</td>\n",
       "      <td>-0.057485</td>\n",
       "      <td>1.720298</td>\n",
       "    </tr>\n",
       "    <tr>\n",
       "      <th>1</th>\n",
       "      <td>0.487485</td>\n",
       "      <td>-0.340969</td>\n",
       "      <td>0.214092</td>\n",
       "      <td>-0.294224</td>\n",
       "      <td>-0.192124</td>\n",
       "      <td>-0.087190</td>\n",
       "      <td>1.106287</td>\n",
       "      <td>-0.252471</td>\n",
       "      <td>-0.018146</td>\n",
       "      <td>0.305192</td>\n",
       "      <td>...</td>\n",
       "      <td>0.638294</td>\n",
       "      <td>0.557220</td>\n",
       "      <td>-0.720517</td>\n",
       "      <td>-0.381421</td>\n",
       "      <td>-0.102037</td>\n",
       "      <td>-0.288711</td>\n",
       "      <td>-0.073356</td>\n",
       "      <td>-0.113307</td>\n",
       "      <td>2.171392</td>\n",
       "      <td>0.182925</td>\n",
       "    </tr>\n",
       "    <tr>\n",
       "      <th>2</th>\n",
       "      <td>0.168150</td>\n",
       "      <td>-0.571772</td>\n",
       "      <td>0.615126</td>\n",
       "      <td>-0.294224</td>\n",
       "      <td>-1.033652</td>\n",
       "      <td>-0.527408</td>\n",
       "      <td>1.106287</td>\n",
       "      <td>-0.252471</td>\n",
       "      <td>-0.854230</td>\n",
       "      <td>-1.005942</td>\n",
       "      <td>...</td>\n",
       "      <td>-0.927410</td>\n",
       "      <td>-0.728114</td>\n",
       "      <td>-0.720517</td>\n",
       "      <td>-0.381421</td>\n",
       "      <td>-0.102037</td>\n",
       "      <td>-0.288711</td>\n",
       "      <td>-0.073356</td>\n",
       "      <td>-0.113307</td>\n",
       "      <td>0.313994</td>\n",
       "      <td>-1.354447</td>\n",
       "    </tr>\n",
       "    <tr>\n",
       "      <th>3</th>\n",
       "      <td>2.768446</td>\n",
       "      <td>5.997256</td>\n",
       "      <td>1.432789</td>\n",
       "      <td>-0.294224</td>\n",
       "      <td>-0.364049</td>\n",
       "      <td>0.992717</td>\n",
       "      <td>1.106287</td>\n",
       "      <td>-0.252471</td>\n",
       "      <td>0.897564</td>\n",
       "      <td>1.616327</td>\n",
       "      <td>...</td>\n",
       "      <td>0.638294</td>\n",
       "      <td>-0.728114</td>\n",
       "      <td>0.205983</td>\n",
       "      <td>-0.381421</td>\n",
       "      <td>-0.102037</td>\n",
       "      <td>-0.288711</td>\n",
       "      <td>-0.073356</td>\n",
       "      <td>-0.113307</td>\n",
       "      <td>-1.914882</td>\n",
       "      <td>0.182925</td>\n",
       "    </tr>\n",
       "    <tr>\n",
       "      <th>4</th>\n",
       "      <td>0.898058</td>\n",
       "      <td>0.315934</td>\n",
       "      <td>-0.873155</td>\n",
       "      <td>-0.294224</td>\n",
       "      <td>1.898121</td>\n",
       "      <td>0.912469</td>\n",
       "      <td>1.106287</td>\n",
       "      <td>-0.252471</td>\n",
       "      <td>-1.053297</td>\n",
       "      <td>-1.005942</td>\n",
       "      <td>...</td>\n",
       "      <td>0.638294</td>\n",
       "      <td>-0.728114</td>\n",
       "      <td>-0.102851</td>\n",
       "      <td>4.895281</td>\n",
       "      <td>-0.102037</td>\n",
       "      <td>-0.288711</td>\n",
       "      <td>-0.073356</td>\n",
       "      <td>-0.113307</td>\n",
       "      <td>0.313994</td>\n",
       "      <td>-1.354447</td>\n",
       "    </tr>\n",
       "  </tbody>\n",
       "</table>\n",
       "<p>5 rows × 38 columns</p>\n",
       "</div>"
      ],
      "text/plain": [
       "   Lot Frontage  Mas Vnr Area  BsmtFin SF 1  BsmtFin SF 2  Bsmt Unf SF  \\\n",
       "0     -0.059946      2.097265      0.305438      0.191276     0.255786   \n",
       "1      0.487485     -0.340969      0.214092     -0.294224    -0.192124   \n",
       "2      0.168150     -0.571772      0.615126     -0.294224    -1.033652   \n",
       "3      2.768446      5.997256      1.432789     -0.294224    -0.364049   \n",
       "4      0.898058      0.315934     -0.873155     -0.294224     1.898121   \n",
       "\n",
       "   Total Bsmt SF  Bsmt Full Bath  Bsmt Half Bath  Garage Yr Blt  Garage Cars  \\\n",
       "0       0.646505        1.106287       -0.252471      -0.615349     0.305192   \n",
       "1      -0.087190        1.106287       -0.252471      -0.018146     0.305192   \n",
       "2      -0.527408        1.106287       -0.252471      -0.854230    -1.005942   \n",
       "3       0.992717        1.106287       -0.252471       0.897564     1.616327   \n",
       "4       0.912469        1.106287       -0.252471      -1.053297    -1.005942   \n",
       "\n",
       "     ...     Fireplaces  Wood Deck SF  Open Porch SF  Enclosed Porch  \\\n",
       "0    ...       2.203998     -0.728114      -0.319034       -0.381421   \n",
       "1    ...       0.638294      0.557220      -0.720517       -0.381421   \n",
       "2    ...      -0.927410     -0.728114      -0.720517       -0.381421   \n",
       "3    ...       0.638294     -0.728114       0.205983       -0.381421   \n",
       "4    ...       0.638294     -0.728114      -0.102851        4.895281   \n",
       "\n",
       "   3Ssn Porch  Screen Porch  Pool Area  Misc Val   Mo Sold   Yr Sold  \n",
       "0   -0.102037     -0.288711  -0.073356 -0.113307 -0.057485  1.720298  \n",
       "1   -0.102037     -0.288711  -0.073356 -0.113307  2.171392  0.182925  \n",
       "2   -0.102037     -0.288711  -0.073356 -0.113307  0.313994 -1.354447  \n",
       "3   -0.102037     -0.288711  -0.073356 -0.113307 -1.914882  0.182925  \n",
       "4   -0.102037     -0.288711  -0.073356 -0.113307  0.313994 -1.354447  \n",
       "\n",
       "[5 rows x 38 columns]"
      ]
     },
     "execution_count": 24,
     "metadata": {},
     "output_type": "execute_result"
    }
   ],
   "source": [
    "selected_X.head()"
   ]
  },
  {
   "cell_type": "code",
   "execution_count": 25,
   "metadata": {},
   "outputs": [
    {
     "name": "stdout",
     "output_type": "stream",
     "text": [
      "All features\n",
      "[ 0.94346979  0.93957115  0.94335938] \n",
      " Mean:  0.942133436891\n",
      "Feature Selection via Regularization\n",
      "[ 0.94346979  0.93957115  0.94335938] \n",
      " Mean:  0.942133436891\n"
     ]
    }
   ],
   "source": [
    "print('All features')\n",
    "scores = cross_val_score(logreg, X_train, y_train)\n",
    "print(scores, '\\n', 'Mean: ', scores.mean())\n",
    "\n",
    "print('Feature Selection via Regularization')\n",
    "scores = cross_val_score(logreg, selected_X, y_train)\n",
    "print(scores, '\\n', 'Mean: ', scores.mean())"
   ]
  },
  {
   "cell_type": "code",
   "execution_count": 26,
   "metadata": {
    "collapsed": true
   },
   "outputs": [],
   "source": [
    "#Must impute and standardize X_test"
   ]
  },
  {
   "cell_type": "code",
   "execution_count": 27,
   "metadata": {
    "collapsed": true
   },
   "outputs": [],
   "source": [
    "X_test = imputer.transform(X_test)\n",
    "X_test = pd.DataFrame(X_test, columns=X.columns)"
   ]
  },
  {
   "cell_type": "code",
   "execution_count": 28,
   "metadata": {
    "collapsed": true
   },
   "outputs": [],
   "source": [
    "ss = StandardScaler()\n",
    "ss.fit(X_test)\n",
    "X_test = ss.transform(X_test)"
   ]
  },
  {
   "cell_type": "code",
   "execution_count": 29,
   "metadata": {},
   "outputs": [
    {
     "data": {
      "text/html": [
       "<div>\n",
       "<style>\n",
       "    .dataframe thead tr:only-child th {\n",
       "        text-align: right;\n",
       "    }\n",
       "\n",
       "    .dataframe thead th {\n",
       "        text-align: left;\n",
       "    }\n",
       "\n",
       "    .dataframe tbody tr th {\n",
       "        vertical-align: top;\n",
       "    }\n",
       "</style>\n",
       "<table border=\"1\" class=\"dataframe\">\n",
       "  <thead>\n",
       "    <tr style=\"text-align: right;\">\n",
       "      <th></th>\n",
       "      <th>Lot Frontage</th>\n",
       "      <th>Mas Vnr Area</th>\n",
       "      <th>BsmtFin SF 1</th>\n",
       "      <th>BsmtFin SF 2</th>\n",
       "      <th>Bsmt Unf SF</th>\n",
       "      <th>Total Bsmt SF</th>\n",
       "      <th>Bsmt Full Bath</th>\n",
       "      <th>Bsmt Half Bath</th>\n",
       "      <th>Garage Yr Blt</th>\n",
       "      <th>Garage Cars</th>\n",
       "      <th>...</th>\n",
       "      <th>Fireplaces</th>\n",
       "      <th>Wood Deck SF</th>\n",
       "      <th>Open Porch SF</th>\n",
       "      <th>Enclosed Porch</th>\n",
       "      <th>3Ssn Porch</th>\n",
       "      <th>Screen Porch</th>\n",
       "      <th>Pool Area</th>\n",
       "      <th>Misc Val</th>\n",
       "      <th>Mo Sold</th>\n",
       "      <th>Yr Sold</th>\n",
       "    </tr>\n",
       "  </thead>\n",
       "  <tbody>\n",
       "    <tr>\n",
       "      <th>0</th>\n",
       "      <td>0.020722</td>\n",
       "      <td>0.419413</td>\n",
       "      <td>-0.886696</td>\n",
       "      <td>5.185767</td>\n",
       "      <td>0.727049</td>\n",
       "      <td>1.476476</td>\n",
       "      <td>1.068759</td>\n",
       "      <td>-0.251075</td>\n",
       "      <td>-1.140277</td>\n",
       "      <td>0.253848</td>\n",
       "      <td>...</td>\n",
       "      <td>2.217385</td>\n",
       "      <td>0.626186</td>\n",
       "      <td>0.965452</td>\n",
       "      <td>3.139795</td>\n",
       "      <td>-0.116209</td>\n",
       "      <td>-0.285579</td>\n",
       "      <td>0.0</td>\n",
       "      <td>-0.102432</td>\n",
       "      <td>1.242164</td>\n",
       "      <td>-0.608327</td>\n",
       "    </tr>\n",
       "    <tr>\n",
       "      <th>1</th>\n",
       "      <td>-0.394129</td>\n",
       "      <td>-0.553224</td>\n",
       "      <td>-0.957502</td>\n",
       "      <td>-0.279764</td>\n",
       "      <td>-0.123572</td>\n",
       "      <td>-1.184244</td>\n",
       "      <td>-0.796116</td>\n",
       "      <td>-0.251075</td>\n",
       "      <td>-1.950178</td>\n",
       "      <td>-1.048392</td>\n",
       "      <td>...</td>\n",
       "      <td>-0.920597</td>\n",
       "      <td>-0.738526</td>\n",
       "      <td>0.550241</td>\n",
       "      <td>-0.365688</td>\n",
       "      <td>-0.116209</td>\n",
       "      <td>-0.285579</td>\n",
       "      <td>0.0</td>\n",
       "      <td>-0.102432</td>\n",
       "      <td>-0.490381</td>\n",
       "      <td>0.136474</td>\n",
       "    </tr>\n",
       "    <tr>\n",
       "      <th>2</th>\n",
       "      <td>-0.394129</td>\n",
       "      <td>-0.553224</td>\n",
       "      <td>-0.957502</td>\n",
       "      <td>-0.279764</td>\n",
       "      <td>0.044343</td>\n",
       "      <td>-1.027367</td>\n",
       "      <td>-0.796116</td>\n",
       "      <td>-0.251075</td>\n",
       "      <td>-2.376442</td>\n",
       "      <td>0.253848</td>\n",
       "      <td>...</td>\n",
       "      <td>-0.920597</td>\n",
       "      <td>1.053686</td>\n",
       "      <td>-0.695390</td>\n",
       "      <td>-0.365688</td>\n",
       "      <td>-0.116209</td>\n",
       "      <td>3.548596</td>\n",
       "      <td>0.0</td>\n",
       "      <td>-0.102432</td>\n",
       "      <td>1.242164</td>\n",
       "      <td>-1.353128</td>\n",
       "    </tr>\n",
       "    <tr>\n",
       "      <th>3</th>\n",
       "      <td>-0.705267</td>\n",
       "      <td>-0.172627</td>\n",
       "      <td>1.025062</td>\n",
       "      <td>-0.028186</td>\n",
       "      <td>-1.069196</td>\n",
       "      <td>0.037747</td>\n",
       "      <td>1.068759</td>\n",
       "      <td>-0.251075</td>\n",
       "      <td>0.309021</td>\n",
       "      <td>0.253848</td>\n",
       "      <td>...</td>\n",
       "      <td>0.648394</td>\n",
       "      <td>0.289119</td>\n",
       "      <td>-0.695390</td>\n",
       "      <td>-0.365688</td>\n",
       "      <td>-0.116209</td>\n",
       "      <td>-0.285579</td>\n",
       "      <td>0.0</td>\n",
       "      <td>-0.102432</td>\n",
       "      <td>0.202637</td>\n",
       "      <td>-1.353128</td>\n",
       "    </tr>\n",
       "    <tr>\n",
       "      <th>4</th>\n",
       "      <td>0.020722</td>\n",
       "      <td>-0.553224</td>\n",
       "      <td>1.516658</td>\n",
       "      <td>-0.279764</td>\n",
       "      <td>-0.293696</td>\n",
       "      <td>1.181299</td>\n",
       "      <td>1.068759</td>\n",
       "      <td>-0.251075</td>\n",
       "      <td>0.820537</td>\n",
       "      <td>0.253848</td>\n",
       "      <td>...</td>\n",
       "      <td>-0.920597</td>\n",
       "      <td>0.617965</td>\n",
       "      <td>0.024308</td>\n",
       "      <td>-0.365688</td>\n",
       "      <td>-0.116209</td>\n",
       "      <td>-0.285579</td>\n",
       "      <td>0.0</td>\n",
       "      <td>-0.102432</td>\n",
       "      <td>1.935182</td>\n",
       "      <td>0.136474</td>\n",
       "    </tr>\n",
       "  </tbody>\n",
       "</table>\n",
       "<p>5 rows × 38 columns</p>\n",
       "</div>"
      ],
      "text/plain": [
       "   Lot Frontage  Mas Vnr Area  BsmtFin SF 1  BsmtFin SF 2  Bsmt Unf SF  \\\n",
       "0      0.020722      0.419413     -0.886696      5.185767     0.727049   \n",
       "1     -0.394129     -0.553224     -0.957502     -0.279764    -0.123572   \n",
       "2     -0.394129     -0.553224     -0.957502     -0.279764     0.044343   \n",
       "3     -0.705267     -0.172627      1.025062     -0.028186    -1.069196   \n",
       "4      0.020722     -0.553224      1.516658     -0.279764    -0.293696   \n",
       "\n",
       "   Total Bsmt SF  Bsmt Full Bath  Bsmt Half Bath  Garage Yr Blt  Garage Cars  \\\n",
       "0       1.476476        1.068759       -0.251075      -1.140277     0.253848   \n",
       "1      -1.184244       -0.796116       -0.251075      -1.950178    -1.048392   \n",
       "2      -1.027367       -0.796116       -0.251075      -2.376442     0.253848   \n",
       "3       0.037747        1.068759       -0.251075       0.309021     0.253848   \n",
       "4       1.181299        1.068759       -0.251075       0.820537     0.253848   \n",
       "\n",
       "     ...     Fireplaces  Wood Deck SF  Open Porch SF  Enclosed Porch  \\\n",
       "0    ...       2.217385      0.626186       0.965452        3.139795   \n",
       "1    ...      -0.920597     -0.738526       0.550241       -0.365688   \n",
       "2    ...      -0.920597      1.053686      -0.695390       -0.365688   \n",
       "3    ...       0.648394      0.289119      -0.695390       -0.365688   \n",
       "4    ...      -0.920597      0.617965       0.024308       -0.365688   \n",
       "\n",
       "   3Ssn Porch  Screen Porch  Pool Area  Misc Val   Mo Sold   Yr Sold  \n",
       "0   -0.116209     -0.285579        0.0 -0.102432  1.242164 -0.608327  \n",
       "1   -0.116209     -0.285579        0.0 -0.102432 -0.490381  0.136474  \n",
       "2   -0.116209      3.548596        0.0 -0.102432  1.242164 -1.353128  \n",
       "3   -0.116209     -0.285579        0.0 -0.102432  0.202637 -1.353128  \n",
       "4   -0.116209     -0.285579        0.0 -0.102432  1.935182  0.136474  \n",
       "\n",
       "[5 rows x 38 columns]"
      ]
     },
     "execution_count": 29,
     "metadata": {},
     "output_type": "execute_result"
    }
   ],
   "source": [
    "X_test = pd.DataFrame(X_test, columns=X.columns)\n",
    "X_test.head()"
   ]
  },
  {
   "cell_type": "code",
   "execution_count": 30,
   "metadata": {},
   "outputs": [
    {
     "data": {
      "text/plain": [
       "(513, 38)"
      ]
     },
     "execution_count": 30,
     "metadata": {},
     "output_type": "execute_result"
    }
   ],
   "source": [
    "selected_x_test = X_test[sx_list]\n",
    "selected_x_test.shape"
   ]
  },
  {
   "cell_type": "code",
   "execution_count": 31,
   "metadata": {},
   "outputs": [
    {
     "data": {
      "text/plain": [
       "(513,)"
      ]
     },
     "execution_count": 31,
     "metadata": {},
     "output_type": "execute_result"
    }
   ],
   "source": [
    "y_test.shape"
   ]
  },
  {
   "cell_type": "code",
   "execution_count": 32,
   "metadata": {},
   "outputs": [
    {
     "name": "stdout",
     "output_type": "stream",
     "text": [
      "All features\n",
      "[ 0.88953488  0.85380117  0.90588235] \n",
      " Mean:  0.883072802084\n",
      "Feature Selection via Regularization\n",
      "[ 0.88953488  0.85380117  0.90588235] \n",
      " Mean:  0.883072802084\n"
     ]
    }
   ],
   "source": [
    "print('All features')\n",
    "scores = cross_val_score(logreg, X_test, y_test)\n",
    "print(scores, '\\n', 'Mean: ', scores.mean())\n",
    "\n",
    "\n",
    "print('Feature Selection via Regularization')\n",
    "scores = cross_val_score(logreg, selected_x_test, y_test)\n",
    "print(scores, '\\n', 'Mean: ', scores.mean())"
   ]
  },
  {
   "cell_type": "markdown",
   "metadata": {},
   "source": [
    "### Predicting"
   ]
  },
  {
   "cell_type": "code",
   "execution_count": 33,
   "metadata": {},
   "outputs": [
    {
     "data": {
      "text/plain": [
       "(879, 80)"
      ]
     },
     "execution_count": 33,
     "metadata": {},
     "output_type": "execute_result"
    }
   ],
   "source": [
    "ames_test.shape"
   ]
  },
  {
   "cell_type": "code",
   "execution_count": 34,
   "metadata": {},
   "outputs": [
    {
     "data": {
      "text/plain": [
       "Lot Frontage      160\n",
       "Alley             821\n",
       "Mas Vnr Type        1\n",
       "Mas Vnr Area        1\n",
       "Bsmt Qual          25\n",
       "Bsmt Cond          25\n",
       "Bsmt Exposure      25\n",
       "BsmtFin Type 1     25\n",
       "BsmtFin Type 2     25\n",
       "Electrical          1\n",
       "Fireplace Qu      422\n",
       "Garage Type        44\n",
       "Garage Yr Blt      45\n",
       "Garage Finish      45\n",
       "Garage Qual        45\n",
       "Garage Cond        45\n",
       "Pool QC           875\n",
       "Fence             707\n",
       "Misc Feature      838\n",
       "dtype: int64"
      ]
     },
     "execution_count": 34,
     "metadata": {},
     "output_type": "execute_result"
    }
   ],
   "source": [
    "ames_test.isnull().sum()[ames_test.isnull().sum()> 0]"
   ]
  },
  {
   "cell_type": "code",
   "execution_count": 35,
   "metadata": {},
   "outputs": [
    {
     "name": "stdout",
     "output_type": "stream",
     "text": [
      "<class 'pandas.core.frame.DataFrame'>\n",
      "RangeIndex: 879 entries, 0 to 878\n",
      "Data columns (total 80 columns):\n",
      "Id                 879 non-null int64\n",
      "PID                879 non-null int64\n",
      "MS SubClass        879 non-null int64\n",
      "MS Zoning          879 non-null object\n",
      "Lot Frontage       719 non-null float64\n",
      "Lot Area           879 non-null int64\n",
      "Street             879 non-null object\n",
      "Alley              58 non-null object\n",
      "Lot Shape          879 non-null object\n",
      "Land Contour       879 non-null object\n",
      "Utilities          879 non-null object\n",
      "Lot Config         879 non-null object\n",
      "Land Slope         879 non-null object\n",
      "Neighborhood       879 non-null object\n",
      "Condition 1        879 non-null object\n",
      "Condition 2        879 non-null object\n",
      "Bldg Type          879 non-null object\n",
      "House Style        879 non-null object\n",
      "Overall Qual       879 non-null int64\n",
      "Overall Cond       879 non-null int64\n",
      "Year Built         879 non-null int64\n",
      "Year Remod/Add     879 non-null int64\n",
      "Roof Style         879 non-null object\n",
      "Roof Matl          879 non-null object\n",
      "Exterior 1st       879 non-null object\n",
      "Exterior 2nd       879 non-null object\n",
      "Mas Vnr Type       878 non-null object\n",
      "Mas Vnr Area       878 non-null float64\n",
      "Exter Qual         879 non-null object\n",
      "Exter Cond         879 non-null object\n",
      "Foundation         879 non-null object\n",
      "Bsmt Qual          854 non-null object\n",
      "Bsmt Cond          854 non-null object\n",
      "Bsmt Exposure      854 non-null object\n",
      "BsmtFin Type 1     854 non-null object\n",
      "BsmtFin SF 1       879 non-null float64\n",
      "BsmtFin Type 2     854 non-null object\n",
      "BsmtFin SF 2       879 non-null float64\n",
      "Bsmt Unf SF        879 non-null float64\n",
      "Total Bsmt SF      879 non-null float64\n",
      "Heating            879 non-null object\n",
      "Heating QC         879 non-null object\n",
      "Central Air        879 non-null object\n",
      "Electrical         878 non-null object\n",
      "1st Flr SF         879 non-null int64\n",
      "2nd Flr SF         879 non-null int64\n",
      "Low Qual Fin SF    879 non-null int64\n",
      "Gr Liv Area        879 non-null int64\n",
      "Bsmt Full Bath     879 non-null float64\n",
      "Bsmt Half Bath     879 non-null float64\n",
      "Full Bath          879 non-null int64\n",
      "Half Bath          879 non-null int64\n",
      "Bedroom AbvGr      879 non-null int64\n",
      "Kitchen AbvGr      879 non-null int64\n",
      "Kitchen Qual       879 non-null object\n",
      "TotRms AbvGrd      879 non-null int64\n",
      "Functional         879 non-null object\n",
      "Fireplaces         879 non-null int64\n",
      "Fireplace Qu       457 non-null object\n",
      "Garage Type        835 non-null object\n",
      "Garage Yr Blt      834 non-null float64\n",
      "Garage Finish      834 non-null object\n",
      "Garage Cars        879 non-null float64\n",
      "Garage Area        879 non-null float64\n",
      "Garage Qual        834 non-null object\n",
      "Garage Cond        834 non-null object\n",
      "Paved Drive        879 non-null object\n",
      "Wood Deck SF       879 non-null int64\n",
      "Open Porch SF      879 non-null int64\n",
      "Enclosed Porch     879 non-null int64\n",
      "3Ssn Porch         879 non-null int64\n",
      "Screen Porch       879 non-null int64\n",
      "Pool Area          879 non-null int64\n",
      "Pool QC            4 non-null object\n",
      "Fence              172 non-null object\n",
      "Misc Feature       41 non-null object\n",
      "Misc Val           879 non-null int64\n",
      "Mo Sold            879 non-null int64\n",
      "Yr Sold            879 non-null int64\n",
      "Sale Type          879 non-null object\n",
      "dtypes: float64(11), int64(27), object(42)\n",
      "memory usage: 549.5+ KB\n"
     ]
    }
   ],
   "source": [
    "ames_test.info()"
   ]
  },
  {
   "cell_type": "code",
   "execution_count": 36,
   "metadata": {},
   "outputs": [
    {
     "data": {
      "text/plain": [
       "{'float64': Index(['Lot Frontage', 'Mas Vnr Area', 'BsmtFin SF 1', 'BsmtFin SF 2',\n",
       "        'Bsmt Unf SF', 'Total Bsmt SF', 'Bsmt Full Bath', 'Bsmt Half Bath',\n",
       "        'Garage Yr Blt', 'Garage Cars', 'Garage Area'],\n",
       "       dtype='object'),\n",
       " 'int64': Index(['Id', 'PID', 'MS SubClass', 'Lot Area', 'Overall Qual', 'Overall Cond',\n",
       "        'Year Built', 'Year Remod/Add', '1st Flr SF', '2nd Flr SF',\n",
       "        'Low Qual Fin SF', 'Gr Liv Area', 'Full Bath', 'Half Bath',\n",
       "        'Bedroom AbvGr', 'Kitchen AbvGr', 'TotRms AbvGrd', 'Fireplaces',\n",
       "        'Wood Deck SF', 'Open Porch SF', 'Enclosed Porch', '3Ssn Porch',\n",
       "        'Screen Porch', 'Pool Area', 'Misc Val', 'Mo Sold', 'Yr Sold'],\n",
       "       dtype='object'),\n",
       " 'object': Index(['MS Zoning', 'Street', 'Alley', 'Lot Shape', 'Land Contour',\n",
       "        'Utilities', 'Lot Config', 'Land Slope', 'Neighborhood', 'Condition 1',\n",
       "        'Condition 2', 'Bldg Type', 'House Style', 'Roof Style', 'Roof Matl',\n",
       "        'Exterior 1st', 'Exterior 2nd', 'Mas Vnr Type', 'Exter Qual',\n",
       "        'Exter Cond', 'Foundation', 'Bsmt Qual', 'Bsmt Cond', 'Bsmt Exposure',\n",
       "        'BsmtFin Type 1', 'BsmtFin Type 2', 'Heating', 'Heating QC',\n",
       "        'Central Air', 'Electrical', 'Kitchen Qual', 'Functional',\n",
       "        'Fireplace Qu', 'Garage Type', 'Garage Finish', 'Garage Qual',\n",
       "        'Garage Cond', 'Paved Drive', 'Pool QC', 'Fence', 'Misc Feature',\n",
       "        'Sale Type'],\n",
       "       dtype='object')}"
      ]
     },
     "execution_count": 36,
     "metadata": {},
     "output_type": "execute_result"
    }
   ],
   "source": [
    "g = ames_test.columns.to_series().groupby(ames.dtypes).groups\n",
    "d = {k.name: v for k, v in g.items()}\n",
    "d"
   ]
  },
  {
   "cell_type": "code",
   "execution_count": 37,
   "metadata": {
    "collapsed": true
   },
   "outputs": [],
   "source": [
    "ames_test_num = ames_test[['Lot Frontage', 'Mas Vnr Area', 'BsmtFin SF 1', 'BsmtFin SF 2',\n",
    "        'Bsmt Unf SF', 'Total Bsmt SF', 'Bsmt Full Bath', 'Bsmt Half Bath',\n",
    "        'Garage Yr Blt', 'Garage Cars', 'Garage Area', 'Id', 'PID', 'MS SubClass', 'Lot Area', 'Overall Qual', 'Overall Cond',\n",
    "        'Year Built', 'Year Remod/Add', '1st Flr SF', '2nd Flr SF',\n",
    "        'Low Qual Fin SF', 'Gr Liv Area', 'Full Bath', 'Half Bath',\n",
    "        'Bedroom AbvGr', 'Kitchen AbvGr', 'TotRms AbvGrd', 'Fireplaces',\n",
    "        'Wood Deck SF', 'Open Porch SF', 'Enclosed Porch', '3Ssn Porch',\n",
    "        'Screen Porch', 'Pool Area', 'Misc Val', 'Mo Sold', 'Yr Sold']]"
   ]
  },
  {
   "cell_type": "code",
   "execution_count": 38,
   "metadata": {},
   "outputs": [
    {
     "data": {
      "text/plain": [
       "(879, 38)"
      ]
     },
     "execution_count": 38,
     "metadata": {},
     "output_type": "execute_result"
    }
   ],
   "source": [
    "ames_test_num.shape"
   ]
  },
  {
   "cell_type": "code",
   "execution_count": 39,
   "metadata": {
    "collapsed": true
   },
   "outputs": [],
   "source": [
    "ames_test_ss = imputer.transform(ames_test_num)\n",
    "ames_test_ss = pd.DataFrame(ames_test_ss)"
   ]
  },
  {
   "cell_type": "code",
   "execution_count": 40,
   "metadata": {
    "collapsed": true
   },
   "outputs": [],
   "source": [
    "ss = StandardScaler()\n",
    "ss.fit(ames_test_ss)\n",
    "ames_test_ss = ss.transform(ames_test_ss)"
   ]
  },
  {
   "cell_type": "code",
   "execution_count": null,
   "metadata": {
    "collapsed": true
   },
   "outputs": [],
   "source": []
  },
  {
   "cell_type": "code",
   "execution_count": 41,
   "metadata": {
    "collapsed": true
   },
   "outputs": [],
   "source": [
    "ames_test_ss = pd.DataFrame(ames_test_ss, columns=ames_test_num.columns)"
   ]
  },
  {
   "cell_type": "code",
   "execution_count": 42,
   "metadata": {},
   "outputs": [
    {
     "data": {
      "text/plain": [
       "(879, 38)"
      ]
     },
     "execution_count": 42,
     "metadata": {},
     "output_type": "execute_result"
    }
   ],
   "source": [
    "ames_test_ss.shape"
   ]
  },
  {
   "cell_type": "code",
   "execution_count": null,
   "metadata": {
    "collapsed": true
   },
   "outputs": [],
   "source": []
  },
  {
   "cell_type": "code",
   "execution_count": null,
   "metadata": {
    "collapsed": true
   },
   "outputs": [],
   "source": []
  },
  {
   "cell_type": "code",
   "execution_count": null,
   "metadata": {
    "collapsed": true
   },
   "outputs": [],
   "source": []
  },
  {
   "cell_type": "code",
   "execution_count": 43,
   "metadata": {
    "collapsed": true
   },
   "outputs": [],
   "source": [
    "y_hat = logreg.predict(ames_test_ss)"
   ]
  },
  {
   "cell_type": "code",
   "execution_count": 44,
   "metadata": {},
   "outputs": [
    {
     "data": {
      "text/plain": [
       "0    848\n",
       "1     31\n",
       "Name: Sale Condition, dtype: int64"
      ]
     },
     "execution_count": 44,
     "metadata": {},
     "output_type": "execute_result"
    }
   ],
   "source": [
    "PRED = pd.DataFrame(y_hat, columns=['Sale Condition'])\n",
    "PRED['Sale Condition'].value_counts()"
   ]
  },
  {
   "cell_type": "code",
   "execution_count": 45,
   "metadata": {
    "collapsed": true
   },
   "outputs": [],
   "source": [
    "ID = ames_test[['Id']]"
   ]
  },
  {
   "cell_type": "code",
   "execution_count": 46,
   "metadata": {
    "collapsed": true
   },
   "outputs": [],
   "source": [
    "Prediction = pd.concat([ID, PRED], axis=1)"
   ]
  },
  {
   "cell_type": "code",
   "execution_count": 47,
   "metadata": {},
   "outputs": [
    {
     "data": {
      "text/html": [
       "<div>\n",
       "<style>\n",
       "    .dataframe thead tr:only-child th {\n",
       "        text-align: right;\n",
       "    }\n",
       "\n",
       "    .dataframe thead th {\n",
       "        text-align: left;\n",
       "    }\n",
       "\n",
       "    .dataframe tbody tr th {\n",
       "        vertical-align: top;\n",
       "    }\n",
       "</style>\n",
       "<table border=\"1\" class=\"dataframe\">\n",
       "  <thead>\n",
       "    <tr style=\"text-align: right;\">\n",
       "      <th></th>\n",
       "      <th>Id</th>\n",
       "      <th>Sale Condition</th>\n",
       "    </tr>\n",
       "  </thead>\n",
       "  <tbody>\n",
       "    <tr>\n",
       "      <th>0</th>\n",
       "      <td>2658</td>\n",
       "      <td>0</td>\n",
       "    </tr>\n",
       "    <tr>\n",
       "      <th>1</th>\n",
       "      <td>2718</td>\n",
       "      <td>0</td>\n",
       "    </tr>\n",
       "    <tr>\n",
       "      <th>2</th>\n",
       "      <td>2414</td>\n",
       "      <td>0</td>\n",
       "    </tr>\n",
       "    <tr>\n",
       "      <th>3</th>\n",
       "      <td>1989</td>\n",
       "      <td>0</td>\n",
       "    </tr>\n",
       "    <tr>\n",
       "      <th>4</th>\n",
       "      <td>625</td>\n",
       "      <td>0</td>\n",
       "    </tr>\n",
       "  </tbody>\n",
       "</table>\n",
       "</div>"
      ],
      "text/plain": [
       "     Id  Sale Condition\n",
       "0  2658               0\n",
       "1  2718               0\n",
       "2  2414               0\n",
       "3  1989               0\n",
       "4   625               0"
      ]
     },
     "execution_count": 47,
     "metadata": {},
     "output_type": "execute_result"
    }
   ],
   "source": [
    "Prediction.head()"
   ]
  },
  {
   "cell_type": "code",
   "execution_count": 48,
   "metadata": {},
   "outputs": [
    {
     "data": {
      "text/plain": [
       "0    470\n",
       "1     43\n",
       "Name: Sale Condition, dtype: int64"
      ]
     },
     "execution_count": 48,
     "metadata": {},
     "output_type": "execute_result"
    }
   ],
   "source": [
    "y_test.value_counts()"
   ]
  },
  {
   "cell_type": "code",
   "execution_count": 49,
   "metadata": {},
   "outputs": [
    {
     "data": {
      "text/plain": [
       "0.06875"
      ]
     },
     "execution_count": 49,
     "metadata": {},
     "output_type": "execute_result"
    }
   ],
   "source": [
    "33/480"
   ]
  },
  {
   "cell_type": "code",
   "execution_count": 50,
   "metadata": {},
   "outputs": [
    {
     "data": {
      "text/plain": [
       "0    1449\n",
       "1      89\n",
       "Name: Sale Condition, dtype: int64"
      ]
     },
     "execution_count": 50,
     "metadata": {},
     "output_type": "execute_result"
    }
   ],
   "source": [
    "y_train.value_counts()"
   ]
  },
  {
   "cell_type": "code",
   "execution_count": 51,
   "metadata": {},
   "outputs": [
    {
     "data": {
      "text/plain": [
       "0.06879777623349548"
      ]
     },
     "execution_count": 51,
     "metadata": {},
     "output_type": "execute_result"
    }
   ],
   "source": [
    "99/1439"
   ]
  },
  {
   "cell_type": "code",
   "execution_count": 52,
   "metadata": {},
   "outputs": [
    {
     "data": {
      "text/plain": [
       "0.04642857142857143"
      ]
     },
     "execution_count": 52,
     "metadata": {},
     "output_type": "execute_result"
    }
   ],
   "source": [
    "39/840\n"
   ]
  },
  {
   "cell_type": "code",
   "execution_count": 53,
   "metadata": {
    "collapsed": true
   },
   "outputs": [],
   "source": [
    "Prediction.to_csv('predictions_cl.csv', index=False)"
   ]
  },
  {
   "cell_type": "code",
   "execution_count": 54,
   "metadata": {},
   "outputs": [
    {
     "data": {
      "text/plain": [
       "0.91227869788692184"
      ]
     },
     "execution_count": 54,
     "metadata": {},
     "output_type": "execute_result"
    }
   ],
   "source": [
    "logreg = LogisticRegression()\n",
    "cross_val_score(logreg, X_test, y_test, cv=5).mean()"
   ]
  },
  {
   "cell_type": "code",
   "execution_count": 55,
   "metadata": {},
   "outputs": [
    {
     "name": "stdout",
     "output_type": "stream",
     "text": [
      "0.942135642136\n",
      "0.942135642136\n"
     ]
    }
   ],
   "source": [
    "from sklearn import svm\n",
    "\n",
    "clf = svm.SVC()\n",
    "print(cross_val_score(clf, X_train, y_train, cv=5).mean())\n",
    "\n",
    "\n",
    "clf = svm.SVC(kernel= 'linear')\n",
    "print(cross_val_score(clf, X_train, y_train, cv=5).mean())\n",
    "\n"
   ]
  },
  {
   "cell_type": "code",
   "execution_count": 81,
   "metadata": {},
   "outputs": [
    {
     "data": {
      "text/plain": [
       "SVC(C=100, cache_size=200, class_weight=None, coef0=0.0,\n",
       "  decision_function_shape='ovr', degree=3, gamma='auto', kernel='rbf',\n",
       "  max_iter=-1, probability=False, random_state=None, shrinking=True,\n",
       "  tol=0.001, verbose=False)"
      ]
     },
     "execution_count": 81,
     "metadata": {},
     "output_type": "execute_result"
    }
   ],
   "source": [
    "clf.fit(X_train, y_train)"
   ]
  },
  {
   "cell_type": "code",
   "execution_count": 83,
   "metadata": {},
   "outputs": [
    {
     "data": {
      "text/plain": [
       "0.89278752436647169"
      ]
     },
     "execution_count": 83,
     "metadata": {},
     "output_type": "execute_result"
    }
   ],
   "source": [
    "clf.score(X_test, y_test)"
   ]
  },
  {
   "cell_type": "code",
   "execution_count": 84,
   "metadata": {
    "collapsed": true
   },
   "outputs": [],
   "source": [
    "y_hat2 = clf.predict(ames_test_ss)"
   ]
  },
  {
   "cell_type": "code",
   "execution_count": 91,
   "metadata": {
    "collapsed": true
   },
   "outputs": [],
   "source": [
    "PRED2 = pd.DataFrame(y_hat2, columns=['Sale Condition'])"
   ]
  },
  {
   "cell_type": "code",
   "execution_count": 92,
   "metadata": {
    "collapsed": true
   },
   "outputs": [],
   "source": [
    "Prediction2 = pd.concat([ID, PRED2], axis=1)"
   ]
  },
  {
   "cell_type": "code",
   "execution_count": 94,
   "metadata": {
    "collapsed": true
   },
   "outputs": [],
   "source": [
    "Prediction2.to_csv('predictions_cl2.csv', index=False)"
   ]
  },
  {
   "cell_type": "code",
   "execution_count": 134,
   "metadata": {},
   "outputs": [
    {
     "data": {
      "text/plain": [
       "KNeighborsClassifier(algorithm='auto', leaf_size=30, metric='minkowski',\n",
       "           metric_params=None, n_jobs=1, n_neighbors=5, p=1,\n",
       "           weights='uniform')"
      ]
     },
     "execution_count": 134,
     "metadata": {},
     "output_type": "execute_result"
    }
   ],
   "source": [
    "knn = KNeighborsClassifier(n_neighbors=5, p=1)\n",
    "knn.fit(X_train, y_train)"
   ]
  },
  {
   "cell_type": "code",
   "execution_count": 135,
   "metadata": {},
   "outputs": [
    {
     "data": {
      "text/plain": [
       "0.94148244473342002"
      ]
     },
     "execution_count": 135,
     "metadata": {},
     "output_type": "execute_result"
    }
   ],
   "source": [
    "knn.score(X_train, y_train)"
   ]
  },
  {
   "cell_type": "code",
   "execution_count": 136,
   "metadata": {},
   "outputs": [
    {
     "data": {
      "text/plain": [
       "0.91617933723196876"
      ]
     },
     "execution_count": 136,
     "metadata": {},
     "output_type": "execute_result"
    }
   ],
   "source": [
    "knn.score(X_test, y_test)"
   ]
  },
  {
   "cell_type": "code",
   "execution_count": 137,
   "metadata": {},
   "outputs": [
    {
     "data": {
      "text/plain": [
       "3"
      ]
     },
     "execution_count": 137,
     "metadata": {},
     "output_type": "execute_result"
    }
   ],
   "source": [
    "knn.predict(ames_test_ss).sum()"
   ]
  },
  {
   "cell_type": "code",
   "execution_count": 96,
   "metadata": {},
   "outputs": [
    {
     "name": "stdout",
     "output_type": "stream",
     "text": [
      "{'n_neighbors': 6, 'weights': 'uniform'}\n",
      "0.942132639792\n"
     ]
    }
   ],
   "source": [
    "knn_best = knn_gs.best_estimator_\n",
    "print(knn_gs.best_params_)\n",
    "print(knn_gs.best_score_)"
   ]
  },
  {
   "cell_type": "code",
   "execution_count": 103,
   "metadata": {},
   "outputs": [
    {
     "data": {
      "text/plain": [
       "0"
      ]
     },
     "execution_count": 103,
     "metadata": {},
     "output_type": "execute_result"
    }
   ],
   "source": [
    "knn_gs.predict(X_test).sum()"
   ]
  },
  {
   "cell_type": "code",
   "execution_count": null,
   "metadata": {
    "collapsed": true
   },
   "outputs": [],
   "source": []
  },
  {
   "cell_type": "code",
   "execution_count": 104,
   "metadata": {},
   "outputs": [
    {
     "name": "stdout",
     "output_type": "stream",
     "text": [
      "Fitting 5 folds for each of 80 candidates, totalling 400 fits\n"
     ]
    },
    {
     "name": "stderr",
     "output_type": "stream",
     "text": [
      "[Parallel(n_jobs=1)]: Done 400 out of 400 | elapsed:  1.7min finished\n"
     ]
    },
    {
     "data": {
      "text/plain": [
       "GridSearchCV(cv=5, error_score='raise',\n",
       "       estimator=LogisticRegression(C=1.0, class_weight=None, dual=False, fit_intercept=True,\n",
       "          intercept_scaling=1, max_iter=100, multi_class='ovr', n_jobs=1,\n",
       "          penalty='l2', random_state=None, solver='liblinear', tol=0.0001,\n",
       "          verbose=0, warm_start=False),\n",
       "       fit_params=None, iid=True, n_jobs=1,\n",
       "       param_grid={'penalty': ['l1', 'l2'], 'C': array([  1.00000e-04,   1.42510e-04,   2.03092e-04,   2.89427e-04,\n",
       "         4.12463e-04,   5.87802e-04,   8.37678e-04,   1.19378e-03,\n",
       "         1.70125e-03,   2.42446e-03,   3.45511e-03,   4.92388e-03,\n",
       "         7.01704e-03,   1.00000e-02,   1.42510e-02,   2.0...6e+01,\n",
       "         3.45511e+01,   4.92388e+01,   7.01704e+01,   1.00000e+02]), 'solver': ['liblinear']},\n",
       "       pre_dispatch='2*n_jobs', refit=True, return_train_score=True,\n",
       "       scoring=None, verbose=1)"
      ]
     },
     "execution_count": 104,
     "metadata": {},
     "output_type": "execute_result"
    }
   ],
   "source": [
    "\n",
    "from sklearn.linear_model import LogisticRegression\n",
    "\n",
    "lr_params = {\n",
    "    'penalty':['l1','l2'],\n",
    "    'C':np.logspace(-4, 2, 40),\n",
    "    'solver':['liblinear']\n",
    "}\n",
    "\n",
    "lr_gs = GridSearchCV(LogisticRegression(), lr_params, cv=5, verbose=1)\n",
    "lr_gs.fit(X_train, y_train)"
   ]
  },
  {
   "cell_type": "code",
   "execution_count": 105,
   "metadata": {},
   "outputs": [
    {
     "name": "stdout",
     "output_type": "stream",
     "text": [
      "{'C': 0.24244620170823308, 'penalty': 'l2', 'solver': 'liblinear'}\n",
      "0.94278283485\n"
     ]
    }
   ],
   "source": [
    "best_lr = lr_gs.best_estimator_\n",
    "print(lr_gs.best_params_)\n",
    "print(lr_gs.best_score_)"
   ]
  },
  {
   "cell_type": "code",
   "execution_count": 109,
   "metadata": {},
   "outputs": [
    {
     "data": {
      "text/plain": [
       "3"
      ]
     },
     "execution_count": 109,
     "metadata": {},
     "output_type": "execute_result"
    }
   ],
   "source": [
    "lr_gs.predict(ames_test_ss).sum()"
   ]
  },
  {
   "cell_type": "code",
   "execution_count": 142,
   "metadata": {},
   "outputs": [
    {
     "data": {
      "text/plain": [
       "DecisionTreeClassifier(class_weight=None, criterion='gini', max_depth=10,\n",
       "            max_features=None, max_leaf_nodes=None,\n",
       "            min_impurity_decrease=0.0, min_impurity_split=None,\n",
       "            min_samples_leaf=1, min_samples_split=2,\n",
       "            min_weight_fraction_leaf=0.0, presort=False, random_state=0,\n",
       "            splitter='best')"
      ]
     },
     "execution_count": 142,
     "metadata": {},
     "output_type": "execute_result"
    }
   ],
   "source": [
    "from sklearn.tree import DecisionTreeClassifier\n",
    "\n",
    "clf = DecisionTreeClassifier(max_depth=10, random_state=0)\n",
    "clf.fit(X_train, y_train)"
   ]
  },
  {
   "cell_type": "code",
   "execution_count": 150,
   "metadata": {},
   "outputs": [
    {
     "data": {
      "text/plain": [
       "0.89083820662768032"
      ]
     },
     "execution_count": 150,
     "metadata": {},
     "output_type": "execute_result"
    }
   ],
   "source": [
    "clf.score(X_test, y_test)"
   ]
  },
  {
   "cell_type": "code",
   "execution_count": 148,
   "metadata": {
    "collapsed": true
   },
   "outputs": [],
   "source": [
    "Prediction3 = clf.predict(ames_test_ss)"
   ]
  },
  {
   "cell_type": "code",
   "execution_count": 153,
   "metadata": {
    "collapsed": true
   },
   "outputs": [],
   "source": [
    "Prediction3 = pd.DataFrame(Prediction3, columns=['Sale Condition'])"
   ]
  },
  {
   "cell_type": "code",
   "execution_count": 155,
   "metadata": {
    "collapsed": true
   },
   "outputs": [],
   "source": [
    "Prediction3 = pd.concat([ID, Prediction3], axis=1)"
   ]
  },
  {
   "cell_type": "code",
   "execution_count": 157,
   "metadata": {
    "collapsed": true
   },
   "outputs": [],
   "source": [
    "Prediction3.to_csv('prediction_cl3.csv', index=False)"
   ]
  },
  {
   "cell_type": "code",
   "execution_count": 158,
   "metadata": {
    "collapsed": true
   },
   "outputs": [],
   "source": [
    "from sklearn.model_selection import cross_val_score\n",
    "from sklearn.ensemble import BaggingClassifier"
   ]
  },
  {
   "cell_type": "code",
   "execution_count": 159,
   "metadata": {},
   "outputs": [
    {
     "name": "stdout",
     "output_type": "stream",
     "text": [
      "Decision Tree Score:  0.895975734792\n",
      "Bagging Score:  0.937593984962\n"
     ]
    }
   ],
   "source": [
    "clf = DecisionTreeClassifier(max_depth=20)\n",
    "bagger = BaggingClassifier(clf, n_estimators=10)\n",
    "\n",
    "print('Decision Tree Score: ', cross_val_score(clf, X_train, y_train, cv=10).mean())\n",
    "print('Bagging Score: ', cross_val_score(bagger, X_train, y_train, cv=10).mean())"
   ]
  },
  {
   "cell_type": "code",
   "execution_count": 160,
   "metadata": {},
   "outputs": [
    {
     "data": {
      "text/plain": [
       "0.90260180995475126"
      ]
     },
     "execution_count": 160,
     "metadata": {},
     "output_type": "execute_result"
    }
   ],
   "source": [
    "cross_val_score(bagger, X_test, y_test, cv=10).mean()"
   ]
  },
  {
   "cell_type": "code",
   "execution_count": 166,
   "metadata": {},
   "outputs": [
    {
     "data": {
      "text/plain": [
       "0.91617933723196876"
      ]
     },
     "execution_count": 166,
     "metadata": {},
     "output_type": "execute_result"
    }
   ],
   "source": [
    "bagger.score(X_test, y_test)"
   ]
  },
  {
   "cell_type": "code",
   "execution_count": 164,
   "metadata": {},
   "outputs": [
    {
     "data": {
      "text/plain": [
       "2"
      ]
     },
     "execution_count": 164,
     "metadata": {},
     "output_type": "execute_result"
    }
   ],
   "source": [
    "bagger.predict(ames_test_ss).sum()"
   ]
  },
  {
   "cell_type": "code",
   "execution_count": null,
   "metadata": {
    "collapsed": true
   },
   "outputs": [],
   "source": []
  }
 ],
 "metadata": {
  "kernelspec": {
   "display_name": "Python 3",
   "language": "python",
   "name": "python3"
  },
  "language_info": {
   "codemirror_mode": {
    "name": "ipython",
    "version": 3
   },
   "file_extension": ".py",
   "mimetype": "text/x-python",
   "name": "python",
   "nbconvert_exporter": "python",
   "pygments_lexer": "ipython3",
   "version": "3.6.2"
  }
 },
 "nbformat": 4,
 "nbformat_minor": 2
}
