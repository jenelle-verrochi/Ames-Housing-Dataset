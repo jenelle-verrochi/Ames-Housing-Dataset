{
 "cells": [
  {
   "cell_type": "code",
   "execution_count": 8,
   "metadata": {
    "collapsed": true
   },
   "outputs": [],
   "source": [
    "import pandas as pd\n",
    "import numpy as np\n",
    "import seaborn as sns\n",
    "import matplotlib.pyplot as plt\n",
    "%matplotlib inline\n",
    "\n",
    "from sklearn.model_selection import train_test_split\n",
    "from sklearn.preprocessing import StandardScaler\n",
    "from sklearn.linear_model import LinearRegression"
   ]
  },
  {
   "cell_type": "markdown",
   "metadata": {},
   "source": [
    "### EDA"
   ]
  },
  {
   "cell_type": "code",
   "execution_count": 9,
   "metadata": {},
   "outputs": [],
   "source": [
    "ames = pd.read_csv('train.csv')\n",
    "ames_test = pd.read_csv('test.csv')"
   ]
  },
  {
   "cell_type": "code",
   "execution_count": 10,
   "metadata": {},
   "outputs": [
    {
     "name": "stdout",
     "output_type": "stream",
     "text": [
      "(2051, 82)\n",
      "(879, 80)\n"
     ]
    }
   ],
   "source": [
    "print(ames.shape)\n",
    "print(ames_test.shape)"
   ]
  },
  {
   "cell_type": "code",
   "execution_count": 11,
   "metadata": {},
   "outputs": [
    {
     "data": {
      "text/plain": [
       "Lot Frontage       330\n",
       "Alley             1911\n",
       "Mas Vnr Type        22\n",
       "Mas Vnr Area        22\n",
       "Bsmt Qual           55\n",
       "Bsmt Cond           55\n",
       "Bsmt Exposure       58\n",
       "BsmtFin Type 1      55\n",
       "BsmtFin SF 1         1\n",
       "BsmtFin Type 2      56\n",
       "BsmtFin SF 2         1\n",
       "Bsmt Unf SF          1\n",
       "Total Bsmt SF        1\n",
       "Bsmt Full Bath       2\n",
       "Bsmt Half Bath       2\n",
       "Fireplace Qu      1000\n",
       "Garage Type        113\n",
       "Garage Yr Blt      114\n",
       "Garage Finish      114\n",
       "Garage Cars          1\n",
       "Garage Area          1\n",
       "Garage Qual        114\n",
       "Garage Cond        114\n",
       "Pool QC           2042\n",
       "Fence             1651\n",
       "Misc Feature      1986\n",
       "dtype: int64"
      ]
     },
     "execution_count": 11,
     "metadata": {},
     "output_type": "execute_result"
    }
   ],
   "source": [
    "ames.isnull().sum()[ames.isnull().sum() > 0]"
   ]
  },
  {
   "cell_type": "code",
   "execution_count": 12,
   "metadata": {},
   "outputs": [
    {
     "data": {
      "text/plain": [
       "Id                  int64\n",
       "PID                 int64\n",
       "MS SubClass         int64\n",
       "MS Zoning          object\n",
       "Lot Frontage      float64\n",
       "Lot Area            int64\n",
       "Street             object\n",
       "Alley              object\n",
       "Lot Shape          object\n",
       "Land Contour       object\n",
       "Utilities          object\n",
       "Lot Config         object\n",
       "Land Slope         object\n",
       "Neighborhood       object\n",
       "Condition 1        object\n",
       "Condition 2        object\n",
       "Bldg Type          object\n",
       "House Style        object\n",
       "Overall Qual        int64\n",
       "Overall Cond        int64\n",
       "Year Built          int64\n",
       "Year Remod/Add      int64\n",
       "Roof Style         object\n",
       "Roof Matl          object\n",
       "Exterior 1st       object\n",
       "Exterior 2nd       object\n",
       "Mas Vnr Type       object\n",
       "Mas Vnr Area      float64\n",
       "Exter Qual         object\n",
       "Exter Cond         object\n",
       "                   ...   \n",
       "Bedroom AbvGr       int64\n",
       "Kitchen AbvGr       int64\n",
       "Kitchen Qual       object\n",
       "TotRms AbvGrd       int64\n",
       "Functional         object\n",
       "Fireplaces          int64\n",
       "Fireplace Qu       object\n",
       "Garage Type        object\n",
       "Garage Yr Blt     float64\n",
       "Garage Finish      object\n",
       "Garage Cars       float64\n",
       "Garage Area       float64\n",
       "Garage Qual        object\n",
       "Garage Cond        object\n",
       "Paved Drive        object\n",
       "Wood Deck SF        int64\n",
       "Open Porch SF       int64\n",
       "Enclosed Porch      int64\n",
       "3Ssn Porch          int64\n",
       "Screen Porch        int64\n",
       "Pool Area           int64\n",
       "Pool QC            object\n",
       "Fence              object\n",
       "Misc Feature       object\n",
       "Misc Val            int64\n",
       "Mo Sold             int64\n",
       "Yr Sold             int64\n",
       "Sale Type          object\n",
       "Sale Condition     object\n",
       "SalePrice           int64\n",
       "Length: 82, dtype: object"
      ]
     },
     "execution_count": 12,
     "metadata": {},
     "output_type": "execute_result"
    }
   ],
   "source": [
    "ames.dtypes"
   ]
  },
  {
   "cell_type": "code",
   "execution_count": 13,
   "metadata": {},
   "outputs": [
    {
     "data": {
      "text/plain": [
       "<matplotlib.axes._subplots.AxesSubplot at 0x10e6c0160>"
      ]
     },
     "execution_count": 13,
     "metadata": {},
     "output_type": "execute_result"
    },
    {
     "data": {
      "image/png": "[encoded data removed]",
      "text/plain": [
       "<matplotlib.figure.Figure at 0x10e6f8278>"
      ]
     },
     "metadata": {},
     "output_type": "display_data"
    }
   ],
   "source": [
    "plt.figure(figsize=(10,10))\n",
    "test_df = ames[['MS SubClass', 'MS Zoning', 'Lot Frontage', \n",
    "                    'Lot Area', 'Overall Qual', 'Overall Cond',\n",
    "                'Year Built', 'Year Remod/Add', 'Mas Vnr Area', 'Total Bsmt SF',  'SalePrice']]\n",
    "\n",
    "sns.heatmap(test_df.corr(), annot=True)"
   ]
  },
  {
   "cell_type": "code",
   "execution_count": 14,
   "metadata": {},
   "outputs": [
    {
     "data": {
      "text/plain": [
       "<matplotlib.axes._subplots.AxesSubplot at 0x1a18680898>"
      ]
     },
     "execution_count": 14,
     "metadata": {},
     "output_type": "execute_result"
    },
    {
     "data": {
      "image/png": "[encoded data removed]",
      "text/plain": [
       "<matplotlib.figure.Figure at 0x10efea320>"
      ]
     },
     "metadata": {},
     "output_type": "display_data"
    }
   ],
   "source": [
    "plt.figure(figsize=(10,10))\n",
    "test_df2 = ames[['1st Flr SF', '2nd Flr SF', 'Low Qual Fin SF', \n",
    "                    'Gr Liv Area', 'Full Bath', 'Half Bath',\n",
    "                'Bedroom AbvGr', 'Kitchen AbvGr', 'TotRms AbvGrd', 'Fireplaces',  'SalePrice']]\n",
    "\n",
    "sns.heatmap(test_df2.corr(), annot=True)"
   ]
  },
  {
   "cell_type": "code",
   "execution_count": 15,
   "metadata": {},
   "outputs": [
    {
     "data": {
      "text/plain": [
       "<matplotlib.axes._subplots.AxesSubplot at 0x1a186867f0>"
      ]
     },
     "execution_count": 15,
     "metadata": {},
     "output_type": "execute_result"
    },
    {
     "data": {
      "image/png": "[encoded data removed]",
      "text/plain": [
       "<matplotlib.figure.Figure at 0x1a186cb0b8>"
      ]
     },
     "metadata": {},
     "output_type": "display_data"
    }
   ],
   "source": [
    "plt.figure(figsize=(10,10))\n",
    "test_df3 = ames[['Garage Cars', 'Garage Area', 'Wood Deck SF', \n",
    "                    'Open Porch SF', 'Enclosed Porch', 'Screen Porch',\n",
    "                'Pool Area', 'Mo Sold', 'Yr Sold', 'SalePrice']]\n",
    "\n",
    "sns.heatmap(test_df3.corr(), annot=True)"
   ]
  },
  {
   "cell_type": "code",
   "execution_count": 16,
   "metadata": {},
   "outputs": [
    {
     "data": {
      "text/plain": [
       "<seaborn.axisgrid.PairGrid at 0x10efeaac8>"
      ]
     },
     "execution_count": 16,
     "metadata": {},
     "output_type": "execute_result"
    },
    {
     "data": {
      "image/png": "[encoded data removed]",
      "text/plain": [
       "<matplotlib.figure.Figure at 0x10efea7b8>"
      ]
     },
     "metadata": {},
     "output_type": "display_data"
    }
   ],
   "source": [
    "sns.pairplot(ames[['Garage Cars', 'Garage Area', '1st Flr SF', 'Gr Liv Area', \n",
    "                   'Full Bath', 'TotRms AbvGrd', 'SalePrice']].corr())"
   ]
  },
  {
   "cell_type": "code",
   "execution_count": 17,
   "metadata": {},
   "outputs": [
    {
     "data": {
      "text/plain": [
       "SalePrice          1.000000\n",
       "Overall Qual       0.800207\n",
       "Gr Liv Area        0.697038\n",
       "Garage Area        0.650270\n",
       "Garage Cars        0.648220\n",
       "Total Bsmt SF      0.628925\n",
       "1st Flr SF         0.618486\n",
       "Year Built         0.571849\n",
       "Year Remod/Add     0.550370\n",
       "Full Bath          0.537969\n",
       "Garage Yr Blt      0.533922\n",
       "Mas Vnr Area       0.512230\n",
       "TotRms AbvGrd      0.504014\n",
       "Fireplaces         0.471093\n",
       "BsmtFin SF 1       0.423519\n",
       "Lot Frontage       0.341842\n",
       "Open Porch SF      0.333476\n",
       "Wood Deck SF       0.326490\n",
       "Lot Area           0.296566\n",
       "Bsmt Full Bath     0.283662\n",
       "Half Bath          0.283001\n",
       "PID                0.255052\n",
       "2nd Flr SF         0.248452\n",
       "Bsmt Unf SF        0.190210\n",
       "Bedroom AbvGr      0.137067\n",
       "Enclosed Porch     0.135656\n",
       "Screen Porch       0.134581\n",
       "Kitchen AbvGr      0.125444\n",
       "Overall Cond       0.097019\n",
       "MS SubClass        0.087335\n",
       "Id                 0.051398\n",
       "3Ssn Porch         0.048732\n",
       "Bsmt Half Bath     0.045328\n",
       "Low Qual Fin SF    0.041594\n",
       "Mo Sold            0.032735\n",
       "Pool Area          0.023106\n",
       "BsmtFin SF 2       0.016255\n",
       "Yr Sold            0.015203\n",
       "Misc Val           0.007375\n",
       "Name: SalePrice, dtype: float64"
      ]
     },
     "execution_count": 17,
     "metadata": {},
     "output_type": "execute_result"
    }
   ],
   "source": [
    "abs(ames.corr()['SalePrice']).sort_values(ascending=False)"
   ]
  },
  {
   "cell_type": "code",
   "execution_count": 18,
   "metadata": {
    "collapsed": true
   },
   "outputs": [],
   "source": [
    "#From EDA I was able to conclude that the following variables all have more than\n",
    "#a .5 R2 so are most correlated to sale price:\n",
    "\n",
    "#1st Flr SF, Gr Liv Area, Full Bath, TotRms AbvGrd, Fireplaces, Garage Cars, Garage Area,\n",
    "#Overall Qual, Year Built, Year Remod/Add, Mas Vnr Area, Total Bsmt SF\n",
    "\n"
   ]
  },
  {
   "cell_type": "markdown",
   "metadata": {},
   "source": [
    "### PREPROCESSING"
   ]
  },
  {
   "cell_type": "markdown",
   "metadata": {},
   "source": [
    "Seperate numeric and categorical data"
   ]
  },
  {
   "cell_type": "code",
   "execution_count": 19,
   "metadata": {},
   "outputs": [
    {
     "data": {
      "text/plain": [
       "{'float64': Index(['Lot Frontage', 'Mas Vnr Area', 'BsmtFin SF 1', 'BsmtFin SF 2',\n",
       "        'Bsmt Unf SF', 'Total Bsmt SF', 'Bsmt Full Bath', 'Bsmt Half Bath',\n",
       "        'Garage Yr Blt', 'Garage Cars', 'Garage Area'],\n",
       "       dtype='object'),\n",
       " 'int64': Index(['Id', 'PID', 'MS SubClass', 'Lot Area', 'Overall Qual', 'Overall Cond',\n",
       "        'Year Built', 'Year Remod/Add', '1st Flr SF', '2nd Flr SF',\n",
       "        'Low Qual Fin SF', 'Gr Liv Area', 'Full Bath', 'Half Bath',\n",
       "        'Bedroom AbvGr', 'Kitchen AbvGr', 'TotRms AbvGrd', 'Fireplaces',\n",
       "        'Wood Deck SF', 'Open Porch SF', 'Enclosed Porch', '3Ssn Porch',\n",
       "        'Screen Porch', 'Pool Area', 'Misc Val', 'Mo Sold', 'Yr Sold',\n",
       "        'SalePrice'],\n",
       "       dtype='object'),\n",
       " 'object': Index(['MS Zoning', 'Street', 'Alley', 'Lot Shape', 'Land Contour',\n",
       "        'Utilities', 'Lot Config', 'Land Slope', 'Neighborhood', 'Condition 1',\n",
       "        'Condition 2', 'Bldg Type', 'House Style', 'Roof Style', 'Roof Matl',\n",
       "        'Exterior 1st', 'Exterior 2nd', 'Mas Vnr Type', 'Exter Qual',\n",
       "        'Exter Cond', 'Foundation', 'Bsmt Qual', 'Bsmt Cond', 'Bsmt Exposure',\n",
       "        'BsmtFin Type 1', 'BsmtFin Type 2', 'Heating', 'Heating QC',\n",
       "        'Central Air', 'Electrical', 'Kitchen Qual', 'Functional',\n",
       "        'Fireplace Qu', 'Garage Type', 'Garage Finish', 'Garage Qual',\n",
       "        'Garage Cond', 'Paved Drive', 'Pool QC', 'Fence', 'Misc Feature',\n",
       "        'Sale Type', 'Sale Condition'],\n",
       "       dtype='object')}"
      ]
     },
     "execution_count": 19,
     "metadata": {},
     "output_type": "execute_result"
    }
   ],
   "source": [
    "g = ames.columns.to_series().groupby(ames.dtypes).groups\n",
    "d = {k.name: v for k, v in g.items()}\n",
    "d"
   ]
  },
  {
   "cell_type": "code",
   "execution_count": 20,
   "metadata": {
    "collapsed": true
   },
   "outputs": [],
   "source": [
    "ames_num = ames[['Lot Frontage', 'Mas Vnr Area', 'BsmtFin SF 1', 'BsmtFin SF 2',\n",
    "        'Bsmt Unf SF', 'Total Bsmt SF', 'Bsmt Full Bath', 'Bsmt Half Bath',\n",
    "        'Garage Yr Blt', 'Garage Cars', 'Garage Area', 'Id', 'PID', 'MS SubClass', 'Lot Area', 'Overall Qual', 'Overall Cond',\n",
    "        'Year Built', 'Year Remod/Add', '1st Flr SF', '2nd Flr SF',\n",
    "        'Low Qual Fin SF', 'Gr Liv Area', 'Full Bath', 'Half Bath',\n",
    "        'Bedroom AbvGr', 'Kitchen AbvGr', 'TotRms AbvGrd', 'Fireplaces',\n",
    "        'Wood Deck SF', 'Open Porch SF', 'Enclosed Porch', '3Ssn Porch',\n",
    "        'Screen Porch', 'Pool Area', 'Misc Val', 'Mo Sold', 'Yr Sold' ]]\n",
    "\n",
    "ames_cat = ames[['MS Zoning', 'Street', 'Alley', 'Lot Shape', 'Land Contour',\n",
    "        'Utilities', 'Lot Config', 'Land Slope', 'Neighborhood', 'Condition 1',\n",
    "        'Condition 2', 'Bldg Type', 'House Style', 'Roof Style', 'Roof Matl',\n",
    "        'Exterior 1st', 'Exterior 2nd', 'Mas Vnr Type', 'Exter Qual',\n",
    "        'Exter Cond', 'Foundation', 'Bsmt Qual', 'Bsmt Cond', 'Bsmt Exposure',\n",
    "        'BsmtFin Type 1', 'BsmtFin Type 2', 'Heating', 'Heating QC',\n",
    "        'Central Air', 'Electrical', 'Kitchen Qual', 'Functional',\n",
    "        'Fireplace Qu', 'Garage Type', 'Garage Finish', 'Garage Qual',\n",
    "        'Garage Cond', 'Paved Drive', 'Pool QC', 'Fence', 'Misc Feature',\n",
    "        'Sale Type', 'Sale Condition']]"
   ]
  },
  {
   "cell_type": "code",
   "execution_count": 21,
   "metadata": {},
   "outputs": [
    {
     "name": "stdout",
     "output_type": "stream",
     "text": [
      "(2051, 38) (2051,)\n"
     ]
    }
   ],
   "source": [
    "X = ames_num[[col for col in ames_num.columns if col != 'SalePrice']]\n",
    "y = ames.SalePrice\n",
    "\n",
    "print(X.shape, y.shape)"
   ]
  },
  {
   "cell_type": "markdown",
   "metadata": {},
   "source": [
    "TTS"
   ]
  },
  {
   "cell_type": "code",
   "execution_count": 22,
   "metadata": {},
   "outputs": [
    {
     "name": "stdout",
     "output_type": "stream",
     "text": [
      "(1538, 38) (513, 38) (1538,) (513,)\n"
     ]
    }
   ],
   "source": [
    "X_train, X_test, y_train, y_test = train_test_split(X, y)\n",
    "\n",
    "print(X_train.shape, X_test.shape, y_train.shape, y_test.shape)"
   ]
  },
  {
   "cell_type": "code",
   "execution_count": 23,
   "metadata": {},
   "outputs": [
    {
     "data": {
      "text/plain": [
       "Lot Frontage      254\n",
       "Mas Vnr Area       16\n",
       "BsmtFin SF 1        1\n",
       "BsmtFin SF 2        1\n",
       "Bsmt Unf SF         1\n",
       "Total Bsmt SF       1\n",
       "Bsmt Full Bath      2\n",
       "Bsmt Half Bath      2\n",
       "Garage Yr Blt      83\n",
       "Garage Cars         1\n",
       "Garage Area         1\n",
       "dtype: int64"
      ]
     },
     "execution_count": 23,
     "metadata": {},
     "output_type": "execute_result"
    }
   ],
   "source": [
    "X_train.isnull().sum()[X_train.isnull().sum()>0]"
   ]
  },
  {
   "cell_type": "code",
   "execution_count": 24,
   "metadata": {},
   "outputs": [
    {
     "data": {
      "text/html": [
       "<div>\n",
       "<style>\n",
       "    .dataframe thead tr:only-child th {\n",
       "        text-align: right;\n",
       "    }\n",
       "\n",
       "    .dataframe thead th {\n",
       "        text-align: left;\n",
       "    }\n",
       "\n",
       "    .dataframe tbody tr th {\n",
       "        vertical-align: top;\n",
       "    }\n",
       "</style>\n",
       "<table border=\"1\" class=\"dataframe\">\n",
       "  <thead>\n",
       "    <tr style=\"text-align: right;\">\n",
       "      <th></th>\n",
       "      <th>Lot Frontage</th>\n",
       "      <th>Mas Vnr Area</th>\n",
       "      <th>BsmtFin SF 1</th>\n",
       "      <th>BsmtFin SF 2</th>\n",
       "      <th>Bsmt Unf SF</th>\n",
       "      <th>Total Bsmt SF</th>\n",
       "      <th>Bsmt Full Bath</th>\n",
       "      <th>Bsmt Half Bath</th>\n",
       "      <th>Garage Yr Blt</th>\n",
       "      <th>Garage Cars</th>\n",
       "      <th>...</th>\n",
       "      <th>Fireplaces</th>\n",
       "      <th>Wood Deck SF</th>\n",
       "      <th>Open Porch SF</th>\n",
       "      <th>Enclosed Porch</th>\n",
       "      <th>3Ssn Porch</th>\n",
       "      <th>Screen Porch</th>\n",
       "      <th>Pool Area</th>\n",
       "      <th>Misc Val</th>\n",
       "      <th>Mo Sold</th>\n",
       "      <th>Yr Sold</th>\n",
       "    </tr>\n",
       "  </thead>\n",
       "  <tbody>\n",
       "    <tr>\n",
       "      <th>1069</th>\n",
       "      <td>60.0</td>\n",
       "      <td>0.0</td>\n",
       "      <td>0.0</td>\n",
       "      <td>0.0</td>\n",
       "      <td>938.0</td>\n",
       "      <td>938.0</td>\n",
       "      <td>0.0</td>\n",
       "      <td>0.0</td>\n",
       "      <td>1999.0</td>\n",
       "      <td>2.0</td>\n",
       "      <td>...</td>\n",
       "      <td>1</td>\n",
       "      <td>188</td>\n",
       "      <td>30</td>\n",
       "      <td>0</td>\n",
       "      <td>0</td>\n",
       "      <td>0</td>\n",
       "      <td>0</td>\n",
       "      <td>0</td>\n",
       "      <td>8</td>\n",
       "      <td>2007</td>\n",
       "    </tr>\n",
       "    <tr>\n",
       "      <th>342</th>\n",
       "      <td>21.0</td>\n",
       "      <td>604.0</td>\n",
       "      <td>358.0</td>\n",
       "      <td>0.0</td>\n",
       "      <td>125.0</td>\n",
       "      <td>483.0</td>\n",
       "      <td>0.0</td>\n",
       "      <td>0.0</td>\n",
       "      <td>1971.0</td>\n",
       "      <td>1.0</td>\n",
       "      <td>...</td>\n",
       "      <td>0</td>\n",
       "      <td>0</td>\n",
       "      <td>0</td>\n",
       "      <td>0</td>\n",
       "      <td>0</td>\n",
       "      <td>0</td>\n",
       "      <td>0</td>\n",
       "      <td>0</td>\n",
       "      <td>8</td>\n",
       "      <td>2008</td>\n",
       "    </tr>\n",
       "    <tr>\n",
       "      <th>1430</th>\n",
       "      <td>NaN</td>\n",
       "      <td>NaN</td>\n",
       "      <td>0.0</td>\n",
       "      <td>0.0</td>\n",
       "      <td>952.0</td>\n",
       "      <td>952.0</td>\n",
       "      <td>0.0</td>\n",
       "      <td>0.0</td>\n",
       "      <td>2002.0</td>\n",
       "      <td>2.0</td>\n",
       "      <td>...</td>\n",
       "      <td>1</td>\n",
       "      <td>144</td>\n",
       "      <td>112</td>\n",
       "      <td>0</td>\n",
       "      <td>0</td>\n",
       "      <td>0</td>\n",
       "      <td>0</td>\n",
       "      <td>0</td>\n",
       "      <td>4</td>\n",
       "      <td>2008</td>\n",
       "    </tr>\n",
       "    <tr>\n",
       "      <th>1790</th>\n",
       "      <td>67.0</td>\n",
       "      <td>110.0</td>\n",
       "      <td>788.0</td>\n",
       "      <td>0.0</td>\n",
       "      <td>785.0</td>\n",
       "      <td>1573.0</td>\n",
       "      <td>1.0</td>\n",
       "      <td>0.0</td>\n",
       "      <td>2002.0</td>\n",
       "      <td>2.0</td>\n",
       "      <td>...</td>\n",
       "      <td>0</td>\n",
       "      <td>0</td>\n",
       "      <td>72</td>\n",
       "      <td>0</td>\n",
       "      <td>0</td>\n",
       "      <td>0</td>\n",
       "      <td>0</td>\n",
       "      <td>0</td>\n",
       "      <td>3</td>\n",
       "      <td>2009</td>\n",
       "    </tr>\n",
       "    <tr>\n",
       "      <th>1999</th>\n",
       "      <td>56.0</td>\n",
       "      <td>0.0</td>\n",
       "      <td>259.0</td>\n",
       "      <td>0.0</td>\n",
       "      <td>667.0</td>\n",
       "      <td>926.0</td>\n",
       "      <td>0.0</td>\n",
       "      <td>0.0</td>\n",
       "      <td>1979.0</td>\n",
       "      <td>2.0</td>\n",
       "      <td>...</td>\n",
       "      <td>0</td>\n",
       "      <td>128</td>\n",
       "      <td>103</td>\n",
       "      <td>0</td>\n",
       "      <td>0</td>\n",
       "      <td>0</td>\n",
       "      <td>0</td>\n",
       "      <td>0</td>\n",
       "      <td>11</td>\n",
       "      <td>2007</td>\n",
       "    </tr>\n",
       "  </tbody>\n",
       "</table>\n",
       "<p>5 rows × 38 columns</p>\n",
       "</div>"
      ],
      "text/plain": [
       "      Lot Frontage  Mas Vnr Area  BsmtFin SF 1  BsmtFin SF 2  Bsmt Unf SF  \\\n",
       "1069          60.0           0.0           0.0           0.0        938.0   \n",
       "342           21.0         604.0         358.0           0.0        125.0   \n",
       "1430           NaN           NaN           0.0           0.0        952.0   \n",
       "1790          67.0         110.0         788.0           0.0        785.0   \n",
       "1999          56.0           0.0         259.0           0.0        667.0   \n",
       "\n",
       "      Total Bsmt SF  Bsmt Full Bath  Bsmt Half Bath  Garage Yr Blt  \\\n",
       "1069          938.0             0.0             0.0         1999.0   \n",
       "342           483.0             0.0             0.0         1971.0   \n",
       "1430          952.0             0.0             0.0         2002.0   \n",
       "1790         1573.0             1.0             0.0         2002.0   \n",
       "1999          926.0             0.0             0.0         1979.0   \n",
       "\n",
       "      Garage Cars   ...     Fireplaces  Wood Deck SF  Open Porch SF  \\\n",
       "1069          2.0   ...              1           188             30   \n",
       "342           1.0   ...              0             0              0   \n",
       "1430          2.0   ...              1           144            112   \n",
       "1790          2.0   ...              0             0             72   \n",
       "1999          2.0   ...              0           128            103   \n",
       "\n",
       "      Enclosed Porch  3Ssn Porch  Screen Porch  Pool Area  Misc Val  Mo Sold  \\\n",
       "1069               0           0             0          0         0        8   \n",
       "342                0           0             0          0         0        8   \n",
       "1430               0           0             0          0         0        4   \n",
       "1790               0           0             0          0         0        3   \n",
       "1999               0           0             0          0         0       11   \n",
       "\n",
       "      Yr Sold  \n",
       "1069     2007  \n",
       "342      2008  \n",
       "1430     2008  \n",
       "1790     2009  \n",
       "1999     2007  \n",
       "\n",
       "[5 rows x 38 columns]"
      ]
     },
     "execution_count": 24,
     "metadata": {},
     "output_type": "execute_result"
    }
   ],
   "source": [
    "X_train.head()"
   ]
  },
  {
   "cell_type": "code",
   "execution_count": 25,
   "metadata": {
    "collapsed": true
   },
   "outputs": [],
   "source": [
    "from sklearn.preprocessing import Imputer\n",
    "imputer = Imputer(strategy='median')\n",
    "\n",
    "X_train = imputer.fit_transform(X_train)"
   ]
  },
  {
   "cell_type": "code",
   "execution_count": 26,
   "metadata": {},
   "outputs": [
    {
     "data": {
      "text/plain": [
       "array([[   60.,     0.,     0., ...,     0.,     8.,  2007.],\n",
       "       [   21.,   604.,   358., ...,     0.,     8.,  2008.],\n",
       "       [   69.,     0.,     0., ...,     0.,     4.,  2008.],\n",
       "       ..., \n",
       "       [   42.,     0.,   964., ...,     0.,     9.,  2008.],\n",
       "       [   70.,     0.,     0., ...,     0.,     5.,  2006.],\n",
       "       [   24.,     0.,   320., ...,     0.,     7.,  2009.]])"
      ]
     },
     "execution_count": 26,
     "metadata": {},
     "output_type": "execute_result"
    }
   ],
   "source": [
    "X_train"
   ]
  },
  {
   "cell_type": "code",
   "execution_count": 27,
   "metadata": {},
   "outputs": [
    {
     "data": {
      "text/plain": [
       "array([[-0.43563453, -0.57363925, -0.98605292, ..., -0.08844523,\n",
       "         0.63779247, -0.5616667 ],\n",
       "       [-2.28425359,  2.94923024, -0.1804203 , ..., -0.08844523,\n",
       "         0.63779247,  0.19809001],\n",
       "       [-0.00903013, -0.57363925, -0.98605292, ..., -0.08844523,\n",
       "        -0.8339627 ,  0.19809001],\n",
       "       ..., \n",
       "       [-1.28884333, -0.57363925,  1.18330418, ..., -0.08844523,\n",
       "         1.00573127,  0.19809001],\n",
       "       [ 0.03837036, -0.57363925, -0.98605292, ..., -0.08844523,\n",
       "        -0.46602391, -1.32142341],\n",
       "       [-2.14205212, -0.57363925, -0.26593438, ..., -0.08844523,\n",
       "         0.26985368,  0.95784672]])"
      ]
     },
     "execution_count": 27,
     "metadata": {},
     "output_type": "execute_result"
    }
   ],
   "source": [
    "ss = StandardScaler()\n",
    "ss.fit(X_train)\n",
    "X_train = ss.transform(X_train)\n",
    "\n",
    "X_train"
   ]
  },
  {
   "cell_type": "code",
   "execution_count": 28,
   "metadata": {
    "collapsed": true
   },
   "outputs": [],
   "source": [
    "X_train = pd.DataFrame(X_train, columns=X.columns)\n"
   ]
  },
  {
   "cell_type": "markdown",
   "metadata": {},
   "source": [
    "Regularization - Lasso"
   ]
  },
  {
   "cell_type": "code",
   "execution_count": 29,
   "metadata": {
    "collapsed": true
   },
   "outputs": [],
   "source": [
    "\n",
    "from sklearn.linear_model import Lasso, LinearRegression, LogisticRegression, ElasticNet\n",
    "from sklearn.neighbors import KNeighborsClassifier\n",
    "from sklearn.model_selection import cross_val_score, GridSearchCV, train_test_split\n",
    "from sklearn.feature_selection import RFE, SelectKBest, f_classif, f_regression"
   ]
  },
  {
   "cell_type": "code",
   "execution_count": 30,
   "metadata": {},
   "outputs": [
    {
     "data": {
      "text/plain": [
       "Lasso(alpha=500, copy_X=True, fit_intercept=True, max_iter=1000,\n",
       "   normalize=False, positive=False, precompute=False, random_state=None,\n",
       "   selection='cyclic', tol=0.0001, warm_start=False)"
      ]
     },
     "execution_count": 30,
     "metadata": {},
     "output_type": "execute_result"
    }
   ],
   "source": [
    "lasso = Lasso(alpha=500)\n",
    "lasso.fit(X_train, y_train)"
   ]
  },
  {
   "cell_type": "code",
   "execution_count": 31,
   "metadata": {},
   "outputs": [
    {
     "data": {
      "text/plain": [
       "array([  2507.71597673,   3689.94186181,   7782.65507257,      0.        ,\n",
       "           -0.        ,   8992.15600012,   1014.13372305,  -1105.61996626,\n",
       "         3159.29024495,      0.        ,   5536.45804109,      0.        ,\n",
       "         -822.42648073,  -3624.71948031,   5172.12220143,  23654.54719531,\n",
       "         3954.29204765,   7447.74613676,   4696.4625726 ,      0.        ,\n",
       "            0.        ,  -1226.55960057,  25140.00905814,      0.        ,\n",
       "            0.        ,  -5875.4280872 ,  -1579.42534826,   4624.59784173,\n",
       "         2972.92926398,   1709.7055388 ,    156.53085849,    748.41903818,\n",
       "            0.        ,   3718.6230931 ,     -0.        ,  -8962.71969609,\n",
       "          440.571108  ,     -0.        ])"
      ]
     },
     "execution_count": 31,
     "metadata": {},
     "output_type": "execute_result"
    }
   ],
   "source": [
    "lasso.coef_"
   ]
  },
  {
   "cell_type": "code",
   "execution_count": 32,
   "metadata": {},
   "outputs": [
    {
     "name": "stdout",
     "output_type": "stream",
     "text": [
      "Lot Frontage 2507.71597673\n",
      "Mas Vnr Area 3689.94186181\n",
      "BsmtFin SF 1 7782.65507257\n",
      "BsmtFin SF 2 0.0\n",
      "Bsmt Unf SF -0.0\n",
      "Total Bsmt SF 8992.15600012\n",
      "Bsmt Full Bath 1014.13372305\n",
      "Bsmt Half Bath -1105.61996626\n",
      "Garage Yr Blt 3159.29024495\n",
      "Garage Cars 0.0\n",
      "Garage Area 5536.45804109\n",
      "Id 0.0\n",
      "PID -822.426480735\n",
      "MS SubClass -3624.71948031\n",
      "Lot Area 5172.12220143\n",
      "Overall Qual 23654.5471953\n",
      "Overall Cond 3954.29204765\n",
      "Year Built 7447.74613676\n",
      "Year Remod/Add 4696.4625726\n",
      "1st Flr SF 0.0\n",
      "2nd Flr SF 0.0\n",
      "Low Qual Fin SF -1226.55960057\n",
      "Gr Liv Area 25140.0090581\n",
      "Full Bath 0.0\n",
      "Half Bath 0.0\n",
      "Bedroom AbvGr -5875.4280872\n",
      "Kitchen AbvGr -1579.42534826\n",
      "TotRms AbvGrd 4624.59784173\n",
      "Fireplaces 2972.92926398\n",
      "Wood Deck SF 1709.7055388\n",
      "Open Porch SF 156.530858492\n",
      "Enclosed Porch 748.419038182\n",
      "3Ssn Porch 0.0\n",
      "Screen Porch 3718.6230931\n",
      "Pool Area -0.0\n",
      "Misc Val -8962.71969609\n",
      "Mo Sold 440.571107999\n",
      "Yr Sold -0.0\n"
     ]
    }
   ],
   "source": [
    "for i, col in enumerate(X.columns):\n",
    "    print(col, lasso.coef_[i])"
   ]
  },
  {
   "cell_type": "code",
   "execution_count": 33,
   "metadata": {
    "collapsed": true,
    "scrolled": true
   },
   "outputs": [],
   "source": [
    "selected_x = []\n",
    "for i, col in enumerate(X.columns):\n",
    "    if abs(lasso.coef_[i]) > 0:\n",
    "        selected_x.append(col)\n",
    "        \n",
    "selected_x = X_train[selected_x]"
   ]
  },
  {
   "cell_type": "code",
   "execution_count": 34,
   "metadata": {
    "scrolled": true
   },
   "outputs": [
    {
     "name": "stdout",
     "output_type": "stream",
     "text": [
      "All features\n",
      "[ 0.85018446  0.77301859  0.86183198  0.86189892  0.8417622   0.88288272\n",
      "  0.85401757  0.8145969   0.57230709  0.81746927] \n",
      " Mean:  0.812996968644\n",
      "Selected features\n",
      "[ 0.85504047  0.77259312  0.86581818  0.86399965  0.84176314  0.88441955\n",
      "  0.85405058  0.81594663  0.57795468  0.83025823] \n",
      " Mean:  0.816184421739\n"
     ]
    }
   ],
   "source": [
    "lr = LinearRegression()\n",
    "lr.fit(X_train, y_train)\n",
    "\n",
    "print('All features')\n",
    "scores = cross_val_score(lr, X_train, y_train, cv=10)\n",
    "print(scores, '\\n', 'Mean: ', scores.mean())\n",
    "\n",
    "\n",
    "print('Selected features')\n",
    "scores = cross_val_score(lr, selected_x , y_train, cv=10)\n",
    "print(scores, '\\n', 'Mean: ', scores.mean())\n",
    "\n"
   ]
  },
  {
   "cell_type": "markdown",
   "metadata": {},
   "source": [
    "Gridsearch"
   ]
  },
  {
   "cell_type": "code",
   "execution_count": 35,
   "metadata": {
    "collapsed": true
   },
   "outputs": [],
   "source": [
    "lasso = Lasso()\n",
    "params_grid = {\n",
    "    'fit_intercept': [True, False],\n",
    "    'alpha': np.linspace(0.01, 100, 10),\n",
    "    'normalize': [True, False],\n",
    "    'precompute':[True, False]\n",
    "}"
   ]
  },
  {
   "cell_type": "code",
   "execution_count": 36,
   "metadata": {
    "collapsed": true
   },
   "outputs": [],
   "source": [
    "grid_search = GridSearchCV(lasso, params_grid, verbose=2, n_jobs=-1, cv=3)"
   ]
  },
  {
   "cell_type": "code",
   "execution_count": 37,
   "metadata": {},
   "outputs": [
    {
     "name": "stdout",
     "output_type": "stream",
     "text": [
      "Fitting 3 folds for each of 80 candidates, totalling 240 fits\n",
      "[CV] alpha=0.01, fit_intercept=True, normalize=True, precompute=True .\n",
      "[CV] alpha=0.01, fit_intercept=True, normalize=True, precompute=True .\n",
      "[CV] alpha=0.01, fit_intercept=True, normalize=True, precompute=True .\n",
      "[CV] alpha=0.01, fit_intercept=True, normalize=True, precompute=False \n"
     ]
    },
    {
     "name": "stderr",
     "output_type": "stream",
     "text": [
      "/Users/jenelleverrochi/anaconda3/lib/python3.6/site-packages/sklearn/linear_model/coordinate_descent.py:491: ConvergenceWarning: Objective did not converge. You might want to increase the number of iterations. Fitting data with very small alpha may cause precision problems.\n",
      "  ConvergenceWarning)\n",
      "/Users/jenelleverrochi/anaconda3/lib/python3.6/site-packages/sklearn/linear_model/coordinate_descent.py:491: ConvergenceWarning: Objective did not converge. You might want to increase the number of iterations. Fitting data with very small alpha may cause precision problems.\n",
      "  ConvergenceWarning)\n"
     ]
    },
    {
     "name": "stdout",
     "output_type": "stream",
     "text": [
      "[CV]  alpha=0.01, fit_intercept=True, normalize=True, precompute=True, total=   0.1s\n",
      "[CV] alpha=0.01, fit_intercept=True, normalize=True, precompute=False \n",
      "[CV]  alpha=0.01, fit_intercept=True, normalize=True, precompute=True, total=   0.1s\n",
      "[CV] alpha=0.01, fit_intercept=True, normalize=True, precompute=False \n",
      "[CV]  alpha=0.01, fit_intercept=True, normalize=True, precompute=True, total=   0.1s\n",
      "[CV] alpha=0.01, fit_intercept=True, normalize=False, precompute=True \n"
     ]
    },
    {
     "name": "stderr",
     "output_type": "stream",
     "text": [
      "/Users/jenelleverrochi/anaconda3/lib/python3.6/site-packages/sklearn/linear_model/coordinate_descent.py:491: ConvergenceWarning: Objective did not converge. You might want to increase the number of iterations. Fitting data with very small alpha may cause precision problems.\n",
      "  ConvergenceWarning)\n"
     ]
    },
    {
     "name": "stdout",
     "output_type": "stream",
     "text": [
      "[CV]  alpha=0.01, fit_intercept=True, normalize=False, precompute=True, total=   0.1s\n",
      "[CV] alpha=0.01, fit_intercept=True, normalize=False, precompute=True \n"
     ]
    },
    {
     "name": "stderr",
     "output_type": "stream",
     "text": [
      "/Users/jenelleverrochi/anaconda3/lib/python3.6/site-packages/sklearn/linear_model/coordinate_descent.py:491: ConvergenceWarning: Objective did not converge. You might want to increase the number of iterations. Fitting data with very small alpha may cause precision problems.\n",
      "  ConvergenceWarning)\n",
      "/Users/jenelleverrochi/anaconda3/lib/python3.6/site-packages/sklearn/linear_model/coordinate_descent.py:491: ConvergenceWarning: Objective did not converge. You might want to increase the number of iterations. Fitting data with very small alpha may cause precision problems.\n",
      "  ConvergenceWarning)\n"
     ]
    },
    {
     "name": "stdout",
     "output_type": "stream",
     "text": [
      "[CV]  alpha=0.01, fit_intercept=True, normalize=True, precompute=False, total=   0.1s\n",
      "[CV]  alpha=0.01, fit_intercept=True, normalize=True, precompute=False, total=   0.1s\n",
      "[CV]  alpha=0.01, fit_intercept=True, normalize=True, precompute=False, total=   0.2s\n",
      "[CV] alpha=0.01, fit_intercept=True, normalize=False, precompute=False \n",
      "[CV] alpha=0.01, fit_intercept=False, normalize=True, precompute=True \n",
      "[CV] alpha=0.01, fit_intercept=True, normalize=False, precompute=True \n"
     ]
    },
    {
     "name": "stderr",
     "output_type": "stream",
     "text": [
      "/Users/jenelleverrochi/anaconda3/lib/python3.6/site-packages/sklearn/linear_model/coordinate_descent.py:491: ConvergenceWarning: Objective did not converge. You might want to increase the number of iterations. Fitting data with very small alpha may cause precision problems.\n",
      "  ConvergenceWarning)\n",
      "/Users/jenelleverrochi/anaconda3/lib/python3.6/site-packages/sklearn/linear_model/coordinate_descent.py:491: ConvergenceWarning: Objective did not converge. You might want to increase the number of iterations. Fitting data with very small alpha may cause precision problems.\n",
      "  ConvergenceWarning)\n"
     ]
    },
    {
     "name": "stdout",
     "output_type": "stream",
     "text": [
      "[CV]  alpha=0.01, fit_intercept=True, normalize=False, precompute=True, total=   0.1s\n",
      "[CV] alpha=0.01, fit_intercept=False, normalize=True, precompute=True \n",
      "[CV]  alpha=0.01, fit_intercept=False, normalize=True, precompute=True, total=   0.0s\n",
      "[CV] alpha=0.01, fit_intercept=False, normalize=True, precompute=True \n",
      "[CV]  alpha=0.01, fit_intercept=True, normalize=False, precompute=True, total=   0.0s\n",
      "[CV] alpha=0.01, fit_intercept=True, normalize=False, precompute=False \n"
     ]
    },
    {
     "name": "stderr",
     "output_type": "stream",
     "text": [
      "/Users/jenelleverrochi/anaconda3/lib/python3.6/site-packages/sklearn/linear_model/coordinate_descent.py:491: ConvergenceWarning: Objective did not converge. You might want to increase the number of iterations. Fitting data with very small alpha may cause precision problems.\n",
      "  ConvergenceWarning)\n",
      "/Users/jenelleverrochi/anaconda3/lib/python3.6/site-packages/sklearn/linear_model/coordinate_descent.py:491: ConvergenceWarning: Objective did not converge. You might want to increase the number of iterations. Fitting data with very small alpha may cause precision problems.\n",
      "  ConvergenceWarning)\n",
      "/Users/jenelleverrochi/anaconda3/lib/python3.6/site-packages/sklearn/linear_model/coordinate_descent.py:491: ConvergenceWarning: Objective did not converge. You might want to increase the number of iterations. Fitting data with very small alpha may cause precision problems.\n",
      "  ConvergenceWarning)\n"
     ]
    },
    {
     "name": "stdout",
     "output_type": "stream",
     "text": [
      "[CV]  alpha=0.01, fit_intercept=False, normalize=True, precompute=True, total=   0.0s\n",
      "[CV]  alpha=0.01, fit_intercept=True, normalize=False, precompute=False, total=   0.1s\n",
      "[CV] alpha=0.01, fit_intercept=True, normalize=False, precompute=False \n",
      "[CV] alpha=0.01, fit_intercept=False, normalize=True, precompute=False \n",
      "[CV]  alpha=0.01, fit_intercept=False, normalize=True, precompute=True, total=   0.1s\n",
      "[CV] alpha=0.01, fit_intercept=False, normalize=True, precompute=False \n"
     ]
    },
    {
     "name": "stderr",
     "output_type": "stream",
     "text": [
      "/Users/jenelleverrochi/anaconda3/lib/python3.6/site-packages/sklearn/linear_model/coordinate_descent.py:491: ConvergenceWarning: Objective did not converge. You might want to increase the number of iterations. Fitting data with very small alpha may cause precision problems.\n",
      "  ConvergenceWarning)\n",
      "/Users/jenelleverrochi/anaconda3/lib/python3.6/site-packages/sklearn/linear_model/coordinate_descent.py:491: ConvergenceWarning: Objective did not converge. You might want to increase the number of iterations. Fitting data with very small alpha may cause precision problems.\n",
      "  ConvergenceWarning)\n"
     ]
    },
    {
     "name": "stdout",
     "output_type": "stream",
     "text": [
      "[CV]  alpha=0.01, fit_intercept=False, normalize=True, precompute=False, total=   0.1s\n",
      "[CV] alpha=0.01, fit_intercept=False, normalize=False, precompute=True \n",
      "[CV]  alpha=0.01, fit_intercept=True, normalize=False, precompute=False, total=   0.1s\n"
     ]
    },
    {
     "name": "stderr",
     "output_type": "stream",
     "text": [
      "/Users/jenelleverrochi/anaconda3/lib/python3.6/site-packages/sklearn/linear_model/coordinate_descent.py:491: ConvergenceWarning: Objective did not converge. You might want to increase the number of iterations. Fitting data with very small alpha may cause precision problems.\n",
      "  ConvergenceWarning)\n"
     ]
    },
    {
     "name": "stdout",
     "output_type": "stream",
     "text": [
      "[CV] alpha=0.01, fit_intercept=False, normalize=False, precompute=True \n",
      "[CV]  alpha=0.01, fit_intercept=False, normalize=True, precompute=False, total=   0.1s\n"
     ]
    },
    {
     "name": "stderr",
     "output_type": "stream",
     "text": [
      "/Users/jenelleverrochi/anaconda3/lib/python3.6/site-packages/sklearn/linear_model/coordinate_descent.py:491: ConvergenceWarning: Objective did not converge. You might want to increase the number of iterations. Fitting data with very small alpha may cause precision problems.\n",
      "  ConvergenceWarning)\n"
     ]
    },
    {
     "name": "stdout",
     "output_type": "stream",
     "text": [
      "[CV] alpha=0.01, fit_intercept=False, normalize=True, precompute=False \n",
      "[CV]  alpha=0.01, fit_intercept=False, normalize=False, precompute=True, total=   0.0s\n",
      "[CV] alpha=0.01, fit_intercept=False, normalize=False, precompute=False \n"
     ]
    },
    {
     "name": "stderr",
     "output_type": "stream",
     "text": [
      "/Users/jenelleverrochi/anaconda3/lib/python3.6/site-packages/sklearn/linear_model/coordinate_descent.py:491: ConvergenceWarning: Objective did not converge. You might want to increase the number of iterations. Fitting data with very small alpha may cause precision problems.\n",
      "  ConvergenceWarning)\n"
     ]
    },
    {
     "name": "stdout",
     "output_type": "stream",
     "text": [
      "[CV]  alpha=0.01, fit_intercept=True, normalize=False, precompute=False, total=   0.1s\n",
      "[CV]  alpha=0.01, fit_intercept=False, normalize=False, precompute=True, total=   0.0s\n",
      "[CV] alpha=0.01, fit_intercept=False, normalize=False, precompute=True \n",
      "[CV] alpha=0.01, fit_intercept=False, normalize=False, precompute=False \n"
     ]
    },
    {
     "name": "stderr",
     "output_type": "stream",
     "text": [
      "/Users/jenelleverrochi/anaconda3/lib/python3.6/site-packages/sklearn/linear_model/coordinate_descent.py:491: ConvergenceWarning: Objective did not converge. You might want to increase the number of iterations. Fitting data with very small alpha may cause precision problems.\n",
      "  ConvergenceWarning)\n",
      "/Users/jenelleverrochi/anaconda3/lib/python3.6/site-packages/sklearn/linear_model/coordinate_descent.py:491: ConvergenceWarning: Objective did not converge. You might want to increase the number of iterations. Fitting data with very small alpha may cause precision problems.\n",
      "  ConvergenceWarning)\n"
     ]
    },
    {
     "name": "stdout",
     "output_type": "stream",
     "text": [
      "[CV]  alpha=0.01, fit_intercept=False, normalize=False, precompute=True, total=   0.0s\n",
      "[CV] alpha=11.12, fit_intercept=True, normalize=True, precompute=True \n",
      "[CV]  alpha=0.01, fit_intercept=False, normalize=False, precompute=False, total=   0.1s\n",
      "[CV] alpha=11.12, fit_intercept=True, normalize=True, precompute=True \n",
      "[CV]  alpha=11.12, fit_intercept=True, normalize=True, precompute=True, total=   0.0s\n"
     ]
    },
    {
     "name": "stderr",
     "output_type": "stream",
     "text": [
      "/Users/jenelleverrochi/anaconda3/lib/python3.6/site-packages/sklearn/linear_model/coordinate_descent.py:491: ConvergenceWarning: Objective did not converge. You might want to increase the number of iterations. Fitting data with very small alpha may cause precision problems.\n",
      "  ConvergenceWarning)\n"
     ]
    },
    {
     "name": "stdout",
     "output_type": "stream",
     "text": [
      "[CV] alpha=11.12, fit_intercept=True, normalize=True, precompute=True \n",
      "[CV]  alpha=0.01, fit_intercept=False, normalize=True, precompute=False, total=   0.1s\n"
     ]
    },
    {
     "name": "stderr",
     "output_type": "stream",
     "text": [
      "/Users/jenelleverrochi/anaconda3/lib/python3.6/site-packages/sklearn/linear_model/coordinate_descent.py:491: ConvergenceWarning: Objective did not converge. You might want to increase the number of iterations. Fitting data with very small alpha may cause precision problems.\n",
      "  ConvergenceWarning)\n"
     ]
    },
    {
     "name": "stdout",
     "output_type": "stream",
     "text": [
      "[CV]  alpha=11.12, fit_intercept=True, normalize=True, precompute=True, total=   0.0s\n",
      "[CV] alpha=11.12, fit_intercept=True, normalize=True, precompute=False \n",
      "[CV] alpha=11.12, fit_intercept=True, normalize=False, precompute=True \n",
      "[CV]  alpha=0.01, fit_intercept=False, normalize=False, precompute=False, total=   0.1s\n",
      "[CV] alpha=0.01, fit_intercept=False, normalize=False, precompute=False \n",
      "[CV]  alpha=11.12, fit_intercept=True, normalize=True, precompute=True, total=   0.1s\n",
      "[CV] alpha=11.12, fit_intercept=True, normalize=True, precompute=False \n",
      "[CV]  alpha=11.12, fit_intercept=True, normalize=True, precompute=False, total=   0.0s\n",
      "[CV]  alpha=11.12, fit_intercept=True, normalize=False, precompute=True, total=   0.0s\n",
      "[CV] alpha=11.12, fit_intercept=True, normalize=False, precompute=True \n",
      "[CV] alpha=11.12, fit_intercept=True, normalize=True, precompute=False \n",
      "[CV]  alpha=11.12, fit_intercept=True, normalize=True, precompute=False, total=   0.0s\n",
      "[CV] alpha=11.12, fit_intercept=True, normalize=False, precompute=True \n",
      "[CV]  alpha=11.12, fit_intercept=True, normalize=True, precompute=False, total=   0.0s\n",
      "[CV] alpha=11.12, fit_intercept=True, normalize=False, precompute=False \n"
     ]
    },
    {
     "name": "stderr",
     "output_type": "stream",
     "text": [
      "/Users/jenelleverrochi/anaconda3/lib/python3.6/site-packages/sklearn/linear_model/coordinate_descent.py:491: ConvergenceWarning: Objective did not converge. You might want to increase the number of iterations. Fitting data with very small alpha may cause precision problems.\n",
      "  ConvergenceWarning)\n",
      "/Users/jenelleverrochi/anaconda3/lib/python3.6/site-packages/sklearn/linear_model/coordinate_descent.py:491: ConvergenceWarning: Objective did not converge. You might want to increase the number of iterations. Fitting data with very small alpha may cause precision problems.\n",
      "  ConvergenceWarning)\n"
     ]
    },
    {
     "name": "stdout",
     "output_type": "stream",
     "text": [
      "[CV]  alpha=11.12, fit_intercept=True, normalize=False, precompute=True, total=   0.0s\n",
      "[CV] alpha=11.12, fit_intercept=True, normalize=False, precompute=False \n",
      "[CV]  alpha=11.12, fit_intercept=True, normalize=False, precompute=True, total=   0.1s\n",
      "[CV] alpha=11.12, fit_intercept=False, normalize=True, precompute=True \n"
     ]
    },
    {
     "name": "stderr",
     "output_type": "stream",
     "text": [
      "/Users/jenelleverrochi/anaconda3/lib/python3.6/site-packages/sklearn/linear_model/coordinate_descent.py:491: ConvergenceWarning: Objective did not converge. You might want to increase the number of iterations. Fitting data with very small alpha may cause precision problems.\n",
      "  ConvergenceWarning)\n",
      "/Users/jenelleverrochi/anaconda3/lib/python3.6/site-packages/sklearn/linear_model/coordinate_descent.py:491: ConvergenceWarning: Objective did not converge. You might want to increase the number of iterations. Fitting data with very small alpha may cause precision problems.\n",
      "  ConvergenceWarning)\n"
     ]
    },
    {
     "name": "stdout",
     "output_type": "stream",
     "text": [
      "[CV]  alpha=0.01, fit_intercept=False, normalize=False, precompute=False, total=   0.1s\n",
      "[CV] alpha=11.12, fit_intercept=False, normalize=True, precompute=True \n",
      "[CV]  alpha=11.12, fit_intercept=False, normalize=True, precompute=True, total=   0.0s\n",
      "[CV] alpha=11.12, fit_intercept=False, normalize=True, precompute=True \n"
     ]
    },
    {
     "name": "stderr",
     "output_type": "stream",
     "text": [
      "/Users/jenelleverrochi/anaconda3/lib/python3.6/site-packages/sklearn/linear_model/coordinate_descent.py:491: ConvergenceWarning: Objective did not converge. You might want to increase the number of iterations. Fitting data with very small alpha may cause precision problems.\n",
      "  ConvergenceWarning)\n",
      "/Users/jenelleverrochi/anaconda3/lib/python3.6/site-packages/sklearn/linear_model/coordinate_descent.py:491: ConvergenceWarning: Objective did not converge. You might want to increase the number of iterations. Fitting data with very small alpha may cause precision problems.\n",
      "  ConvergenceWarning)\n"
     ]
    },
    {
     "name": "stdout",
     "output_type": "stream",
     "text": [
      "[CV]  alpha=11.12, fit_intercept=True, normalize=False, precompute=False, total=   0.1s\n",
      "[CV] alpha=11.12, fit_intercept=True, normalize=False, precompute=False \n",
      "[CV]  alpha=11.12, fit_intercept=False, normalize=True, precompute=True, total=   0.0s\n",
      "[CV]  alpha=11.12, fit_intercept=False, normalize=True, precompute=True, total=   0.0s\n",
      "[CV] alpha=11.12, fit_intercept=False, normalize=True, precompute=False \n",
      "[CV] alpha=11.12, fit_intercept=False, normalize=True, precompute=False \n",
      "[CV]  alpha=11.12, fit_intercept=True, normalize=False, precompute=False, total=   0.1s\n",
      "[CV] alpha=11.12, fit_intercept=False, normalize=False, precompute=True \n"
     ]
    },
    {
     "name": "stderr",
     "output_type": "stream",
     "text": [
      "/Users/jenelleverrochi/anaconda3/lib/python3.6/site-packages/sklearn/linear_model/coordinate_descent.py:491: ConvergenceWarning: Objective did not converge. You might want to increase the number of iterations. Fitting data with very small alpha may cause precision problems.\n",
      "  ConvergenceWarning)\n",
      "/Users/jenelleverrochi/anaconda3/lib/python3.6/site-packages/sklearn/linear_model/coordinate_descent.py:491: ConvergenceWarning: Objective did not converge. You might want to increase the number of iterations. Fitting data with very small alpha may cause precision problems.\n",
      "  ConvergenceWarning)\n"
     ]
    },
    {
     "name": "stdout",
     "output_type": "stream",
     "text": [
      "[CV]  alpha=11.12, fit_intercept=False, normalize=False, precompute=True, total=   0.0s\n",
      "[CV]  alpha=11.12, fit_intercept=False, normalize=True, precompute=False, total=   0.1s\n",
      "[CV] alpha=11.12, fit_intercept=False, normalize=False, precompute=True \n",
      "[CV] alpha=11.12, fit_intercept=False, normalize=True, precompute=False \n"
     ]
    },
    {
     "name": "stderr",
     "output_type": "stream",
     "text": [
      "/Users/jenelleverrochi/anaconda3/lib/python3.6/site-packages/sklearn/linear_model/coordinate_descent.py:491: ConvergenceWarning: Objective did not converge. You might want to increase the number of iterations. Fitting data with very small alpha may cause precision problems.\n",
      "  ConvergenceWarning)\n",
      "/Users/jenelleverrochi/anaconda3/lib/python3.6/site-packages/sklearn/linear_model/coordinate_descent.py:491: ConvergenceWarning: Objective did not converge. You might want to increase the number of iterations. Fitting data with very small alpha may cause precision problems.\n",
      "  ConvergenceWarning)\n"
     ]
    },
    {
     "name": "stdout",
     "output_type": "stream",
     "text": [
      "[CV]  alpha=11.12, fit_intercept=False, normalize=False, precompute=True, total=   0.0s\n",
      "[CV] alpha=11.12, fit_intercept=False, normalize=False, precompute=True \n"
     ]
    },
    {
     "name": "stderr",
     "output_type": "stream",
     "text": [
      "/Users/jenelleverrochi/anaconda3/lib/python3.6/site-packages/sklearn/linear_model/coordinate_descent.py:491: ConvergenceWarning: Objective did not converge. You might want to increase the number of iterations. Fitting data with very small alpha may cause precision problems.\n",
      "  ConvergenceWarning)\n"
     ]
    },
    {
     "name": "stdout",
     "output_type": "stream",
     "text": [
      "[CV]  alpha=11.12, fit_intercept=True, normalize=False, precompute=False, total=   0.1s\n",
      "[CV]  alpha=11.12, fit_intercept=False, normalize=False, precompute=True, total=   0.0s\n",
      "[CV] alpha=11.12, fit_intercept=False, normalize=False, precompute=False \n",
      "[CV] alpha=11.12, fit_intercept=False, normalize=False, precompute=False \n",
      "[CV]  alpha=11.12, fit_intercept=False, normalize=True, precompute=False, total=   0.2s\n",
      "[CV] alpha=22.23, fit_intercept=True, normalize=True, precompute=True \n",
      "[CV]  alpha=11.12, fit_intercept=False, normalize=True, precompute=False, total=   0.1s\n",
      "[CV] alpha=22.23, fit_intercept=True, normalize=True, precompute=True \n",
      "[CV]  alpha=22.23, fit_intercept=True, normalize=True, precompute=True, total=   0.0s\n",
      "[CV] alpha=22.23, fit_intercept=True, normalize=True, precompute=False \n",
      "[CV]  alpha=22.23, fit_intercept=True, normalize=True, precompute=True, total=   0.0s\n",
      "[CV] alpha=22.23, fit_intercept=True, normalize=True, precompute=True \n",
      "[CV]  alpha=22.23, fit_intercept=True, normalize=True, precompute=False, total=   0.0s\n",
      "[CV] alpha=22.23, fit_intercept=True, normalize=True, precompute=False \n",
      "[CV]  alpha=22.23, fit_intercept=True, normalize=True, precompute=True, total=   0.0s\n",
      "[CV] alpha=22.23, fit_intercept=True, normalize=False, precompute=True \n"
     ]
    },
    {
     "name": "stderr",
     "output_type": "stream",
     "text": [
      "/Users/jenelleverrochi/anaconda3/lib/python3.6/site-packages/sklearn/linear_model/coordinate_descent.py:491: ConvergenceWarning: Objective did not converge. You might want to increase the number of iterations. Fitting data with very small alpha may cause precision problems.\n",
      "  ConvergenceWarning)\n"
     ]
    },
    {
     "name": "stdout",
     "output_type": "stream",
     "text": [
      "[CV]  alpha=11.12, fit_intercept=False, normalize=False, precompute=False, total=   0.2s\n"
     ]
    },
    {
     "name": "stderr",
     "output_type": "stream",
     "text": [
      "/Users/jenelleverrochi/anaconda3/lib/python3.6/site-packages/sklearn/linear_model/coordinate_descent.py:491: ConvergenceWarning: Objective did not converge. You might want to increase the number of iterations. Fitting data with very small alpha may cause precision problems.\n",
      "  ConvergenceWarning)\n"
     ]
    },
    {
     "name": "stdout",
     "output_type": "stream",
     "text": [
      "[CV]  alpha=22.23, fit_intercept=True, normalize=True, precompute=False, total=   0.0s\n",
      "[CV] alpha=22.23, fit_intercept=True, normalize=False, precompute=True \n",
      "[CV] alpha=22.23, fit_intercept=True, normalize=True, precompute=False \n",
      "[CV]  alpha=11.12, fit_intercept=False, normalize=False, precompute=False, total=   0.2s\n",
      "[CV] alpha=11.12, fit_intercept=False, normalize=False, precompute=False \n",
      "[CV]  alpha=22.23, fit_intercept=True, normalize=True, precompute=False, total=   0.0s\n",
      "[CV] alpha=22.23, fit_intercept=True, normalize=False, precompute=False \n",
      "[CV]  alpha=22.23, fit_intercept=True, normalize=False, precompute=True, total=   0.1s\n",
      "[CV] alpha=22.23, fit_intercept=True, normalize=False, precompute=True \n"
     ]
    },
    {
     "name": "stderr",
     "output_type": "stream",
     "text": [
      "/Users/jenelleverrochi/anaconda3/lib/python3.6/site-packages/sklearn/linear_model/coordinate_descent.py:491: ConvergenceWarning: Objective did not converge. You might want to increase the number of iterations. Fitting data with very small alpha may cause precision problems.\n",
      "  ConvergenceWarning)\n"
     ]
    },
    {
     "name": "stdout",
     "output_type": "stream",
     "text": [
      "[CV]  alpha=22.23, fit_intercept=True, normalize=False, precompute=True, total=   0.1s\n",
      "[CV] alpha=22.23, fit_intercept=True, normalize=False, precompute=False \n"
     ]
    },
    {
     "name": "stderr",
     "output_type": "stream",
     "text": [
      "/Users/jenelleverrochi/anaconda3/lib/python3.6/site-packages/sklearn/linear_model/coordinate_descent.py:491: ConvergenceWarning: Objective did not converge. You might want to increase the number of iterations. Fitting data with very small alpha may cause precision problems.\n",
      "  ConvergenceWarning)\n"
     ]
    },
    {
     "name": "stdout",
     "output_type": "stream",
     "text": [
      "[CV]  alpha=22.23, fit_intercept=True, normalize=False, precompute=True, total=   0.0s\n",
      "[CV] alpha=22.23, fit_intercept=False, normalize=True, precompute=True \n"
     ]
    },
    {
     "name": "stderr",
     "output_type": "stream",
     "text": [
      "/Users/jenelleverrochi/anaconda3/lib/python3.6/site-packages/sklearn/linear_model/coordinate_descent.py:491: ConvergenceWarning: Objective did not converge. You might want to increase the number of iterations. Fitting data with very small alpha may cause precision problems.\n",
      "  ConvergenceWarning)\n"
     ]
    },
    {
     "name": "stdout",
     "output_type": "stream",
     "text": [
      "[CV]  alpha=11.12, fit_intercept=False, normalize=False, precompute=False, total=   0.1s\n",
      "[CV] alpha=22.23, fit_intercept=False, normalize=True, precompute=True \n",
      "[CV]  alpha=22.23, fit_intercept=True, normalize=False, precompute=False, total=   0.1s\n"
     ]
    },
    {
     "name": "stderr",
     "output_type": "stream",
     "text": [
      "/Users/jenelleverrochi/anaconda3/lib/python3.6/site-packages/sklearn/linear_model/coordinate_descent.py:491: ConvergenceWarning: Objective did not converge. You might want to increase the number of iterations. Fitting data with very small alpha may cause precision problems.\n",
      "  ConvergenceWarning)\n"
     ]
    },
    {
     "name": "stdout",
     "output_type": "stream",
     "text": [
      "[CV] alpha=22.23, fit_intercept=True, normalize=False, precompute=False \n",
      "[CV]  alpha=22.23, fit_intercept=False, normalize=True, precompute=True, total=   0.0s\n",
      "[CV] alpha=22.23, fit_intercept=False, normalize=True, precompute=True \n",
      "[CV]  alpha=22.23, fit_intercept=True, normalize=False, precompute=False, total=   0.1s\n",
      "[CV] alpha=22.23, fit_intercept=False, normalize=True, precompute=False \n",
      "[CV]  alpha=22.23, fit_intercept=False, normalize=True, precompute=True, total=   0.1s\n",
      "[CV]  alpha=22.23, fit_intercept=False, normalize=True, precompute=True, total=   0.0s\n",
      "[CV] alpha=22.23, fit_intercept=False, normalize=True, precompute=False \n",
      "[CV] alpha=22.23, fit_intercept=False, normalize=False, precompute=True \n"
     ]
    },
    {
     "name": "stderr",
     "output_type": "stream",
     "text": [
      "/Users/jenelleverrochi/anaconda3/lib/python3.6/site-packages/sklearn/linear_model/coordinate_descent.py:491: ConvergenceWarning: Objective did not converge. You might want to increase the number of iterations. Fitting data with very small alpha may cause precision problems.\n",
      "  ConvergenceWarning)\n"
     ]
    },
    {
     "name": "stdout",
     "output_type": "stream",
     "text": [
      "[CV]  alpha=22.23, fit_intercept=False, normalize=True, precompute=False, total=   0.1s\n",
      "[CV] alpha=22.23, fit_intercept=False, normalize=True, precompute=False \n",
      "[CV]  alpha=22.23, fit_intercept=True, normalize=False, precompute=False, total=   0.1s\n"
     ]
    },
    {
     "name": "stderr",
     "output_type": "stream",
     "text": [
      "/Users/jenelleverrochi/anaconda3/lib/python3.6/site-packages/sklearn/linear_model/coordinate_descent.py:491: ConvergenceWarning: Objective did not converge. You might want to increase the number of iterations. Fitting data with very small alpha may cause precision problems.\n",
      "  ConvergenceWarning)\n"
     ]
    },
    {
     "name": "stdout",
     "output_type": "stream",
     "text": [
      "[CV] alpha=22.23, fit_intercept=False, normalize=False, precompute=True \n"
     ]
    },
    {
     "name": "stderr",
     "output_type": "stream",
     "text": [
      "/Users/jenelleverrochi/anaconda3/lib/python3.6/site-packages/sklearn/linear_model/coordinate_descent.py:491: ConvergenceWarning: Objective did not converge. You might want to increase the number of iterations. Fitting data with very small alpha may cause precision problems.\n",
      "  ConvergenceWarning)\n"
     ]
    },
    {
     "name": "stdout",
     "output_type": "stream",
     "text": [
      "[CV]  alpha=22.23, fit_intercept=False, normalize=False, precompute=True, total=   0.1s\n",
      "[CV] alpha=22.23, fit_intercept=False, normalize=False, precompute=True \n",
      "[CV]  alpha=22.23, fit_intercept=False, normalize=False, precompute=True, total=   0.0s\n",
      "[CV] alpha=22.23, fit_intercept=False, normalize=False, precompute=False \n",
      "[CV]  alpha=22.23, fit_intercept=False, normalize=True, precompute=False, total=   0.1s\n",
      "[CV] alpha=22.23, fit_intercept=False, normalize=False, precompute=False \n",
      "[CV]  alpha=22.23, fit_intercept=False, normalize=False, precompute=True, total=   0.0s\n",
      "[CV] alpha=33.34, fit_intercept=True, normalize=True, precompute=True \n",
      "[CV]  alpha=22.23, fit_intercept=False, normalize=True, precompute=False, total=   0.1s\n",
      "[CV] alpha=33.34, fit_intercept=True, normalize=True, precompute=True \n",
      "[CV]  alpha=33.34, fit_intercept=True, normalize=True, precompute=True, total=   0.0s\n",
      "[CV] alpha=33.34, fit_intercept=True, normalize=True, precompute=True \n",
      "[CV]  alpha=33.34, fit_intercept=True, normalize=True, precompute=True, total=   0.0s\n"
     ]
    },
    {
     "name": "stderr",
     "output_type": "stream",
     "text": [
      "[Parallel(n_jobs=-1)]: Done  58 tasks      | elapsed:    1.4s\n"
     ]
    },
    {
     "name": "stdout",
     "output_type": "stream",
     "text": [
      "[CV] alpha=33.34, fit_intercept=True, normalize=True, precompute=False \n",
      "[CV]  alpha=33.34, fit_intercept=True, normalize=True, precompute=False, total=   0.0s\n",
      "[CV] alpha=33.34, fit_intercept=True, normalize=True, precompute=False \n",
      "[CV]  alpha=33.34, fit_intercept=True, normalize=True, precompute=False, total=   0.0s\n",
      "[CV] alpha=33.34, fit_intercept=True, normalize=False, precompute=True \n",
      "[CV]  alpha=33.34, fit_intercept=True, normalize=False, precompute=True, total=   0.0s\n",
      "[CV] alpha=33.34, fit_intercept=True, normalize=False, precompute=True \n"
     ]
    },
    {
     "name": "stderr",
     "output_type": "stream",
     "text": [
      "/Users/jenelleverrochi/anaconda3/lib/python3.6/site-packages/sklearn/linear_model/coordinate_descent.py:491: ConvergenceWarning: Objective did not converge. You might want to increase the number of iterations. Fitting data with very small alpha may cause precision problems.\n",
      "  ConvergenceWarning)\n",
      "/Users/jenelleverrochi/anaconda3/lib/python3.6/site-packages/sklearn/linear_model/coordinate_descent.py:491: ConvergenceWarning: Objective did not converge. You might want to increase the number of iterations. Fitting data with very small alpha may cause precision problems.\n",
      "  ConvergenceWarning)\n"
     ]
    },
    {
     "name": "stdout",
     "output_type": "stream",
     "text": [
      "[CV]  alpha=33.34, fit_intercept=True, normalize=False, precompute=True, total=   0.0s\n",
      "[CV] alpha=33.34, fit_intercept=True, normalize=False, precompute=True \n",
      "[CV]  alpha=33.34, fit_intercept=True, normalize=True, precompute=True, total=   0.1s\n"
     ]
    },
    {
     "name": "stderr",
     "output_type": "stream",
     "text": [
      "/Users/jenelleverrochi/anaconda3/lib/python3.6/site-packages/sklearn/linear_model/coordinate_descent.py:491: ConvergenceWarning: Objective did not converge. You might want to increase the number of iterations. Fitting data with very small alpha may cause precision problems.\n",
      "  ConvergenceWarning)\n"
     ]
    },
    {
     "name": "stdout",
     "output_type": "stream",
     "text": [
      "[CV]  alpha=33.34, fit_intercept=True, normalize=False, precompute=True, total=   0.0s\n",
      "[CV] alpha=33.34, fit_intercept=True, normalize=True, precompute=False \n",
      "[CV]  alpha=22.23, fit_intercept=False, normalize=False, precompute=False, total=   0.1s\n",
      "[CV] alpha=22.23, fit_intercept=False, normalize=False, precompute=False \n",
      "[CV]  alpha=22.23, fit_intercept=False, normalize=False, precompute=False, total=   0.2s\n",
      "[CV] alpha=33.34, fit_intercept=True, normalize=False, precompute=False \n",
      "[CV]  alpha=33.34, fit_intercept=True, normalize=True, precompute=False, total=   0.0s\n",
      "[CV] alpha=33.34, fit_intercept=False, normalize=True, precompute=True \n",
      "[CV] alpha=33.34, fit_intercept=True, normalize=False, precompute=False \n",
      "[CV]  alpha=22.23, fit_intercept=False, normalize=False, precompute=False, total=   0.1s\n",
      "[CV] alpha=33.34, fit_intercept=False, normalize=True, precompute=True \n",
      "[CV]  alpha=33.34, fit_intercept=False, normalize=True, precompute=True, total=   0.0s\n",
      "[CV] alpha=33.34, fit_intercept=False, normalize=True, precompute=False \n",
      "[CV]  alpha=33.34, fit_intercept=False, normalize=True, precompute=True, total=   0.1s\n",
      "[CV] alpha=33.34, fit_intercept=False, normalize=True, precompute=True \n"
     ]
    },
    {
     "name": "stderr",
     "output_type": "stream",
     "text": [
      "/Users/jenelleverrochi/anaconda3/lib/python3.6/site-packages/sklearn/linear_model/coordinate_descent.py:491: ConvergenceWarning: Objective did not converge. You might want to increase the number of iterations. Fitting data with very small alpha may cause precision problems.\n",
      "  ConvergenceWarning)\n"
     ]
    },
    {
     "name": "stdout",
     "output_type": "stream",
     "text": [
      "[CV]  alpha=33.34, fit_intercept=False, normalize=True, precompute=True, total=   0.0s\n",
      "[CV] alpha=33.34, fit_intercept=False, normalize=True, precompute=False \n",
      "[CV]  alpha=33.34, fit_intercept=True, normalize=False, precompute=False, total=   0.1s\n",
      "[CV]  alpha=33.34, fit_intercept=True, normalize=False, precompute=False, total=   0.1s\n",
      "[CV] alpha=33.34, fit_intercept=True, normalize=False, precompute=False \n",
      "[CV] alpha=33.34, fit_intercept=False, normalize=False, precompute=True \n",
      "[CV]  alpha=33.34, fit_intercept=False, normalize=True, precompute=False, total=   0.1s\n",
      "[CV]  alpha=33.34, fit_intercept=False, normalize=True, precompute=False, total=   0.0s\n",
      "[CV] alpha=33.34, fit_intercept=False, normalize=False, precompute=True \n",
      "[CV] alpha=33.34, fit_intercept=False, normalize=True, precompute=False \n",
      "[CV]  alpha=33.34, fit_intercept=False, normalize=False, precompute=True, total=   0.1s\n",
      "[CV] alpha=33.34, fit_intercept=False, normalize=False, precompute=True \n",
      "[CV]  alpha=33.34, fit_intercept=False, normalize=False, precompute=True, total=   0.0s\n",
      "[CV] alpha=33.34, fit_intercept=False, normalize=False, precompute=False \n",
      "[CV]  alpha=33.34, fit_intercept=False, normalize=False, precompute=True, total=   0.0s\n",
      "[CV] alpha=33.34, fit_intercept=False, normalize=False, precompute=False \n",
      "[CV]  alpha=33.34, fit_intercept=False, normalize=True, precompute=False, total=   0.0s\n",
      "[CV] alpha=44.45, fit_intercept=True, normalize=True, precompute=True \n"
     ]
    },
    {
     "name": "stderr",
     "output_type": "stream",
     "text": [
      "/Users/jenelleverrochi/anaconda3/lib/python3.6/site-packages/sklearn/linear_model/coordinate_descent.py:491: ConvergenceWarning: Objective did not converge. You might want to increase the number of iterations. Fitting data with very small alpha may cause precision problems.\n",
      "  ConvergenceWarning)\n"
     ]
    },
    {
     "name": "stdout",
     "output_type": "stream",
     "text": [
      "[CV]  alpha=33.34, fit_intercept=True, normalize=False, precompute=False, total=   0.1s\n",
      "[CV] alpha=44.45, fit_intercept=True, normalize=True, precompute=True \n",
      "[CV]  alpha=44.45, fit_intercept=True, normalize=True, precompute=True, total=   0.0s\n",
      "[CV] alpha=44.45, fit_intercept=True, normalize=True, precompute=True \n",
      "[CV]  alpha=33.34, fit_intercept=False, normalize=False, precompute=False, total=   0.1s\n",
      "[CV]  alpha=33.34, fit_intercept=False, normalize=False, precompute=False, total=   0.1s\n",
      "[CV] alpha=33.34, fit_intercept=False, normalize=False, precompute=False \n",
      "[CV] alpha=44.45, fit_intercept=True, normalize=True, precompute=False \n",
      "[CV]  alpha=44.45, fit_intercept=True, normalize=True, precompute=True, total=   0.0s\n",
      "[CV]  alpha=44.45, fit_intercept=True, normalize=True, precompute=True, total=   0.0s\n",
      "[CV] alpha=44.45, fit_intercept=True, normalize=True, precompute=False \n",
      "[CV] alpha=44.45, fit_intercept=True, normalize=False, precompute=True \n",
      "[CV]  alpha=44.45, fit_intercept=True, normalize=True, precompute=False, total=   0.0s\n",
      "[CV] alpha=44.45, fit_intercept=True, normalize=True, precompute=False \n",
      "[CV]  alpha=33.34, fit_intercept=False, normalize=False, precompute=False, total=   0.0s\n",
      "[CV] alpha=44.45, fit_intercept=True, normalize=False, precompute=True \n",
      "[CV]  alpha=44.45, fit_intercept=True, normalize=True, precompute=False, total=   0.0s\n",
      "[CV] alpha=44.45, fit_intercept=True, normalize=False, precompute=False \n",
      "[CV]  alpha=44.45, fit_intercept=True, normalize=True, precompute=False, total=   0.0s\n",
      "[CV] alpha=44.45, fit_intercept=False, normalize=True, precompute=True \n",
      "[CV]  alpha=44.45, fit_intercept=True, normalize=False, precompute=True, total=   0.0s\n",
      "[CV]  alpha=44.45, fit_intercept=True, normalize=False, precompute=True, total=   0.1s\n",
      "[CV] alpha=44.45, fit_intercept=True, normalize=False, precompute=True \n",
      "[CV] alpha=44.45, fit_intercept=True, normalize=False, precompute=False \n"
     ]
    },
    {
     "name": "stderr",
     "output_type": "stream",
     "text": [
      "/Users/jenelleverrochi/anaconda3/lib/python3.6/site-packages/sklearn/linear_model/coordinate_descent.py:491: ConvergenceWarning: Objective did not converge. You might want to increase the number of iterations. Fitting data with very small alpha may cause precision problems.\n",
      "  ConvergenceWarning)\n"
     ]
    },
    {
     "name": "stdout",
     "output_type": "stream",
     "text": [
      "[CV]  alpha=44.45, fit_intercept=False, normalize=True, precompute=True, total=   0.0s\n",
      "[CV] alpha=44.45, fit_intercept=False, normalize=True, precompute=True \n",
      "[CV]  alpha=44.45, fit_intercept=True, normalize=False, precompute=True, total=   0.0s\n",
      "[CV] alpha=44.45, fit_intercept=False, normalize=True, precompute=True \n"
     ]
    },
    {
     "name": "stderr",
     "output_type": "stream",
     "text": [
      "/Users/jenelleverrochi/anaconda3/lib/python3.6/site-packages/sklearn/linear_model/coordinate_descent.py:491: ConvergenceWarning: Objective did not converge. You might want to increase the number of iterations. Fitting data with very small alpha may cause precision problems.\n",
      "  ConvergenceWarning)\n"
     ]
    },
    {
     "name": "stdout",
     "output_type": "stream",
     "text": [
      "[CV]  alpha=44.45, fit_intercept=True, normalize=False, precompute=False, total=   0.1s\n",
      "[CV] alpha=44.45, fit_intercept=True, normalize=False, precompute=False \n",
      "[CV]  alpha=44.45, fit_intercept=False, normalize=True, precompute=True, total=   0.0s\n",
      "[CV]  alpha=44.45, fit_intercept=True, normalize=False, precompute=False, total=   0.1s\n",
      "[CV] alpha=44.45, fit_intercept=False, normalize=True, precompute=False \n",
      "[CV] alpha=44.45, fit_intercept=False, normalize=False, precompute=True \n",
      "[CV]  alpha=44.45, fit_intercept=False, normalize=True, precompute=True, total=   0.1s\n",
      "[CV] alpha=44.45, fit_intercept=False, normalize=True, precompute=False \n",
      "[CV]  alpha=44.45, fit_intercept=False, normalize=True, precompute=False, total=   0.0s\n",
      "[CV] alpha=44.45, fit_intercept=False, normalize=True, precompute=False \n",
      "[CV]  alpha=44.45, fit_intercept=False, normalize=False, precompute=True, total=   0.0s\n",
      "[CV] alpha=44.45, fit_intercept=False, normalize=False, precompute=True \n",
      "[CV]  alpha=44.45, fit_intercept=False, normalize=False, precompute=True, total=   0.0s\n",
      "[CV]  alpha=44.45, fit_intercept=False, normalize=True, precompute=False, total=   0.0s\n",
      "[CV] alpha=44.45, fit_intercept=False, normalize=False, precompute=True \n",
      "[CV] alpha=44.45, fit_intercept=False, normalize=False, precompute=False \n",
      "[CV]  alpha=44.45, fit_intercept=False, normalize=True, precompute=False, total=   0.1s\n",
      "[CV] alpha=55.56, fit_intercept=True, normalize=True, precompute=True \n",
      "[CV]  alpha=44.45, fit_intercept=False, normalize=False, precompute=False, total=   0.0s\n",
      "[CV]  alpha=44.45, fit_intercept=True, normalize=False, precompute=False, total=   0.2s\n",
      "[CV] alpha=55.56, fit_intercept=True, normalize=True, precompute=True \n",
      "[CV] alpha=44.45, fit_intercept=False, normalize=False, precompute=False \n",
      "[CV]  alpha=44.45, fit_intercept=False, normalize=False, precompute=True, total=   0.1s\n",
      "[CV] alpha=44.45, fit_intercept=False, normalize=False, precompute=False \n",
      "[CV]  alpha=44.45, fit_intercept=False, normalize=False, precompute=False, total=   0.0s\n",
      "[CV] alpha=55.56, fit_intercept=True, normalize=True, precompute=False \n",
      "[CV]  alpha=55.56, fit_intercept=True, normalize=True, precompute=False, total=   0.0s\n",
      "[CV]  alpha=44.45, fit_intercept=False, normalize=False, precompute=False, total=   0.0s\n",
      "[CV]  alpha=55.56, fit_intercept=True, normalize=True, precompute=True, total=   0.1s\n",
      "[CV]  alpha=55.56, fit_intercept=True, normalize=True, precompute=True, total=   0.1s\n",
      "[CV] alpha=55.56, fit_intercept=True, normalize=True, precompute=True \n",
      "[CV] alpha=55.56, fit_intercept=True, normalize=True, precompute=False \n",
      "[CV] alpha=55.56, fit_intercept=True, normalize=False, precompute=True \n",
      "[CV] alpha=55.56, fit_intercept=True, normalize=True, precompute=False \n",
      "[CV]  alpha=55.56, fit_intercept=True, normalize=True, precompute=False, total=   0.0s\n",
      "[CV] alpha=55.56, fit_intercept=True, normalize=False, precompute=True \n",
      "[CV]  alpha=55.56, fit_intercept=True, normalize=True, precompute=False, total=   0.0s\n",
      "[CV]  alpha=55.56, fit_intercept=True, normalize=True, precompute=True, total=   0.1s\n",
      "[CV] alpha=55.56, fit_intercept=True, normalize=False, precompute=False \n",
      "[CV] alpha=55.56, fit_intercept=False, normalize=True, precompute=True \n",
      "[CV]  alpha=55.56, fit_intercept=True, normalize=False, precompute=True, total=   0.1s\n",
      "[CV] alpha=55.56, fit_intercept=True, normalize=False, precompute=True \n",
      "[CV]  alpha=55.56, fit_intercept=True, normalize=False, precompute=True, total=   0.0s\n",
      "[CV] alpha=55.56, fit_intercept=True, normalize=False, precompute=False \n",
      "[CV]  alpha=55.56, fit_intercept=False, normalize=True, precompute=True, total=   0.0s\n",
      "[CV] alpha=55.56, fit_intercept=False, normalize=True, precompute=True \n",
      "[CV]  alpha=55.56, fit_intercept=True, normalize=False, precompute=True, total=   0.0s\n",
      "[CV] alpha=55.56, fit_intercept=False, normalize=True, precompute=True \n",
      "[CV]  alpha=55.56, fit_intercept=True, normalize=False, precompute=False, total=   0.1s\n",
      "[CV] alpha=55.56, fit_intercept=True, normalize=False, precompute=False \n",
      "[CV]  alpha=55.56, fit_intercept=True, normalize=False, precompute=False, total=   0.0s\n",
      "[CV]  alpha=55.56, fit_intercept=False, normalize=True, precompute=True, total=   0.0s\n",
      "[CV] alpha=55.56, fit_intercept=False, normalize=True, precompute=False \n",
      "[CV] alpha=55.56, fit_intercept=False, normalize=False, precompute=True \n",
      "[CV]  alpha=55.56, fit_intercept=False, normalize=True, precompute=True, total=   0.1s\n",
      "[CV] alpha=55.56, fit_intercept=False, normalize=True, precompute=False \n",
      "[CV]  alpha=55.56, fit_intercept=False, normalize=True, precompute=False, total=   0.0s\n",
      "[CV] alpha=55.56, fit_intercept=False, normalize=True, precompute=False \n",
      "[CV]  alpha=55.56, fit_intercept=False, normalize=False, precompute=True, total=   0.1s\n",
      "[CV] alpha=55.56, fit_intercept=False, normalize=False, precompute=True \n",
      "[CV]  alpha=55.56, fit_intercept=False, normalize=True, precompute=False, total=   0.1s\n",
      "[CV] alpha=55.56, fit_intercept=False, normalize=False, precompute=True \n",
      "[CV]  alpha=55.56, fit_intercept=True, normalize=False, precompute=False, total=   0.1s\n",
      "[CV] alpha=55.56, fit_intercept=False, normalize=False, precompute=False \n",
      "[CV]  alpha=55.56, fit_intercept=False, normalize=False, precompute=True, total=   0.0s\n",
      "[CV] alpha=66.67, fit_intercept=True, normalize=True, precompute=True \n",
      "[CV]  alpha=55.56, fit_intercept=False, normalize=True, precompute=False, total=   0.1s\n",
      "[CV] alpha=66.67, fit_intercept=True, normalize=True, precompute=True \n",
      "[CV]  alpha=55.56, fit_intercept=False, normalize=False, precompute=True, total=   0.1s\n",
      "[CV] alpha=55.56, fit_intercept=False, normalize=False, precompute=False \n",
      "[CV]  alpha=55.56, fit_intercept=False, normalize=False, precompute=False, total=   0.0s\n",
      "[CV] alpha=55.56, fit_intercept=False, normalize=False, precompute=False \n",
      "[CV]  alpha=66.67, fit_intercept=True, normalize=True, precompute=True, total=   0.0s\n",
      "[CV] alpha=66.67, fit_intercept=True, normalize=True, precompute=True \n",
      "[CV]  alpha=66.67, fit_intercept=True, normalize=True, precompute=True, total=   0.0s\n",
      "[CV] alpha=66.67, fit_intercept=True, normalize=True, precompute=False \n",
      "[CV]  alpha=55.56, fit_intercept=False, normalize=False, precompute=False, total=   0.0s\n",
      "[CV] alpha=66.67, fit_intercept=True, normalize=True, precompute=False \n",
      "[CV]  alpha=66.67, fit_intercept=True, normalize=True, precompute=False, total=   0.0s\n",
      "[CV] alpha=66.67, fit_intercept=True, normalize=False, precompute=True \n",
      "[CV]  alpha=66.67, fit_intercept=True, normalize=True, precompute=False, total=   0.0s\n",
      "[CV] alpha=66.67, fit_intercept=True, normalize=True, precompute=False \n",
      "[CV]  alpha=55.56, fit_intercept=False, normalize=False, precompute=False, total=   0.1s\n",
      "[CV]  alpha=66.67, fit_intercept=True, normalize=True, precompute=True, total=   0.1s\n",
      "[CV] alpha=66.67, fit_intercept=True, normalize=False, precompute=True \n",
      "[CV] alpha=66.67, fit_intercept=True, normalize=False, precompute=False \n",
      "[CV]  alpha=66.67, fit_intercept=True, normalize=True, precompute=False, total=   0.0s\n",
      "[CV] alpha=66.67, fit_intercept=False, normalize=True, precompute=True \n",
      "[CV]  alpha=66.67, fit_intercept=True, normalize=False, precompute=True, total=   0.0s\n",
      "[CV]  alpha=66.67, fit_intercept=True, normalize=False, precompute=True, total=   0.1s\n",
      "[CV] alpha=66.67, fit_intercept=True, normalize=False, precompute=True \n",
      "[CV] alpha=66.67, fit_intercept=True, normalize=False, precompute=False \n",
      "[CV]  alpha=66.67, fit_intercept=True, normalize=False, precompute=False, total=   0.0s\n",
      "[CV] alpha=66.67, fit_intercept=True, normalize=False, precompute=False \n",
      "[CV]  alpha=66.67, fit_intercept=False, normalize=True, precompute=True, total=   0.1s\n",
      "[CV] alpha=66.67, fit_intercept=False, normalize=True, precompute=True \n",
      "[CV]  alpha=66.67, fit_intercept=True, normalize=False, precompute=True, total=   0.1s\n",
      "[CV] alpha=66.67, fit_intercept=False, normalize=True, precompute=True \n",
      "[CV]  alpha=66.67, fit_intercept=True, normalize=False, precompute=False, total=   0.0s\n",
      "[CV] alpha=66.67, fit_intercept=False, normalize=True, precompute=False \n",
      "[CV]  alpha=66.67, fit_intercept=True, normalize=False, precompute=False, total=   0.1s\n",
      "[CV] alpha=66.67, fit_intercept=False, normalize=False, precompute=True \n",
      "[CV]  alpha=66.67, fit_intercept=False, normalize=True, precompute=True, total=   0.0s\n"
     ]
    },
    {
     "name": "stdout",
     "output_type": "stream",
     "text": [
      "[CV] alpha=66.67, fit_intercept=False, normalize=False, precompute=True \n",
      "[CV]  alpha=66.67, fit_intercept=False, normalize=True, precompute=True, total=   0.1s\n",
      "[CV] alpha=66.67, fit_intercept=False, normalize=True, precompute=False \n",
      "[CV]  alpha=66.67, fit_intercept=False, normalize=False, precompute=True, total=   0.0s\n",
      "[CV] alpha=66.67, fit_intercept=False, normalize=False, precompute=True \n",
      "[CV]  alpha=66.67, fit_intercept=False, normalize=True, precompute=False, total=   0.1s\n",
      "[CV] alpha=66.67, fit_intercept=False, normalize=True, precompute=False \n",
      "[CV]  alpha=66.67, fit_intercept=False, normalize=True, precompute=False, total=   0.0s\n",
      "[CV] alpha=66.67, fit_intercept=False, normalize=False, precompute=False \n",
      "[CV]  alpha=66.67, fit_intercept=False, normalize=False, precompute=True, total=   0.0s\n",
      "[CV] alpha=77.78, fit_intercept=True, normalize=True, precompute=True \n",
      "[CV]  alpha=66.67, fit_intercept=False, normalize=False, precompute=True, total=   0.1s\n",
      "[CV] alpha=66.67, fit_intercept=False, normalize=False, precompute=False \n",
      "[CV]  alpha=66.67, fit_intercept=False, normalize=False, precompute=False, total=   0.0s\n",
      "[CV] alpha=66.67, fit_intercept=False, normalize=False, precompute=False \n",
      "[CV]  alpha=66.67, fit_intercept=False, normalize=True, precompute=False, total=   0.1s\n",
      "[CV]  alpha=66.67, fit_intercept=False, normalize=False, precompute=False, total=   0.0s\n",
      "[CV] alpha=77.78, fit_intercept=True, normalize=True, precompute=True \n",
      "[CV] alpha=77.78, fit_intercept=True, normalize=True, precompute=False \n",
      "[CV]  alpha=77.78, fit_intercept=True, normalize=True, precompute=False, total=   0.0s\n",
      "[CV] alpha=77.78, fit_intercept=True, normalize=True, precompute=False \n",
      "[CV]  alpha=77.78, fit_intercept=True, normalize=True, precompute=True, total=   0.0s\n",
      "[CV]  alpha=77.78, fit_intercept=True, normalize=True, precompute=True, total=   0.1s\n",
      "[CV] alpha=77.78, fit_intercept=True, normalize=True, precompute=True \n",
      "[CV] alpha=77.78, fit_intercept=True, normalize=True, precompute=False \n",
      "[CV]  alpha=77.78, fit_intercept=True, normalize=True, precompute=False, total=   0.0s\n",
      "[CV] alpha=77.78, fit_intercept=True, normalize=False, precompute=True \n",
      "[CV]  alpha=77.78, fit_intercept=True, normalize=True, precompute=False, total=   0.0s\n",
      "[CV] alpha=77.78, fit_intercept=True, normalize=False, precompute=True \n",
      "[CV]  alpha=66.67, fit_intercept=False, normalize=False, precompute=False, total=   0.1s\n",
      "[CV] alpha=77.78, fit_intercept=True, normalize=False, precompute=False \n",
      "[CV]  alpha=77.78, fit_intercept=True, normalize=False, precompute=True, total=   0.0s\n",
      "[CV] alpha=77.78, fit_intercept=True, normalize=False, precompute=False \n",
      "[CV]  alpha=77.78, fit_intercept=True, normalize=True, precompute=True, total=   0.1s\n",
      "[CV] alpha=77.78, fit_intercept=False, normalize=True, precompute=True \n",
      "[CV]  alpha=77.78, fit_intercept=True, normalize=False, precompute=True, total=   0.1s\n",
      "[CV] alpha=77.78, fit_intercept=True, normalize=False, precompute=True \n",
      "[CV]  alpha=77.78, fit_intercept=False, normalize=True, precompute=True, total=   0.0s\n",
      "[CV] alpha=77.78, fit_intercept=False, normalize=True, precompute=True \n",
      "[CV]  alpha=77.78, fit_intercept=True, normalize=False, precompute=False, total=   0.1s\n",
      "[CV] alpha=77.78, fit_intercept=False, normalize=True, precompute=True \n",
      "[CV]  alpha=77.78, fit_intercept=False, normalize=True, precompute=True, total=   0.0s\n",
      "[CV] alpha=77.78, fit_intercept=False, normalize=True, precompute=False \n",
      "[CV]  alpha=77.78, fit_intercept=True, normalize=False, precompute=False, total=   0.1s\n",
      "[CV] alpha=77.78, fit_intercept=True, normalize=False, precompute=False \n",
      "[CV]  alpha=77.78, fit_intercept=True, normalize=False, precompute=True, total=   0.1s\n",
      "[CV] alpha=77.78, fit_intercept=False, normalize=True, precompute=False \n",
      "[CV]  alpha=77.78, fit_intercept=False, normalize=True, precompute=True, total=   0.1s\n",
      "[CV] alpha=77.78, fit_intercept=False, normalize=False, precompute=True \n",
      "[CV]  alpha=77.78, fit_intercept=False, normalize=True, precompute=False, total=   0.0s\n",
      "[CV] alpha=77.78, fit_intercept=False, normalize=True, precompute=False \n",
      "[CV]  alpha=77.78, fit_intercept=True, normalize=False, precompute=False, total=   0.0s\n",
      "[CV]  alpha=77.78, fit_intercept=False, normalize=False, precompute=True, total=   0.0s\n",
      "[CV] alpha=77.78, fit_intercept=False, normalize=False, precompute=True \n",
      "[CV] alpha=77.78, fit_intercept=False, normalize=False, precompute=True \n",
      "[CV]  alpha=77.78, fit_intercept=False, normalize=False, precompute=True, total=   0.0s\n",
      "[CV] alpha=77.78, fit_intercept=False, normalize=False, precompute=False \n",
      "[CV]  alpha=77.78, fit_intercept=False, normalize=True, precompute=False, total=   0.1s\n",
      "[CV] alpha=88.89, fit_intercept=True, normalize=True, precompute=True \n",
      "[CV]  alpha=77.78, fit_intercept=False, normalize=True, precompute=False, total=   0.0s\n",
      "[CV] alpha=88.89, fit_intercept=True, normalize=True, precompute=True \n",
      "[CV]  alpha=77.78, fit_intercept=False, normalize=False, precompute=False, total=   0.0s\n",
      "[CV] alpha=77.78, fit_intercept=False, normalize=False, precompute=False \n",
      "[CV]  alpha=77.78, fit_intercept=False, normalize=False, precompute=True, total=   0.1s\n",
      "[CV] alpha=77.78, fit_intercept=False, normalize=False, precompute=False \n",
      "[CV]  alpha=88.89, fit_intercept=True, normalize=True, precompute=True, total=   0.0s\n",
      "[CV] alpha=88.89, fit_intercept=True, normalize=True, precompute=True \n",
      "[CV]  alpha=88.89, fit_intercept=True, normalize=True, precompute=True, total=   0.0s\n",
      "[CV] alpha=88.89, fit_intercept=True, normalize=True, precompute=False \n",
      "[CV]  alpha=77.78, fit_intercept=False, normalize=False, precompute=False, total=   0.0s\n",
      "[CV] alpha=88.89, fit_intercept=True, normalize=True, precompute=False \n",
      "[CV]  alpha=88.89, fit_intercept=True, normalize=True, precompute=False, total=   0.0s\n",
      "[CV] alpha=88.89, fit_intercept=True, normalize=False, precompute=True \n",
      "[CV]  alpha=88.89, fit_intercept=True, normalize=True, precompute=False, total=   0.0s\n",
      "[CV] alpha=88.89, fit_intercept=True, normalize=True, precompute=False \n",
      "[CV]  alpha=77.78, fit_intercept=False, normalize=False, precompute=False, total=   0.0s\n",
      "[CV]  alpha=88.89, fit_intercept=True, normalize=True, precompute=True, total=   0.1s\n",
      "[CV] alpha=88.89, fit_intercept=True, normalize=False, precompute=True \n",
      "[CV] alpha=88.89, fit_intercept=True, normalize=False, precompute=False \n",
      "[CV]  alpha=88.89, fit_intercept=True, normalize=True, precompute=False, total=   0.0s\n",
      "[CV] alpha=88.89, fit_intercept=False, normalize=True, precompute=True \n",
      "[CV]  alpha=88.89, fit_intercept=True, normalize=False, precompute=True, total=   0.0s\n",
      "[CV] alpha=88.89, fit_intercept=True, normalize=False, precompute=False \n",
      "[CV]  alpha=88.89, fit_intercept=True, normalize=False, precompute=True, total=   0.1s\n",
      "[CV] alpha=88.89, fit_intercept=True, normalize=False, precompute=True \n",
      "[CV]  alpha=88.89, fit_intercept=True, normalize=False, precompute=False, total=   0.0s\n",
      "[CV] alpha=88.89, fit_intercept=True, normalize=False, precompute=False \n",
      "[CV]  alpha=88.89, fit_intercept=True, normalize=False, precompute=False, total=   0.0s\n",
      "[CV] alpha=88.89, fit_intercept=False, normalize=True, precompute=True \n",
      "[CV]  alpha=88.89, fit_intercept=False, normalize=True, precompute=True, total=   0.0s\n",
      "[CV] alpha=88.89, fit_intercept=False, normalize=True, precompute=True \n",
      "[CV]  alpha=88.89, fit_intercept=True, normalize=False, precompute=True, total=   0.0s\n",
      "[CV] alpha=88.89, fit_intercept=False, normalize=True, precompute=False \n",
      "[CV]  alpha=88.89, fit_intercept=False, normalize=True, precompute=True, total=   0.0s\n",
      "[CV] alpha=88.89, fit_intercept=False, normalize=True, precompute=False \n",
      "[CV]  alpha=88.89, fit_intercept=False, normalize=True, precompute=False, total=   0.0s\n",
      "[CV] alpha=88.89, fit_intercept=False, normalize=True, precompute=False \n",
      "[CV]  alpha=88.89, fit_intercept=False, normalize=True, precompute=True, total=   0.0s\n",
      "[CV] alpha=88.89, fit_intercept=False, normalize=False, precompute=True \n",
      "[CV]  alpha=88.89, fit_intercept=True, normalize=False, precompute=False, total=   0.1s\n",
      "[CV] alpha=88.89, fit_intercept=False, normalize=False, precompute=True \n",
      "[CV]  alpha=88.89, fit_intercept=False, normalize=True, precompute=False, total=   0.0s\n",
      "[CV] alpha=88.89, fit_intercept=False, normalize=False, precompute=False \n"
     ]
    },
    {
     "name": "stdout",
     "output_type": "stream",
     "text": [
      "[CV]  alpha=88.89, fit_intercept=False, normalize=False, precompute=True, total=   0.1s\n",
      "[CV] alpha=88.89, fit_intercept=False, normalize=False, precompute=True \n",
      "[CV]  alpha=88.89, fit_intercept=False, normalize=True, precompute=False, total=   0.1s\n",
      "[CV] alpha=100.0, fit_intercept=True, normalize=True, precompute=True \n",
      "[CV]  alpha=88.89, fit_intercept=False, normalize=False, precompute=True, total=   0.0s\n",
      "[CV] alpha=88.89, fit_intercept=False, normalize=False, precompute=False \n",
      "[CV]  alpha=100.0, fit_intercept=True, normalize=True, precompute=True, total=   0.0s\n",
      "[CV] alpha=100.0, fit_intercept=True, normalize=True, precompute=False \n",
      "[CV]  alpha=88.89, fit_intercept=False, normalize=False, precompute=False, total=   0.0s\n",
      "[CV]  alpha=88.89, fit_intercept=False, normalize=False, precompute=True, total=   0.0s\n",
      "[CV]  alpha=100.0, fit_intercept=True, normalize=True, precompute=False, total=   0.0s\n",
      "[CV] alpha=100.0, fit_intercept=True, normalize=True, precompute=False \n",
      "[CV] alpha=100.0, fit_intercept=True, normalize=False, precompute=True \n",
      "[CV] alpha=88.89, fit_intercept=False, normalize=False, precompute=False \n",
      "[CV]  alpha=100.0, fit_intercept=True, normalize=True, precompute=False, total=   0.0s\n",
      "[CV] alpha=100.0, fit_intercept=True, normalize=True, precompute=False \n",
      "[CV]  alpha=88.89, fit_intercept=False, normalize=False, precompute=False, total=   0.0s\n",
      "[CV] alpha=100.0, fit_intercept=True, normalize=False, precompute=False \n",
      "[CV]  alpha=100.0, fit_intercept=True, normalize=False, precompute=True, total=   0.0s\n",
      "[CV] alpha=100.0, fit_intercept=True, normalize=False, precompute=True \n",
      "[CV]  alpha=88.89, fit_intercept=False, normalize=False, precompute=False, total=   0.0s\n",
      "[CV]  alpha=100.0, fit_intercept=True, normalize=True, precompute=False, total=   0.0s\n",
      "[CV] alpha=100.0, fit_intercept=True, normalize=True, precompute=True \n",
      "[CV]  alpha=100.0, fit_intercept=True, normalize=False, precompute=False, total=   0.0s\n",
      "[CV] alpha=100.0, fit_intercept=False, normalize=True, precompute=True \n",
      "[CV] alpha=100.0, fit_intercept=True, normalize=False, precompute=False \n",
      "[CV]  alpha=100.0, fit_intercept=True, normalize=False, precompute=True, total=   0.0s\n",
      "[CV] alpha=100.0, fit_intercept=True, normalize=False, precompute=True \n",
      "[CV]  alpha=100.0, fit_intercept=False, normalize=True, precompute=True, total=   0.0s\n",
      "[CV]  alpha=100.0, fit_intercept=True, normalize=True, precompute=True, total=   0.0s\n",
      "[CV] alpha=100.0, fit_intercept=False, normalize=True, precompute=False \n",
      "[CV] alpha=100.0, fit_intercept=True, normalize=True, precompute=True \n",
      "[CV]  alpha=100.0, fit_intercept=True, normalize=False, precompute=True, total=   0.0s\n",
      "[CV] alpha=100.0, fit_intercept=True, normalize=False, precompute=False \n",
      "[CV]  alpha=100.0, fit_intercept=True, normalize=True, precompute=True, total=   0.0s\n",
      "[CV] alpha=100.0, fit_intercept=False, normalize=False, precompute=True \n",
      "[CV]  alpha=100.0, fit_intercept=True, normalize=False, precompute=False, total=   0.0s\n",
      "[CV]  alpha=100.0, fit_intercept=True, normalize=False, precompute=False, total=   0.1s\n",
      "[CV] alpha=100.0, fit_intercept=False, normalize=False, precompute=False \n",
      "[CV] alpha=100.0, fit_intercept=False, normalize=True, precompute=True \n",
      "[CV]  alpha=100.0, fit_intercept=False, normalize=True, precompute=False, total=   0.0s\n",
      "[CV] alpha=100.0, fit_intercept=False, normalize=True, precompute=False \n",
      "[CV]  alpha=100.0, fit_intercept=False, normalize=False, precompute=False, total=   0.0s\n",
      "[CV] alpha=100.0, fit_intercept=False, normalize=False, precompute=False \n",
      "[CV]  alpha=100.0, fit_intercept=False, normalize=False, precompute=True, total=   0.1s\n",
      "[CV] alpha=100.0, fit_intercept=False, normalize=False, precompute=True \n",
      "[CV]  alpha=100.0, fit_intercept=False, normalize=True, precompute=False, total=   0.0s\n",
      "[CV] alpha=100.0, fit_intercept=False, normalize=True, precompute=False \n",
      "[CV]  alpha=100.0, fit_intercept=False, normalize=False, precompute=True, total=   0.0s\n",
      "[CV] alpha=100.0, fit_intercept=False, normalize=False, precompute=True \n",
      "[CV]  alpha=100.0, fit_intercept=False, normalize=True, precompute=True, total=   0.1s\n",
      "[CV]  alpha=100.0, fit_intercept=False, normalize=False, precompute=True, total=   0.0s\n",
      "[CV] alpha=100.0, fit_intercept=False, normalize=False, precompute=False \n",
      "[CV] alpha=100.0, fit_intercept=False, normalize=True, precompute=True \n",
      "[CV]  alpha=100.0, fit_intercept=False, normalize=False, precompute=False, total=   0.1s\n",
      "[CV]  alpha=100.0, fit_intercept=False, normalize=True, precompute=True, total=   0.0s\n",
      "[CV]  alpha=100.0, fit_intercept=False, normalize=True, precompute=False, total=   0.1s\n",
      "[CV]  alpha=100.0, fit_intercept=False, normalize=False, precompute=False, total=   0.0s\n"
     ]
    },
    {
     "name": "stderr",
     "output_type": "stream",
     "text": [
      "[Parallel(n_jobs=-1)]: Done 240 out of 240 | elapsed:    4.1s finished\n"
     ]
    },
    {
     "data": {
      "text/plain": [
       "GridSearchCV(cv=3, error_score='raise',\n",
       "       estimator=Lasso(alpha=1.0, copy_X=True, fit_intercept=True, max_iter=1000,\n",
       "   normalize=False, positive=False, precompute=False, random_state=None,\n",
       "   selection='cyclic', tol=0.0001, warm_start=False),\n",
       "       fit_params=None, iid=True, n_jobs=-1,\n",
       "       param_grid={'fit_intercept': [True, False], 'alpha': array([  1.00000e-02,   1.11200e+01,   2.22300e+01,   3.33400e+01,\n",
       "         4.44500e+01,   5.55600e+01,   6.66700e+01,   7.77800e+01,\n",
       "         8.88900e+01,   1.00000e+02]), 'normalize': [True, False], 'precompute': [True, False]},\n",
       "       pre_dispatch='2*n_jobs', refit=True, return_train_score=True,\n",
       "       scoring=None, verbose=2)"
      ]
     },
     "execution_count": 37,
     "metadata": {},
     "output_type": "execute_result"
    }
   ],
   "source": [
    "grid_search.fit(X_train, y_train)"
   ]
  },
  {
   "cell_type": "code",
   "execution_count": 38,
   "metadata": {},
   "outputs": [
    {
     "data": {
      "text/plain": [
       "(0.82205855231443625,\n",
       " {'alpha': 44.449999999999996,\n",
       "  'fit_intercept': True,\n",
       "  'normalize': True,\n",
       "  'precompute': True})"
      ]
     },
     "execution_count": 38,
     "metadata": {},
     "output_type": "execute_result"
    }
   ],
   "source": [
    "grid_search.best_score_ , grid_search.best_params_"
   ]
  },
  {
   "cell_type": "code",
   "execution_count": 39,
   "metadata": {},
   "outputs": [
    {
     "name": "stdout",
     "output_type": "stream",
     "text": [
      "0.846638209759\n"
     ]
    }
   ],
   "source": [
    "best_estimator = grid_search.best_estimator_\n",
    "\n",
    "print(best_estimator.score(X_train, y_train))"
   ]
  },
  {
   "cell_type": "markdown",
   "metadata": {},
   "source": [
    "Now test model using test data set"
   ]
  },
  {
   "cell_type": "code",
   "execution_count": 40,
   "metadata": {
    "collapsed": true
   },
   "outputs": [],
   "source": [
    "#Must impute and standardize X_test"
   ]
  },
  {
   "cell_type": "code",
   "execution_count": 41,
   "metadata": {
    "collapsed": true
   },
   "outputs": [],
   "source": [
    "X_test = imputer.transform(X_test)\n",
    "X_test = pd.DataFrame(X_test, columns=X.columns)"
   ]
  },
  {
   "cell_type": "code",
   "execution_count": 42,
   "metadata": {
    "collapsed": true
   },
   "outputs": [],
   "source": [
    "ss = StandardScaler()\n",
    "ss.fit(X_test)\n",
    "X_test = ss.transform(X_test)"
   ]
  },
  {
   "cell_type": "code",
   "execution_count": 43,
   "metadata": {
    "collapsed": true
   },
   "outputs": [],
   "source": [
    "X_test = pd.DataFrame(X_test, columns=X.columns)"
   ]
  },
  {
   "cell_type": "code",
   "execution_count": 44,
   "metadata": {},
   "outputs": [
    {
     "name": "stdout",
     "output_type": "stream",
     "text": [
      "Training Score: 0.846638209759\n",
      "Testing Score:  0.75149616841\n"
     ]
    }
   ],
   "source": [
    "print('Training Score:', best_estimator.score(X_train, y_train))\n",
    "\n",
    "print('Testing Score: ', best_estimator.score(X_test, y_test))"
   ]
  },
  {
   "cell_type": "markdown",
   "metadata": {},
   "source": [
    "Predicting"
   ]
  },
  {
   "cell_type": "code",
   "execution_count": 45,
   "metadata": {},
   "outputs": [
    {
     "data": {
      "text/plain": [
       "(879, 80)"
      ]
     },
     "execution_count": 45,
     "metadata": {},
     "output_type": "execute_result"
    }
   ],
   "source": [
    "ames_test.shape"
   ]
  },
  {
   "cell_type": "code",
   "execution_count": 46,
   "metadata": {},
   "outputs": [
    {
     "data": {
      "text/plain": [
       "Lot Frontage      160\n",
       "Alley             821\n",
       "Mas Vnr Type        1\n",
       "Mas Vnr Area        1\n",
       "Bsmt Qual          25\n",
       "Bsmt Cond          25\n",
       "Bsmt Exposure      25\n",
       "BsmtFin Type 1     25\n",
       "BsmtFin Type 2     25\n",
       "Electrical          1\n",
       "Fireplace Qu      422\n",
       "Garage Type        44\n",
       "Garage Yr Blt      45\n",
       "Garage Finish      45\n",
       "Garage Qual        45\n",
       "Garage Cond        45\n",
       "Pool QC           875\n",
       "Fence             707\n",
       "Misc Feature      838\n",
       "dtype: int64"
      ]
     },
     "execution_count": 46,
     "metadata": {},
     "output_type": "execute_result"
    }
   ],
   "source": [
    "ames_test.isnull().sum()[ames_test.isnull().sum()> 0]"
   ]
  },
  {
   "cell_type": "code",
   "execution_count": 47,
   "metadata": {},
   "outputs": [
    {
     "name": "stdout",
     "output_type": "stream",
     "text": [
      "<class 'pandas.core.frame.DataFrame'>\n",
      "RangeIndex: 879 entries, 0 to 878\n",
      "Data columns (total 80 columns):\n",
      "Id                 879 non-null int64\n",
      "PID                879 non-null int64\n",
      "MS SubClass        879 non-null int64\n",
      "MS Zoning          879 non-null object\n",
      "Lot Frontage       719 non-null float64\n",
      "Lot Area           879 non-null int64\n",
      "Street             879 non-null object\n",
      "Alley              58 non-null object\n",
      "Lot Shape          879 non-null object\n",
      "Land Contour       879 non-null object\n",
      "Utilities          879 non-null object\n",
      "Lot Config         879 non-null object\n",
      "Land Slope         879 non-null object\n",
      "Neighborhood       879 non-null object\n",
      "Condition 1        879 non-null object\n",
      "Condition 2        879 non-null object\n",
      "Bldg Type          879 non-null object\n",
      "House Style        879 non-null object\n",
      "Overall Qual       879 non-null int64\n",
      "Overall Cond       879 non-null int64\n",
      "Year Built         879 non-null int64\n",
      "Year Remod/Add     879 non-null int64\n",
      "Roof Style         879 non-null object\n",
      "Roof Matl          879 non-null object\n",
      "Exterior 1st       879 non-null object\n",
      "Exterior 2nd       879 non-null object\n",
      "Mas Vnr Type       878 non-null object\n",
      "Mas Vnr Area       878 non-null float64\n",
      "Exter Qual         879 non-null object\n",
      "Exter Cond         879 non-null object\n",
      "Foundation         879 non-null object\n",
      "Bsmt Qual          854 non-null object\n",
      "Bsmt Cond          854 non-null object\n",
      "Bsmt Exposure      854 non-null object\n",
      "BsmtFin Type 1     854 non-null object\n",
      "BsmtFin SF 1       879 non-null float64\n",
      "BsmtFin Type 2     854 non-null object\n",
      "BsmtFin SF 2       879 non-null float64\n",
      "Bsmt Unf SF        879 non-null float64\n",
      "Total Bsmt SF      879 non-null float64\n",
      "Heating            879 non-null object\n",
      "Heating QC         879 non-null object\n",
      "Central Air        879 non-null object\n",
      "Electrical         878 non-null object\n",
      "1st Flr SF         879 non-null int64\n",
      "2nd Flr SF         879 non-null int64\n",
      "Low Qual Fin SF    879 non-null int64\n",
      "Gr Liv Area        879 non-null int64\n",
      "Bsmt Full Bath     879 non-null float64\n",
      "Bsmt Half Bath     879 non-null float64\n",
      "Full Bath          879 non-null int64\n",
      "Half Bath          879 non-null int64\n",
      "Bedroom AbvGr      879 non-null int64\n",
      "Kitchen AbvGr      879 non-null int64\n",
      "Kitchen Qual       879 non-null object\n",
      "TotRms AbvGrd      879 non-null int64\n",
      "Functional         879 non-null object\n",
      "Fireplaces         879 non-null int64\n",
      "Fireplace Qu       457 non-null object\n",
      "Garage Type        835 non-null object\n",
      "Garage Yr Blt      834 non-null float64\n",
      "Garage Finish      834 non-null object\n",
      "Garage Cars        879 non-null float64\n",
      "Garage Area        879 non-null float64\n",
      "Garage Qual        834 non-null object\n",
      "Garage Cond        834 non-null object\n",
      "Paved Drive        879 non-null object\n",
      "Wood Deck SF       879 non-null int64\n",
      "Open Porch SF      879 non-null int64\n",
      "Enclosed Porch     879 non-null int64\n",
      "3Ssn Porch         879 non-null int64\n",
      "Screen Porch       879 non-null int64\n",
      "Pool Area          879 non-null int64\n",
      "Pool QC            4 non-null object\n",
      "Fence              172 non-null object\n",
      "Misc Feature       41 non-null object\n",
      "Misc Val           879 non-null int64\n",
      "Mo Sold            879 non-null int64\n",
      "Yr Sold            879 non-null int64\n",
      "Sale Type          879 non-null object\n",
      "dtypes: float64(11), int64(27), object(42)\n",
      "memory usage: 549.5+ KB\n"
     ]
    }
   ],
   "source": [
    "ames_test.info()"
   ]
  },
  {
   "cell_type": "code",
   "execution_count": 48,
   "metadata": {},
   "outputs": [
    {
     "data": {
      "text/plain": [
       "{'float64': Index(['Lot Frontage', 'Mas Vnr Area', 'BsmtFin SF 1', 'BsmtFin SF 2',\n",
       "        'Bsmt Unf SF', 'Total Bsmt SF', 'Bsmt Full Bath', 'Bsmt Half Bath',\n",
       "        'Garage Yr Blt', 'Garage Cars', 'Garage Area'],\n",
       "       dtype='object'),\n",
       " 'int64': Index(['Id', 'PID', 'MS SubClass', 'Lot Area', 'Overall Qual', 'Overall Cond',\n",
       "        'Year Built', 'Year Remod/Add', '1st Flr SF', '2nd Flr SF',\n",
       "        'Low Qual Fin SF', 'Gr Liv Area', 'Full Bath', 'Half Bath',\n",
       "        'Bedroom AbvGr', 'Kitchen AbvGr', 'TotRms AbvGrd', 'Fireplaces',\n",
       "        'Wood Deck SF', 'Open Porch SF', 'Enclosed Porch', '3Ssn Porch',\n",
       "        'Screen Porch', 'Pool Area', 'Misc Val', 'Mo Sold', 'Yr Sold'],\n",
       "       dtype='object'),\n",
       " 'object': Index(['MS Zoning', 'Street', 'Alley', 'Lot Shape', 'Land Contour',\n",
       "        'Utilities', 'Lot Config', 'Land Slope', 'Neighborhood', 'Condition 1',\n",
       "        'Condition 2', 'Bldg Type', 'House Style', 'Roof Style', 'Roof Matl',\n",
       "        'Exterior 1st', 'Exterior 2nd', 'Mas Vnr Type', 'Exter Qual',\n",
       "        'Exter Cond', 'Foundation', 'Bsmt Qual', 'Bsmt Cond', 'Bsmt Exposure',\n",
       "        'BsmtFin Type 1', 'BsmtFin Type 2', 'Heating', 'Heating QC',\n",
       "        'Central Air', 'Electrical', 'Kitchen Qual', 'Functional',\n",
       "        'Fireplace Qu', 'Garage Type', 'Garage Finish', 'Garage Qual',\n",
       "        'Garage Cond', 'Paved Drive', 'Pool QC', 'Fence', 'Misc Feature',\n",
       "        'Sale Type'],\n",
       "       dtype='object')}"
      ]
     },
     "execution_count": 48,
     "metadata": {},
     "output_type": "execute_result"
    }
   ],
   "source": [
    "g = ames_test.columns.to_series().groupby(ames.dtypes).groups\n",
    "d = {k.name: v for k, v in g.items()}\n",
    "d"
   ]
  },
  {
   "cell_type": "code",
   "execution_count": 49,
   "metadata": {
    "collapsed": true
   },
   "outputs": [],
   "source": [
    "ames_test_num = ames_test[['Lot Frontage', 'Mas Vnr Area', 'BsmtFin SF 1', 'BsmtFin SF 2',\n",
    "        'Bsmt Unf SF', 'Total Bsmt SF', 'Bsmt Full Bath', 'Bsmt Half Bath',\n",
    "        'Garage Yr Blt', 'Garage Cars', 'Garage Area', 'Id', 'PID', 'MS SubClass', 'Lot Area', 'Overall Qual', 'Overall Cond',\n",
    "        'Year Built', 'Year Remod/Add', '1st Flr SF', '2nd Flr SF',\n",
    "        'Low Qual Fin SF', 'Gr Liv Area', 'Full Bath', 'Half Bath',\n",
    "        'Bedroom AbvGr', 'Kitchen AbvGr', 'TotRms AbvGrd', 'Fireplaces',\n",
    "        'Wood Deck SF', 'Open Porch SF', 'Enclosed Porch', '3Ssn Porch',\n",
    "        'Screen Porch', 'Pool Area', 'Misc Val', 'Mo Sold', 'Yr Sold']]"
   ]
  },
  {
   "cell_type": "code",
   "execution_count": 50,
   "metadata": {},
   "outputs": [
    {
     "data": {
      "text/plain": [
       "(879, 38)"
      ]
     },
     "execution_count": 50,
     "metadata": {},
     "output_type": "execute_result"
    }
   ],
   "source": [
    "ames_test_num.shape"
   ]
  },
  {
   "cell_type": "code",
   "execution_count": 53,
   "metadata": {
    "collapsed": true
   },
   "outputs": [],
   "source": [
    "ames_test_ss = imputer.transform(ames_test_num)\n",
    "ames_test_ss = pd.DataFrame(ames_test_ss)"
   ]
  },
  {
   "cell_type": "code",
   "execution_count": 56,
   "metadata": {
    "collapsed": true
   },
   "outputs": [],
   "source": [
    "ss = StandardScaler()\n",
    "ss.fit(ames_test_ss)\n",
    "ames_test_ss = ss.transform(ames_test_ss)"
   ]
  },
  {
   "cell_type": "code",
   "execution_count": 57,
   "metadata": {},
   "outputs": [
    {
     "data": {
      "text/plain": [
       "(879, 38)"
      ]
     },
     "execution_count": 57,
     "metadata": {},
     "output_type": "execute_result"
    }
   ],
   "source": [
    "ames_test_num.shape"
   ]
  },
  {
   "cell_type": "code",
   "execution_count": 58,
   "metadata": {
    "collapsed": true
   },
   "outputs": [],
   "source": [
    "ames_test_ss = pd.DataFrame(ames_test_ss, columns=ames_test_num.columns)"
   ]
  },
  {
   "cell_type": "code",
   "execution_count": 59,
   "metadata": {},
   "outputs": [
    {
     "data": {
      "text/plain": [
       "Index(['Lot Frontage', 'Mas Vnr Area', 'BsmtFin SF 1', 'Total Bsmt SF',\n",
       "       'Bsmt Full Bath', 'Bsmt Half Bath', 'Garage Yr Blt', 'Garage Area',\n",
       "       'PID', 'MS SubClass', 'Lot Area', 'Overall Qual', 'Overall Cond',\n",
       "       'Year Built', 'Year Remod/Add', 'Low Qual Fin SF', 'Gr Liv Area',\n",
       "       'Bedroom AbvGr', 'Kitchen AbvGr', 'TotRms AbvGrd', 'Fireplaces',\n",
       "       'Wood Deck SF', 'Open Porch SF', 'Enclosed Porch', 'Screen Porch',\n",
       "       'Misc Val', 'Mo Sold'],\n",
       "      dtype='object')"
      ]
     },
     "execution_count": 59,
     "metadata": {},
     "output_type": "execute_result"
    }
   ],
   "source": [
    "selected_x.columns"
   ]
  },
  {
   "cell_type": "code",
   "execution_count": 60,
   "metadata": {},
   "outputs": [
    {
     "data": {
      "text/plain": [
       "(879, 27)"
      ]
     },
     "execution_count": 60,
     "metadata": {},
     "output_type": "execute_result"
    }
   ],
   "source": [
    "ames_test_ss[selected_x.columns].shape"
   ]
  },
  {
   "cell_type": "code",
   "execution_count": 61,
   "metadata": {},
   "outputs": [
    {
     "data": {
      "text/plain": [
       "(879, 80)"
      ]
     },
     "execution_count": 61,
     "metadata": {},
     "output_type": "execute_result"
    }
   ],
   "source": [
    "ames_test.shape"
   ]
  },
  {
   "cell_type": "code",
   "execution_count": 62,
   "metadata": {
    "collapsed": true
   },
   "outputs": [],
   "source": [
    "y_hat = lr.predict(ames_test_ss)"
   ]
  },
  {
   "cell_type": "code",
   "execution_count": 63,
   "metadata": {},
   "outputs": [
    {
     "data": {
      "text/plain": [
       "181516.68725617678"
      ]
     },
     "execution_count": 63,
     "metadata": {},
     "output_type": "execute_result"
    }
   ],
   "source": [
    "y_hat.mean()"
   ]
  },
  {
   "cell_type": "code",
   "execution_count": 64,
   "metadata": {},
   "outputs": [
    {
     "data": {
      "text/plain": [
       "181516.68725617684"
      ]
     },
     "execution_count": 64,
     "metadata": {},
     "output_type": "execute_result"
    }
   ],
   "source": [
    "y_train.mean()"
   ]
  },
  {
   "cell_type": "code",
   "execution_count": 65,
   "metadata": {
    "collapsed": true
   },
   "outputs": [],
   "source": [
    "PRED = pd.DataFrame(y_hat, columns=['SalePrice'])"
   ]
  },
  {
   "cell_type": "code",
   "execution_count": 66,
   "metadata": {
    "collapsed": true
   },
   "outputs": [],
   "source": [
    "ID = ames_test[['Id']]"
   ]
  },
  {
   "cell_type": "code",
   "execution_count": 67,
   "metadata": {},
   "outputs": [
    {
     "data": {
      "text/html": [
       "<div>\n",
       "<style>\n",
       "    .dataframe thead tr:only-child th {\n",
       "        text-align: right;\n",
       "    }\n",
       "\n",
       "    .dataframe thead th {\n",
       "        text-align: left;\n",
       "    }\n",
       "\n",
       "    .dataframe tbody tr th {\n",
       "        vertical-align: top;\n",
       "    }\n",
       "</style>\n",
       "<table border=\"1\" class=\"dataframe\">\n",
       "  <thead>\n",
       "    <tr style=\"text-align: right;\">\n",
       "      <th></th>\n",
       "      <th>SalePrice</th>\n",
       "    </tr>\n",
       "  </thead>\n",
       "  <tbody>\n",
       "    <tr>\n",
       "      <th>0</th>\n",
       "      <td>146656.985083</td>\n",
       "    </tr>\n",
       "    <tr>\n",
       "      <th>1</th>\n",
       "      <td>165739.447038</td>\n",
       "    </tr>\n",
       "    <tr>\n",
       "      <th>2</th>\n",
       "      <td>212729.557885</td>\n",
       "    </tr>\n",
       "    <tr>\n",
       "      <th>3</th>\n",
       "      <td>117174.116263</td>\n",
       "    </tr>\n",
       "    <tr>\n",
       "      <th>4</th>\n",
       "      <td>198123.567214</td>\n",
       "    </tr>\n",
       "  </tbody>\n",
       "</table>\n",
       "</div>"
      ],
      "text/plain": [
       "       SalePrice\n",
       "0  146656.985083\n",
       "1  165739.447038\n",
       "2  212729.557885\n",
       "3  117174.116263\n",
       "4  198123.567214"
      ]
     },
     "execution_count": 67,
     "metadata": {},
     "output_type": "execute_result"
    }
   ],
   "source": [
    "PRED.head()"
   ]
  },
  {
   "cell_type": "code",
   "execution_count": 68,
   "metadata": {
    "collapsed": true
   },
   "outputs": [],
   "source": [
    "Prediction1 = pd.concat([ID, PRED], axis=1)"
   ]
  },
  {
   "cell_type": "code",
   "execution_count": 69,
   "metadata": {},
   "outputs": [
    {
     "data": {
      "text/plain": [
       "'/Users/jenelleverrochi/GA/PROJECTS/project-3'"
      ]
     },
     "execution_count": 69,
     "metadata": {},
     "output_type": "execute_result"
    }
   ],
   "source": [
    "pwd"
   ]
  },
  {
   "cell_type": "code",
   "execution_count": 70,
   "metadata": {
    "collapsed": true
   },
   "outputs": [],
   "source": [
    "Prediction1.to_csv('predictions.csv', index=False)"
   ]
  },
  {
   "cell_type": "code",
   "execution_count": null,
   "metadata": {
    "collapsed": true
   },
   "outputs": [],
   "source": []
  },
  {
   "cell_type": "code",
   "execution_count": 71,
   "metadata": {},
   "outputs": [
    {
     "data": {
      "text/plain": [
       "(1538, 38)"
      ]
     },
     "execution_count": 71,
     "metadata": {},
     "output_type": "execute_result"
    }
   ],
   "source": [
    "X_train.shape"
   ]
  },
  {
   "cell_type": "code",
   "execution_count": 72,
   "metadata": {
    "collapsed": true
   },
   "outputs": [],
   "source": [
    "lr = LinearRegression()\n",
    "rfe = RFE(lr, n_features_to_select=10, verbose=2)"
   ]
  },
  {
   "cell_type": "code",
   "execution_count": 73,
   "metadata": {},
   "outputs": [
    {
     "name": "stdout",
     "output_type": "stream",
     "text": [
      "Fitting estimator with 38 features.\n",
      "Fitting estimator with 37 features.\n",
      "Fitting estimator with 36 features.\n",
      "Fitting estimator with 35 features.\n",
      "Fitting estimator with 34 features.\n",
      "Fitting estimator with 33 features.\n",
      "Fitting estimator with 32 features.\n",
      "Fitting estimator with 31 features.\n",
      "Fitting estimator with 30 features.\n",
      "Fitting estimator with 29 features.\n",
      "Fitting estimator with 28 features.\n",
      "Fitting estimator with 27 features.\n",
      "Fitting estimator with 26 features.\n",
      "Fitting estimator with 25 features.\n",
      "Fitting estimator with 24 features.\n",
      "Fitting estimator with 23 features.\n",
      "Fitting estimator with 22 features.\n",
      "Fitting estimator with 21 features.\n",
      "Fitting estimator with 20 features.\n",
      "Fitting estimator with 19 features.\n",
      "Fitting estimator with 18 features.\n",
      "Fitting estimator with 17 features.\n",
      "Fitting estimator with 16 features.\n",
      "Fitting estimator with 15 features.\n",
      "Fitting estimator with 14 features.\n",
      "Fitting estimator with 13 features.\n",
      "Fitting estimator with 12 features.\n",
      "Fitting estimator with 11 features.\n"
     ]
    },
    {
     "data": {
      "text/plain": [
       "RFE(estimator=LinearRegression(copy_X=True, fit_intercept=True, n_jobs=1, normalize=False),\n",
       "  n_features_to_select=10, step=1, verbose=2)"
      ]
     },
     "execution_count": 73,
     "metadata": {},
     "output_type": "execute_result"
    }
   ],
   "source": [
    "rfe.fit(X_train, y_train)"
   ]
  },
  {
   "cell_type": "code",
   "execution_count": 74,
   "metadata": {},
   "outputs": [
    {
     "data": {
      "text/plain": [
       "array([False, False,  True, False, False, False, False, False, False,\n",
       "       False,  True,  True, False, False, False,  True, False,  True,\n",
       "       False,  True,  True, False,  True, False, False, False, False,\n",
       "       False, False, False, False, False, False, False, False,  True,\n",
       "       False,  True], dtype=bool)"
      ]
     },
     "execution_count": 74,
     "metadata": {},
     "output_type": "execute_result"
    }
   ],
   "source": [
    "rfe.support_"
   ]
  },
  {
   "cell_type": "code",
   "execution_count": 75,
   "metadata": {
    "collapsed": true
   },
   "outputs": [],
   "source": [
    "rfe_list = []\n",
    "for i, col in enumerate(X):\n",
    "    if rfe.support_[i] == True:\n",
    "        rfe_list.append(col)"
   ]
  },
  {
   "cell_type": "code",
   "execution_count": 76,
   "metadata": {
    "collapsed": true
   },
   "outputs": [],
   "source": [
    "X_train_rfe = X_train[rfe_list]\n",
    "X_test_rfe = X_test[rfe_list]"
   ]
  },
  {
   "cell_type": "code",
   "execution_count": 77,
   "metadata": {},
   "outputs": [
    {
     "data": {
      "text/plain": [
       "LinearRegression(copy_X=True, fit_intercept=True, n_jobs=1, normalize=False)"
      ]
     },
     "execution_count": 77,
     "metadata": {},
     "output_type": "execute_result"
    }
   ],
   "source": [
    "lr.fit(X_train_rfe, y_train)"
   ]
  },
  {
   "cell_type": "code",
   "execution_count": 78,
   "metadata": {},
   "outputs": [
    {
     "data": {
      "text/plain": [
       "(1538, 10)"
      ]
     },
     "execution_count": 78,
     "metadata": {},
     "output_type": "execute_result"
    }
   ],
   "source": [
    "X_train_rfe.shape"
   ]
  },
  {
   "cell_type": "code",
   "execution_count": 79,
   "metadata": {},
   "outputs": [
    {
     "data": {
      "text/plain": [
       "0.74331390818144294"
      ]
     },
     "execution_count": 79,
     "metadata": {},
     "output_type": "execute_result"
    }
   ],
   "source": [
    "lr.score(X_test_rfe, y_test)"
   ]
  },
  {
   "cell_type": "code",
   "execution_count": 80,
   "metadata": {},
   "outputs": [
    {
     "data": {
      "text/plain": [
       "LinearRegression(copy_X=True, fit_intercept=True, n_jobs=1, normalize=False)"
      ]
     },
     "execution_count": 80,
     "metadata": {},
     "output_type": "execute_result"
    }
   ],
   "source": [
    "lr.fit(X_train, y_train)"
   ]
  },
  {
   "cell_type": "code",
   "execution_count": 81,
   "metadata": {},
   "outputs": [
    {
     "data": {
      "text/plain": [
       "0.74101233240804965"
      ]
     },
     "execution_count": 81,
     "metadata": {},
     "output_type": "execute_result"
    }
   ],
   "source": [
    "lr.score(X_test, y_test)"
   ]
  },
  {
   "cell_type": "code",
   "execution_count": null,
   "metadata": {
    "collapsed": true
   },
   "outputs": [],
   "source": []
  },
  {
   "cell_type": "code",
   "execution_count": 82,
   "metadata": {},
   "outputs": [
    {
     "data": {
      "text/plain": [
       "(513, 38)"
      ]
     },
     "execution_count": 82,
     "metadata": {},
     "output_type": "execute_result"
    }
   ],
   "source": [
    "X_test.shape"
   ]
  },
  {
   "cell_type": "code",
   "execution_count": 83,
   "metadata": {},
   "outputs": [
    {
     "data": {
      "text/plain": [
       "(513,)"
      ]
     },
     "execution_count": 83,
     "metadata": {},
     "output_type": "execute_result"
    }
   ],
   "source": [
    "y_test.shape"
   ]
  },
  {
   "cell_type": "code",
   "execution_count": 84,
   "metadata": {
    "collapsed": true
   },
   "outputs": [],
   "source": [
    "selectkbest = SelectKBest(score_func=f_classif, k=20)"
   ]
  },
  {
   "cell_type": "code",
   "execution_count": 85,
   "metadata": {},
   "outputs": [
    {
     "data": {
      "text/plain": [
       "SelectKBest(k=20, score_func=<function f_classif at 0x10e324ea0>)"
      ]
     },
     "execution_count": 85,
     "metadata": {},
     "output_type": "execute_result"
    }
   ],
   "source": [
    "selectkbest.fit(X_train, y_train)"
   ]
  },
  {
   "cell_type": "code",
   "execution_count": 86,
   "metadata": {},
   "outputs": [
    {
     "data": {
      "text/plain": [
       "array([ True,  True,  True, False,  True,  True, False, False,  True,\n",
       "        True,  True, False, False, False, False,  True, False,  True,\n",
       "        True,  True,  True, False,  True,  True, False, False, False,\n",
       "        True,  True, False,  True, False,  True, False, False,  True,\n",
       "       False, False], dtype=bool)"
      ]
     },
     "execution_count": 86,
     "metadata": {},
     "output_type": "execute_result"
    }
   ],
   "source": [
    "selectkbest.get_support()"
   ]
  },
  {
   "cell_type": "code",
   "execution_count": 87,
   "metadata": {},
   "outputs": [
    {
     "data": {
      "text/html": [
       "<div>\n",
       "<style>\n",
       "    .dataframe thead tr:only-child th {\n",
       "        text-align: right;\n",
       "    }\n",
       "\n",
       "    .dataframe thead th {\n",
       "        text-align: left;\n",
       "    }\n",
       "\n",
       "    .dataframe tbody tr th {\n",
       "        vertical-align: top;\n",
       "    }\n",
       "</style>\n",
       "<table border=\"1\" class=\"dataframe\">\n",
       "  <thead>\n",
       "    <tr style=\"text-align: right;\">\n",
       "      <th></th>\n",
       "      <th>Lot Frontage</th>\n",
       "      <th>Mas Vnr Area</th>\n",
       "      <th>BsmtFin SF 1</th>\n",
       "      <th>Bsmt Unf SF</th>\n",
       "      <th>Total Bsmt SF</th>\n",
       "      <th>Garage Yr Blt</th>\n",
       "      <th>Garage Cars</th>\n",
       "      <th>Garage Area</th>\n",
       "      <th>Overall Qual</th>\n",
       "      <th>Year Built</th>\n",
       "      <th>Year Remod/Add</th>\n",
       "      <th>1st Flr SF</th>\n",
       "      <th>2nd Flr SF</th>\n",
       "      <th>Gr Liv Area</th>\n",
       "      <th>Full Bath</th>\n",
       "      <th>TotRms AbvGrd</th>\n",
       "      <th>Fireplaces</th>\n",
       "      <th>Open Porch SF</th>\n",
       "      <th>3Ssn Porch</th>\n",
       "      <th>Misc Val</th>\n",
       "    </tr>\n",
       "  </thead>\n",
       "  <tbody>\n",
       "    <tr>\n",
       "      <th>0</th>\n",
       "      <td>-0.435635</td>\n",
       "      <td>-0.573639</td>\n",
       "      <td>-0.986053</td>\n",
       "      <td>0.834401</td>\n",
       "      <td>-0.258876</td>\n",
       "      <td>0.825464</td>\n",
       "      <td>0.282634</td>\n",
       "      <td>0.030851</td>\n",
       "      <td>-0.080579</td>\n",
       "      <td>0.915358</td>\n",
       "      <td>0.917560</td>\n",
       "      <td>-0.525592</td>\n",
       "      <td>2.383207</td>\n",
       "      <td>1.600589</td>\n",
       "      <td>2.555254</td>\n",
       "      <td>0.354707</td>\n",
       "      <td>0.637464</td>\n",
       "      <td>-0.264802</td>\n",
       "      <td>-0.104508</td>\n",
       "      <td>-0.088445</td>\n",
       "    </tr>\n",
       "    <tr>\n",
       "      <th>1</th>\n",
       "      <td>-2.284254</td>\n",
       "      <td>2.949230</td>\n",
       "      <td>-0.180420</td>\n",
       "      <td>-0.989277</td>\n",
       "      <td>-1.276295</td>\n",
       "      <td>-0.304400</td>\n",
       "      <td>-1.030633</td>\n",
       "      <td>-0.996456</td>\n",
       "      <td>-0.080579</td>\n",
       "      <td>-0.022006</td>\n",
       "      <td>-0.603445</td>\n",
       "      <td>-1.717658</td>\n",
       "      <td>0.410809</td>\n",
       "      <td>-1.031578</td>\n",
       "      <td>-1.033769</td>\n",
       "      <td>-0.918431</td>\n",
       "      <td>-0.931208</td>\n",
       "      <td>-0.708802</td>\n",
       "      <td>-0.104508</td>\n",
       "      <td>-0.088445</td>\n",
       "    </tr>\n",
       "    <tr>\n",
       "      <th>2</th>\n",
       "      <td>-0.009030</td>\n",
       "      <td>-0.573639</td>\n",
       "      <td>-0.986053</td>\n",
       "      <td>0.865805</td>\n",
       "      <td>-0.227571</td>\n",
       "      <td>0.946521</td>\n",
       "      <td>0.282634</td>\n",
       "      <td>-0.030410</td>\n",
       "      <td>0.623574</td>\n",
       "      <td>1.015790</td>\n",
       "      <td>0.870029</td>\n",
       "      <td>-0.538167</td>\n",
       "      <td>1.248725</td>\n",
       "      <td>0.623558</td>\n",
       "      <td>0.760742</td>\n",
       "      <td>0.354707</td>\n",
       "      <td>0.637464</td>\n",
       "      <td>0.948796</td>\n",
       "      <td>-0.104508</td>\n",
       "      <td>-0.088445</td>\n",
       "    </tr>\n",
       "    <tr>\n",
       "      <th>3</th>\n",
       "      <td>-0.103831</td>\n",
       "      <td>0.067943</td>\n",
       "      <td>0.787239</td>\n",
       "      <td>0.491200</td>\n",
       "      <td>1.161039</td>\n",
       "      <td>0.946521</td>\n",
       "      <td>0.282634</td>\n",
       "      <td>0.323021</td>\n",
       "      <td>0.623574</td>\n",
       "      <td>1.015790</td>\n",
       "      <td>0.870029</td>\n",
       "      <td>1.023590</td>\n",
       "      <td>-0.775454</td>\n",
       "      <td>0.144070</td>\n",
       "      <td>0.760742</td>\n",
       "      <td>-0.281862</td>\n",
       "      <td>-0.931208</td>\n",
       "      <td>0.356797</td>\n",
       "      <td>-0.104508</td>\n",
       "      <td>-0.088445</td>\n",
       "    </tr>\n",
       "    <tr>\n",
       "      <th>4</th>\n",
       "      <td>-0.625236</td>\n",
       "      <td>-0.573639</td>\n",
       "      <td>-0.403207</td>\n",
       "      <td>0.226508</td>\n",
       "      <td>-0.285709</td>\n",
       "      <td>0.018418</td>\n",
       "      <td>0.282634</td>\n",
       "      <td>-0.035123</td>\n",
       "      <td>-0.080579</td>\n",
       "      <td>-2.064121</td>\n",
       "      <td>0.299652</td>\n",
       "      <td>-0.440086</td>\n",
       "      <td>0.775632</td>\n",
       "      <td>0.298549</td>\n",
       "      <td>0.760742</td>\n",
       "      <td>-0.281862</td>\n",
       "      <td>-0.931208</td>\n",
       "      <td>0.815596</td>\n",
       "      <td>-0.104508</td>\n",
       "      <td>-0.088445</td>\n",
       "    </tr>\n",
       "  </tbody>\n",
       "</table>\n",
       "</div>"
      ],
      "text/plain": [
       "   Lot Frontage  Mas Vnr Area  BsmtFin SF 1  Bsmt Unf SF  Total Bsmt SF  \\\n",
       "0     -0.435635     -0.573639     -0.986053     0.834401      -0.258876   \n",
       "1     -2.284254      2.949230     -0.180420    -0.989277      -1.276295   \n",
       "2     -0.009030     -0.573639     -0.986053     0.865805      -0.227571   \n",
       "3     -0.103831      0.067943      0.787239     0.491200       1.161039   \n",
       "4     -0.625236     -0.573639     -0.403207     0.226508      -0.285709   \n",
       "\n",
       "   Garage Yr Blt  Garage Cars  Garage Area  Overall Qual  Year Built  \\\n",
       "0       0.825464     0.282634     0.030851     -0.080579    0.915358   \n",
       "1      -0.304400    -1.030633    -0.996456     -0.080579   -0.022006   \n",
       "2       0.946521     0.282634    -0.030410      0.623574    1.015790   \n",
       "3       0.946521     0.282634     0.323021      0.623574    1.015790   \n",
       "4       0.018418     0.282634    -0.035123     -0.080579   -2.064121   \n",
       "\n",
       "   Year Remod/Add  1st Flr SF  2nd Flr SF  Gr Liv Area  Full Bath  \\\n",
       "0        0.917560   -0.525592    2.383207     1.600589   2.555254   \n",
       "1       -0.603445   -1.717658    0.410809    -1.031578  -1.033769   \n",
       "2        0.870029   -0.538167    1.248725     0.623558   0.760742   \n",
       "3        0.870029    1.023590   -0.775454     0.144070   0.760742   \n",
       "4        0.299652   -0.440086    0.775632     0.298549   0.760742   \n",
       "\n",
       "   TotRms AbvGrd  Fireplaces  Open Porch SF  3Ssn Porch  Misc Val  \n",
       "0       0.354707    0.637464      -0.264802   -0.104508 -0.088445  \n",
       "1      -0.918431   -0.931208      -0.708802   -0.104508 -0.088445  \n",
       "2       0.354707    0.637464       0.948796   -0.104508 -0.088445  \n",
       "3      -0.281862   -0.931208       0.356797   -0.104508 -0.088445  \n",
       "4      -0.281862   -0.931208       0.815596   -0.104508 -0.088445  "
      ]
     },
     "execution_count": 87,
     "metadata": {},
     "output_type": "execute_result"
    }
   ],
   "source": [
    "X_train.iloc[:,selectkbest.get_support()].head()"
   ]
  },
  {
   "cell_type": "code",
   "execution_count": 88,
   "metadata": {},
   "outputs": [
    {
     "name": "stdout",
     "output_type": "stream",
     "text": [
      "(1538, 38) (1538, 20)\n"
     ]
    }
   ],
   "source": [
    "selected_xs = selectkbest.transform(X_train)\n",
    "print(X_train.shape, selected_xs.shape)"
   ]
  },
  {
   "cell_type": "code",
   "execution_count": 89,
   "metadata": {},
   "outputs": [
    {
     "name": "stdout",
     "output_type": "stream",
     "text": [
      "All features\n",
      "[ 0.83717986  0.86280499  0.70323338] \n",
      " Mean:  0.801072744617 \n",
      "\n",
      "Feature Selection via SelectKBest\n",
      "[ 0.83247717  0.84420291  0.7432368 ] \n",
      " Mean:  0.806638960754\n"
     ]
    }
   ],
   "source": [
    "print('All features')\n",
    "scores = cross_val_score(lr, X_train, y_train)\n",
    "print(scores, '\\n', 'Mean: ', scores.mean(),'\\n')\n",
    "\n",
    "print('Feature Selection via SelectKBest')\n",
    "scores = cross_val_score(lr, selected_xs, y_train)\n",
    "print(scores, '\\n', 'Mean: ', scores.mean())"
   ]
  },
  {
   "cell_type": "code",
   "execution_count": 90,
   "metadata": {},
   "outputs": [
    {
     "name": "stdout",
     "output_type": "stream",
     "text": [
      "(513, 38) (1538, 20)\n"
     ]
    }
   ],
   "source": [
    "selected_xs_test = selectkbest.transform(X_test)\n",
    "print(X_test.shape, selected_xs.shape)"
   ]
  },
  {
   "cell_type": "code",
   "execution_count": 91,
   "metadata": {},
   "outputs": [
    {
     "name": "stdout",
     "output_type": "stream",
     "text": [
      "All features\n",
      "[ 0.8875689   0.51568547  0.50900988] \n",
      " Mean:  0.637421418795 \n",
      "\n",
      "Feature Selection via SelectKBest\n",
      "[ 0.8312896   0.49634544  0.75189039] \n",
      " Mean:  0.693175143084\n"
     ]
    }
   ],
   "source": [
    "print('All features')\n",
    "scores = cross_val_score(lr, X_test, y_test)\n",
    "print(scores, '\\n', 'Mean: ', scores.mean(),'\\n')\n",
    "\n",
    "print('Feature Selection via SelectKBest')\n",
    "scores = cross_val_score(lr, selected_xs_test, y_test)\n",
    "print(scores, '\\n', 'Mean: ', scores.mean())"
   ]
  },
  {
   "cell_type": "code",
   "execution_count": 92,
   "metadata": {},
   "outputs": [
    {
     "data": {
      "text/plain": [
       "(1538, 20)"
      ]
     },
     "execution_count": 92,
     "metadata": {},
     "output_type": "execute_result"
    }
   ],
   "source": [
    "selected_xs.shape"
   ]
  },
  {
   "cell_type": "code",
   "execution_count": null,
   "metadata": {
    "collapsed": true
   },
   "outputs": [],
   "source": []
  },
  {
   "cell_type": "code",
   "execution_count": 93,
   "metadata": {},
   "outputs": [
    {
     "data": {
      "text/plain": [
       "LinearRegression(copy_X=True, fit_intercept=True, n_jobs=1, normalize=False)"
      ]
     },
     "execution_count": 93,
     "metadata": {},
     "output_type": "execute_result"
    }
   ],
   "source": [
    "lr.fit(selected_xs, y_train)"
   ]
  },
  {
   "cell_type": "code",
   "execution_count": 94,
   "metadata": {},
   "outputs": [
    {
     "data": {
      "text/plain": [
       "0.72699514386848596"
      ]
     },
     "execution_count": 94,
     "metadata": {},
     "output_type": "execute_result"
    }
   ],
   "source": [
    "lr.score(selected_xs_test, y_test)"
   ]
  },
  {
   "cell_type": "code",
   "execution_count": 95,
   "metadata": {},
   "outputs": [
    {
     "data": {
      "text/plain": [
       "(879, 38)"
      ]
     },
     "execution_count": 95,
     "metadata": {},
     "output_type": "execute_result"
    }
   ],
   "source": [
    "ames_test_ss.shape"
   ]
  },
  {
   "cell_type": "code",
   "execution_count": 96,
   "metadata": {},
   "outputs": [
    {
     "name": "stdout",
     "output_type": "stream",
     "text": [
      "(879, 38) (879, 20)\n"
     ]
    }
   ],
   "source": [
    "selected_amestest = selectkbest.transform(ames_test_ss)\n",
    "print(ames_test_ss.shape, selected_amestest.shape)"
   ]
  },
  {
   "cell_type": "code",
   "execution_count": 97,
   "metadata": {
    "collapsed": true
   },
   "outputs": [],
   "source": [
    "PRED2 = pd.DataFrame(lr.predict(selected_amestest), columns=['SalePrice'])"
   ]
  },
  {
   "cell_type": "code",
   "execution_count": 98,
   "metadata": {
    "collapsed": true
   },
   "outputs": [],
   "source": [
    "Prediction2 = pd.concat((ID, PRED2), axis=1)"
   ]
  },
  {
   "cell_type": "code",
   "execution_count": 99,
   "metadata": {
    "collapsed": true
   },
   "outputs": [],
   "source": [
    "Prediction2.to_csv('prediction_lr2', index=False)"
   ]
  },
  {
   "cell_type": "code",
   "execution_count": 100,
   "metadata": {
    "collapsed": true
   },
   "outputs": [],
   "source": [
    "en = ElasticNet(alpha=.1,l1_ratio=.9)\n",
    "params_grid = {\n",
    "    'fit_intercept': [True, False],\n",
    "    'alpha': np.linspace(0.01, 100, 10),\n",
    "    'l1_ratio': np.linspace(0.01, 0.99, 10)\n",
    "}"
   ]
  },
  {
   "cell_type": "code",
   "execution_count": 101,
   "metadata": {},
   "outputs": [
    {
     "data": {
      "text/plain": [
       "ElasticNet(alpha=0.1, copy_X=True, fit_intercept=True, l1_ratio=0.9,\n",
       "      max_iter=1000, normalize=False, positive=False, precompute=False,\n",
       "      random_state=None, selection='cyclic', tol=0.0001, warm_start=False)"
      ]
     },
     "execution_count": 101,
     "metadata": {},
     "output_type": "execute_result"
    }
   ],
   "source": [
    "en.fit(X_train, y_train)"
   ]
  },
  {
   "cell_type": "code",
   "execution_count": 102,
   "metadata": {},
   "outputs": [
    {
     "data": {
      "text/plain": [
       "0.73807206654516078"
      ]
     },
     "execution_count": 102,
     "metadata": {},
     "output_type": "execute_result"
    }
   ],
   "source": [
    "en.score(X_test, y_test)"
   ]
  },
  {
   "cell_type": "code",
   "execution_count": 103,
   "metadata": {
    "collapsed": true
   },
   "outputs": [],
   "source": [
    "PRED4 = pd.DataFrame(en.predict(ames_test_ss), columns=['SalePrice'])"
   ]
  },
  {
   "cell_type": "code",
   "execution_count": 104,
   "metadata": {
    "collapsed": true
   },
   "outputs": [],
   "source": [
    "Prediction4 = pd.concat((ID, PRED4), axis=1)"
   ]
  },
  {
   "cell_type": "code",
   "execution_count": 105,
   "metadata": {
    "collapsed": true
   },
   "outputs": [],
   "source": [
    "Prediction4.to_csv('prediction_lr4.csv', index=False)"
   ]
  },
  {
   "cell_type": "code",
   "execution_count": 106,
   "metadata": {
    "collapsed": true
   },
   "outputs": [],
   "source": [
    "grid_search = GridSearchCV(en, params_grid, verbose=2, n_jobs=-1)"
   ]
  },
  {
   "cell_type": "code",
   "execution_count": 107,
   "metadata": {},
   "outputs": [
    {
     "name": "stdout",
     "output_type": "stream",
     "text": [
      "Fitting 3 folds for each of 200 candidates, totalling 600 fits\n",
      "[CV] alpha=0.01, fit_intercept=True, l1_ratio=0.01 ...................\n",
      "[CV] alpha=0.01, fit_intercept=True, l1_ratio=0.01 ...................\n",
      "[CV] alpha=0.01, fit_intercept=True, l1_ratio=0.01 ...................\n",
      "[CV] alpha=0.01, fit_intercept=True, l1_ratio=0.118888888889 .........\n",
      "[CV] .... alpha=0.01, fit_intercept=True, l1_ratio=0.01, total=   0.1s\n",
      "[CV] .... alpha=0.01, fit_intercept=True, l1_ratio=0.01, total=   0.1s\n",
      "[CV] alpha=0.01, fit_intercept=True, l1_ratio=0.118888888889 .........\n",
      "[CV] alpha=0.01, fit_intercept=True, l1_ratio=0.118888888889 .........\n",
      "[CV]  alpha=0.01, fit_intercept=True, l1_ratio=0.118888888889, total=   0.1s\n",
      "[CV] .... alpha=0.01, fit_intercept=True, l1_ratio=0.01, total=   0.1s\n",
      "[CV] alpha=0.01, fit_intercept=True, l1_ratio=0.227777777778 .........\n",
      "[CV] alpha=0.01, fit_intercept=True, l1_ratio=0.227777777778 .........\n",
      "[CV]  alpha=0.01, fit_intercept=True, l1_ratio=0.118888888889, total=   0.1s\n",
      "[CV] alpha=0.01, fit_intercept=True, l1_ratio=0.227777777778 .........\n",
      "[CV]  alpha=0.01, fit_intercept=True, l1_ratio=0.118888888889, total=   0.1s\n",
      "[CV] alpha=0.01, fit_intercept=True, l1_ratio=0.336666666667 .........\n",
      "[CV]  alpha=0.01, fit_intercept=True, l1_ratio=0.227777777778, total=   0.1s\n",
      "[CV]  alpha=0.01, fit_intercept=True, l1_ratio=0.227777777778, total=   0.1s\n",
      "[CV] alpha=0.01, fit_intercept=True, l1_ratio=0.445555555556 .........\n",
      "[CV] alpha=0.01, fit_intercept=True, l1_ratio=0.445555555556 .........\n",
      "[CV]  alpha=0.01, fit_intercept=True, l1_ratio=0.336666666667, total=   0.1s\n",
      "[CV]  alpha=0.01, fit_intercept=True, l1_ratio=0.227777777778, total=   0.1s\n",
      "[CV] alpha=0.01, fit_intercept=True, l1_ratio=0.336666666667 .........\n",
      "[CV] alpha=0.01, fit_intercept=True, l1_ratio=0.336666666667 .........\n",
      "[CV]  alpha=0.01, fit_intercept=True, l1_ratio=0.445555555556, total=   0.1s\n",
      "[CV] alpha=0.01, fit_intercept=True, l1_ratio=0.445555555556 .........\n"
     ]
    },
    {
     "name": "stderr",
     "output_type": "stream",
     "text": [
      "/Users/jenelleverrochi/anaconda3/lib/python3.6/site-packages/sklearn/linear_model/coordinate_descent.py:491: ConvergenceWarning: Objective did not converge. You might want to increase the number of iterations. Fitting data with very small alpha may cause precision problems.\n",
      "  ConvergenceWarning)\n"
     ]
    },
    {
     "name": "stdout",
     "output_type": "stream",
     "text": [
      "[CV]  alpha=0.01, fit_intercept=True, l1_ratio=0.336666666667, total=   0.1s\n",
      "[CV]  alpha=0.01, fit_intercept=True, l1_ratio=0.445555555556, total=   0.1s\n",
      "[CV] alpha=0.01, fit_intercept=True, l1_ratio=0.554444444444 .........\n",
      "[CV] alpha=0.01, fit_intercept=True, l1_ratio=0.554444444444 .........\n",
      "[CV]  alpha=0.01, fit_intercept=True, l1_ratio=0.336666666667, total=   0.1s\n",
      "[CV] alpha=0.01, fit_intercept=True, l1_ratio=0.663333333333 .........\n",
      "[CV]  alpha=0.01, fit_intercept=True, l1_ratio=0.445555555556, total=   0.1s\n",
      "[CV] alpha=0.01, fit_intercept=True, l1_ratio=0.663333333333 .........\n",
      "[CV]  alpha=0.01, fit_intercept=True, l1_ratio=0.554444444444, total=   0.1s\n"
     ]
    },
    {
     "name": "stderr",
     "output_type": "stream",
     "text": [
      "/Users/jenelleverrochi/anaconda3/lib/python3.6/site-packages/sklearn/linear_model/coordinate_descent.py:491: ConvergenceWarning: Objective did not converge. You might want to increase the number of iterations. Fitting data with very small alpha may cause precision problems.\n",
      "  ConvergenceWarning)\n"
     ]
    },
    {
     "name": "stdout",
     "output_type": "stream",
     "text": [
      "[CV] alpha=0.01, fit_intercept=True, l1_ratio=0.772222222222 .........\n",
      "[CV]  alpha=0.01, fit_intercept=True, l1_ratio=0.554444444444, total=   0.1s\n",
      "[CV] alpha=0.01, fit_intercept=True, l1_ratio=0.554444444444 .........\n"
     ]
    },
    {
     "name": "stderr",
     "output_type": "stream",
     "text": [
      "/Users/jenelleverrochi/anaconda3/lib/python3.6/site-packages/sklearn/linear_model/coordinate_descent.py:491: ConvergenceWarning: Objective did not converge. You might want to increase the number of iterations. Fitting data with very small alpha may cause precision problems.\n",
      "  ConvergenceWarning)\n",
      "/Users/jenelleverrochi/anaconda3/lib/python3.6/site-packages/sklearn/linear_model/coordinate_descent.py:491: ConvergenceWarning: Objective did not converge. You might want to increase the number of iterations. Fitting data with very small alpha may cause precision problems.\n",
      "  ConvergenceWarning)\n"
     ]
    },
    {
     "name": "stdout",
     "output_type": "stream",
     "text": [
      "[CV]  alpha=0.01, fit_intercept=True, l1_ratio=0.663333333333, total=   0.1s\n",
      "[CV] alpha=0.01, fit_intercept=True, l1_ratio=0.772222222222 .........\n"
     ]
    },
    {
     "name": "stderr",
     "output_type": "stream",
     "text": [
      "/Users/jenelleverrochi/anaconda3/lib/python3.6/site-packages/sklearn/linear_model/coordinate_descent.py:491: ConvergenceWarning: Objective did not converge. You might want to increase the number of iterations. Fitting data with very small alpha may cause precision problems.\n",
      "  ConvergenceWarning)\n"
     ]
    },
    {
     "name": "stdout",
     "output_type": "stream",
     "text": [
      "[CV]  alpha=0.01, fit_intercept=True, l1_ratio=0.663333333333, total=   0.2s\n",
      "[CV] alpha=0.01, fit_intercept=True, l1_ratio=0.663333333333 .........\n",
      "[CV]  alpha=0.01, fit_intercept=True, l1_ratio=0.772222222222, total=   0.1s\n",
      "[CV] alpha=0.01, fit_intercept=True, l1_ratio=0.772222222222 .........\n"
     ]
    },
    {
     "name": "stderr",
     "output_type": "stream",
     "text": [
      "/Users/jenelleverrochi/anaconda3/lib/python3.6/site-packages/sklearn/linear_model/coordinate_descent.py:491: ConvergenceWarning: Objective did not converge. You might want to increase the number of iterations. Fitting data with very small alpha may cause precision problems.\n",
      "  ConvergenceWarning)\n"
     ]
    },
    {
     "name": "stdout",
     "output_type": "stream",
     "text": [
      "[CV]  alpha=0.01, fit_intercept=True, l1_ratio=0.554444444444, total=   0.1s\n",
      "[CV] alpha=0.01, fit_intercept=True, l1_ratio=0.881111111111 .........\n"
     ]
    },
    {
     "name": "stderr",
     "output_type": "stream",
     "text": [
      "/Users/jenelleverrochi/anaconda3/lib/python3.6/site-packages/sklearn/linear_model/coordinate_descent.py:491: ConvergenceWarning: Objective did not converge. You might want to increase the number of iterations. Fitting data with very small alpha may cause precision problems.\n",
      "  ConvergenceWarning)\n"
     ]
    },
    {
     "name": "stdout",
     "output_type": "stream",
     "text": [
      "[CV]  alpha=0.01, fit_intercept=True, l1_ratio=0.772222222222, total=   0.1s\n",
      "[CV] alpha=0.01, fit_intercept=True, l1_ratio=0.881111111111 .........\n"
     ]
    },
    {
     "name": "stderr",
     "output_type": "stream",
     "text": [
      "/Users/jenelleverrochi/anaconda3/lib/python3.6/site-packages/sklearn/linear_model/coordinate_descent.py:491: ConvergenceWarning: Objective did not converge. You might want to increase the number of iterations. Fitting data with very small alpha may cause precision problems.\n",
      "  ConvergenceWarning)\n",
      "/Users/jenelleverrochi/anaconda3/lib/python3.6/site-packages/sklearn/linear_model/coordinate_descent.py:491: ConvergenceWarning: Objective did not converge. You might want to increase the number of iterations. Fitting data with very small alpha may cause precision problems.\n",
      "  ConvergenceWarning)\n",
      "/Users/jenelleverrochi/anaconda3/lib/python3.6/site-packages/sklearn/linear_model/coordinate_descent.py:491: ConvergenceWarning: Objective did not converge. You might want to increase the number of iterations. Fitting data with very small alpha may cause precision problems.\n",
      "  ConvergenceWarning)\n"
     ]
    },
    {
     "name": "stdout",
     "output_type": "stream",
     "text": [
      "[CV]  alpha=0.01, fit_intercept=True, l1_ratio=0.663333333333, total=   0.1s\n",
      "[CV]  alpha=0.01, fit_intercept=True, l1_ratio=0.881111111111, total=   0.1s\n",
      "[CV] alpha=0.01, fit_intercept=True, l1_ratio=0.881111111111 .........\n",
      "[CV] alpha=0.01, fit_intercept=True, l1_ratio=0.99 ...................\n",
      "[CV]  alpha=0.01, fit_intercept=True, l1_ratio=0.772222222222, total=   0.1s\n",
      "[CV] alpha=0.01, fit_intercept=False, l1_ratio=0.01 ..................\n"
     ]
    },
    {
     "name": "stderr",
     "output_type": "stream",
     "text": [
      "/Users/jenelleverrochi/anaconda3/lib/python3.6/site-packages/sklearn/linear_model/coordinate_descent.py:491: ConvergenceWarning: Objective did not converge. You might want to increase the number of iterations. Fitting data with very small alpha may cause precision problems.\n",
      "  ConvergenceWarning)\n"
     ]
    },
    {
     "name": "stdout",
     "output_type": "stream",
     "text": [
      "[CV]  alpha=0.01, fit_intercept=True, l1_ratio=0.881111111111, total=   0.1s\n",
      "[CV] alpha=0.01, fit_intercept=True, l1_ratio=0.99 ...................\n"
     ]
    },
    {
     "name": "stderr",
     "output_type": "stream",
     "text": [
      "/Users/jenelleverrochi/anaconda3/lib/python3.6/site-packages/sklearn/linear_model/coordinate_descent.py:491: ConvergenceWarning: Objective did not converge. You might want to increase the number of iterations. Fitting data with very small alpha may cause precision problems.\n",
      "  ConvergenceWarning)\n"
     ]
    },
    {
     "name": "stdout",
     "output_type": "stream",
     "text": [
      "[CV] .... alpha=0.01, fit_intercept=True, l1_ratio=0.99, total=   0.1s\n",
      "[CV] alpha=0.01, fit_intercept=True, l1_ratio=0.99 ...................\n"
     ]
    },
    {
     "name": "stderr",
     "output_type": "stream",
     "text": [
      "/Users/jenelleverrochi/anaconda3/lib/python3.6/site-packages/sklearn/linear_model/coordinate_descent.py:491: ConvergenceWarning: Objective did not converge. You might want to increase the number of iterations. Fitting data with very small alpha may cause precision problems.\n",
      "  ConvergenceWarning)\n"
     ]
    },
    {
     "name": "stdout",
     "output_type": "stream",
     "text": [
      "[CV] ... alpha=0.01, fit_intercept=False, l1_ratio=0.01, total=   0.1s\n",
      "[CV] alpha=0.01, fit_intercept=False, l1_ratio=0.01 ..................\n",
      "[CV]  alpha=0.01, fit_intercept=True, l1_ratio=0.881111111111, total=   0.2s\n",
      "[CV] alpha=0.01, fit_intercept=False, l1_ratio=0.01 ..................\n"
     ]
    },
    {
     "name": "stderr",
     "output_type": "stream",
     "text": [
      "/Users/jenelleverrochi/anaconda3/lib/python3.6/site-packages/sklearn/linear_model/coordinate_descent.py:491: ConvergenceWarning: Objective did not converge. You might want to increase the number of iterations. Fitting data with very small alpha may cause precision problems.\n",
      "  ConvergenceWarning)\n"
     ]
    },
    {
     "name": "stdout",
     "output_type": "stream",
     "text": [
      "[CV] .... alpha=0.01, fit_intercept=True, l1_ratio=0.99, total=   0.1s\n"
     ]
    },
    {
     "name": "stderr",
     "output_type": "stream",
     "text": [
      "/Users/jenelleverrochi/anaconda3/lib/python3.6/site-packages/sklearn/linear_model/coordinate_descent.py:491: ConvergenceWarning: Objective did not converge. You might want to increase the number of iterations. Fitting data with very small alpha may cause precision problems.\n",
      "  ConvergenceWarning)\n"
     ]
    },
    {
     "name": "stdout",
     "output_type": "stream",
     "text": [
      "[CV] alpha=0.01, fit_intercept=False, l1_ratio=0.118888888889 ........\n",
      "[CV] .... alpha=0.01, fit_intercept=True, l1_ratio=0.99, total=   0.1s\n",
      "[CV] alpha=0.01, fit_intercept=False, l1_ratio=0.227777777778 ........\n",
      "[CV] ... alpha=0.01, fit_intercept=False, l1_ratio=0.01, total=   0.2s\n",
      "[CV] ... alpha=0.01, fit_intercept=False, l1_ratio=0.01, total=   0.1s\n",
      "[CV] alpha=0.01, fit_intercept=False, l1_ratio=0.118888888889 ........\n",
      "[CV] alpha=0.01, fit_intercept=False, l1_ratio=0.227777777778 ........\n",
      "[CV]  alpha=0.01, fit_intercept=False, l1_ratio=0.118888888889, total=   0.2s\n",
      "[CV] alpha=0.01, fit_intercept=False, l1_ratio=0.118888888889 ........\n",
      "[CV]  alpha=0.01, fit_intercept=False, l1_ratio=0.118888888889, total=   0.1s\n",
      "[CV]  alpha=0.01, fit_intercept=False, l1_ratio=0.227777777778, total=   0.2s\n",
      "[CV]  alpha=0.01, fit_intercept=False, l1_ratio=0.227777777778, total=   0.1s\n",
      "[CV] alpha=0.01, fit_intercept=False, l1_ratio=0.227777777778 ........\n",
      "[CV] alpha=0.01, fit_intercept=False, l1_ratio=0.336666666667 ........\n",
      "[CV] alpha=0.01, fit_intercept=False, l1_ratio=0.336666666667 ........\n",
      "[CV]  alpha=0.01, fit_intercept=False, l1_ratio=0.118888888889, total=   0.1s\n",
      "[CV] alpha=0.01, fit_intercept=False, l1_ratio=0.445555555556 ........\n",
      "[CV]  alpha=0.01, fit_intercept=False, l1_ratio=0.227777777778, total=   0.1s\n"
     ]
    },
    {
     "name": "stderr",
     "output_type": "stream",
     "text": [
      "/Users/jenelleverrochi/anaconda3/lib/python3.6/site-packages/sklearn/linear_model/coordinate_descent.py:491: ConvergenceWarning: Objective did not converge. You might want to increase the number of iterations. Fitting data with very small alpha may cause precision problems.\n",
      "  ConvergenceWarning)\n"
     ]
    },
    {
     "name": "stdout",
     "output_type": "stream",
     "text": [
      "[CV] alpha=0.01, fit_intercept=False, l1_ratio=0.445555555556 ........\n"
     ]
    },
    {
     "name": "stderr",
     "output_type": "stream",
     "text": [
      "/Users/jenelleverrochi/anaconda3/lib/python3.6/site-packages/sklearn/linear_model/coordinate_descent.py:491: ConvergenceWarning: Objective did not converge. You might want to increase the number of iterations. Fitting data with very small alpha may cause precision problems.\n",
      "  ConvergenceWarning)\n"
     ]
    },
    {
     "name": "stdout",
     "output_type": "stream",
     "text": [
      "[CV]  alpha=0.01, fit_intercept=False, l1_ratio=0.336666666667, total=   0.1s\n",
      "[CV] alpha=0.01, fit_intercept=False, l1_ratio=0.554444444444 ........\n",
      "[CV]  alpha=0.01, fit_intercept=False, l1_ratio=0.336666666667, total=   0.1s\n",
      "[CV] alpha=0.01, fit_intercept=False, l1_ratio=0.336666666667 ........\n"
     ]
    },
    {
     "name": "stderr",
     "output_type": "stream",
     "text": [
      "/Users/jenelleverrochi/anaconda3/lib/python3.6/site-packages/sklearn/linear_model/coordinate_descent.py:491: ConvergenceWarning: Objective did not converge. You might want to increase the number of iterations. Fitting data with very small alpha may cause precision problems.\n",
      "  ConvergenceWarning)\n"
     ]
    },
    {
     "name": "stdout",
     "output_type": "stream",
     "text": [
      "[CV]  alpha=0.01, fit_intercept=False, l1_ratio=0.445555555556, total=   0.1s\n",
      "[CV] alpha=0.01, fit_intercept=False, l1_ratio=0.445555555556 ........\n",
      "[CV]  alpha=0.01, fit_intercept=False, l1_ratio=0.445555555556, total=   0.1s\n",
      "[CV] alpha=0.01, fit_intercept=False, l1_ratio=0.554444444444 ........\n",
      "[CV]  alpha=0.01, fit_intercept=False, l1_ratio=0.336666666667, total=   0.1s\n"
     ]
    },
    {
     "name": "stderr",
     "output_type": "stream",
     "text": [
      "/Users/jenelleverrochi/anaconda3/lib/python3.6/site-packages/sklearn/linear_model/coordinate_descent.py:491: ConvergenceWarning: Objective did not converge. You might want to increase the number of iterations. Fitting data with very small alpha may cause precision problems.\n",
      "  ConvergenceWarning)\n"
     ]
    },
    {
     "name": "stdout",
     "output_type": "stream",
     "text": [
      "[CV] alpha=0.01, fit_intercept=False, l1_ratio=0.663333333333 ........\n",
      "[CV]  alpha=0.01, fit_intercept=False, l1_ratio=0.554444444444, total=   0.1s\n",
      "[CV] alpha=0.01, fit_intercept=False, l1_ratio=0.554444444444 ........\n"
     ]
    },
    {
     "name": "stderr",
     "output_type": "stream",
     "text": [
      "/Users/jenelleverrochi/anaconda3/lib/python3.6/site-packages/sklearn/linear_model/coordinate_descent.py:491: ConvergenceWarning: Objective did not converge. You might want to increase the number of iterations. Fitting data with very small alpha may cause precision problems.\n",
      "  ConvergenceWarning)\n"
     ]
    },
    {
     "name": "stdout",
     "output_type": "stream",
     "text": [
      "[CV]  alpha=0.01, fit_intercept=False, l1_ratio=0.445555555556, total=   0.2s\n",
      "[CV] alpha=0.01, fit_intercept=False, l1_ratio=0.663333333333 ........\n"
     ]
    },
    {
     "name": "stderr",
     "output_type": "stream",
     "text": [
      "/Users/jenelleverrochi/anaconda3/lib/python3.6/site-packages/sklearn/linear_model/coordinate_descent.py:491: ConvergenceWarning: Objective did not converge. You might want to increase the number of iterations. Fitting data with very small alpha may cause precision problems.\n",
      "  ConvergenceWarning)\n"
     ]
    },
    {
     "name": "stdout",
     "output_type": "stream",
     "text": [
      "[CV]  alpha=0.01, fit_intercept=False, l1_ratio=0.663333333333, total=   0.1s\n",
      "[CV] alpha=0.01, fit_intercept=False, l1_ratio=0.663333333333 ........\n"
     ]
    },
    {
     "name": "stderr",
     "output_type": "stream",
     "text": [
      "/Users/jenelleverrochi/anaconda3/lib/python3.6/site-packages/sklearn/linear_model/coordinate_descent.py:491: ConvergenceWarning: Objective did not converge. You might want to increase the number of iterations. Fitting data with very small alpha may cause precision problems.\n",
      "  ConvergenceWarning)\n"
     ]
    },
    {
     "name": "stdout",
     "output_type": "stream",
     "text": [
      "[CV]  alpha=0.01, fit_intercept=False, l1_ratio=0.554444444444, total=   0.2s\n",
      "[CV] alpha=0.01, fit_intercept=False, l1_ratio=0.772222222222 ........\n"
     ]
    },
    {
     "name": "stderr",
     "output_type": "stream",
     "text": [
      "/Users/jenelleverrochi/anaconda3/lib/python3.6/site-packages/sklearn/linear_model/coordinate_descent.py:491: ConvergenceWarning: Objective did not converge. You might want to increase the number of iterations. Fitting data with very small alpha may cause precision problems.\n",
      "  ConvergenceWarning)\n"
     ]
    },
    {
     "name": "stdout",
     "output_type": "stream",
     "text": [
      "[CV]  alpha=0.01, fit_intercept=False, l1_ratio=0.554444444444, total=   0.2s\n",
      "[CV] alpha=0.01, fit_intercept=False, l1_ratio=0.881111111111 ........\n"
     ]
    },
    {
     "name": "stderr",
     "output_type": "stream",
     "text": [
      "/Users/jenelleverrochi/anaconda3/lib/python3.6/site-packages/sklearn/linear_model/coordinate_descent.py:491: ConvergenceWarning: Objective did not converge. You might want to increase the number of iterations. Fitting data with very small alpha may cause precision problems.\n",
      "  ConvergenceWarning)\n"
     ]
    },
    {
     "name": "stdout",
     "output_type": "stream",
     "text": [
      "[CV]  alpha=0.01, fit_intercept=False, l1_ratio=0.663333333333, total=   0.2s\n",
      "[CV] alpha=0.01, fit_intercept=False, l1_ratio=0.772222222222 ........\n"
     ]
    },
    {
     "name": "stderr",
     "output_type": "stream",
     "text": [
      "/Users/jenelleverrochi/anaconda3/lib/python3.6/site-packages/sklearn/linear_model/coordinate_descent.py:491: ConvergenceWarning: Objective did not converge. You might want to increase the number of iterations. Fitting data with very small alpha may cause precision problems.\n",
      "  ConvergenceWarning)\n"
     ]
    },
    {
     "name": "stdout",
     "output_type": "stream",
     "text": [
      "[CV]  alpha=0.01, fit_intercept=False, l1_ratio=0.772222222222, total=   0.2s\n",
      "[CV] alpha=0.01, fit_intercept=False, l1_ratio=0.772222222222 ........\n"
     ]
    },
    {
     "name": "stderr",
     "output_type": "stream",
     "text": [
      "/Users/jenelleverrochi/anaconda3/lib/python3.6/site-packages/sklearn/linear_model/coordinate_descent.py:491: ConvergenceWarning: Objective did not converge. You might want to increase the number of iterations. Fitting data with very small alpha may cause precision problems.\n",
      "  ConvergenceWarning)\n"
     ]
    },
    {
     "name": "stdout",
     "output_type": "stream",
     "text": [
      "[CV]  alpha=0.01, fit_intercept=False, l1_ratio=0.663333333333, total=   0.2s\n"
     ]
    },
    {
     "name": "stderr",
     "output_type": "stream",
     "text": [
      "/Users/jenelleverrochi/anaconda3/lib/python3.6/site-packages/sklearn/linear_model/coordinate_descent.py:491: ConvergenceWarning: Objective did not converge. You might want to increase the number of iterations. Fitting data with very small alpha may cause precision problems.\n",
      "  ConvergenceWarning)\n"
     ]
    },
    {
     "name": "stdout",
     "output_type": "stream",
     "text": [
      "[CV] alpha=0.01, fit_intercept=False, l1_ratio=0.881111111111 ........\n",
      "[CV]  alpha=0.01, fit_intercept=False, l1_ratio=0.881111111111, total=   0.2s\n",
      "[CV] alpha=0.01, fit_intercept=False, l1_ratio=0.881111111111 ........\n"
     ]
    },
    {
     "name": "stderr",
     "output_type": "stream",
     "text": [
      "/Users/jenelleverrochi/anaconda3/lib/python3.6/site-packages/sklearn/linear_model/coordinate_descent.py:491: ConvergenceWarning: Objective did not converge. You might want to increase the number of iterations. Fitting data with very small alpha may cause precision problems.\n",
      "  ConvergenceWarning)\n"
     ]
    },
    {
     "name": "stdout",
     "output_type": "stream",
     "text": [
      "[CV]  alpha=0.01, fit_intercept=False, l1_ratio=0.772222222222, total=   0.2s\n",
      "[CV] alpha=0.01, fit_intercept=False, l1_ratio=0.99 ..................\n"
     ]
    },
    {
     "name": "stderr",
     "output_type": "stream",
     "text": [
      "/Users/jenelleverrochi/anaconda3/lib/python3.6/site-packages/sklearn/linear_model/coordinate_descent.py:491: ConvergenceWarning: Objective did not converge. You might want to increase the number of iterations. Fitting data with very small alpha may cause precision problems.\n",
      "  ConvergenceWarning)\n",
      "/Users/jenelleverrochi/anaconda3/lib/python3.6/site-packages/sklearn/linear_model/coordinate_descent.py:491: ConvergenceWarning: Objective did not converge. You might want to increase the number of iterations. Fitting data with very small alpha may cause precision problems.\n",
      "  ConvergenceWarning)\n",
      "/Users/jenelleverrochi/anaconda3/lib/python3.6/site-packages/sklearn/linear_model/coordinate_descent.py:491: ConvergenceWarning: Objective did not converge. You might want to increase the number of iterations. Fitting data with very small alpha may cause precision problems.\n",
      "  ConvergenceWarning)\n"
     ]
    },
    {
     "name": "stdout",
     "output_type": "stream",
     "text": [
      "[CV]  alpha=0.01, fit_intercept=False, l1_ratio=0.772222222222, total=   0.2s\n",
      "[CV] alpha=11.12, fit_intercept=True, l1_ratio=0.01 ..................\n",
      "[CV]  alpha=0.01, fit_intercept=False, l1_ratio=0.881111111111, total=   0.1s\n",
      "[CV] alpha=11.12, fit_intercept=True, l1_ratio=0.01 ..................\n",
      "[CV]  alpha=0.01, fit_intercept=False, l1_ratio=0.881111111111, total=   0.1s\n",
      "[CV] alpha=0.01, fit_intercept=False, l1_ratio=0.99 ..................\n",
      "[CV] ... alpha=11.12, fit_intercept=True, l1_ratio=0.01, total=   0.0s\n",
      "[CV] alpha=11.12, fit_intercept=True, l1_ratio=0.118888888889 ........\n",
      "[CV] ... alpha=11.12, fit_intercept=True, l1_ratio=0.01, total=   0.0s\n",
      "[CV] alpha=11.12, fit_intercept=True, l1_ratio=0.01 ..................\n",
      "[CV] ... alpha=11.12, fit_intercept=True, l1_ratio=0.01, total=   0.0s\n"
     ]
    },
    {
     "name": "stderr",
     "output_type": "stream",
     "text": [
      "/Users/jenelleverrochi/anaconda3/lib/python3.6/site-packages/sklearn/linear_model/coordinate_descent.py:491: ConvergenceWarning: Objective did not converge. You might want to increase the number of iterations. Fitting data with very small alpha may cause precision problems.\n",
      "  ConvergenceWarning)\n"
     ]
    },
    {
     "name": "stdout",
     "output_type": "stream",
     "text": [
      "[CV] alpha=11.12, fit_intercept=True, l1_ratio=0.118888888889 ........\n",
      "[CV]  alpha=11.12, fit_intercept=True, l1_ratio=0.118888888889, total=   0.0s\n",
      "[CV] alpha=11.12, fit_intercept=True, l1_ratio=0.227777777778 ........\n",
      "[CV] ... alpha=0.01, fit_intercept=False, l1_ratio=0.99, total=   0.1s\n",
      "[CV] alpha=0.01, fit_intercept=False, l1_ratio=0.99 ..................\n",
      "[CV]  alpha=11.12, fit_intercept=True, l1_ratio=0.118888888889, total=   0.0s\n",
      "[CV] alpha=11.12, fit_intercept=True, l1_ratio=0.118888888889 ........\n",
      "[CV]  alpha=11.12, fit_intercept=True, l1_ratio=0.227777777778, total=   0.0s\n",
      "[CV] alpha=11.12, fit_intercept=True, l1_ratio=0.227777777778 ........\n",
      "[CV]  alpha=11.12, fit_intercept=True, l1_ratio=0.118888888889, total=   0.0s\n"
     ]
    },
    {
     "name": "stderr",
     "output_type": "stream",
     "text": [
      "/Users/jenelleverrochi/anaconda3/lib/python3.6/site-packages/sklearn/linear_model/coordinate_descent.py:491: ConvergenceWarning: Objective did not converge. You might want to increase the number of iterations. Fitting data with very small alpha may cause precision problems.\n",
      "  ConvergenceWarning)\n"
     ]
    },
    {
     "name": "stdout",
     "output_type": "stream",
     "text": [
      "[CV] alpha=11.12, fit_intercept=True, l1_ratio=0.227777777778 ........\n",
      "[CV]  alpha=11.12, fit_intercept=True, l1_ratio=0.227777777778, total=   0.0s\n",
      "[CV] alpha=11.12, fit_intercept=True, l1_ratio=0.336666666667 ........\n",
      "[CV]  alpha=11.12, fit_intercept=True, l1_ratio=0.227777777778, total=   0.0s\n",
      "[CV] alpha=11.12, fit_intercept=True, l1_ratio=0.336666666667 ........\n",
      "[CV] ... alpha=0.01, fit_intercept=False, l1_ratio=0.99, total=   0.1s\n",
      "[CV]  alpha=11.12, fit_intercept=True, l1_ratio=0.336666666667, total=   0.0s\n",
      "[CV] alpha=11.12, fit_intercept=True, l1_ratio=0.445555555556 ........\n",
      "[CV] alpha=11.12, fit_intercept=True, l1_ratio=0.336666666667 ........\n",
      "[CV]  alpha=11.12, fit_intercept=True, l1_ratio=0.336666666667, total=   0.0s\n",
      "[CV] alpha=11.12, fit_intercept=True, l1_ratio=0.445555555556 ........\n"
     ]
    },
    {
     "name": "stderr",
     "output_type": "stream",
     "text": [
      "/Users/jenelleverrochi/anaconda3/lib/python3.6/site-packages/sklearn/linear_model/coordinate_descent.py:491: ConvergenceWarning: Objective did not converge. You might want to increase the number of iterations. Fitting data with very small alpha may cause precision problems.\n",
      "  ConvergenceWarning)\n"
     ]
    },
    {
     "name": "stdout",
     "output_type": "stream",
     "text": [
      "[CV] ... alpha=0.01, fit_intercept=False, l1_ratio=0.99, total=   0.1s\n",
      "[CV]  alpha=11.12, fit_intercept=True, l1_ratio=0.445555555556, total=   0.0s\n",
      "[CV]  alpha=11.12, fit_intercept=True, l1_ratio=0.336666666667, total=   0.0s\n",
      "[CV] alpha=11.12, fit_intercept=True, l1_ratio=0.445555555556 ........\n",
      "[CV] alpha=11.12, fit_intercept=True, l1_ratio=0.554444444444 ........\n",
      "[CV] alpha=11.12, fit_intercept=True, l1_ratio=0.663333333333 ........\n",
      "[CV]  alpha=11.12, fit_intercept=True, l1_ratio=0.445555555556, total=   0.0s\n",
      "[CV] alpha=11.12, fit_intercept=True, l1_ratio=0.554444444444 ........\n",
      "[CV]  alpha=11.12, fit_intercept=True, l1_ratio=0.445555555556, total=   0.0s\n",
      "[CV] alpha=11.12, fit_intercept=True, l1_ratio=0.663333333333 ........\n",
      "[CV]  alpha=11.12, fit_intercept=True, l1_ratio=0.663333333333, total=   0.0s\n",
      "[CV] alpha=11.12, fit_intercept=True, l1_ratio=0.663333333333 ........\n",
      "[CV]  alpha=11.12, fit_intercept=True, l1_ratio=0.554444444444, total=   0.0s\n",
      "[CV] alpha=11.12, fit_intercept=True, l1_ratio=0.772222222222 ........\n",
      "[CV]  alpha=11.12, fit_intercept=True, l1_ratio=0.554444444444, total=   0.0s\n",
      "[CV] alpha=11.12, fit_intercept=True, l1_ratio=0.554444444444 ........\n",
      "[CV]  alpha=11.12, fit_intercept=True, l1_ratio=0.772222222222, total=   0.0s\n",
      "[CV] alpha=11.12, fit_intercept=True, l1_ratio=0.772222222222 ........\n"
     ]
    },
    {
     "name": "stderr",
     "output_type": "stream",
     "text": [
      "[Parallel(n_jobs=-1)]: Done  58 tasks      | elapsed:    2.1s\n"
     ]
    },
    {
     "name": "stdout",
     "output_type": "stream",
     "text": [
      "[CV]  alpha=11.12, fit_intercept=True, l1_ratio=0.663333333333, total=   0.0s\n",
      "[CV]  alpha=11.12, fit_intercept=True, l1_ratio=0.663333333333, total=   0.0s\n",
      "[CV] alpha=11.12, fit_intercept=True, l1_ratio=0.772222222222 ........\n",
      "[CV] alpha=11.12, fit_intercept=True, l1_ratio=0.881111111111 ........\n",
      "[CV]  alpha=11.12, fit_intercept=True, l1_ratio=0.554444444444, total=   0.0s\n",
      "[CV]  alpha=11.12, fit_intercept=True, l1_ratio=0.772222222222, total=   0.0s\n",
      "[CV] alpha=11.12, fit_intercept=True, l1_ratio=0.881111111111 ........\n",
      "[CV] alpha=11.12, fit_intercept=True, l1_ratio=0.99 ..................\n",
      "[CV]  alpha=11.12, fit_intercept=True, l1_ratio=0.772222222222, total=   0.0s\n",
      "[CV]  alpha=11.12, fit_intercept=True, l1_ratio=0.881111111111, total=   0.0s\n",
      "[CV] alpha=11.12, fit_intercept=True, l1_ratio=0.881111111111 ........\n",
      "[CV] alpha=11.12, fit_intercept=False, l1_ratio=0.01 .................\n",
      "[CV] .. alpha=11.12, fit_intercept=False, l1_ratio=0.01, total=   0.0s\n",
      "[CV] alpha=11.12, fit_intercept=False, l1_ratio=0.01 .................\n",
      "[CV]  alpha=11.12, fit_intercept=True, l1_ratio=0.881111111111, total=   0.0s\n",
      "[CV] alpha=11.12, fit_intercept=False, l1_ratio=0.01 .................\n",
      "[CV] ... alpha=11.12, fit_intercept=True, l1_ratio=0.99, total=   0.0s\n",
      "[CV] alpha=11.12, fit_intercept=True, l1_ratio=0.99 ..................\n",
      "[CV]  alpha=11.12, fit_intercept=True, l1_ratio=0.881111111111, total=   0.0s\n",
      "[CV] alpha=11.12, fit_intercept=True, l1_ratio=0.99 ..................\n",
      "[CV] .. alpha=11.12, fit_intercept=False, l1_ratio=0.01, total=   0.0s\n",
      "[CV] alpha=11.12, fit_intercept=False, l1_ratio=0.118888888889 .......\n",
      "[CV] .. alpha=11.12, fit_intercept=False, l1_ratio=0.01, total=   0.0s\n",
      "[CV] alpha=11.12, fit_intercept=False, l1_ratio=0.118888888889 .......\n",
      "[CV] ... alpha=11.12, fit_intercept=True, l1_ratio=0.99, total=   0.0s\n",
      "[CV] alpha=11.12, fit_intercept=False, l1_ratio=0.227777777778 .......\n",
      "[CV] ... alpha=11.12, fit_intercept=True, l1_ratio=0.99, total=   0.0s\n",
      "[CV] alpha=11.12, fit_intercept=False, l1_ratio=0.227777777778 .......\n",
      "[CV]  alpha=11.12, fit_intercept=False, l1_ratio=0.118888888889, total=   0.0s\n",
      "[CV]  alpha=11.12, fit_intercept=False, l1_ratio=0.118888888889, total=   0.0s\n",
      "[CV] alpha=11.12, fit_intercept=False, l1_ratio=0.118888888889 .......\n",
      "[CV] alpha=11.12, fit_intercept=False, l1_ratio=0.336666666667 .......\n",
      "[CV]  alpha=11.12, fit_intercept=False, l1_ratio=0.336666666667, total=   0.0s\n",
      "[CV] alpha=11.12, fit_intercept=False, l1_ratio=0.336666666667 .......\n",
      "[CV]  alpha=11.12, fit_intercept=False, l1_ratio=0.227777777778, total=   0.0s\n",
      "[CV] alpha=11.12, fit_intercept=False, l1_ratio=0.227777777778 .......\n",
      "[CV]  alpha=11.12, fit_intercept=False, l1_ratio=0.118888888889, total=   0.0s\n",
      "[CV] alpha=11.12, fit_intercept=False, l1_ratio=0.445555555556 .......\n",
      "[CV]  alpha=11.12, fit_intercept=False, l1_ratio=0.227777777778, total=   0.0s\n",
      "[CV] alpha=11.12, fit_intercept=False, l1_ratio=0.336666666667 .......\n",
      "[CV]  alpha=11.12, fit_intercept=False, l1_ratio=0.227777777778, total=   0.0s\n",
      "[CV]  alpha=11.12, fit_intercept=False, l1_ratio=0.336666666667, total=   0.0s\n",
      "[CV] alpha=11.12, fit_intercept=False, l1_ratio=0.445555555556 .......\n",
      "[CV] alpha=11.12, fit_intercept=False, l1_ratio=0.663333333333 .......\n",
      "[CV]  alpha=11.12, fit_intercept=False, l1_ratio=0.445555555556, total=   0.0s\n",
      "[CV]  alpha=11.12, fit_intercept=False, l1_ratio=0.336666666667, total=   0.0s\n",
      "[CV] alpha=11.12, fit_intercept=False, l1_ratio=0.554444444444 .......\n",
      "[CV] alpha=11.12, fit_intercept=False, l1_ratio=0.772222222222 .......\n",
      "[CV]  alpha=11.12, fit_intercept=False, l1_ratio=0.445555555556, total=   0.0s\n",
      "[CV] alpha=11.12, fit_intercept=False, l1_ratio=0.445555555556 .......\n",
      "[CV]  alpha=11.12, fit_intercept=False, l1_ratio=0.663333333333, total=   0.0s\n",
      "[CV] alpha=11.12, fit_intercept=False, l1_ratio=0.663333333333 .......\n",
      "[CV]  alpha=11.12, fit_intercept=False, l1_ratio=0.554444444444, total=   0.0s\n",
      "[CV] alpha=11.12, fit_intercept=False, l1_ratio=0.554444444444 .......\n",
      "[CV]  alpha=11.12, fit_intercept=False, l1_ratio=0.772222222222, total=   0.0s\n",
      "[CV] alpha=11.12, fit_intercept=False, l1_ratio=0.772222222222 .......\n",
      "[CV]  alpha=11.12, fit_intercept=False, l1_ratio=0.445555555556, total=   0.0s\n",
      "[CV]  alpha=11.12, fit_intercept=False, l1_ratio=0.772222222222, total=   0.0s\n",
      "[CV] alpha=11.12, fit_intercept=False, l1_ratio=0.663333333333 .......\n",
      "[CV]  alpha=11.12, fit_intercept=False, l1_ratio=0.663333333333, total=   0.0s\n",
      "[CV] alpha=11.12, fit_intercept=False, l1_ratio=0.881111111111 .......\n",
      "[CV] alpha=11.12, fit_intercept=False, l1_ratio=0.881111111111 .......\n",
      "[CV]  alpha=11.12, fit_intercept=False, l1_ratio=0.554444444444, total=   0.0s\n",
      "[CV] alpha=11.12, fit_intercept=False, l1_ratio=0.554444444444 .......\n",
      "[CV]  alpha=11.12, fit_intercept=False, l1_ratio=0.663333333333, total=   0.0s\n",
      "[CV]  alpha=11.12, fit_intercept=False, l1_ratio=0.881111111111, total=   0.0s\n",
      "[CV] alpha=11.12, fit_intercept=False, l1_ratio=0.772222222222 .......\n",
      "[CV] alpha=11.12, fit_intercept=False, l1_ratio=0.881111111111 .......\n",
      "[CV]  alpha=11.12, fit_intercept=False, l1_ratio=0.554444444444, total=   0.0s\n",
      "[CV] alpha=22.23, fit_intercept=True, l1_ratio=0.01 ..................\n",
      "[CV]  alpha=11.12, fit_intercept=False, l1_ratio=0.881111111111, total=   0.0s\n",
      "[CV] alpha=11.12, fit_intercept=False, l1_ratio=0.99 .................\n",
      "[CV]  alpha=11.12, fit_intercept=False, l1_ratio=0.772222222222, total=   0.0s\n",
      "[CV]  alpha=11.12, fit_intercept=False, l1_ratio=0.881111111111, total=   0.0s\n",
      "[CV] alpha=22.23, fit_intercept=True, l1_ratio=0.227777777778 ........\n",
      "[CV] alpha=22.23, fit_intercept=True, l1_ratio=0.118888888889 ........\n",
      "[CV] ... alpha=22.23, fit_intercept=True, l1_ratio=0.01, total=   0.0s\n",
      "[CV] alpha=22.23, fit_intercept=True, l1_ratio=0.01 ..................\n",
      "[CV]  alpha=22.23, fit_intercept=True, l1_ratio=0.118888888889, total=   0.0s\n",
      "[CV] .. alpha=11.12, fit_intercept=False, l1_ratio=0.99, total=   0.0s\n",
      "[CV] alpha=22.23, fit_intercept=True, l1_ratio=0.118888888889 ........\n",
      "[CV] alpha=11.12, fit_intercept=False, l1_ratio=0.99 .................\n",
      "[CV]  alpha=22.23, fit_intercept=True, l1_ratio=0.227777777778, total=   0.0s\n",
      "[CV] alpha=22.23, fit_intercept=True, l1_ratio=0.336666666667 ........\n",
      "[CV] ... alpha=22.23, fit_intercept=True, l1_ratio=0.01, total=   0.0s\n",
      "[CV] alpha=22.23, fit_intercept=True, l1_ratio=0.01 ..................\n",
      "[CV] .. alpha=11.12, fit_intercept=False, l1_ratio=0.99, total=   0.0s\n",
      "[CV]  alpha=22.23, fit_intercept=True, l1_ratio=0.118888888889, total=   0.0s\n",
      "[CV] alpha=11.12, fit_intercept=False, l1_ratio=0.99 .................\n",
      "[CV] alpha=22.23, fit_intercept=True, l1_ratio=0.227777777778 ........\n",
      "[CV]  alpha=22.23, fit_intercept=True, l1_ratio=0.336666666667, total=   0.0s\n",
      "[CV] alpha=22.23, fit_intercept=True, l1_ratio=0.336666666667 ........\n",
      "[CV] ... alpha=22.23, fit_intercept=True, l1_ratio=0.01, total=   0.0s\n",
      "[CV] alpha=22.23, fit_intercept=True, l1_ratio=0.118888888889 ........\n",
      "[CV] .. alpha=11.12, fit_intercept=False, l1_ratio=0.99, total=   0.0s\n",
      "[CV]  alpha=22.23, fit_intercept=True, l1_ratio=0.336666666667, total=   0.0s\n",
      "[CV] alpha=22.23, fit_intercept=True, l1_ratio=0.445555555556 ........\n",
      "[CV]  alpha=22.23, fit_intercept=True, l1_ratio=0.227777777778, total=   0.0s\n",
      "[CV] alpha=22.23, fit_intercept=True, l1_ratio=0.336666666667 ........\n",
      "[CV] alpha=22.23, fit_intercept=True, l1_ratio=0.227777777778 ........\n",
      "[CV]  alpha=22.23, fit_intercept=True, l1_ratio=0.118888888889, total=   0.0s\n",
      "[CV] alpha=22.23, fit_intercept=True, l1_ratio=0.772222222222 ........\n",
      "[CV]  alpha=22.23, fit_intercept=True, l1_ratio=0.445555555556, total=   0.0s\n",
      "[CV] alpha=22.23, fit_intercept=True, l1_ratio=0.445555555556 ........\n",
      "[CV]  alpha=22.23, fit_intercept=True, l1_ratio=0.336666666667, total=   0.0s\n",
      "[CV]  alpha=22.23, fit_intercept=True, l1_ratio=0.227777777778, total=   0.0s\n",
      "[CV] alpha=22.23, fit_intercept=True, l1_ratio=0.772222222222 ........\n",
      "[CV]  alpha=22.23, fit_intercept=True, l1_ratio=0.772222222222, total=   0.0s\n",
      "[CV] alpha=22.23, fit_intercept=False, l1_ratio=0.01 .................\n",
      "[CV] alpha=22.23, fit_intercept=False, l1_ratio=0.445555555556 .......\n",
      "[CV]  alpha=22.23, fit_intercept=True, l1_ratio=0.445555555556, total=   0.0s\n"
     ]
    },
    {
     "name": "stdout",
     "output_type": "stream",
     "text": [
      "[CV] alpha=22.23, fit_intercept=True, l1_ratio=0.445555555556 ........\n",
      "[CV] .. alpha=22.23, fit_intercept=False, l1_ratio=0.01, total=   0.0s\n",
      "[CV] alpha=22.23, fit_intercept=False, l1_ratio=0.118888888889 .......\n",
      "[CV]  alpha=22.23, fit_intercept=True, l1_ratio=0.772222222222, total=   0.0s\n",
      "[CV]  alpha=22.23, fit_intercept=False, l1_ratio=0.445555555556, total=   0.0s\n",
      "[CV] alpha=22.23, fit_intercept=True, l1_ratio=0.881111111111 ........\n",
      "[CV] alpha=22.23, fit_intercept=False, l1_ratio=0.445555555556 .......\n",
      "[CV]  alpha=22.23, fit_intercept=True, l1_ratio=0.445555555556, total=   0.0s\n",
      "[CV] alpha=22.23, fit_intercept=True, l1_ratio=0.554444444444 ........\n",
      "[CV]  alpha=22.23, fit_intercept=False, l1_ratio=0.118888888889, total=   0.0s\n",
      "[CV] alpha=22.23, fit_intercept=False, l1_ratio=0.118888888889 .......\n",
      "[CV]  alpha=22.23, fit_intercept=False, l1_ratio=0.445555555556, total=   0.0s\n",
      "[CV]  alpha=22.23, fit_intercept=False, l1_ratio=0.118888888889, total=   0.0s\n",
      "[CV] alpha=22.23, fit_intercept=False, l1_ratio=0.445555555556 .......\n",
      "[CV] alpha=22.23, fit_intercept=False, l1_ratio=0.118888888889 .......\n",
      "[CV]  alpha=22.23, fit_intercept=True, l1_ratio=0.881111111111, total=   0.0s\n",
      "[CV] alpha=22.23, fit_intercept=True, l1_ratio=0.881111111111 ........\n",
      "[CV]  alpha=22.23, fit_intercept=True, l1_ratio=0.554444444444, total=   0.0s\n",
      "[CV] alpha=22.23, fit_intercept=True, l1_ratio=0.554444444444 ........\n",
      "[CV]  alpha=22.23, fit_intercept=False, l1_ratio=0.118888888889, total=   0.0s\n",
      "[CV] alpha=22.23, fit_intercept=False, l1_ratio=0.227777777778 .......\n",
      "[CV]  alpha=22.23, fit_intercept=False, l1_ratio=0.445555555556, total=   0.0s\n",
      "[CV] alpha=22.23, fit_intercept=False, l1_ratio=0.554444444444 .......\n",
      "[CV]  alpha=22.23, fit_intercept=True, l1_ratio=0.881111111111, total=   0.0s\n",
      "[CV] alpha=22.23, fit_intercept=True, l1_ratio=0.881111111111 ........\n",
      "[CV]  alpha=22.23, fit_intercept=True, l1_ratio=0.554444444444, total=   0.0s\n",
      "[CV]  alpha=22.23, fit_intercept=False, l1_ratio=0.554444444444, total=   0.0s\n",
      "[CV] alpha=22.23, fit_intercept=True, l1_ratio=0.554444444444 ........\n",
      "[CV] alpha=22.23, fit_intercept=False, l1_ratio=0.554444444444 .......\n",
      "[CV]  alpha=22.23, fit_intercept=False, l1_ratio=0.227777777778, total=   0.0s\n",
      "[CV] alpha=22.23, fit_intercept=False, l1_ratio=0.227777777778 .......\n",
      "[CV]  alpha=22.23, fit_intercept=True, l1_ratio=0.881111111111, total=   0.0s\n",
      "[CV]  alpha=22.23, fit_intercept=True, l1_ratio=0.554444444444, total=   0.0s\n",
      "[CV] alpha=22.23, fit_intercept=True, l1_ratio=0.99 ..................\n",
      "[CV]  alpha=22.23, fit_intercept=False, l1_ratio=0.554444444444, total=   0.0s\n",
      "[CV] alpha=22.23, fit_intercept=True, l1_ratio=0.663333333333 ........\n",
      "[CV] alpha=22.23, fit_intercept=False, l1_ratio=0.554444444444 .......\n",
      "[CV]  alpha=22.23, fit_intercept=False, l1_ratio=0.227777777778, total=   0.0s\n",
      "[CV] alpha=22.23, fit_intercept=False, l1_ratio=0.227777777778 .......\n",
      "[CV]  alpha=22.23, fit_intercept=True, l1_ratio=0.663333333333, total=   0.0s\n",
      "[CV]  alpha=22.23, fit_intercept=False, l1_ratio=0.554444444444, total=   0.0s\n",
      "[CV] alpha=22.23, fit_intercept=True, l1_ratio=0.663333333333 ........\n",
      "[CV] alpha=22.23, fit_intercept=False, l1_ratio=0.663333333333 .......\n",
      "[CV]  alpha=22.23, fit_intercept=False, l1_ratio=0.227777777778, total=   0.0s\n",
      "[CV] ... alpha=22.23, fit_intercept=True, l1_ratio=0.99, total=   0.0s\n",
      "[CV] alpha=22.23, fit_intercept=False, l1_ratio=0.336666666667 .......\n",
      "[CV] alpha=22.23, fit_intercept=True, l1_ratio=0.99 ..................\n",
      "[CV]  alpha=22.23, fit_intercept=True, l1_ratio=0.663333333333, total=   0.0s\n",
      "[CV]  alpha=22.23, fit_intercept=False, l1_ratio=0.663333333333, total=   0.0s\n",
      "[CV] alpha=22.23, fit_intercept=False, l1_ratio=0.663333333333 .......\n",
      "[CV] alpha=22.23, fit_intercept=True, l1_ratio=0.663333333333 ........\n",
      "[CV]  alpha=22.23, fit_intercept=False, l1_ratio=0.336666666667, total=   0.0s\n",
      "[CV] ... alpha=22.23, fit_intercept=True, l1_ratio=0.99, total=   0.0s\n",
      "[CV] alpha=22.23, fit_intercept=False, l1_ratio=0.336666666667 .......\n",
      "[CV] alpha=22.23, fit_intercept=True, l1_ratio=0.99 ..................\n",
      "[CV]  alpha=22.23, fit_intercept=False, l1_ratio=0.663333333333, total=   0.0s\n",
      "[CV] alpha=22.23, fit_intercept=False, l1_ratio=0.663333333333 .......\n",
      "[CV]  alpha=22.23, fit_intercept=True, l1_ratio=0.663333333333, total=   0.0s\n",
      "[CV]  alpha=22.23, fit_intercept=False, l1_ratio=0.336666666667, total=   0.0s\n",
      "[CV] alpha=22.23, fit_intercept=False, l1_ratio=0.336666666667 .......\n",
      "[CV] alpha=22.23, fit_intercept=True, l1_ratio=0.772222222222 ........\n",
      "[CV]  alpha=22.23, fit_intercept=False, l1_ratio=0.663333333333, total=   0.0s\n",
      "[CV] alpha=22.23, fit_intercept=False, l1_ratio=0.772222222222 .......\n",
      "[CV]  alpha=22.23, fit_intercept=False, l1_ratio=0.336666666667, total=   0.0s\n",
      "[CV] ... alpha=22.23, fit_intercept=True, l1_ratio=0.99, total=   0.0s\n",
      "[CV]  alpha=22.23, fit_intercept=True, l1_ratio=0.772222222222, total=   0.0s\n",
      "[CV] alpha=22.23, fit_intercept=False, l1_ratio=0.01 .................\n",
      "[CV] alpha=22.23, fit_intercept=False, l1_ratio=0.772222222222 .......\n",
      "[CV] alpha=33.34, fit_intercept=True, l1_ratio=0.01 ..................\n",
      "[CV]  alpha=22.23, fit_intercept=False, l1_ratio=0.772222222222, total=   0.0s\n",
      "[CV] alpha=33.34, fit_intercept=True, l1_ratio=0.445555555556 ........\n",
      "[CV] .. alpha=22.23, fit_intercept=False, l1_ratio=0.01, total=   0.0s\n",
      "[CV] alpha=22.23, fit_intercept=False, l1_ratio=0.01 .................\n",
      "[CV] ... alpha=33.34, fit_intercept=True, l1_ratio=0.01, total=   0.0s\n",
      "[CV] alpha=33.34, fit_intercept=True, l1_ratio=0.118888888889 ........\n",
      "[CV]  alpha=22.23, fit_intercept=False, l1_ratio=0.772222222222, total=   0.0s\n",
      "[CV] alpha=22.23, fit_intercept=False, l1_ratio=0.772222222222 .......\n",
      "[CV]  alpha=33.34, fit_intercept=True, l1_ratio=0.445555555556, total=   0.0s\n",
      "[CV] .. alpha=22.23, fit_intercept=False, l1_ratio=0.01, total=   0.0s\n",
      "[CV] alpha=33.34, fit_intercept=True, l1_ratio=0.445555555556 ........\n",
      "[CV] alpha=33.34, fit_intercept=True, l1_ratio=0.772222222222 ........\n",
      "[CV]  alpha=33.34, fit_intercept=True, l1_ratio=0.118888888889, total=   0.0s\n",
      "[CV]  alpha=22.23, fit_intercept=False, l1_ratio=0.772222222222, total=   0.0s\n",
      "[CV] alpha=33.34, fit_intercept=True, l1_ratio=0.118888888889 ........\n",
      "[CV] alpha=22.23, fit_intercept=False, l1_ratio=0.881111111111 .......\n",
      "[CV]  alpha=33.34, fit_intercept=True, l1_ratio=0.772222222222, total=   0.0s\n",
      "[CV] alpha=33.34, fit_intercept=True, l1_ratio=0.772222222222 ........\n",
      "[CV]  alpha=33.34, fit_intercept=True, l1_ratio=0.445555555556, total=   0.0s\n",
      "[CV] alpha=33.34, fit_intercept=True, l1_ratio=0.445555555556 ........\n",
      "[CV]  alpha=33.34, fit_intercept=True, l1_ratio=0.118888888889, total=   0.0s\n",
      "[CV]  alpha=22.23, fit_intercept=False, l1_ratio=0.881111111111, total=   0.0s\n",
      "[CV] alpha=22.23, fit_intercept=False, l1_ratio=0.881111111111 .......\n",
      "[CV] alpha=33.34, fit_intercept=True, l1_ratio=0.118888888889 ........\n",
      "[CV]  alpha=33.34, fit_intercept=True, l1_ratio=0.772222222222, total=   0.0s\n",
      "[CV] alpha=33.34, fit_intercept=True, l1_ratio=0.881111111111 ........\n",
      "[CV]  alpha=33.34, fit_intercept=True, l1_ratio=0.118888888889, total=   0.0s\n",
      "[CV] alpha=33.34, fit_intercept=True, l1_ratio=0.227777777778 ........\n",
      "[CV]  alpha=22.23, fit_intercept=False, l1_ratio=0.881111111111, total=   0.0s\n",
      "[CV] alpha=22.23, fit_intercept=False, l1_ratio=0.881111111111 .......\n",
      "[CV]  alpha=33.34, fit_intercept=True, l1_ratio=0.445555555556, total=   0.0s\n",
      "[CV]  alpha=33.34, fit_intercept=True, l1_ratio=0.881111111111, total=   0.0s\n",
      "[CV] alpha=33.34, fit_intercept=True, l1_ratio=0.881111111111 ........\n",
      "[CV] alpha=33.34, fit_intercept=True, l1_ratio=0.554444444444 ........\n",
      "[CV]  alpha=33.34, fit_intercept=True, l1_ratio=0.881111111111, total=   0.0s\n",
      "[CV] alpha=33.34, fit_intercept=True, l1_ratio=0.881111111111 ........\n",
      "[CV]  alpha=22.23, fit_intercept=False, l1_ratio=0.881111111111, total=   0.0s\n",
      "[CV] alpha=22.23, fit_intercept=False, l1_ratio=0.99 .................\n",
      "[CV]  alpha=33.34, fit_intercept=True, l1_ratio=0.227777777778, total=   0.0s\n",
      "[CV] alpha=33.34, fit_intercept=True, l1_ratio=0.227777777778 ........\n",
      "[CV]  alpha=33.34, fit_intercept=True, l1_ratio=0.554444444444, total=   0.0s\n",
      "[CV]  alpha=33.34, fit_intercept=True, l1_ratio=0.881111111111, total=   0.0s\n"
     ]
    },
    {
     "name": "stdout",
     "output_type": "stream",
     "text": [
      "[CV] alpha=33.34, fit_intercept=True, l1_ratio=0.554444444444 ........\n",
      "[CV] alpha=33.34, fit_intercept=True, l1_ratio=0.99 ..................\n",
      "[CV] .. alpha=22.23, fit_intercept=False, l1_ratio=0.99, total=   0.0s\n",
      "[CV] alpha=22.23, fit_intercept=False, l1_ratio=0.99 .................\n",
      "[CV]  alpha=33.34, fit_intercept=True, l1_ratio=0.227777777778, total=   0.0s\n",
      "[CV] alpha=33.34, fit_intercept=True, l1_ratio=0.227777777778 ........\n",
      "[CV] ... alpha=33.34, fit_intercept=True, l1_ratio=0.99, total=   0.0s\n",
      "[CV] alpha=33.34, fit_intercept=True, l1_ratio=0.99 ..................\n",
      "[CV]  alpha=33.34, fit_intercept=True, l1_ratio=0.554444444444, total=   0.0s\n",
      "[CV] alpha=33.34, fit_intercept=True, l1_ratio=0.554444444444 ........\n",
      "[CV] .. alpha=22.23, fit_intercept=False, l1_ratio=0.99, total=   0.0s\n",
      "[CV]  alpha=33.34, fit_intercept=True, l1_ratio=0.227777777778, total=   0.0s\n",
      "[CV] alpha=22.23, fit_intercept=False, l1_ratio=0.99 .................\n",
      "[CV] alpha=33.34, fit_intercept=True, l1_ratio=0.336666666667 ........\n",
      "[CV] ... alpha=33.34, fit_intercept=True, l1_ratio=0.99, total=   0.0s\n",
      "[CV] alpha=33.34, fit_intercept=True, l1_ratio=0.99 ..................\n",
      "[CV] .. alpha=22.23, fit_intercept=False, l1_ratio=0.99, total=   0.0s\n",
      "[CV]  alpha=33.34, fit_intercept=True, l1_ratio=0.554444444444, total=   0.0s\n",
      "[CV] alpha=33.34, fit_intercept=True, l1_ratio=0.01 ..................\n",
      "[CV] alpha=33.34, fit_intercept=True, l1_ratio=0.663333333333 ........\n",
      "[CV]  alpha=33.34, fit_intercept=True, l1_ratio=0.336666666667, total=   0.0s\n",
      "[CV] alpha=33.34, fit_intercept=True, l1_ratio=0.336666666667 ........\n",
      "[CV]  alpha=33.34, fit_intercept=True, l1_ratio=0.663333333333, total=   0.0s\n",
      "[CV] alpha=33.34, fit_intercept=True, l1_ratio=0.663333333333 ........\n",
      "[CV] ... alpha=33.34, fit_intercept=True, l1_ratio=0.99, total=   0.0s\n",
      "[CV]  alpha=33.34, fit_intercept=True, l1_ratio=0.336666666667, total=   0.0s\n",
      "[CV] ... alpha=33.34, fit_intercept=True, l1_ratio=0.01, total=   0.0s\n",
      "[CV] alpha=33.34, fit_intercept=True, l1_ratio=0.336666666667 ........\n",
      "[CV] alpha=33.34, fit_intercept=False, l1_ratio=0.01 .................\n",
      "[CV] alpha=33.34, fit_intercept=True, l1_ratio=0.01 ..................\n",
      "[CV] .. alpha=33.34, fit_intercept=False, l1_ratio=0.01, total=   0.0s\n",
      "[CV] alpha=33.34, fit_intercept=False, l1_ratio=0.01 .................\n",
      "[CV]  alpha=33.34, fit_intercept=True, l1_ratio=0.663333333333, total=   0.0s\n",
      "[CV] .. alpha=33.34, fit_intercept=False, l1_ratio=0.01, total=   0.0s\n",
      "[CV] alpha=33.34, fit_intercept=True, l1_ratio=0.663333333333 ........\n",
      "[CV] ... alpha=33.34, fit_intercept=True, l1_ratio=0.01, total=   0.0s\n",
      "[CV]  alpha=33.34, fit_intercept=True, l1_ratio=0.336666666667, total=   0.0s\n",
      "[CV] alpha=33.34, fit_intercept=False, l1_ratio=0.01 .................\n",
      "[CV] alpha=33.34, fit_intercept=True, l1_ratio=0.772222222222 ........\n",
      "[CV] alpha=33.34, fit_intercept=False, l1_ratio=0.445555555556 .......\n",
      "[CV]  alpha=33.34, fit_intercept=True, l1_ratio=0.663333333333, total=   0.0s\n",
      "[CV] alpha=33.34, fit_intercept=False, l1_ratio=0.772222222222 .......\n",
      "[CV]  alpha=33.34, fit_intercept=False, l1_ratio=0.772222222222, total=   0.0s\n",
      "[CV] .. alpha=33.34, fit_intercept=False, l1_ratio=0.01, total=   0.0s\n",
      "[CV] alpha=33.34, fit_intercept=False, l1_ratio=0.772222222222 .......\n",
      "[CV] alpha=33.34, fit_intercept=False, l1_ratio=0.118888888889 .......\n",
      "[CV]  alpha=33.34, fit_intercept=False, l1_ratio=0.445555555556, total=   0.0s\n",
      "[CV]  alpha=33.34, fit_intercept=True, l1_ratio=0.772222222222, total=   0.0s\n",
      "[CV] alpha=33.34, fit_intercept=False, l1_ratio=0.445555555556 .......\n",
      "[CV] alpha=44.45, fit_intercept=True, l1_ratio=0.01 ..................\n",
      "[CV]  alpha=33.34, fit_intercept=False, l1_ratio=0.118888888889, total=   0.0s\n",
      "[CV] alpha=33.34, fit_intercept=False, l1_ratio=0.118888888889 .......\n",
      "[CV] ... alpha=44.45, fit_intercept=True, l1_ratio=0.01, total=   0.0s\n",
      "[CV]  alpha=33.34, fit_intercept=False, l1_ratio=0.772222222222, total=   0.0s\n",
      "[CV] alpha=44.45, fit_intercept=True, l1_ratio=0.118888888889 ........\n",
      "[CV] alpha=33.34, fit_intercept=False, l1_ratio=0.881111111111 .......\n",
      "[CV]  alpha=33.34, fit_intercept=False, l1_ratio=0.445555555556, total=   0.0s\n",
      "[CV]  alpha=44.45, fit_intercept=True, l1_ratio=0.118888888889, total=   0.0s\n",
      "[CV] alpha=33.34, fit_intercept=False, l1_ratio=0.445555555556 .......\n",
      "[CV]  alpha=33.34, fit_intercept=False, l1_ratio=0.118888888889, total=   0.0s\n",
      "[CV] alpha=44.45, fit_intercept=True, l1_ratio=0.118888888889 ........\n",
      "[CV] alpha=33.34, fit_intercept=False, l1_ratio=0.118888888889 .......\n",
      "[CV]  alpha=33.34, fit_intercept=False, l1_ratio=0.118888888889, total=   0.0s\n",
      "[CV] alpha=33.34, fit_intercept=False, l1_ratio=0.227777777778 .......\n",
      "[CV]  alpha=44.45, fit_intercept=True, l1_ratio=0.118888888889, total=   0.0s\n",
      "[CV] alpha=44.45, fit_intercept=True, l1_ratio=0.118888888889 ........\n",
      "[CV]  alpha=33.34, fit_intercept=False, l1_ratio=0.445555555556, total=   0.0s\n",
      "[CV] alpha=33.34, fit_intercept=False, l1_ratio=0.554444444444 .......\n",
      "[CV]  alpha=33.34, fit_intercept=False, l1_ratio=0.881111111111, total=   0.0s\n",
      "[CV] alpha=33.34, fit_intercept=False, l1_ratio=0.881111111111 .......\n",
      "[CV]  alpha=44.45, fit_intercept=True, l1_ratio=0.118888888889, total=   0.0s\n",
      "[CV]  alpha=33.34, fit_intercept=False, l1_ratio=0.554444444444, total=   0.0s\n",
      "[CV] alpha=44.45, fit_intercept=True, l1_ratio=0.227777777778 ........\n",
      "[CV] alpha=33.34, fit_intercept=False, l1_ratio=0.554444444444 .......\n",
      "[CV]  alpha=33.34, fit_intercept=False, l1_ratio=0.227777777778, total=   0.0s\n",
      "[CV]  alpha=44.45, fit_intercept=True, l1_ratio=0.227777777778, total=   0.0s\n",
      "[CV] alpha=33.34, fit_intercept=False, l1_ratio=0.227777777778 .......\n",
      "[CV] alpha=44.45, fit_intercept=True, l1_ratio=0.227777777778 ........\n",
      "[CV]  alpha=44.45, fit_intercept=True, l1_ratio=0.227777777778, total=   0.0s\n",
      "[CV]  alpha=33.34, fit_intercept=False, l1_ratio=0.881111111111, total=   0.0s\n",
      "[CV] alpha=33.34, fit_intercept=False, l1_ratio=0.881111111111 .......\n",
      "[CV] alpha=44.45, fit_intercept=True, l1_ratio=0.227777777778 ........\n",
      "[CV]  alpha=33.34, fit_intercept=False, l1_ratio=0.227777777778, total=   0.0s\n",
      "[CV]  alpha=33.34, fit_intercept=False, l1_ratio=0.554444444444, total=   0.0s\n",
      "[CV] alpha=33.34, fit_intercept=False, l1_ratio=0.227777777778 .......\n",
      "[CV] alpha=33.34, fit_intercept=False, l1_ratio=0.554444444444 .......\n",
      "[CV]  alpha=33.34, fit_intercept=False, l1_ratio=0.554444444444, total=   0.0s\n",
      "[CV]  alpha=44.45, fit_intercept=True, l1_ratio=0.227777777778, total=   0.0s\n",
      "[CV] alpha=33.34, fit_intercept=False, l1_ratio=0.663333333333 .......\n",
      "[CV] alpha=44.45, fit_intercept=True, l1_ratio=0.336666666667 ........\n",
      "[CV]  alpha=33.34, fit_intercept=False, l1_ratio=0.227777777778, total=   0.0s\n",
      "[CV]  alpha=33.34, fit_intercept=False, l1_ratio=0.881111111111, total=   0.0s\n",
      "[CV] alpha=33.34, fit_intercept=False, l1_ratio=0.99 .................\n",
      "[CV] alpha=33.34, fit_intercept=False, l1_ratio=0.336666666667 .......\n",
      "[CV]  alpha=33.34, fit_intercept=False, l1_ratio=0.663333333333, total=   0.0s\n",
      "[CV] alpha=33.34, fit_intercept=False, l1_ratio=0.663333333333 .......\n",
      "[CV]  alpha=33.34, fit_intercept=False, l1_ratio=0.663333333333, total=   0.0s\n",
      "[CV] alpha=33.34, fit_intercept=False, l1_ratio=0.663333333333 .......\n",
      "[CV] .. alpha=33.34, fit_intercept=False, l1_ratio=0.99, total=   0.0s\n",
      "[CV] alpha=33.34, fit_intercept=False, l1_ratio=0.99 .................\n",
      "[CV]  alpha=33.34, fit_intercept=False, l1_ratio=0.336666666667, total=   0.0s\n",
      "[CV] alpha=33.34, fit_intercept=False, l1_ratio=0.336666666667 .......\n",
      "[CV]  alpha=44.45, fit_intercept=True, l1_ratio=0.336666666667, total=   0.0s\n",
      "[CV] alpha=44.45, fit_intercept=True, l1_ratio=0.336666666667 ........\n",
      "[CV]  alpha=33.34, fit_intercept=False, l1_ratio=0.663333333333, total=   0.0s\n",
      "[CV] alpha=33.34, fit_intercept=False, l1_ratio=0.772222222222 .......\n",
      "[CV]  alpha=33.34, fit_intercept=False, l1_ratio=0.336666666667, total=   0.0s\n",
      "[CV] alpha=33.34, fit_intercept=False, l1_ratio=0.336666666667 .......\n",
      "[CV] .. alpha=33.34, fit_intercept=False, l1_ratio=0.99, total=   0.0s\n",
      "[CV]  alpha=44.45, fit_intercept=True, l1_ratio=0.336666666667, total=   0.0s\n",
      "[CV] alpha=33.34, fit_intercept=False, l1_ratio=0.99 .................\n",
      "[CV] alpha=44.45, fit_intercept=True, l1_ratio=0.336666666667 ........\n"
     ]
    },
    {
     "name": "stdout",
     "output_type": "stream",
     "text": [
      "[CV] .. alpha=33.34, fit_intercept=False, l1_ratio=0.99, total=   0.0s\n",
      "[CV] alpha=44.45, fit_intercept=True, l1_ratio=0.01 ..................\n",
      "[CV]  alpha=33.34, fit_intercept=False, l1_ratio=0.772222222222, total=   0.0s\n",
      "[CV]  alpha=33.34, fit_intercept=False, l1_ratio=0.336666666667, total=   0.0s\n",
      "[CV] alpha=44.45, fit_intercept=True, l1_ratio=0.772222222222 ........\n",
      "[CV] alpha=44.45, fit_intercept=True, l1_ratio=0.445555555556 ........\n",
      "[CV]  alpha=44.45, fit_intercept=True, l1_ratio=0.336666666667, total=   0.0s\n",
      "[CV] ... alpha=44.45, fit_intercept=True, l1_ratio=0.01, total=   0.0s\n",
      "[CV] alpha=44.45, fit_intercept=True, l1_ratio=0.01 ..................\n",
      "[CV]  alpha=44.45, fit_intercept=True, l1_ratio=0.445555555556, total=   0.0s\n",
      "[CV] alpha=44.45, fit_intercept=True, l1_ratio=0.445555555556 ........\n",
      "[CV] alpha=44.45, fit_intercept=False, l1_ratio=0.01 .................\n",
      "[CV]  alpha=44.45, fit_intercept=True, l1_ratio=0.772222222222, total=   0.0s\n",
      "[CV] alpha=44.45, fit_intercept=True, l1_ratio=0.772222222222 ........\n",
      "[CV] ... alpha=44.45, fit_intercept=True, l1_ratio=0.01, total=   0.0s\n",
      "[CV] alpha=44.45, fit_intercept=False, l1_ratio=0.445555555556 .......\n",
      "[CV]  alpha=44.45, fit_intercept=True, l1_ratio=0.445555555556, total=   0.0s\n",
      "[CV] .. alpha=44.45, fit_intercept=False, l1_ratio=0.01, total=   0.0s\n",
      "[CV] alpha=44.45, fit_intercept=True, l1_ratio=0.445555555556 ........\n",
      "[CV] alpha=44.45, fit_intercept=False, l1_ratio=0.118888888889 .......\n",
      "[CV]  alpha=44.45, fit_intercept=True, l1_ratio=0.772222222222, total=   0.0s\n",
      "[CV]  alpha=44.45, fit_intercept=False, l1_ratio=0.118888888889, total=   0.0s\n",
      "[CV] alpha=44.45, fit_intercept=True, l1_ratio=0.881111111111 ........\n",
      "[CV] alpha=44.45, fit_intercept=False, l1_ratio=0.118888888889 .......\n",
      "[CV]  alpha=44.45, fit_intercept=True, l1_ratio=0.445555555556, total=   0.0s\n",
      "[CV]  alpha=44.45, fit_intercept=False, l1_ratio=0.445555555556, total=   0.0s\n",
      "[CV] alpha=44.45, fit_intercept=False, l1_ratio=0.445555555556 .......\n",
      "[CV] alpha=44.45, fit_intercept=True, l1_ratio=0.554444444444 ........\n",
      "[CV]  alpha=44.45, fit_intercept=True, l1_ratio=0.554444444444, total=   0.0s\n",
      "[CV] alpha=44.45, fit_intercept=True, l1_ratio=0.554444444444 ........\n",
      "[CV]  alpha=44.45, fit_intercept=False, l1_ratio=0.445555555556, total=   0.0s\n",
      "[CV]  alpha=44.45, fit_intercept=True, l1_ratio=0.554444444444, total=   0.0s\n",
      "[CV] alpha=44.45, fit_intercept=False, l1_ratio=0.445555555556 .......\n",
      "[CV] alpha=44.45, fit_intercept=True, l1_ratio=0.554444444444 ........\n",
      "[CV]  alpha=44.45, fit_intercept=True, l1_ratio=0.881111111111, total=   0.0s\n",
      "[CV] alpha=44.45, fit_intercept=True, l1_ratio=0.881111111111 ........\n",
      "[CV]  alpha=44.45, fit_intercept=False, l1_ratio=0.118888888889, total=   0.0s\n",
      "[CV] alpha=44.45, fit_intercept=False, l1_ratio=0.118888888889 .......\n",
      "[CV]  alpha=44.45, fit_intercept=False, l1_ratio=0.118888888889, total=   0.0s\n",
      "[CV] alpha=44.45, fit_intercept=False, l1_ratio=0.227777777778 .......\n",
      "[CV]  alpha=44.45, fit_intercept=True, l1_ratio=0.554444444444, total=   0.0s\n",
      "[CV]  alpha=44.45, fit_intercept=True, l1_ratio=0.881111111111, total=   0.0s\n",
      "[CV] alpha=44.45, fit_intercept=True, l1_ratio=0.881111111111 ........\n",
      "[CV]  alpha=44.45, fit_intercept=False, l1_ratio=0.445555555556, total=   0.0s\n",
      "[CV] alpha=44.45, fit_intercept=False, l1_ratio=0.554444444444 .......\n",
      "[CV] alpha=44.45, fit_intercept=True, l1_ratio=0.663333333333 ........\n",
      "[CV]  alpha=44.45, fit_intercept=False, l1_ratio=0.227777777778, total=   0.0s\n",
      "[CV] alpha=44.45, fit_intercept=False, l1_ratio=0.227777777778 .......\n",
      "[CV]  alpha=44.45, fit_intercept=False, l1_ratio=0.554444444444, total=   0.0s\n",
      "[CV] alpha=44.45, fit_intercept=False, l1_ratio=0.554444444444 .......\n",
      "[CV]  alpha=44.45, fit_intercept=True, l1_ratio=0.663333333333, total=   0.0s\n",
      "[CV]  alpha=44.45, fit_intercept=True, l1_ratio=0.881111111111, total=   0.0s\n",
      "[CV] alpha=44.45, fit_intercept=True, l1_ratio=0.663333333333 ........\n",
      "[CV] alpha=44.45, fit_intercept=True, l1_ratio=0.99 ..................\n",
      "[CV]  alpha=44.45, fit_intercept=False, l1_ratio=0.554444444444, total=   0.0s\n",
      "[CV]  alpha=44.45, fit_intercept=False, l1_ratio=0.227777777778, total=   0.0s\n",
      "[CV] alpha=44.45, fit_intercept=False, l1_ratio=0.554444444444 .......\n",
      "[CV] alpha=44.45, fit_intercept=False, l1_ratio=0.227777777778 .......\n",
      "[CV] ... alpha=44.45, fit_intercept=True, l1_ratio=0.99, total=   0.0s\n",
      "[CV] alpha=44.45, fit_intercept=True, l1_ratio=0.99 ..................\n",
      "[CV]  alpha=44.45, fit_intercept=True, l1_ratio=0.663333333333, total=   0.0s\n",
      "[CV] alpha=44.45, fit_intercept=True, l1_ratio=0.663333333333 ........\n",
      "[CV]  alpha=44.45, fit_intercept=False, l1_ratio=0.554444444444, total=   0.0s\n",
      "[CV]  alpha=44.45, fit_intercept=False, l1_ratio=0.227777777778, total=   0.0s\n",
      "[CV] alpha=44.45, fit_intercept=False, l1_ratio=0.663333333333 .......\n",
      "[CV]  alpha=44.45, fit_intercept=True, l1_ratio=0.663333333333, total=   0.0s\n",
      "[CV] ... alpha=44.45, fit_intercept=True, l1_ratio=0.99, total=   0.0s\n",
      "[CV] alpha=44.45, fit_intercept=False, l1_ratio=0.336666666667 .......\n",
      "[CV] alpha=44.45, fit_intercept=True, l1_ratio=0.99 ..................\n",
      "[CV] alpha=44.45, fit_intercept=True, l1_ratio=0.772222222222 ........\n",
      "[CV]  alpha=44.45, fit_intercept=True, l1_ratio=0.772222222222, total=   0.0s\n",
      "[CV] ... alpha=44.45, fit_intercept=True, l1_ratio=0.99, total=   0.0s\n",
      "[CV] alpha=44.45, fit_intercept=False, l1_ratio=0.772222222222 .......\n",
      "[CV]  alpha=44.45, fit_intercept=False, l1_ratio=0.663333333333, total=   0.0s\n",
      "[CV] alpha=44.45, fit_intercept=False, l1_ratio=0.01 .................\n",
      "[CV] alpha=44.45, fit_intercept=False, l1_ratio=0.663333333333 .......\n",
      "[CV]  alpha=44.45, fit_intercept=False, l1_ratio=0.336666666667, total=   0.0s\n",
      "[CV] alpha=44.45, fit_intercept=False, l1_ratio=0.336666666667 .......\n",
      "[CV] .. alpha=44.45, fit_intercept=False, l1_ratio=0.01, total=   0.0s\n",
      "[CV] alpha=44.45, fit_intercept=False, l1_ratio=0.01 .................\n",
      "[CV]  alpha=44.45, fit_intercept=False, l1_ratio=0.772222222222, total=   0.0s\n",
      "[CV] alpha=44.45, fit_intercept=False, l1_ratio=0.772222222222 .......\n",
      "[CV]  alpha=44.45, fit_intercept=False, l1_ratio=0.663333333333, total=   0.0s\n",
      "[CV] alpha=44.45, fit_intercept=False, l1_ratio=0.663333333333 .......\n",
      "[CV]  alpha=44.45, fit_intercept=False, l1_ratio=0.772222222222, total=   0.0s\n",
      "[CV] alpha=44.45, fit_intercept=False, l1_ratio=0.881111111111 .......\n",
      "[CV]  alpha=44.45, fit_intercept=False, l1_ratio=0.336666666667, total=   0.0s\n",
      "[CV] alpha=44.45, fit_intercept=False, l1_ratio=0.336666666667 .......\n",
      "[CV] .. alpha=44.45, fit_intercept=False, l1_ratio=0.01, total=   0.0s\n",
      "[CV] alpha=55.56, fit_intercept=True, l1_ratio=0.01 ..................\n",
      "[CV]  alpha=44.45, fit_intercept=False, l1_ratio=0.663333333333, total=   0.0s\n",
      "[CV] alpha=44.45, fit_intercept=False, l1_ratio=0.772222222222 .......\n",
      "[CV]  alpha=44.45, fit_intercept=False, l1_ratio=0.881111111111, total=   0.0s\n",
      "[CV] alpha=44.45, fit_intercept=False, l1_ratio=0.881111111111 .......\n",
      "[CV]  alpha=44.45, fit_intercept=False, l1_ratio=0.336666666667, total=   0.0s\n",
      "[CV] alpha=55.56, fit_intercept=True, l1_ratio=0.445555555556 ........\n",
      "[CV] ... alpha=55.56, fit_intercept=True, l1_ratio=0.01, total=   0.0s\n",
      "[CV] alpha=55.56, fit_intercept=True, l1_ratio=0.118888888889 ........\n",
      "[CV]  alpha=44.45, fit_intercept=False, l1_ratio=0.772222222222, total=   0.0s\n",
      "[CV] alpha=55.56, fit_intercept=True, l1_ratio=0.772222222222 ........\n",
      "[CV]  alpha=44.45, fit_intercept=False, l1_ratio=0.881111111111, total=   0.0s\n",
      "[CV] alpha=44.45, fit_intercept=False, l1_ratio=0.881111111111 .......\n",
      "[CV]  alpha=55.56, fit_intercept=True, l1_ratio=0.445555555556, total=   0.0s\n",
      "[CV] alpha=55.56, fit_intercept=True, l1_ratio=0.445555555556 ........\n",
      "[CV]  alpha=44.45, fit_intercept=False, l1_ratio=0.881111111111, total=   0.0s\n",
      "[CV] alpha=44.45, fit_intercept=False, l1_ratio=0.99 .................\n",
      "[CV]  alpha=55.56, fit_intercept=True, l1_ratio=0.118888888889, total=   0.0s\n",
      "[CV]  alpha=55.56, fit_intercept=True, l1_ratio=0.772222222222, total=   0.0s\n",
      "[CV] alpha=55.56, fit_intercept=True, l1_ratio=0.118888888889 ........\n",
      "[CV] alpha=55.56, fit_intercept=True, l1_ratio=0.772222222222 ........\n",
      "[CV]  alpha=55.56, fit_intercept=True, l1_ratio=0.445555555556, total=   0.0s\n"
     ]
    },
    {
     "name": "stdout",
     "output_type": "stream",
     "text": [
      "[CV] alpha=55.56, fit_intercept=True, l1_ratio=0.445555555556 ........\n",
      "[CV] .. alpha=44.45, fit_intercept=False, l1_ratio=0.99, total=   0.0s\n",
      "[CV] alpha=44.45, fit_intercept=False, l1_ratio=0.99 .................\n",
      "[CV]  alpha=55.56, fit_intercept=True, l1_ratio=0.118888888889, total=   0.0s\n",
      "[CV] .. alpha=44.45, fit_intercept=False, l1_ratio=0.99, total=   0.0s\n",
      "[CV] alpha=55.56, fit_intercept=True, l1_ratio=0.118888888889 ........\n",
      "[CV] alpha=44.45, fit_intercept=False, l1_ratio=0.99 .................\n",
      "[CV]  alpha=55.56, fit_intercept=True, l1_ratio=0.445555555556, total=   0.0s\n",
      "[CV] alpha=55.56, fit_intercept=True, l1_ratio=0.554444444444 ........\n",
      "[CV]  alpha=55.56, fit_intercept=True, l1_ratio=0.772222222222, total=   0.0s\n",
      "[CV]  alpha=55.56, fit_intercept=True, l1_ratio=0.554444444444, total=   0.0s\n",
      "[CV] alpha=55.56, fit_intercept=True, l1_ratio=0.881111111111 ........\n",
      "[CV] alpha=55.56, fit_intercept=True, l1_ratio=0.554444444444 ........\n",
      "[CV]  alpha=55.56, fit_intercept=True, l1_ratio=0.118888888889, total=   0.0s\n",
      "[CV] alpha=55.56, fit_intercept=True, l1_ratio=0.227777777778 ........\n",
      "[CV]  alpha=55.56, fit_intercept=True, l1_ratio=0.554444444444, total=   0.0s\n",
      "[CV] alpha=55.56, fit_intercept=True, l1_ratio=0.554444444444 ........\n",
      "[CV] .. alpha=44.45, fit_intercept=False, l1_ratio=0.99, total=   0.0s\n",
      "[CV]  alpha=55.56, fit_intercept=True, l1_ratio=0.554444444444, total=   0.0s\n",
      "[CV] alpha=55.56, fit_intercept=True, l1_ratio=0.663333333333 ........\n",
      "[CV] alpha=55.56, fit_intercept=True, l1_ratio=0.01 ..................\n",
      "[CV]  alpha=55.56, fit_intercept=True, l1_ratio=0.663333333333, total=   0.0s\n",
      "[CV]  alpha=55.56, fit_intercept=True, l1_ratio=0.881111111111, total=   0.0s\n",
      "[CV]  alpha=55.56, fit_intercept=True, l1_ratio=0.227777777778, total=   0.0s\n",
      "[CV] alpha=55.56, fit_intercept=True, l1_ratio=0.881111111111 ........\n",
      "[CV] alpha=55.56, fit_intercept=True, l1_ratio=0.227777777778 ........\n",
      "[CV] alpha=55.56, fit_intercept=True, l1_ratio=0.663333333333 ........\n",
      "[CV]  alpha=55.56, fit_intercept=True, l1_ratio=0.663333333333, total=   0.0s\n",
      "[CV] alpha=55.56, fit_intercept=True, l1_ratio=0.663333333333 ........\n",
      "[CV]  alpha=55.56, fit_intercept=True, l1_ratio=0.881111111111, total=   0.0s\n",
      "[CV] alpha=55.56, fit_intercept=True, l1_ratio=0.881111111111 ........\n",
      "[CV] ... alpha=55.56, fit_intercept=True, l1_ratio=0.01, total=   0.0s\n",
      "[CV]  alpha=55.56, fit_intercept=True, l1_ratio=0.227777777778, total=   0.0s\n",
      "[CV] alpha=55.56, fit_intercept=True, l1_ratio=0.227777777778 ........\n",
      "[CV] alpha=55.56, fit_intercept=True, l1_ratio=0.01 ..................\n",
      "[CV]  alpha=55.56, fit_intercept=True, l1_ratio=0.881111111111, total=   0.0s\n",
      "[CV] alpha=55.56, fit_intercept=True, l1_ratio=0.99 ..................\n",
      "[CV] ... alpha=55.56, fit_intercept=True, l1_ratio=0.99, total=   0.0s\n",
      "[CV] alpha=55.56, fit_intercept=True, l1_ratio=0.99 ..................\n",
      "[CV] ... alpha=55.56, fit_intercept=True, l1_ratio=0.99, total=   0.0s\n",
      "[CV] alpha=55.56, fit_intercept=True, l1_ratio=0.99 ..................\n",
      "[CV]  alpha=55.56, fit_intercept=True, l1_ratio=0.227777777778, total=   0.1s\n",
      "[CV] alpha=55.56, fit_intercept=True, l1_ratio=0.336666666667 ........\n",
      "[CV] ... alpha=55.56, fit_intercept=True, l1_ratio=0.99, total=   0.0s\n",
      "[CV] alpha=55.56, fit_intercept=False, l1_ratio=0.01 .................\n",
      "[CV] .. alpha=55.56, fit_intercept=False, l1_ratio=0.01, total=   0.0s\n",
      "[CV] alpha=55.56, fit_intercept=False, l1_ratio=0.01 .................\n",
      "[CV]  alpha=55.56, fit_intercept=True, l1_ratio=0.336666666667, total=   0.0s\n",
      "[CV] alpha=55.56, fit_intercept=True, l1_ratio=0.336666666667 ........\n",
      "[CV] .. alpha=55.56, fit_intercept=False, l1_ratio=0.01, total=   0.0s\n",
      "[CV] alpha=55.56, fit_intercept=False, l1_ratio=0.01 .................\n",
      "[CV]  alpha=55.56, fit_intercept=True, l1_ratio=0.336666666667, total=   0.0s\n",
      "[CV] alpha=55.56, fit_intercept=True, l1_ratio=0.336666666667 ........\n",
      "[CV]  alpha=55.56, fit_intercept=True, l1_ratio=0.663333333333, total=   0.1s\n",
      "[CV] alpha=55.56, fit_intercept=True, l1_ratio=0.772222222222 ........\n",
      "[CV] ... alpha=55.56, fit_intercept=True, l1_ratio=0.01, total=   0.0s\n",
      "[CV] alpha=55.56, fit_intercept=False, l1_ratio=0.445555555556 .......\n",
      "[CV]  alpha=55.56, fit_intercept=True, l1_ratio=0.336666666667, total=   0.0s\n",
      "[CV]  alpha=55.56, fit_intercept=True, l1_ratio=0.772222222222, total=   0.0s\n",
      "[CV]  alpha=55.56, fit_intercept=False, l1_ratio=0.445555555556, total=   0.0s\n",
      "[CV] alpha=55.56, fit_intercept=False, l1_ratio=0.772222222222 .......\n",
      "[CV] alpha=55.56, fit_intercept=False, l1_ratio=0.445555555556 .......\n",
      "[CV] alpha=66.67, fit_intercept=True, l1_ratio=0.01 ..................\n",
      "[CV]  alpha=55.56, fit_intercept=False, l1_ratio=0.772222222222, total=   0.0s\n",
      "[CV] .. alpha=55.56, fit_intercept=False, l1_ratio=0.01, total=   0.1s\n",
      "[CV] alpha=55.56, fit_intercept=False, l1_ratio=0.118888888889 .......\n",
      "[CV] alpha=55.56, fit_intercept=False, l1_ratio=0.772222222222 .......\n",
      "[CV]  alpha=55.56, fit_intercept=False, l1_ratio=0.445555555556, total=   0.0s\n",
      "[CV] ... alpha=66.67, fit_intercept=True, l1_ratio=0.01, total=   0.0s\n",
      "[CV] alpha=55.56, fit_intercept=False, l1_ratio=0.445555555556 .......\n",
      "[CV] alpha=66.67, fit_intercept=True, l1_ratio=0.118888888889 ........\n",
      "[CV]  alpha=55.56, fit_intercept=False, l1_ratio=0.118888888889, total=   0.0s\n",
      "[CV] alpha=55.56, fit_intercept=False, l1_ratio=0.118888888889 .......\n",
      "[CV]  alpha=55.56, fit_intercept=False, l1_ratio=0.772222222222, total=   0.0s\n",
      "[CV] alpha=55.56, fit_intercept=False, l1_ratio=0.881111111111 .......\n",
      "[CV]  alpha=66.67, fit_intercept=True, l1_ratio=0.118888888889, total=   0.0s\n",
      "[CV] alpha=66.67, fit_intercept=True, l1_ratio=0.118888888889 ........\n",
      "[CV]  alpha=55.56, fit_intercept=False, l1_ratio=0.445555555556, total=   0.0s\n",
      "[CV] alpha=55.56, fit_intercept=False, l1_ratio=0.554444444444 .......\n",
      "[CV]  alpha=55.56, fit_intercept=False, l1_ratio=0.881111111111, total=   0.0s\n",
      "[CV] alpha=55.56, fit_intercept=False, l1_ratio=0.881111111111 .......\n",
      "[CV]  alpha=55.56, fit_intercept=False, l1_ratio=0.118888888889, total=   0.0s\n",
      "[CV] alpha=55.56, fit_intercept=False, l1_ratio=0.118888888889 .......\n",
      "[CV]  alpha=66.67, fit_intercept=True, l1_ratio=0.118888888889, total=   0.0s\n",
      "[CV] alpha=66.67, fit_intercept=True, l1_ratio=0.118888888889 ........\n",
      "[CV]  alpha=55.56, fit_intercept=False, l1_ratio=0.554444444444, total=   0.0s\n",
      "[CV] alpha=55.56, fit_intercept=False, l1_ratio=0.554444444444 .......\n",
      "[CV]  alpha=55.56, fit_intercept=False, l1_ratio=0.118888888889, total=   0.0s\n",
      "[CV] alpha=55.56, fit_intercept=False, l1_ratio=0.227777777778 .......\n",
      "[CV]  alpha=55.56, fit_intercept=False, l1_ratio=0.554444444444, total=   0.0s\n",
      "[CV]  alpha=55.56, fit_intercept=False, l1_ratio=0.881111111111, total=   0.0s\n",
      "[CV]  alpha=66.67, fit_intercept=True, l1_ratio=0.118888888889, total=   0.0s\n",
      "[CV] alpha=55.56, fit_intercept=False, l1_ratio=0.554444444444 .......\n",
      "[CV] alpha=66.67, fit_intercept=True, l1_ratio=0.227777777778 ........\n",
      "[CV] alpha=55.56, fit_intercept=False, l1_ratio=0.881111111111 .......\n",
      "[CV]  alpha=55.56, fit_intercept=False, l1_ratio=0.227777777778, total=   0.0s\n",
      "[CV] alpha=55.56, fit_intercept=False, l1_ratio=0.227777777778 .......\n",
      "[CV]  alpha=55.56, fit_intercept=False, l1_ratio=0.881111111111, total=   0.0s\n",
      "[CV] alpha=55.56, fit_intercept=False, l1_ratio=0.99 .................\n",
      "[CV]  alpha=55.56, fit_intercept=False, l1_ratio=0.554444444444, total=   0.0s\n",
      "[CV]  alpha=66.67, fit_intercept=True, l1_ratio=0.227777777778, total=   0.0s\n",
      "[CV] alpha=55.56, fit_intercept=False, l1_ratio=0.663333333333 .......\n",
      "[CV] alpha=66.67, fit_intercept=True, l1_ratio=0.227777777778 ........\n",
      "[CV]  alpha=66.67, fit_intercept=True, l1_ratio=0.227777777778, total=   0.0s\n",
      "[CV]  alpha=55.56, fit_intercept=False, l1_ratio=0.227777777778, total=   0.0s\n",
      "[CV] alpha=66.67, fit_intercept=True, l1_ratio=0.227777777778 ........\n",
      "[CV] alpha=55.56, fit_intercept=False, l1_ratio=0.227777777778 .......\n",
      "[CV] .. alpha=55.56, fit_intercept=False, l1_ratio=0.99, total=   0.0s\n",
      "[CV] alpha=55.56, fit_intercept=False, l1_ratio=0.99 .................\n",
      "[CV]  alpha=55.56, fit_intercept=False, l1_ratio=0.663333333333, total=   0.0s\n",
      "[CV] alpha=55.56, fit_intercept=False, l1_ratio=0.663333333333 .......\n",
      "[CV]  alpha=55.56, fit_intercept=False, l1_ratio=0.227777777778, total=   0.0s\n"
     ]
    },
    {
     "name": "stdout",
     "output_type": "stream",
     "text": [
      "[CV]  alpha=66.67, fit_intercept=True, l1_ratio=0.227777777778, total=   0.0s\n",
      "[CV] alpha=66.67, fit_intercept=True, l1_ratio=0.336666666667 ........\n",
      "[CV] alpha=55.56, fit_intercept=False, l1_ratio=0.336666666667 .......\n",
      "[CV]  alpha=66.67, fit_intercept=True, l1_ratio=0.336666666667, total=   0.0s\n",
      "[CV]  alpha=55.56, fit_intercept=False, l1_ratio=0.663333333333, total=   0.0s\n",
      "[CV] .. alpha=55.56, fit_intercept=False, l1_ratio=0.99, total=   0.0s\n",
      "[CV] alpha=66.67, fit_intercept=True, l1_ratio=0.336666666667 ........\n",
      "[CV] alpha=55.56, fit_intercept=False, l1_ratio=0.663333333333 .......\n",
      "[CV] alpha=55.56, fit_intercept=False, l1_ratio=0.99 .................\n",
      "[CV]  alpha=55.56, fit_intercept=False, l1_ratio=0.336666666667, total=   0.0s\n",
      "[CV] alpha=55.56, fit_intercept=False, l1_ratio=0.336666666667 .......\n",
      "[CV]  alpha=66.67, fit_intercept=True, l1_ratio=0.336666666667, total=   0.0s\n",
      "[CV] alpha=66.67, fit_intercept=True, l1_ratio=0.336666666667 ........\n",
      "[CV]  alpha=55.56, fit_intercept=False, l1_ratio=0.663333333333, total=   0.0s\n",
      "[CV] .. alpha=55.56, fit_intercept=False, l1_ratio=0.99, total=   0.0s\n",
      "[CV]  alpha=55.56, fit_intercept=False, l1_ratio=0.336666666667, total=   0.0s\n",
      "[CV] alpha=55.56, fit_intercept=False, l1_ratio=0.772222222222 .......\n",
      "[CV] alpha=66.67, fit_intercept=True, l1_ratio=0.01 ..................\n",
      "[CV] alpha=55.56, fit_intercept=False, l1_ratio=0.336666666667 .......\n",
      "[CV] ... alpha=66.67, fit_intercept=True, l1_ratio=0.01, total=   0.0s\n",
      "[CV]  alpha=66.67, fit_intercept=True, l1_ratio=0.336666666667, total=   0.0s\n",
      "[CV] alpha=66.67, fit_intercept=True, l1_ratio=0.01 ..................\n",
      "[CV] alpha=66.67, fit_intercept=True, l1_ratio=0.445555555556 ........\n",
      "[CV]  alpha=55.56, fit_intercept=False, l1_ratio=0.336666666667, total=   0.0s\n",
      "[CV] alpha=66.67, fit_intercept=True, l1_ratio=0.772222222222 ........\n",
      "[CV]  alpha=55.56, fit_intercept=False, l1_ratio=0.772222222222, total=   0.0s\n",
      "[CV] alpha=66.67, fit_intercept=False, l1_ratio=0.01 .................\n",
      "[CV] ... alpha=66.67, fit_intercept=True, l1_ratio=0.01, total=   0.0s\n",
      "[CV]  alpha=66.67, fit_intercept=True, l1_ratio=0.445555555556, total=   0.0s\n",
      "[CV] alpha=66.67, fit_intercept=True, l1_ratio=0.445555555556 ........\n",
      "[CV] alpha=66.67, fit_intercept=False, l1_ratio=0.445555555556 .......\n",
      "[CV]  alpha=66.67, fit_intercept=True, l1_ratio=0.772222222222, total=   0.0s\n",
      "[CV] .. alpha=66.67, fit_intercept=False, l1_ratio=0.01, total=   0.0s\n",
      "[CV] alpha=66.67, fit_intercept=True, l1_ratio=0.772222222222 ........\n",
      "[CV] alpha=66.67, fit_intercept=False, l1_ratio=0.118888888889 .......\n",
      "[CV]  alpha=66.67, fit_intercept=True, l1_ratio=0.445555555556, total=   0.0s\n",
      "[CV]  alpha=66.67, fit_intercept=False, l1_ratio=0.445555555556, total=   0.0s\n",
      "[CV] alpha=66.67, fit_intercept=True, l1_ratio=0.445555555556 ........\n",
      "[CV] alpha=66.67, fit_intercept=False, l1_ratio=0.445555555556 .......\n",
      "[CV]  alpha=66.67, fit_intercept=False, l1_ratio=0.118888888889, total=   0.0s\n",
      "[CV] alpha=66.67, fit_intercept=False, l1_ratio=0.118888888889 .......\n",
      "[CV]  alpha=66.67, fit_intercept=True, l1_ratio=0.445555555556, total=   0.0s\n",
      "[CV]  alpha=66.67, fit_intercept=False, l1_ratio=0.445555555556, total=   0.0s\n",
      "[CV] alpha=66.67, fit_intercept=True, l1_ratio=0.554444444444 ........\n",
      "[CV] alpha=66.67, fit_intercept=False, l1_ratio=0.445555555556 .......\n",
      "[CV]  alpha=66.67, fit_intercept=True, l1_ratio=0.772222222222, total=   0.0s\n",
      "[CV] alpha=66.67, fit_intercept=True, l1_ratio=0.881111111111 ........\n",
      "[CV]  alpha=66.67, fit_intercept=False, l1_ratio=0.118888888889, total=   0.0s\n",
      "[CV] alpha=66.67, fit_intercept=False, l1_ratio=0.118888888889 .......\n",
      "[CV]  alpha=66.67, fit_intercept=False, l1_ratio=0.445555555556, total=   0.0s\n",
      "[CV] alpha=66.67, fit_intercept=False, l1_ratio=0.554444444444 .......\n",
      "[CV]  alpha=66.67, fit_intercept=True, l1_ratio=0.881111111111, total=   0.0s\n",
      "[CV] alpha=66.67, fit_intercept=True, l1_ratio=0.881111111111 ........\n",
      "[CV]  alpha=66.67, fit_intercept=True, l1_ratio=0.554444444444, total=   0.0s\n",
      "[CV] alpha=66.67, fit_intercept=True, l1_ratio=0.554444444444 ........\n",
      "[CV]  alpha=66.67, fit_intercept=False, l1_ratio=0.118888888889, total=   0.0s\n",
      "[CV]  alpha=66.67, fit_intercept=False, l1_ratio=0.554444444444, total=   0.0s\n",
      "[CV] alpha=66.67, fit_intercept=False, l1_ratio=0.227777777778 .......\n",
      "[CV] alpha=66.67, fit_intercept=False, l1_ratio=0.554444444444 .......\n",
      "[CV]  alpha=66.67, fit_intercept=True, l1_ratio=0.554444444444, total=   0.0s\n",
      "[CV]  alpha=66.67, fit_intercept=True, l1_ratio=0.881111111111, total=   0.0s\n",
      "[CV] alpha=66.67, fit_intercept=True, l1_ratio=0.554444444444 ........\n",
      "[CV] alpha=66.67, fit_intercept=True, l1_ratio=0.881111111111 ........\n",
      "[CV]  alpha=66.67, fit_intercept=False, l1_ratio=0.554444444444, total=   0.0s\n",
      "[CV] alpha=66.67, fit_intercept=False, l1_ratio=0.554444444444 .......\n",
      "[CV]  alpha=66.67, fit_intercept=False, l1_ratio=0.227777777778, total=   0.0s\n",
      "[CV] alpha=66.67, fit_intercept=False, l1_ratio=0.227777777778 .......\n",
      "[CV]  alpha=66.67, fit_intercept=True, l1_ratio=0.881111111111, total=   0.0s\n",
      "[CV]  alpha=66.67, fit_intercept=True, l1_ratio=0.554444444444, total=   0.0s\n",
      "[CV] alpha=66.67, fit_intercept=True, l1_ratio=0.99 ..................\n",
      "[CV] alpha=66.67, fit_intercept=True, l1_ratio=0.663333333333 ........\n",
      "[CV]  alpha=66.67, fit_intercept=False, l1_ratio=0.554444444444, total=   0.0s\n",
      "[CV] alpha=66.67, fit_intercept=False, l1_ratio=0.663333333333 .......\n",
      "[CV]  alpha=66.67, fit_intercept=False, l1_ratio=0.227777777778, total=   0.0s\n",
      "[CV] alpha=66.67, fit_intercept=False, l1_ratio=0.227777777778 .......\n",
      "[CV] ... alpha=66.67, fit_intercept=True, l1_ratio=0.99, total=   0.0s\n",
      "[CV] alpha=66.67, fit_intercept=True, l1_ratio=0.99 ..................\n",
      "[CV]  alpha=66.67, fit_intercept=True, l1_ratio=0.663333333333, total=   0.0s\n",
      "[CV]  alpha=66.67, fit_intercept=False, l1_ratio=0.663333333333, total=   0.0s\n",
      "[CV] alpha=66.67, fit_intercept=True, l1_ratio=0.663333333333 ........\n",
      "[CV] alpha=66.67, fit_intercept=False, l1_ratio=0.663333333333 .......\n",
      "[CV]  alpha=66.67, fit_intercept=False, l1_ratio=0.227777777778, total=   0.0s\n",
      "[CV]  alpha=66.67, fit_intercept=False, l1_ratio=0.663333333333, total=   0.0s\n",
      "[CV] alpha=66.67, fit_intercept=False, l1_ratio=0.336666666667 .......\n",
      "[CV] alpha=66.67, fit_intercept=False, l1_ratio=0.663333333333 .......\n",
      "[CV] ... alpha=66.67, fit_intercept=True, l1_ratio=0.99, total=   0.0s\n",
      "[CV] alpha=66.67, fit_intercept=True, l1_ratio=0.99 ..................\n",
      "[CV]  alpha=66.67, fit_intercept=False, l1_ratio=0.663333333333, total=   0.0s\n",
      "[CV] alpha=66.67, fit_intercept=False, l1_ratio=0.772222222222 .......\n",
      "[CV]  alpha=66.67, fit_intercept=True, l1_ratio=0.663333333333, total=   0.0s\n",
      "[CV] alpha=66.67, fit_intercept=True, l1_ratio=0.663333333333 ........\n",
      "[CV]  alpha=66.67, fit_intercept=False, l1_ratio=0.336666666667, total=   0.0s\n",
      "[CV] alpha=66.67, fit_intercept=False, l1_ratio=0.336666666667 .......\n",
      "[CV]  alpha=66.67, fit_intercept=False, l1_ratio=0.772222222222, total=   0.0s\n",
      "[CV] ... alpha=66.67, fit_intercept=True, l1_ratio=0.99, total=   0.0s\n",
      "[CV] alpha=66.67, fit_intercept=True, l1_ratio=0.772222222222 ........\n",
      "[CV] alpha=66.67, fit_intercept=False, l1_ratio=0.772222222222 .......\n",
      "[CV]  alpha=66.67, fit_intercept=True, l1_ratio=0.663333333333, total=   0.0s\n",
      "[CV] alpha=66.67, fit_intercept=False, l1_ratio=0.01 .................\n",
      "[CV]  alpha=66.67, fit_intercept=False, l1_ratio=0.772222222222, total=   0.0s\n",
      "[CV]  alpha=66.67, fit_intercept=False, l1_ratio=0.336666666667, total=   0.0s\n",
      "[CV] alpha=66.67, fit_intercept=False, l1_ratio=0.772222222222 .......\n",
      "[CV] alpha=66.67, fit_intercept=False, l1_ratio=0.336666666667 .......\n",
      "[CV]  alpha=66.67, fit_intercept=False, l1_ratio=0.336666666667, total=   0.0s\n",
      "[CV]  alpha=66.67, fit_intercept=False, l1_ratio=0.772222222222, total=   0.0s\n",
      "[CV] alpha=66.67, fit_intercept=False, l1_ratio=0.881111111111 .......\n",
      "[CV] .. alpha=66.67, fit_intercept=False, l1_ratio=0.01, total=   0.0s\n",
      "[CV] alpha=77.78, fit_intercept=True, l1_ratio=0.01 ..................\n",
      "[CV] alpha=66.67, fit_intercept=False, l1_ratio=0.01 .................\n",
      "[CV]  alpha=66.67, fit_intercept=True, l1_ratio=0.772222222222, total=   0.0s\n",
      "[CV] alpha=77.78, fit_intercept=True, l1_ratio=0.445555555556 ........\n"
     ]
    },
    {
     "name": "stdout",
     "output_type": "stream",
     "text": [
      "[CV] .. alpha=66.67, fit_intercept=False, l1_ratio=0.01, total=   0.0s\n",
      "[CV] ... alpha=77.78, fit_intercept=True, l1_ratio=0.01, total=   0.0s\n",
      "[CV] alpha=77.78, fit_intercept=True, l1_ratio=0.772222222222 ........\n",
      "[CV]  alpha=77.78, fit_intercept=True, l1_ratio=0.445555555556, total=   0.0s\n",
      "[CV] alpha=77.78, fit_intercept=True, l1_ratio=0.118888888889 ........\n",
      "[CV] alpha=77.78, fit_intercept=True, l1_ratio=0.445555555556 ........\n",
      "[CV]  alpha=66.67, fit_intercept=False, l1_ratio=0.881111111111, total=   0.0s\n",
      "[CV] alpha=66.67, fit_intercept=False, l1_ratio=0.881111111111 .......\n",
      "[CV]  alpha=77.78, fit_intercept=True, l1_ratio=0.445555555556, total=   0.0s\n",
      "[CV] alpha=77.78, fit_intercept=True, l1_ratio=0.445555555556 ........\n",
      "[CV]  alpha=77.78, fit_intercept=True, l1_ratio=0.118888888889, total=   0.0s\n",
      "[CV]  alpha=77.78, fit_intercept=True, l1_ratio=0.772222222222, total=   0.0s\n",
      "[CV] alpha=77.78, fit_intercept=True, l1_ratio=0.118888888889 ........\n",
      "[CV] alpha=77.78, fit_intercept=True, l1_ratio=0.772222222222 ........\n",
      "[CV]  alpha=66.67, fit_intercept=False, l1_ratio=0.881111111111, total=   0.0s\n",
      "[CV] alpha=66.67, fit_intercept=False, l1_ratio=0.881111111111 .......\n",
      "[CV]  alpha=77.78, fit_intercept=True, l1_ratio=0.445555555556, total=   0.0s\n",
      "[CV] alpha=77.78, fit_intercept=True, l1_ratio=0.554444444444 ........\n",
      "[CV]  alpha=66.67, fit_intercept=False, l1_ratio=0.881111111111, total=   0.0s\n",
      "[CV] alpha=66.67, fit_intercept=False, l1_ratio=0.99 .................\n",
      "[CV]  alpha=77.78, fit_intercept=True, l1_ratio=0.118888888889, total=   0.0s\n",
      "[CV]  alpha=77.78, fit_intercept=True, l1_ratio=0.772222222222, total=   0.0s\n",
      "[CV] alpha=77.78, fit_intercept=True, l1_ratio=0.881111111111 ........\n",
      "[CV] alpha=77.78, fit_intercept=True, l1_ratio=0.118888888889 ........\n",
      "[CV]  alpha=77.78, fit_intercept=True, l1_ratio=0.554444444444, total=   0.0s\n",
      "[CV] alpha=77.78, fit_intercept=True, l1_ratio=0.554444444444 ........\n",
      "[CV] .. alpha=66.67, fit_intercept=False, l1_ratio=0.99, total=   0.0s\n",
      "[CV] alpha=66.67, fit_intercept=False, l1_ratio=0.99 .................\n",
      "[CV]  alpha=77.78, fit_intercept=True, l1_ratio=0.554444444444, total=   0.0s\n",
      "[CV] .. alpha=66.67, fit_intercept=False, l1_ratio=0.99, total=   0.0s\n",
      "[CV] alpha=77.78, fit_intercept=True, l1_ratio=0.554444444444 ........\n",
      "[CV] alpha=66.67, fit_intercept=False, l1_ratio=0.99 .................\n",
      "[CV]  alpha=77.78, fit_intercept=True, l1_ratio=0.881111111111, total=   0.0s\n",
      "[CV]  alpha=77.78, fit_intercept=True, l1_ratio=0.118888888889, total=   0.0s\n",
      "[CV] alpha=77.78, fit_intercept=True, l1_ratio=0.881111111111 ........\n",
      "[CV] alpha=77.78, fit_intercept=True, l1_ratio=0.227777777778 ........\n",
      "[CV]  alpha=77.78, fit_intercept=True, l1_ratio=0.881111111111, total=   0.0s\n",
      "[CV] alpha=77.78, fit_intercept=True, l1_ratio=0.881111111111 ........\n",
      "[CV]  alpha=77.78, fit_intercept=True, l1_ratio=0.554444444444, total=   0.0s\n",
      "[CV] alpha=77.78, fit_intercept=True, l1_ratio=0.663333333333 ........\n",
      "[CV] .. alpha=66.67, fit_intercept=False, l1_ratio=0.99, total=   0.0s\n",
      "[CV]  alpha=77.78, fit_intercept=True, l1_ratio=0.881111111111, total=   0.0s\n",
      "[CV]  alpha=77.78, fit_intercept=True, l1_ratio=0.227777777778, total=   0.0s\n",
      "[CV] alpha=77.78, fit_intercept=True, l1_ratio=0.99 ..................\n",
      "[CV] alpha=77.78, fit_intercept=True, l1_ratio=0.01 ..................\n",
      "[CV] alpha=77.78, fit_intercept=True, l1_ratio=0.227777777778 ........\n",
      "[CV]  alpha=77.78, fit_intercept=True, l1_ratio=0.227777777778, total=   0.0s\n",
      "[CV] alpha=77.78, fit_intercept=True, l1_ratio=0.227777777778 ........\n",
      "[CV]  alpha=77.78, fit_intercept=True, l1_ratio=0.663333333333, total=   0.0s\n",
      "[CV] alpha=77.78, fit_intercept=True, l1_ratio=0.663333333333 ........\n",
      "[CV] ... alpha=77.78, fit_intercept=True, l1_ratio=0.99, total=   0.0s\n",
      "[CV] alpha=77.78, fit_intercept=True, l1_ratio=0.99 ..................\n",
      "[CV] ... alpha=77.78, fit_intercept=True, l1_ratio=0.01, total=   0.0s\n",
      "[CV] alpha=77.78, fit_intercept=True, l1_ratio=0.01 ..................\n",
      "[CV] ... alpha=77.78, fit_intercept=True, l1_ratio=0.01, total=   0.0s\n",
      "[CV]  alpha=77.78, fit_intercept=True, l1_ratio=0.227777777778, total=   0.0s\n",
      "[CV]  alpha=77.78, fit_intercept=True, l1_ratio=0.663333333333, total=   0.0s\n",
      "[CV] ... alpha=77.78, fit_intercept=True, l1_ratio=0.99, total=   0.0s\n",
      "[CV] alpha=77.78, fit_intercept=True, l1_ratio=0.336666666667 ........\n",
      "[CV] alpha=77.78, fit_intercept=True, l1_ratio=0.99 ..................\n",
      "[CV] alpha=77.78, fit_intercept=True, l1_ratio=0.663333333333 ........\n",
      "[CV] alpha=77.78, fit_intercept=False, l1_ratio=0.01 .................\n",
      "[CV] .. alpha=77.78, fit_intercept=False, l1_ratio=0.01, total=   0.0s\n",
      "[CV] alpha=77.78, fit_intercept=False, l1_ratio=0.118888888889 .......\n",
      "[CV] ... alpha=77.78, fit_intercept=True, l1_ratio=0.99, total=   0.0s\n",
      "[CV] alpha=77.78, fit_intercept=False, l1_ratio=0.01 .................\n",
      "[CV]  alpha=77.78, fit_intercept=False, l1_ratio=0.118888888889, total=   0.0s\n",
      "[CV]  alpha=77.78, fit_intercept=True, l1_ratio=0.336666666667, total=   0.0s\n",
      "[CV] alpha=77.78, fit_intercept=False, l1_ratio=0.118888888889 .......\n",
      "[CV] alpha=77.78, fit_intercept=True, l1_ratio=0.336666666667 ........\n",
      "[CV]  alpha=77.78, fit_intercept=True, l1_ratio=0.663333333333, total=   0.0s\n",
      "[CV]  alpha=77.78, fit_intercept=True, l1_ratio=0.336666666667, total=   0.0s\n",
      "[CV] alpha=77.78, fit_intercept=True, l1_ratio=0.772222222222 ........\n",
      "[CV] alpha=77.78, fit_intercept=True, l1_ratio=0.336666666667 ........\n",
      "[CV]  alpha=77.78, fit_intercept=False, l1_ratio=0.118888888889, total=   0.0s\n",
      "[CV] alpha=77.78, fit_intercept=False, l1_ratio=0.118888888889 .......\n",
      "[CV] .. alpha=77.78, fit_intercept=False, l1_ratio=0.01, total=   0.0s\n",
      "[CV] alpha=77.78, fit_intercept=False, l1_ratio=0.01 .................\n",
      "[CV]  alpha=77.78, fit_intercept=False, l1_ratio=0.118888888889, total=   0.0s\n",
      "[CV] alpha=77.78, fit_intercept=False, l1_ratio=0.227777777778 .......\n",
      "[CV]  alpha=77.78, fit_intercept=True, l1_ratio=0.336666666667, total=   0.0s\n",
      "[CV]  alpha=77.78, fit_intercept=True, l1_ratio=0.772222222222, total=   0.0s\n",
      "[CV] alpha=77.78, fit_intercept=False, l1_ratio=0.445555555556 .......\n",
      "[CV] alpha=77.78, fit_intercept=False, l1_ratio=0.445555555556 .......\n",
      "[CV] .. alpha=77.78, fit_intercept=False, l1_ratio=0.01, total=   0.0s\n",
      "[CV] alpha=77.78, fit_intercept=False, l1_ratio=0.772222222222 .......\n",
      "[CV]  alpha=77.78, fit_intercept=False, l1_ratio=0.227777777778, total=   0.0s\n",
      "[CV] alpha=88.89, fit_intercept=True, l1_ratio=0.01 ..................\n",
      "[CV]  alpha=77.78, fit_intercept=False, l1_ratio=0.445555555556, total=   0.0s\n",
      "[CV] alpha=77.78, fit_intercept=False, l1_ratio=0.227777777778 .......\n",
      "[CV] ... alpha=88.89, fit_intercept=True, l1_ratio=0.01, total=   0.0s\n",
      "[CV]  alpha=77.78, fit_intercept=False, l1_ratio=0.772222222222, total=   0.0s\n",
      "[CV] alpha=88.89, fit_intercept=True, l1_ratio=0.118888888889 ........\n",
      "[CV] alpha=77.78, fit_intercept=False, l1_ratio=0.772222222222 .......\n",
      "[CV]  alpha=88.89, fit_intercept=True, l1_ratio=0.118888888889, total=   0.0s\n",
      "[CV]  alpha=77.78, fit_intercept=False, l1_ratio=0.227777777778, total=   0.0s\n",
      "[CV] alpha=88.89, fit_intercept=True, l1_ratio=0.118888888889 ........\n",
      "[CV] alpha=77.78, fit_intercept=False, l1_ratio=0.227777777778 .......\n",
      "[CV]  alpha=77.78, fit_intercept=False, l1_ratio=0.772222222222, total=   0.0s\n",
      "[CV] alpha=77.78, fit_intercept=False, l1_ratio=0.881111111111 .......\n",
      "[CV]  alpha=77.78, fit_intercept=False, l1_ratio=0.445555555556, total=   0.0s\n",
      "[CV] alpha=77.78, fit_intercept=False, l1_ratio=0.445555555556 .......\n",
      "[CV]  alpha=77.78, fit_intercept=False, l1_ratio=0.227777777778, total=   0.0s\n",
      "[CV] alpha=77.78, fit_intercept=False, l1_ratio=0.336666666667 .......\n",
      "[CV]  alpha=88.89, fit_intercept=True, l1_ratio=0.118888888889, total=   0.0s\n",
      "[CV]  alpha=77.78, fit_intercept=False, l1_ratio=0.881111111111, total=   0.0s\n",
      "[CV] alpha=88.89, fit_intercept=True, l1_ratio=0.118888888889 ........\n",
      "[CV] alpha=77.78, fit_intercept=False, l1_ratio=0.881111111111 .......\n",
      "[CV]  alpha=77.78, fit_intercept=False, l1_ratio=0.336666666667, total=   0.0s\n",
      "[CV] alpha=77.78, fit_intercept=False, l1_ratio=0.336666666667 .......\n",
      "[CV]  alpha=77.78, fit_intercept=False, l1_ratio=0.445555555556, total=   0.0s\n",
      "[CV] alpha=77.78, fit_intercept=False, l1_ratio=0.554444444444 .......\n"
     ]
    },
    {
     "name": "stdout",
     "output_type": "stream",
     "text": [
      "[CV]  alpha=88.89, fit_intercept=True, l1_ratio=0.118888888889, total=   0.0s\n",
      "[CV] alpha=88.89, fit_intercept=True, l1_ratio=0.227777777778 ........\n",
      "[CV]  alpha=88.89, fit_intercept=True, l1_ratio=0.227777777778, total=   0.0s\n",
      "[CV]  alpha=77.78, fit_intercept=False, l1_ratio=0.881111111111, total=   0.0s\n",
      "[CV] alpha=88.89, fit_intercept=True, l1_ratio=0.227777777778 ........\n",
      "[CV] alpha=77.78, fit_intercept=False, l1_ratio=0.881111111111 .......\n",
      "[CV]  alpha=77.78, fit_intercept=False, l1_ratio=0.336666666667, total=   0.0s\n",
      "[CV] alpha=77.78, fit_intercept=False, l1_ratio=0.336666666667 .......\n",
      "[CV]  alpha=77.78, fit_intercept=False, l1_ratio=0.554444444444, total=   0.0s\n",
      "[CV] alpha=77.78, fit_intercept=False, l1_ratio=0.554444444444 .......\n",
      "[CV]  alpha=77.78, fit_intercept=False, l1_ratio=0.881111111111, total=   0.0s\n",
      "[CV] alpha=77.78, fit_intercept=False, l1_ratio=0.99 .................\n",
      "[CV]  alpha=88.89, fit_intercept=True, l1_ratio=0.227777777778, total=   0.0s\n",
      "[CV] alpha=88.89, fit_intercept=True, l1_ratio=0.227777777778 ........\n",
      "[CV]  alpha=77.78, fit_intercept=False, l1_ratio=0.336666666667, total=   0.0s\n",
      "[CV]  alpha=77.78, fit_intercept=False, l1_ratio=0.554444444444, total=   0.0s\n",
      "[CV] alpha=77.78, fit_intercept=False, l1_ratio=0.99 .................\n",
      "[CV] alpha=77.78, fit_intercept=False, l1_ratio=0.554444444444 .......\n",
      "[CV] .. alpha=77.78, fit_intercept=False, l1_ratio=0.99, total=   0.0s\n",
      "[CV] alpha=88.89, fit_intercept=True, l1_ratio=0.445555555556 ........\n",
      "[CV]  alpha=88.89, fit_intercept=True, l1_ratio=0.227777777778, total=   0.0s\n",
      "[CV] alpha=88.89, fit_intercept=True, l1_ratio=0.336666666667 ........\n",
      "[CV] .. alpha=77.78, fit_intercept=False, l1_ratio=0.99, total=   0.0s\n",
      "[CV] alpha=77.78, fit_intercept=False, l1_ratio=0.99 .................\n",
      "[CV]  alpha=77.78, fit_intercept=False, l1_ratio=0.554444444444, total=   0.0s\n",
      "[CV] alpha=77.78, fit_intercept=False, l1_ratio=0.663333333333 .......\n",
      "[CV]  alpha=88.89, fit_intercept=True, l1_ratio=0.445555555556, total=   0.0s\n",
      "[CV] alpha=88.89, fit_intercept=True, l1_ratio=0.445555555556 ........\n",
      "[CV] .. alpha=77.78, fit_intercept=False, l1_ratio=0.99, total=   0.0s\n",
      "[CV] alpha=88.89, fit_intercept=True, l1_ratio=0.01 ..................\n",
      "[CV]  alpha=88.89, fit_intercept=True, l1_ratio=0.336666666667, total=   0.0s\n",
      "[CV]  alpha=77.78, fit_intercept=False, l1_ratio=0.663333333333, total=   0.0s\n",
      "[CV] alpha=77.78, fit_intercept=False, l1_ratio=0.663333333333 .......\n",
      "[CV] alpha=88.89, fit_intercept=True, l1_ratio=0.336666666667 ........\n",
      "[CV]  alpha=88.89, fit_intercept=True, l1_ratio=0.445555555556, total=   0.0s\n",
      "[CV] alpha=88.89, fit_intercept=True, l1_ratio=0.445555555556 ........\n",
      "[CV] ... alpha=88.89, fit_intercept=True, l1_ratio=0.01, total=   0.0s\n",
      "[CV] alpha=88.89, fit_intercept=True, l1_ratio=0.01 ..................\n",
      "[CV]  alpha=77.78, fit_intercept=False, l1_ratio=0.663333333333, total=   0.0s\n",
      "[CV] alpha=77.78, fit_intercept=False, l1_ratio=0.663333333333 .......\n",
      "[CV]  alpha=77.78, fit_intercept=False, l1_ratio=0.663333333333, total=   0.0s\n",
      "[CV]  alpha=88.89, fit_intercept=True, l1_ratio=0.336666666667, total=   0.0s\n",
      "[CV] alpha=77.78, fit_intercept=False, l1_ratio=0.772222222222 .......\n",
      "[CV] alpha=88.89, fit_intercept=True, l1_ratio=0.336666666667 ........\n",
      "[CV]  alpha=77.78, fit_intercept=False, l1_ratio=0.772222222222, total=   0.0s\n",
      "[CV]  alpha=88.89, fit_intercept=True, l1_ratio=0.445555555556, total=   0.0s\n",
      "[CV] alpha=88.89, fit_intercept=False, l1_ratio=0.445555555556 .......\n",
      "[CV] alpha=88.89, fit_intercept=True, l1_ratio=0.554444444444 ........\n",
      "[CV] alpha=88.89, fit_intercept=True, l1_ratio=0.772222222222 ........\n",
      "[CV] ... alpha=88.89, fit_intercept=True, l1_ratio=0.01, total=   0.0s\n",
      "[CV] alpha=88.89, fit_intercept=False, l1_ratio=0.01 .................\n",
      "[CV]  alpha=88.89, fit_intercept=True, l1_ratio=0.336666666667, total=   0.0s\n",
      "[CV]  alpha=88.89, fit_intercept=True, l1_ratio=0.554444444444, total=   0.0s\n",
      "[CV]  alpha=88.89, fit_intercept=True, l1_ratio=0.772222222222, total=   0.0s\n",
      "[CV] alpha=88.89, fit_intercept=True, l1_ratio=0.772222222222 ........\n",
      "[CV] alpha=88.89, fit_intercept=True, l1_ratio=0.554444444444 ........\n",
      "[CV] .. alpha=88.89, fit_intercept=False, l1_ratio=0.01, total=   0.0s\n",
      "[CV] alpha=88.89, fit_intercept=False, l1_ratio=0.118888888889 .......\n",
      "[CV]  alpha=88.89, fit_intercept=False, l1_ratio=0.445555555556, total=   0.0s\n",
      "[CV] alpha=88.89, fit_intercept=False, l1_ratio=0.445555555556 .......\n",
      "[CV]  alpha=88.89, fit_intercept=True, l1_ratio=0.772222222222, total=   0.0s\n",
      "[CV] alpha=88.89, fit_intercept=True, l1_ratio=0.881111111111 ........\n",
      "[CV]  alpha=88.89, fit_intercept=False, l1_ratio=0.445555555556, total=   0.0s\n",
      "[CV] alpha=88.89, fit_intercept=False, l1_ratio=0.445555555556 .......\n",
      "[CV]  alpha=88.89, fit_intercept=True, l1_ratio=0.554444444444, total=   0.0s\n",
      "[CV] alpha=88.89, fit_intercept=True, l1_ratio=0.554444444444 ........\n",
      "[CV]  alpha=88.89, fit_intercept=False, l1_ratio=0.118888888889, total=   0.0s\n",
      "[CV] alpha=88.89, fit_intercept=False, l1_ratio=0.118888888889 .......\n",
      "[CV]  alpha=88.89, fit_intercept=False, l1_ratio=0.118888888889, total=   0.0s\n",
      "[CV] alpha=88.89, fit_intercept=False, l1_ratio=0.118888888889 .......\n",
      "[CV]  alpha=88.89, fit_intercept=False, l1_ratio=0.445555555556, total=   0.0s\n",
      "[CV]  alpha=88.89, fit_intercept=True, l1_ratio=0.881111111111, total=   0.0s\n",
      "[CV] alpha=88.89, fit_intercept=False, l1_ratio=0.554444444444 .......\n",
      "[CV] alpha=88.89, fit_intercept=True, l1_ratio=0.881111111111 ........\n",
      "[CV]  alpha=88.89, fit_intercept=True, l1_ratio=0.554444444444, total=   0.0s\n",
      "[CV] alpha=88.89, fit_intercept=True, l1_ratio=0.663333333333 ........\n",
      "[CV]  alpha=88.89, fit_intercept=False, l1_ratio=0.118888888889, total=   0.0s\n",
      "[CV]  alpha=88.89, fit_intercept=False, l1_ratio=0.554444444444, total=   0.0s\n",
      "[CV] alpha=88.89, fit_intercept=False, l1_ratio=0.227777777778 .......\n",
      "[CV] alpha=88.89, fit_intercept=False, l1_ratio=0.554444444444 .......\n",
      "[CV]  alpha=88.89, fit_intercept=False, l1_ratio=0.227777777778, total=   0.0s\n",
      "[CV]  alpha=88.89, fit_intercept=True, l1_ratio=0.881111111111, total=   0.0s\n",
      "[CV] alpha=88.89, fit_intercept=False, l1_ratio=0.227777777778 .......\n",
      "[CV] alpha=88.89, fit_intercept=True, l1_ratio=0.881111111111 ........\n",
      "[CV]  alpha=88.89, fit_intercept=False, l1_ratio=0.554444444444, total=   0.0s\n",
      "[CV]  alpha=88.89, fit_intercept=True, l1_ratio=0.881111111111, total=   0.0s\n",
      "[CV]  alpha=88.89, fit_intercept=True, l1_ratio=0.663333333333, total=   0.0s\n",
      "[CV] alpha=88.89, fit_intercept=False, l1_ratio=0.554444444444 .......\n",
      "[CV] alpha=88.89, fit_intercept=True, l1_ratio=0.99 ..................\n",
      "[CV] alpha=88.89, fit_intercept=True, l1_ratio=0.663333333333 ........\n",
      "[CV]  alpha=88.89, fit_intercept=False, l1_ratio=0.554444444444, total=   0.0s\n",
      "[CV] alpha=88.89, fit_intercept=False, l1_ratio=0.663333333333 .......\n",
      "[CV]  alpha=88.89, fit_intercept=False, l1_ratio=0.227777777778, total=   0.0s\n",
      "[CV] alpha=88.89, fit_intercept=False, l1_ratio=0.227777777778 .......\n",
      "[CV] ... alpha=88.89, fit_intercept=True, l1_ratio=0.99, total=   0.0s\n",
      "[CV] alpha=88.89, fit_intercept=True, l1_ratio=0.99 ..................\n",
      "[CV]  alpha=88.89, fit_intercept=True, l1_ratio=0.663333333333, total=   0.0s\n",
      "[CV] alpha=88.89, fit_intercept=True, l1_ratio=0.663333333333 ........\n",
      "[CV] ... alpha=88.89, fit_intercept=True, l1_ratio=0.99, total=   0.0s\n",
      "[CV]  alpha=88.89, fit_intercept=False, l1_ratio=0.663333333333, total=   0.0s\n",
      "[CV] alpha=88.89, fit_intercept=True, l1_ratio=0.99 ..................\n",
      "[CV] alpha=88.89, fit_intercept=False, l1_ratio=0.663333333333 .......\n",
      "[CV]  alpha=88.89, fit_intercept=False, l1_ratio=0.227777777778, total=   0.0s\n",
      "[CV] alpha=88.89, fit_intercept=False, l1_ratio=0.336666666667 .......\n",
      "[CV]  alpha=88.89, fit_intercept=True, l1_ratio=0.663333333333, total=   0.0s\n",
      "[CV] alpha=88.89, fit_intercept=True, l1_ratio=0.772222222222 ........\n",
      "[CV]  alpha=88.89, fit_intercept=False, l1_ratio=0.663333333333, total=   0.0s\n",
      "[CV] ... alpha=88.89, fit_intercept=True, l1_ratio=0.99, total=   0.0s\n",
      "[CV] alpha=88.89, fit_intercept=False, l1_ratio=0.663333333333 .......\n",
      "[CV] alpha=88.89, fit_intercept=False, l1_ratio=0.01 .................\n",
      "[CV]  alpha=88.89, fit_intercept=True, l1_ratio=0.772222222222, total=   0.0s\n"
     ]
    },
    {
     "name": "stdout",
     "output_type": "stream",
     "text": [
      "[CV]  alpha=88.89, fit_intercept=False, l1_ratio=0.336666666667, total=   0.0s\n",
      "[CV] alpha=88.89, fit_intercept=False, l1_ratio=0.336666666667 .......\n",
      "[CV] alpha=88.89, fit_intercept=False, l1_ratio=0.772222222222 .......\n",
      "[CV] .. alpha=88.89, fit_intercept=False, l1_ratio=0.01, total=   0.0s\n",
      "[CV] alpha=88.89, fit_intercept=False, l1_ratio=0.01 .................\n",
      "[CV]  alpha=88.89, fit_intercept=False, l1_ratio=0.663333333333, total=   0.0s\n",
      "[CV] alpha=88.89, fit_intercept=False, l1_ratio=0.772222222222 .......\n",
      "[CV]  alpha=88.89, fit_intercept=False, l1_ratio=0.772222222222, total=   0.0s\n",
      "[CV]  alpha=88.89, fit_intercept=False, l1_ratio=0.336666666667, total=   0.0s\n",
      "[CV] alpha=88.89, fit_intercept=False, l1_ratio=0.772222222222 .......\n",
      "[CV] alpha=88.89, fit_intercept=False, l1_ratio=0.336666666667 .......\n",
      "[CV] .. alpha=88.89, fit_intercept=False, l1_ratio=0.01, total=   0.0s\n",
      "[CV]  alpha=88.89, fit_intercept=False, l1_ratio=0.772222222222, total=   0.0s\n",
      "[CV] alpha=88.89, fit_intercept=False, l1_ratio=0.881111111111 .......\n",
      "[CV] alpha=100.0, fit_intercept=True, l1_ratio=0.01 ..................\n",
      "[CV]  alpha=88.89, fit_intercept=False, l1_ratio=0.772222222222, total=   0.0s\n",
      "[CV] alpha=100.0, fit_intercept=True, l1_ratio=0.445555555556 ........\n",
      "[CV]  alpha=88.89, fit_intercept=False, l1_ratio=0.336666666667, total=   0.0s\n",
      "[CV] alpha=100.0, fit_intercept=True, l1_ratio=0.772222222222 ........\n",
      "[CV]  alpha=88.89, fit_intercept=False, l1_ratio=0.881111111111, total=   0.0s\n",
      "[CV] alpha=88.89, fit_intercept=False, l1_ratio=0.881111111111 .......\n",
      "[CV] ... alpha=100.0, fit_intercept=True, l1_ratio=0.01, total=   0.0s\n",
      "[CV] alpha=100.0, fit_intercept=True, l1_ratio=0.118888888889 ........\n",
      "[CV]  alpha=100.0, fit_intercept=True, l1_ratio=0.445555555556, total=   0.0s\n",
      "[CV]  alpha=100.0, fit_intercept=True, l1_ratio=0.118888888889, total=   0.0s\n",
      "[CV] alpha=100.0, fit_intercept=True, l1_ratio=0.445555555556 ........\n",
      "[CV] alpha=100.0, fit_intercept=True, l1_ratio=0.118888888889 ........\n",
      "[CV]  alpha=88.89, fit_intercept=False, l1_ratio=0.881111111111, total=   0.0s\n",
      "[CV]  alpha=100.0, fit_intercept=True, l1_ratio=0.772222222222, total=   0.0s\n",
      "[CV] alpha=88.89, fit_intercept=False, l1_ratio=0.881111111111 .......\n",
      "[CV] alpha=100.0, fit_intercept=True, l1_ratio=0.772222222222 ........\n",
      "[CV]  alpha=100.0, fit_intercept=True, l1_ratio=0.118888888889, total=   0.0s\n",
      "[CV] alpha=100.0, fit_intercept=True, l1_ratio=0.118888888889 ........\n",
      "[CV]  alpha=100.0, fit_intercept=True, l1_ratio=0.445555555556, total=   0.0s\n",
      "[CV]  alpha=100.0, fit_intercept=True, l1_ratio=0.772222222222, total=   0.0s\n",
      "[CV] alpha=100.0, fit_intercept=True, l1_ratio=0.445555555556 ........\n",
      "[CV] alpha=100.0, fit_intercept=True, l1_ratio=0.881111111111 ........\n",
      "[CV]  alpha=100.0, fit_intercept=True, l1_ratio=0.881111111111, total=   0.0s\n",
      "[CV]  alpha=88.89, fit_intercept=False, l1_ratio=0.881111111111, total=   0.0s\n",
      "[CV] alpha=100.0, fit_intercept=True, l1_ratio=0.881111111111 ........\n",
      "[CV] alpha=88.89, fit_intercept=False, l1_ratio=0.99 .................\n",
      "[CV]  alpha=100.0, fit_intercept=True, l1_ratio=0.118888888889, total=   0.0s\n",
      "[CV] alpha=100.0, fit_intercept=True, l1_ratio=0.227777777778 ........\n",
      "[CV]  alpha=100.0, fit_intercept=True, l1_ratio=0.445555555556, total=   0.0s\n",
      "[CV] .. alpha=88.89, fit_intercept=False, l1_ratio=0.99, total=   0.0s\n",
      "[CV] alpha=100.0, fit_intercept=True, l1_ratio=0.554444444444 ........\n",
      "[CV] alpha=88.89, fit_intercept=False, l1_ratio=0.99 .................\n",
      "[CV]  alpha=100.0, fit_intercept=True, l1_ratio=0.881111111111, total=   0.0s\n",
      "[CV] alpha=100.0, fit_intercept=True, l1_ratio=0.881111111111 ........\n",
      "[CV]  alpha=100.0, fit_intercept=True, l1_ratio=0.227777777778, total=   0.0s\n",
      "[CV] alpha=100.0, fit_intercept=True, l1_ratio=0.227777777778 ........\n",
      "[CV] .. alpha=88.89, fit_intercept=False, l1_ratio=0.99, total=   0.0s\n",
      "[CV]  alpha=100.0, fit_intercept=True, l1_ratio=0.554444444444, total=   0.0s\n",
      "[CV]  alpha=100.0, fit_intercept=True, l1_ratio=0.881111111111, total=   0.0s\n",
      "[CV] alpha=88.89, fit_intercept=False, l1_ratio=0.99 .................\n",
      "[CV] alpha=100.0, fit_intercept=True, l1_ratio=0.554444444444 ........\n",
      "[CV] alpha=100.0, fit_intercept=True, l1_ratio=0.99 ..................\n",
      "[CV]  alpha=100.0, fit_intercept=True, l1_ratio=0.554444444444, total=   0.0s\n",
      "[CV] alpha=100.0, fit_intercept=True, l1_ratio=0.554444444444 ........\n",
      "[CV]  alpha=100.0, fit_intercept=True, l1_ratio=0.227777777778, total=   0.0s\n",
      "[CV] .. alpha=88.89, fit_intercept=False, l1_ratio=0.99, total=   0.0s\n",
      "[CV] ... alpha=100.0, fit_intercept=True, l1_ratio=0.99, total=   0.0s\n",
      "[CV] alpha=100.0, fit_intercept=True, l1_ratio=0.227777777778 ........\n",
      "[CV] alpha=100.0, fit_intercept=True, l1_ratio=0.01 ..................\n",
      "[CV] alpha=100.0, fit_intercept=True, l1_ratio=0.99 ..................\n",
      "[CV] ... alpha=100.0, fit_intercept=True, l1_ratio=0.99, total=   0.0s\n",
      "[CV]  alpha=100.0, fit_intercept=True, l1_ratio=0.554444444444, total=   0.0s\n",
      "[CV] alpha=100.0, fit_intercept=True, l1_ratio=0.99 ..................\n",
      "[CV] alpha=100.0, fit_intercept=True, l1_ratio=0.663333333333 ........\n",
      "[CV] ... alpha=100.0, fit_intercept=True, l1_ratio=0.01, total=   0.0s\n",
      "[CV]  alpha=100.0, fit_intercept=True, l1_ratio=0.227777777778, total=   0.0s\n",
      "[CV] alpha=100.0, fit_intercept=True, l1_ratio=0.01 ..................\n",
      "[CV] alpha=100.0, fit_intercept=True, l1_ratio=0.336666666667 ........\n",
      "[CV]  alpha=100.0, fit_intercept=True, l1_ratio=0.663333333333, total=   0.0s\n",
      "[CV] ... alpha=100.0, fit_intercept=True, l1_ratio=0.01, total=   0.0s\n",
      "[CV] alpha=100.0, fit_intercept=True, l1_ratio=0.663333333333 ........\n",
      "[CV] ... alpha=100.0, fit_intercept=True, l1_ratio=0.99, total=   0.0s\n",
      "[CV] alpha=100.0, fit_intercept=False, l1_ratio=0.01 .................\n",
      "[CV] alpha=100.0, fit_intercept=False, l1_ratio=0.01 .................\n",
      "[CV]  alpha=100.0, fit_intercept=True, l1_ratio=0.663333333333, total=   0.0s\n",
      "[CV] alpha=100.0, fit_intercept=True, l1_ratio=0.663333333333 ........\n",
      "[CV]  alpha=100.0, fit_intercept=True, l1_ratio=0.336666666667, total=   0.0s\n",
      "[CV] .. alpha=100.0, fit_intercept=False, l1_ratio=0.01, total=   0.0s\n",
      "[CV] alpha=100.0, fit_intercept=True, l1_ratio=0.336666666667 ........\n",
      "[CV] alpha=100.0, fit_intercept=False, l1_ratio=0.01 .................\n",
      "[CV] .. alpha=100.0, fit_intercept=False, l1_ratio=0.01, total=   0.0s\n",
      "[CV] alpha=100.0, fit_intercept=False, l1_ratio=0.118888888889 .......\n",
      "[CV]  alpha=100.0, fit_intercept=False, l1_ratio=0.118888888889, total=   0.0s\n",
      "[CV] alpha=100.0, fit_intercept=False, l1_ratio=0.118888888889 .......\n",
      "[CV] .. alpha=100.0, fit_intercept=False, l1_ratio=0.01, total=   0.0s\n",
      "[CV]  alpha=100.0, fit_intercept=True, l1_ratio=0.663333333333, total=   0.0s\n",
      "[CV]  alpha=100.0, fit_intercept=True, l1_ratio=0.336666666667, total=   0.0s\n",
      "[CV] alpha=100.0, fit_intercept=True, l1_ratio=0.772222222222 ........\n",
      "[CV] alpha=100.0, fit_intercept=False, l1_ratio=0.445555555556 .......\n",
      "[CV] alpha=100.0, fit_intercept=True, l1_ratio=0.336666666667 ........\n",
      "[CV]  alpha=100.0, fit_intercept=False, l1_ratio=0.445555555556, total=   0.0s\n",
      "[CV]  alpha=100.0, fit_intercept=True, l1_ratio=0.336666666667, total=   0.0s\n",
      "[CV] alpha=100.0, fit_intercept=False, l1_ratio=0.445555555556 .......\n",
      "[CV] alpha=100.0, fit_intercept=False, l1_ratio=0.772222222222 .......\n",
      "[CV]  alpha=100.0, fit_intercept=False, l1_ratio=0.118888888889, total=   0.0s\n",
      "[CV] alpha=100.0, fit_intercept=False, l1_ratio=0.118888888889 .......\n",
      "[CV]  alpha=100.0, fit_intercept=True, l1_ratio=0.772222222222, total=   0.0s\n",
      "[CV]  alpha=100.0, fit_intercept=False, l1_ratio=0.118888888889, total=   0.0s\n",
      "[CV] alpha=100.0, fit_intercept=False, l1_ratio=0.227777777778 .......\n",
      "[CV]  alpha=100.0, fit_intercept=False, l1_ratio=0.772222222222, total=   0.0s\n",
      "[CV] alpha=100.0, fit_intercept=False, l1_ratio=0.772222222222 .......\n",
      "[CV]  alpha=100.0, fit_intercept=False, l1_ratio=0.227777777778, total=   0.0s\n",
      "[CV]  alpha=100.0, fit_intercept=False, l1_ratio=0.445555555556, total=   0.0s\n",
      "[CV] alpha=100.0, fit_intercept=False, l1_ratio=0.227777777778 .......\n",
      "[CV] alpha=100.0, fit_intercept=False, l1_ratio=0.445555555556 .......\n",
      "[CV]  alpha=100.0, fit_intercept=False, l1_ratio=0.445555555556, total=   0.0s\n"
     ]
    },
    {
     "name": "stdout",
     "output_type": "stream",
     "text": [
      "[CV]  alpha=100.0, fit_intercept=False, l1_ratio=0.772222222222, total=   0.0s\n",
      "[CV] alpha=100.0, fit_intercept=False, l1_ratio=0.554444444444 .......\n",
      "[CV] alpha=100.0, fit_intercept=False, l1_ratio=0.881111111111 .......\n",
      "[CV]  alpha=100.0, fit_intercept=False, l1_ratio=0.554444444444, total=   0.0s\n",
      "[CV]  alpha=100.0, fit_intercept=False, l1_ratio=0.227777777778, total=   0.0s\n",
      "[CV] alpha=100.0, fit_intercept=False, l1_ratio=0.554444444444 .......\n",
      "[CV] alpha=100.0, fit_intercept=False, l1_ratio=0.227777777778 .......\n",
      "[CV]  alpha=100.0, fit_intercept=False, l1_ratio=0.881111111111, total=   0.0s\n",
      "[CV] alpha=100.0, fit_intercept=False, l1_ratio=0.881111111111 .......\n",
      "[CV]  alpha=100.0, fit_intercept=False, l1_ratio=0.554444444444, total=   0.0s\n",
      "[CV]  alpha=100.0, fit_intercept=False, l1_ratio=0.227777777778, total=   0.0s\n",
      "[CV] alpha=100.0, fit_intercept=False, l1_ratio=0.554444444444 .......\n",
      "[CV] alpha=100.0, fit_intercept=False, l1_ratio=0.336666666667 .......\n",
      "[CV]  alpha=100.0, fit_intercept=False, l1_ratio=0.881111111111, total=   0.0s\n",
      "[CV] alpha=100.0, fit_intercept=False, l1_ratio=0.881111111111 .......\n",
      "[CV]  alpha=100.0, fit_intercept=False, l1_ratio=0.336666666667, total=   0.0s\n",
      "[CV] alpha=100.0, fit_intercept=False, l1_ratio=0.336666666667 .......\n",
      "[CV]  alpha=100.0, fit_intercept=False, l1_ratio=0.554444444444, total=   0.0s\n",
      "[CV] alpha=100.0, fit_intercept=False, l1_ratio=0.663333333333 .......\n",
      "[CV]  alpha=100.0, fit_intercept=False, l1_ratio=0.881111111111, total=   0.0s\n",
      "[CV]  alpha=100.0, fit_intercept=False, l1_ratio=0.336666666667, total=   0.0s\n",
      "[CV] alpha=100.0, fit_intercept=False, l1_ratio=0.99 .................\n",
      "[CV] alpha=100.0, fit_intercept=False, l1_ratio=0.336666666667 .......\n",
      "[CV]  alpha=100.0, fit_intercept=False, l1_ratio=0.663333333333, total=   0.0s\n",
      "[CV]  alpha=100.0, fit_intercept=False, l1_ratio=0.336666666667, total=   0.0s\n",
      "[CV] alpha=100.0, fit_intercept=False, l1_ratio=0.663333333333 .......\n",
      "[CV] .. alpha=100.0, fit_intercept=False, l1_ratio=0.99, total=   0.0s\n",
      "[CV] alpha=100.0, fit_intercept=False, l1_ratio=0.99 .................\n",
      "[CV]  alpha=100.0, fit_intercept=False, l1_ratio=0.663333333333, total=   0.0s\n",
      "[CV] .. alpha=100.0, fit_intercept=False, l1_ratio=0.99, total=   0.0s\n",
      "[CV] alpha=100.0, fit_intercept=False, l1_ratio=0.663333333333 .......\n",
      "[CV] alpha=100.0, fit_intercept=False, l1_ratio=0.99 .................\n",
      "[CV]  alpha=100.0, fit_intercept=False, l1_ratio=0.663333333333, total=   0.0s\n",
      "[CV] alpha=100.0, fit_intercept=False, l1_ratio=0.772222222222 .......\n",
      "[CV] .. alpha=100.0, fit_intercept=False, l1_ratio=0.99, total=   0.0s\n",
      "[CV]  alpha=100.0, fit_intercept=False, l1_ratio=0.772222222222, total=   0.0s\n"
     ]
    },
    {
     "name": "stderr",
     "output_type": "stream",
     "text": [
      "[Parallel(n_jobs=-1)]: Done 600 out of 600 | elapsed:    5.8s finished\n"
     ]
    },
    {
     "data": {
      "text/plain": [
       "GridSearchCV(cv=None, error_score='raise',\n",
       "       estimator=ElasticNet(alpha=0.1, copy_X=True, fit_intercept=True, l1_ratio=0.9,\n",
       "      max_iter=1000, normalize=False, positive=False, precompute=False,\n",
       "      random_state=None, selection='cyclic', tol=0.0001, warm_start=False),\n",
       "       fit_params=None, iid=True, n_jobs=-1,\n",
       "       param_grid={'fit_intercept': [True, False], 'alpha': array([  1.00000e-02,   1.11200e+01,   2.22300e+01,   3.33400e+01,\n",
       "         4.44500e+01,   5.55600e+01,   6.66700e+01,   7.77800e+01,\n",
       "         8.88900e+01,   1.00000e+02]), 'l1_ratio': array([ 0.01   ,  0.11889,  0.22778,  0.33667,  0.44556,  0.55444,\n",
       "        0.66333,  0.77222,  0.88111,  0.99   ])},\n",
       "       pre_dispatch='2*n_jobs', refit=True, return_train_score=True,\n",
       "       scoring=None, verbose=2)"
      ]
     },
     "execution_count": 107,
     "metadata": {},
     "output_type": "execute_result"
    }
   ],
   "source": [
    "grid_search.fit(X_train, y_train)"
   ]
  },
  {
   "cell_type": "code",
   "execution_count": 108,
   "metadata": {},
   "outputs": [
    {
     "name": "stdout",
     "output_type": "stream",
     "text": [
      "0.819819520999 {'alpha': 22.23, 'fit_intercept': True, 'l1_ratio': 0.98999999999999999}\n"
     ]
    }
   ],
   "source": [
    "print(grid_search.best_score_, grid_search.best_params_)"
   ]
  },
  {
   "cell_type": "code",
   "execution_count": 109,
   "metadata": {},
   "outputs": [
    {
     "data": {
      "text/plain": [
       "Lasso(alpha=44.449999999999996, copy_X=True, fit_intercept=True,\n",
       "   max_iter=1000, normalize=True, positive=False, precompute=True,\n",
       "   random_state=None, selection='cyclic', tol=0.0001, warm_start=False)"
      ]
     },
     "execution_count": 109,
     "metadata": {},
     "output_type": "execute_result"
    }
   ],
   "source": [
    "best_estimator.fit(X_train, y_train)"
   ]
  },
  {
   "cell_type": "code",
   "execution_count": 110,
   "metadata": {},
   "outputs": [
    {
     "name": "stdout",
     "output_type": "stream",
     "text": [
      "0.848599217393\n",
      "0.754986620846\n"
     ]
    }
   ],
   "source": [
    "best_estimator = grid_search.best_estimator_\n",
    "\n",
    "print(best_estimator.score(X_train, y_train))\n",
    "print(best_estimator.score(X_test, y_test))"
   ]
  },
  {
   "cell_type": "code",
   "execution_count": 111,
   "metadata": {
    "collapsed": true
   },
   "outputs": [],
   "source": [
    "PRED3 = best_estimator.predict(ames_test_ss)"
   ]
  },
  {
   "cell_type": "code",
   "execution_count": 112,
   "metadata": {
    "collapsed": true
   },
   "outputs": [],
   "source": [
    "PRED3 = pd.DataFrame(PRED3, columns=['SalePrice'])"
   ]
  },
  {
   "cell_type": "code",
   "execution_count": 113,
   "metadata": {},
   "outputs": [
    {
     "data": {
      "text/html": [
       "<div>\n",
       "<style>\n",
       "    .dataframe thead tr:only-child th {\n",
       "        text-align: right;\n",
       "    }\n",
       "\n",
       "    .dataframe thead th {\n",
       "        text-align: left;\n",
       "    }\n",
       "\n",
       "    .dataframe tbody tr th {\n",
       "        vertical-align: top;\n",
       "    }\n",
       "</style>\n",
       "<table border=\"1\" class=\"dataframe\">\n",
       "  <thead>\n",
       "    <tr style=\"text-align: right;\">\n",
       "      <th></th>\n",
       "      <th>SalePrice</th>\n",
       "    </tr>\n",
       "  </thead>\n",
       "  <tbody>\n",
       "    <tr>\n",
       "      <th>0</th>\n",
       "      <td>132954.688678</td>\n",
       "    </tr>\n",
       "    <tr>\n",
       "      <th>1</th>\n",
       "      <td>175431.738524</td>\n",
       "    </tr>\n",
       "    <tr>\n",
       "      <th>2</th>\n",
       "      <td>211322.240987</td>\n",
       "    </tr>\n",
       "    <tr>\n",
       "      <th>3</th>\n",
       "      <td>118374.356680</td>\n",
       "    </tr>\n",
       "    <tr>\n",
       "      <th>4</th>\n",
       "      <td>206771.422105</td>\n",
       "    </tr>\n",
       "  </tbody>\n",
       "</table>\n",
       "</div>"
      ],
      "text/plain": [
       "       SalePrice\n",
       "0  132954.688678\n",
       "1  175431.738524\n",
       "2  211322.240987\n",
       "3  118374.356680\n",
       "4  206771.422105"
      ]
     },
     "execution_count": 113,
     "metadata": {},
     "output_type": "execute_result"
    }
   ],
   "source": [
    "PRED3.head()"
   ]
  },
  {
   "cell_type": "code",
   "execution_count": 144,
   "metadata": {
    "collapsed": true
   },
   "outputs": [],
   "source": [
    "vis = best_estimator.predict(X_train)"
   ]
  },
  {
   "cell_type": "code",
   "execution_count": 173,
   "metadata": {},
   "outputs": [
    {
     "data": {
      "text/plain": [
       "RangeIndex(start=0, stop=1538, step=1)"
      ]
     },
     "execution_count": 173,
     "metadata": {},
     "output_type": "execute_result"
    }
   ],
   "source": [
    "pd.DataFrame(vis).index"
   ]
  },
  {
   "cell_type": "code",
   "execution_count": 175,
   "metadata": {
    "scrolled": true
   },
   "outputs": [
    {
     "data": {
      "text/plain": [
       "<matplotlib.collections.PathCollection at 0x1a22990470>"
      ]
     },
     "execution_count": 175,
     "metadata": {},
     "output_type": "execute_result"
    },
    {
     "data": {
      "image/png": "[encoded data removed]",
      "text/plain": [
       "<matplotlib.figure.Figure at 0x1a229f07f0>"
      ]
     },
     "metadata": {},
     "output_type": "display_data"
    }
   ],
   "source": [
    "plt.figure(figsize=(10,10))\n",
    "plt.scatter(vis, pd.DataFrame(vis).index)\n",
    "plt.scatter(y_train, pd.DataFrame(y_train).index)"
   ]
  },
  {
   "cell_type": "code",
   "execution_count": 184,
   "metadata": {},
   "outputs": [
    {
     "data": {
      "text/plain": [
       "<matplotlib.text.Text at 0x1a23b2e8d0>"
      ]
     },
     "execution_count": 184,
     "metadata": {},
     "output_type": "execute_result"
    },
    {
     "data": {
      "image/png": "[encoded data removed]",
      "text/plain": [
       "<matplotlib.figure.Figure at 0x1a2397d198>"
      ]
     },
     "metadata": {},
     "output_type": "display_data"
    }
   ],
   "source": [
    "plt.figure(figsize=(10,10))\n",
    "plt.scatter(vis, y_train)\n",
    "plt.xlabel(\"Preicted Sale Prices\")\n",
    "plt.ylabel(\"Actual Sale Prices\")\n",
    "plt.title('Ames Housing: Predictions vs Actual Sale Price')"
   ]
  },
  {
   "cell_type": "code",
   "execution_count": 114,
   "metadata": {
    "collapsed": true
   },
   "outputs": [],
   "source": [
    "Prediction3= pd.concat((ID, PRED3), axis=1)"
   ]
  },
  {
   "cell_type": "code",
   "execution_count": 115,
   "metadata": {},
   "outputs": [
    {
     "data": {
      "text/html": [
       "<div>\n",
       "<style>\n",
       "    .dataframe thead tr:only-child th {\n",
       "        text-align: right;\n",
       "    }\n",
       "\n",
       "    .dataframe thead th {\n",
       "        text-align: left;\n",
       "    }\n",
       "\n",
       "    .dataframe tbody tr th {\n",
       "        vertical-align: top;\n",
       "    }\n",
       "</style>\n",
       "<table border=\"1\" class=\"dataframe\">\n",
       "  <thead>\n",
       "    <tr style=\"text-align: right;\">\n",
       "      <th></th>\n",
       "      <th>Id</th>\n",
       "      <th>SalePrice</th>\n",
       "    </tr>\n",
       "  </thead>\n",
       "  <tbody>\n",
       "    <tr>\n",
       "      <th>0</th>\n",
       "      <td>2658</td>\n",
       "      <td>132954.688678</td>\n",
       "    </tr>\n",
       "    <tr>\n",
       "      <th>1</th>\n",
       "      <td>2718</td>\n",
       "      <td>175431.738524</td>\n",
       "    </tr>\n",
       "    <tr>\n",
       "      <th>2</th>\n",
       "      <td>2414</td>\n",
       "      <td>211322.240987</td>\n",
       "    </tr>\n",
       "    <tr>\n",
       "      <th>3</th>\n",
       "      <td>1989</td>\n",
       "      <td>118374.356680</td>\n",
       "    </tr>\n",
       "    <tr>\n",
       "      <th>4</th>\n",
       "      <td>625</td>\n",
       "      <td>206771.422105</td>\n",
       "    </tr>\n",
       "  </tbody>\n",
       "</table>\n",
       "</div>"
      ],
      "text/plain": [
       "     Id      SalePrice\n",
       "0  2658  132954.688678\n",
       "1  2718  175431.738524\n",
       "2  2414  211322.240987\n",
       "3  1989  118374.356680\n",
       "4   625  206771.422105"
      ]
     },
     "execution_count": 115,
     "metadata": {},
     "output_type": "execute_result"
    }
   ],
   "source": [
    "Prediction3.head()"
   ]
  },
  {
   "cell_type": "code",
   "execution_count": 116,
   "metadata": {
    "collapsed": true
   },
   "outputs": [],
   "source": [
    "Prediction3.to_csv('prediction_lr3.csv', index=False)"
   ]
  },
  {
   "cell_type": "code",
   "execution_count": 117,
   "metadata": {
    "collapsed": true
   },
   "outputs": [],
   "source": [
    "from sklearn.linear_model import Ridge"
   ]
  },
  {
   "cell_type": "code",
   "execution_count": 118,
   "metadata": {
    "collapsed": true
   },
   "outputs": [],
   "source": [
    "params = {\n",
    "    'fit_intercept': [True, False],\n",
    "    'alpha': np.linspace(100, 1000, 10),\n",
    "    'normalize': [True, False]\n",
    "}"
   ]
  },
  {
   "cell_type": "code",
   "execution_count": 119,
   "metadata": {},
   "outputs": [
    {
     "data": {
      "text/plain": [
       "array([  100.,   200.,   300.,   400.,   500.,   600.,   700.,   800.,\n",
       "         900.,  1000.])"
      ]
     },
     "execution_count": 119,
     "metadata": {},
     "output_type": "execute_result"
    }
   ],
   "source": [
    "np.linspace(100, 1000, 10)"
   ]
  },
  {
   "cell_type": "code",
   "execution_count": 120,
   "metadata": {
    "collapsed": true
   },
   "outputs": [],
   "source": [
    "ridge = Ridge()\n",
    "grid_search = GridSearchCV(ridge, params, verbose=1)"
   ]
  },
  {
   "cell_type": "code",
   "execution_count": 121,
   "metadata": {},
   "outputs": [
    {
     "name": "stdout",
     "output_type": "stream",
     "text": [
      "Fitting 3 folds for each of 40 candidates, totalling 120 fits\n"
     ]
    },
    {
     "name": "stderr",
     "output_type": "stream",
     "text": [
      "[Parallel(n_jobs=1)]: Done 120 out of 120 | elapsed:    1.2s finished\n"
     ]
    },
    {
     "data": {
      "text/plain": [
       "GridSearchCV(cv=None, error_score='raise',\n",
       "       estimator=Ridge(alpha=1.0, copy_X=True, fit_intercept=True, max_iter=None,\n",
       "   normalize=False, random_state=None, solver='auto', tol=0.001),\n",
       "       fit_params=None, iid=True, n_jobs=1,\n",
       "       param_grid={'fit_intercept': [True, False], 'alpha': array([  100.,   200.,   300.,   400.,   500.,   600.,   700.,   800.,\n",
       "         900.,  1000.]), 'normalize': [True, False]},\n",
       "       pre_dispatch='2*n_jobs', refit=True, return_train_score=True,\n",
       "       scoring=None, verbose=1)"
      ]
     },
     "execution_count": 121,
     "metadata": {},
     "output_type": "execute_result"
    }
   ],
   "source": [
    "grid_search.fit(X_train, y_train)"
   ]
  },
  {
   "cell_type": "code",
   "execution_count": 122,
   "metadata": {},
   "outputs": [
    {
     "name": "stdout",
     "output_type": "stream",
     "text": [
      "0.81970344043 {'alpha': 200.0, 'fit_intercept': True, 'normalize': False}\n"
     ]
    }
   ],
   "source": [
    "print(grid_search.best_score_, grid_search.best_params_)"
   ]
  },
  {
   "cell_type": "code",
   "execution_count": 123,
   "metadata": {},
   "outputs": [
    {
     "name": "stdout",
     "output_type": "stream",
     "text": [
      "0.852159701334\n",
      "0.750684746819\n"
     ]
    }
   ],
   "source": [
    "best_estimator = grid_search.best_estimator_\n",
    "\n",
    "print(best_estimator.score(X_train, y_train))\n",
    "print(best_estimator.score(X_test, y_test))"
   ]
  },
  {
   "cell_type": "code",
   "execution_count": 124,
   "metadata": {},
   "outputs": [
    {
     "name": "stdout",
     "output_type": "stream",
     "text": [
      "Fitting 3 folds for each of 40 candidates, totalling 120 fits\n"
     ]
    },
    {
     "name": "stderr",
     "output_type": "stream",
     "text": [
      "[Parallel(n_jobs=1)]: Done 120 out of 120 | elapsed:    0.9s finished\n"
     ]
    },
    {
     "data": {
      "text/plain": [
       "GridSearchCV(cv=None, error_score='raise',\n",
       "       estimator=Ridge(alpha=1.0, copy_X=True, fit_intercept=True, max_iter=None,\n",
       "   normalize=False, random_state=None, solver='auto', tol=0.001),\n",
       "       fit_params=None, iid=True, n_jobs=1,\n",
       "       param_grid={'fit_intercept': [True, False], 'alpha': array([  100.,   200.,   300.,   400.,   500.,   600.,   700.,   800.,\n",
       "         900.,  1000.]), 'normalize': [True, False]},\n",
       "       pre_dispatch='2*n_jobs', refit=True, return_train_score=True,\n",
       "       scoring=None, verbose=1)"
      ]
     },
     "execution_count": 124,
     "metadata": {},
     "output_type": "execute_result"
    }
   ],
   "source": [
    "grid_search.fit(X_train, y_train)"
   ]
  },
  {
   "cell_type": "code",
   "execution_count": 125,
   "metadata": {},
   "outputs": [
    {
     "data": {
      "text/plain": [
       "0.75068474681890662"
      ]
     },
     "execution_count": 125,
     "metadata": {},
     "output_type": "execute_result"
    }
   ],
   "source": [
    "grid_search.score(X_test, y_test)"
   ]
  },
  {
   "cell_type": "code",
   "execution_count": 126,
   "metadata": {
    "collapsed": true
   },
   "outputs": [],
   "source": [
    "PRED6 = pd.DataFrame(grid_search.predict(ames_test_ss), columns=['SalePrice'])"
   ]
  },
  {
   "cell_type": "code",
   "execution_count": 127,
   "metadata": {
    "collapsed": true
   },
   "outputs": [],
   "source": [
    "Prediction6 = pd.concat((ID, PRED6), axis=1)"
   ]
  },
  {
   "cell_type": "code",
   "execution_count": 128,
   "metadata": {
    "collapsed": true
   },
   "outputs": [],
   "source": [
    "Prediction6.to_csv('prediction_lr6.csv', index=False)"
   ]
  },
  {
   "cell_type": "code",
   "execution_count": 129,
   "metadata": {
    "collapsed": true
   },
   "outputs": [],
   "source": [
    "PRED7= pd.DataFrame(best_estimator.predict(ames_test_ss), columns=['SalePrice'])"
   ]
  },
  {
   "cell_type": "code",
   "execution_count": 130,
   "metadata": {
    "collapsed": true
   },
   "outputs": [],
   "source": [
    "Predictions7 = pd.concat((ID, PRED7), axis=1)"
   ]
  },
  {
   "cell_type": "code",
   "execution_count": 131,
   "metadata": {},
   "outputs": [
    {
     "data": {
      "text/html": [
       "<div>\n",
       "<style>\n",
       "    .dataframe thead tr:only-child th {\n",
       "        text-align: right;\n",
       "    }\n",
       "\n",
       "    .dataframe thead th {\n",
       "        text-align: left;\n",
       "    }\n",
       "\n",
       "    .dataframe tbody tr th {\n",
       "        vertical-align: top;\n",
       "    }\n",
       "</style>\n",
       "<table border=\"1\" class=\"dataframe\">\n",
       "  <thead>\n",
       "    <tr style=\"text-align: right;\">\n",
       "      <th></th>\n",
       "      <th>Id</th>\n",
       "      <th>SalePrice</th>\n",
       "    </tr>\n",
       "  </thead>\n",
       "  <tbody>\n",
       "    <tr>\n",
       "      <th>0</th>\n",
       "      <td>2658</td>\n",
       "      <td>135211.146439</td>\n",
       "    </tr>\n",
       "    <tr>\n",
       "      <th>1</th>\n",
       "      <td>2718</td>\n",
       "      <td>171490.174668</td>\n",
       "    </tr>\n",
       "    <tr>\n",
       "      <th>2</th>\n",
       "      <td>2414</td>\n",
       "      <td>211789.374931</td>\n",
       "    </tr>\n",
       "    <tr>\n",
       "      <th>3</th>\n",
       "      <td>1989</td>\n",
       "      <td>117134.822924</td>\n",
       "    </tr>\n",
       "    <tr>\n",
       "      <th>4</th>\n",
       "      <td>625</td>\n",
       "      <td>205178.282539</td>\n",
       "    </tr>\n",
       "  </tbody>\n",
       "</table>\n",
       "</div>"
      ],
      "text/plain": [
       "     Id      SalePrice\n",
       "0  2658  135211.146439\n",
       "1  2718  171490.174668\n",
       "2  2414  211789.374931\n",
       "3  1989  117134.822924\n",
       "4   625  205178.282539"
      ]
     },
     "execution_count": 131,
     "metadata": {},
     "output_type": "execute_result"
    }
   ],
   "source": [
    "Predictions7.head()"
   ]
  },
  {
   "cell_type": "code",
   "execution_count": 132,
   "metadata": {
    "collapsed": true
   },
   "outputs": [],
   "source": [
    "Predictions7.to_csv('prediction_lr7.csv', index=False)"
   ]
  },
  {
   "cell_type": "code",
   "execution_count": null,
   "metadata": {
    "collapsed": true
   },
   "outputs": [],
   "source": []
  },
  {
   "cell_type": "code",
   "execution_count": null,
   "metadata": {
    "collapsed": true
   },
   "outputs": [],
   "source": []
  },
  {
   "cell_type": "code",
   "execution_count": 133,
   "metadata": {},
   "outputs": [
    {
     "data": {
      "text/plain": [
       "Ridge(alpha=1.0, copy_X=True, fit_intercept=True, max_iter=None,\n",
       "   normalize=False, random_state=None, solver='auto', tol=0.001)"
      ]
     },
     "execution_count": 133,
     "metadata": {},
     "output_type": "execute_result"
    }
   ],
   "source": [
    "ridge.fit(X_train, y_train)"
   ]
  },
  {
   "cell_type": "code",
   "execution_count": 134,
   "metadata": {},
   "outputs": [
    {
     "data": {
      "text/plain": [
       "0.85557723973649513"
      ]
     },
     "execution_count": 134,
     "metadata": {},
     "output_type": "execute_result"
    }
   ],
   "source": [
    "ridge.score(X_train, y_train)"
   ]
  },
  {
   "cell_type": "code",
   "execution_count": 135,
   "metadata": {},
   "outputs": [
    {
     "data": {
      "text/plain": [
       "0.73666146647110908"
      ]
     },
     "execution_count": 135,
     "metadata": {},
     "output_type": "execute_result"
    }
   ],
   "source": [
    "ridge.score(X_test, y_test)"
   ]
  },
  {
   "cell_type": "code",
   "execution_count": 136,
   "metadata": {
    "collapsed": true
   },
   "outputs": [],
   "source": [
    "PRED5 = pd.DataFrame(ridge.predict(ames_test_ss), columns=['SalePrice'])"
   ]
  },
  {
   "cell_type": "code",
   "execution_count": 137,
   "metadata": {
    "collapsed": true
   },
   "outputs": [],
   "source": [
    "Prediction5 = pd.concat((ID, PRED5), axis=1)"
   ]
  },
  {
   "cell_type": "code",
   "execution_count": 138,
   "metadata": {
    "collapsed": true
   },
   "outputs": [],
   "source": [
    "Prediction5.to_csv('predictions_lr5.csv', index=False)"
   ]
  },
  {
   "cell_type": "code",
   "execution_count": null,
   "metadata": {
    "collapsed": true
   },
   "outputs": [],
   "source": []
  }
 ],
 "metadata": {
  "kernelspec": {
   "display_name": "Python 3",
   "language": "python",
   "name": "python3"
  },
  "language_info": {
   "codemirror_mode": {
    "name": "ipython",
    "version": 3
   },
   "file_extension": ".py",
   "mimetype": "text/x-python",
   "name": "python",
   "nbconvert_exporter": "python",
   "pygments_lexer": "ipython3",
   "version": "3.6.2"
  }
 },
 "nbformat": 4,
 "nbformat_minor": 2
}
