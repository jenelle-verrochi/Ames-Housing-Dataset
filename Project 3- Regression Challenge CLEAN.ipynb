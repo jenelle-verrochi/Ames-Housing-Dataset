{
 "cells": [
  {
   "cell_type": "code",
   "execution_count": 1,
   "metadata": {
    "collapsed": true
   },
   "outputs": [],
   "source": [
    "import pandas as pd\n",
    "import numpy as np\n",
    "import seaborn as sns\n",
    "import matplotlib.pyplot as plt\n",
    "%matplotlib inline\n",
    "\n",
    "from sklearn.model_selection import train_test_split\n",
    "from sklearn.preprocessing import StandardScaler\n",
    "from sklearn.linear_model import LinearRegression"
   ]
  },
  {
   "cell_type": "markdown",
   "metadata": {},
   "source": [
    "### EDA"
   ]
  },
  {
   "cell_type": "code",
   "execution_count": 2,
   "metadata": {
    "collapsed": true
   },
   "outputs": [],
   "source": [
    "ames = pd.read_csv('/Users/jenelleverrochi/Desktop/DSI/Train Data - Project 3.txt')\n",
    "ames_test = pd.read_csv('/Users/jenelleverrochi/Desktop/DSI/Test Data - Project 3.txt')"
   ]
  },
  {
   "cell_type": "code",
   "execution_count": 3,
   "metadata": {},
   "outputs": [
    {
     "name": "stdout",
     "output_type": "stream",
     "text": [
      "(2051, 82)\n",
      "(879, 80)\n"
     ]
    }
   ],
   "source": [
    "print(ames.shape)\n",
    "print(ames_test.shape)"
   ]
  },
  {
   "cell_type": "code",
   "execution_count": 4,
   "metadata": {},
   "outputs": [
    {
     "data": {
      "text/plain": [
       "Lot Frontage       330\n",
       "Alley             1911\n",
       "Mas Vnr Type        22\n",
       "Mas Vnr Area        22\n",
       "Bsmt Qual           55\n",
       "Bsmt Cond           55\n",
       "Bsmt Exposure       58\n",
       "BsmtFin Type 1      55\n",
       "BsmtFin SF 1         1\n",
       "BsmtFin Type 2      56\n",
       "BsmtFin SF 2         1\n",
       "Bsmt Unf SF          1\n",
       "Total Bsmt SF        1\n",
       "Bsmt Full Bath       2\n",
       "Bsmt Half Bath       2\n",
       "Fireplace Qu      1000\n",
       "Garage Type        113\n",
       "Garage Yr Blt      114\n",
       "Garage Finish      114\n",
       "Garage Cars          1\n",
       "Garage Area          1\n",
       "Garage Qual        114\n",
       "Garage Cond        114\n",
       "Pool QC           2042\n",
       "Fence             1651\n",
       "Misc Feature      1986\n",
       "dtype: int64"
      ]
     },
     "execution_count": 4,
     "metadata": {},
     "output_type": "execute_result"
    }
   ],
   "source": [
    "ames.isnull().sum()[ames.isnull().sum() > 0]"
   ]
  },
  {
   "cell_type": "code",
   "execution_count": 5,
   "metadata": {},
   "outputs": [
    {
     "data": {
      "text/plain": [
       "Id                  int64\n",
       "PID                 int64\n",
       "MS SubClass         int64\n",
       "MS Zoning          object\n",
       "Lot Frontage      float64\n",
       "Lot Area            int64\n",
       "Street             object\n",
       "Alley              object\n",
       "Lot Shape          object\n",
       "Land Contour       object\n",
       "Utilities          object\n",
       "Lot Config         object\n",
       "Land Slope         object\n",
       "Neighborhood       object\n",
       "Condition 1        object\n",
       "Condition 2        object\n",
       "Bldg Type          object\n",
       "House Style        object\n",
       "Overall Qual        int64\n",
       "Overall Cond        int64\n",
       "Year Built          int64\n",
       "Year Remod/Add      int64\n",
       "Roof Style         object\n",
       "Roof Matl          object\n",
       "Exterior 1st       object\n",
       "Exterior 2nd       object\n",
       "Mas Vnr Type       object\n",
       "Mas Vnr Area      float64\n",
       "Exter Qual         object\n",
       "Exter Cond         object\n",
       "                   ...   \n",
       "Bedroom AbvGr       int64\n",
       "Kitchen AbvGr       int64\n",
       "Kitchen Qual       object\n",
       "TotRms AbvGrd       int64\n",
       "Functional         object\n",
       "Fireplaces          int64\n",
       "Fireplace Qu       object\n",
       "Garage Type        object\n",
       "Garage Yr Blt     float64\n",
       "Garage Finish      object\n",
       "Garage Cars       float64\n",
       "Garage Area       float64\n",
       "Garage Qual        object\n",
       "Garage Cond        object\n",
       "Paved Drive        object\n",
       "Wood Deck SF        int64\n",
       "Open Porch SF       int64\n",
       "Enclosed Porch      int64\n",
       "3Ssn Porch          int64\n",
       "Screen Porch        int64\n",
       "Pool Area           int64\n",
       "Pool QC            object\n",
       "Fence              object\n",
       "Misc Feature       object\n",
       "Misc Val            int64\n",
       "Mo Sold             int64\n",
       "Yr Sold             int64\n",
       "Sale Type          object\n",
       "Sale Condition     object\n",
       "SalePrice           int64\n",
       "Length: 82, dtype: object"
      ]
     },
     "execution_count": 5,
     "metadata": {},
     "output_type": "execute_result"
    }
   ],
   "source": [
    "ames.dtypes"
   ]
  },
  {
   "cell_type": "code",
   "execution_count": 6,
   "metadata": {},
   "outputs": [
    {
     "data": {
      "text/plain": [
       "<matplotlib.axes._subplots.AxesSubplot at 0x1a17ca3e80>"
      ]
     },
     "execution_count": 6,
     "metadata": {},
     "output_type": "execute_result"
    },
    {
     "data": {
      "image/png": "[encoded data removed]",
      "text/plain": [
       "<matplotlib.figure.Figure at 0x1a17ca3438>"
      ]
     },
     "metadata": {},
     "output_type": "display_data"
    }
   ],
   "source": [
    "plt.figure(figsize=(10,10))\n",
    "test_df = ames[['MS SubClass', 'MS Zoning', 'Lot Frontage', \n",
    "                    'Lot Area', 'Overall Qual', 'Overall Cond',\n",
    "                'Year Built', 'Year Remod/Add', 'Mas Vnr Area', 'Total Bsmt SF',  'SalePrice']]\n",
    "\n",
    "sns.heatmap(test_df.corr(), annot=True)"
   ]
  },
  {
   "cell_type": "code",
   "execution_count": 7,
   "metadata": {},
   "outputs": [
    {
     "data": {
      "text/plain": [
       "<matplotlib.axes._subplots.AxesSubplot at 0x1a20c234a8>"
      ]
     },
     "execution_count": 7,
     "metadata": {},
     "output_type": "execute_result"
    },
    {
     "data": {
      "image/png": "[encoded data removed]",
      "text/plain": [
       "<matplotlib.figure.Figure at 0x1a20c23438>"
      ]
     },
     "metadata": {},
     "output_type": "display_data"
    }
   ],
   "source": [
    "plt.figure(figsize=(10,10))\n",
    "test_df2 = ames[['1st Flr SF', '2nd Flr SF', 'Low Qual Fin SF', \n",
    "                    'Gr Liv Area', 'Full Bath', 'Half Bath',\n",
    "                'Bedroom AbvGr', 'Kitchen AbvGr', 'TotRms AbvGrd', 'Fireplaces',  'SalePrice']]\n",
    "\n",
    "sns.heatmap(test_df2.corr(), annot=True)"
   ]
  },
  {
   "cell_type": "code",
   "execution_count": 8,
   "metadata": {},
   "outputs": [
    {
     "data": {
      "text/plain": [
       "<matplotlib.axes._subplots.AxesSubplot at 0x1a20c39a90>"
      ]
     },
     "execution_count": 8,
     "metadata": {},
     "output_type": "execute_result"
    },
    {
     "data": {
      "image/png": "[encoded data removed]",
      "text/plain": [
       "<matplotlib.figure.Figure at 0x1a20eb0940>"
      ]
     },
     "metadata": {},
     "output_type": "display_data"
    }
   ],
   "source": [
    "plt.figure(figsize=(10,10))\n",
    "test_df3 = ames[['Garage Cars', 'Garage Area', 'Wood Deck SF', \n",
    "                    'Open Porch SF', 'Enclosed Porch', 'Screen Porch',\n",
    "                'Pool Area', 'Mo Sold', 'Yr Sold', 'SalePrice']]\n",
    "\n",
    "sns.heatmap(test_df3.corr(), annot=True)"
   ]
  },
  {
   "cell_type": "code",
   "execution_count": 9,
   "metadata": {},
   "outputs": [
    {
     "data": {
      "text/plain": [
       "<seaborn.axisgrid.PairGrid at 0x1a20a9ccc0>"
      ]
     },
     "execution_count": 9,
     "metadata": {},
     "output_type": "execute_result"
    },
    {
     "data": {
      "image/png": "[encoded data removed]",
      "text/plain": [
       "<matplotlib.figure.Figure at 0x1a17ca3ac8>"
      ]
     },
     "metadata": {},
     "output_type": "display_data"
    }
   ],
   "source": [
    "sns.pairplot(ames[['Garage Cars', 'Garage Area', '1st Flr SF', 'Gr Liv Area', \n",
    "                   'Full Bath', 'TotRms AbvGrd', 'SalePrice']].corr())"
   ]
  },
  {
   "cell_type": "code",
   "execution_count": 10,
   "metadata": {},
   "outputs": [
    {
     "data": {
      "text/plain": [
       "SalePrice          1.000000\n",
       "Overall Qual       0.800207\n",
       "Gr Liv Area        0.697038\n",
       "Garage Area        0.650270\n",
       "Garage Cars        0.648220\n",
       "Total Bsmt SF      0.628925\n",
       "1st Flr SF         0.618486\n",
       "Year Built         0.571849\n",
       "Year Remod/Add     0.550370\n",
       "Full Bath          0.537969\n",
       "Garage Yr Blt      0.533922\n",
       "Mas Vnr Area       0.512230\n",
       "TotRms AbvGrd      0.504014\n",
       "Fireplaces         0.471093\n",
       "BsmtFin SF 1       0.423519\n",
       "Lot Frontage       0.341842\n",
       "Open Porch SF      0.333476\n",
       "Wood Deck SF       0.326490\n",
       "Lot Area           0.296566\n",
       "Bsmt Full Bath     0.283662\n",
       "Half Bath          0.283001\n",
       "PID                0.255052\n",
       "2nd Flr SF         0.248452\n",
       "Bsmt Unf SF        0.190210\n",
       "Bedroom AbvGr      0.137067\n",
       "Enclosed Porch     0.135656\n",
       "Screen Porch       0.134581\n",
       "Kitchen AbvGr      0.125444\n",
       "Overall Cond       0.097019\n",
       "MS SubClass        0.087335\n",
       "Id                 0.051398\n",
       "3Ssn Porch         0.048732\n",
       "Bsmt Half Bath     0.045328\n",
       "Low Qual Fin SF    0.041594\n",
       "Mo Sold            0.032735\n",
       "Pool Area          0.023106\n",
       "BsmtFin SF 2       0.016255\n",
       "Yr Sold            0.015203\n",
       "Misc Val           0.007375\n",
       "Name: SalePrice, dtype: float64"
      ]
     },
     "execution_count": 10,
     "metadata": {},
     "output_type": "execute_result"
    }
   ],
   "source": [
    "abs(ames.corr()['SalePrice']).sort_values(ascending=False)"
   ]
  },
  {
   "cell_type": "code",
   "execution_count": 11,
   "metadata": {
    "collapsed": true
   },
   "outputs": [],
   "source": [
    "#From EDA I was able to conclude that the following variables all have more than\n",
    "#a .5 R2 so are most correlated to sale price:\n",
    "\n",
    "#1st Flr SF, Gr Liv Area, Full Bath, TotRms AbvGrd, Fireplaces, Garage Cars, Garage Area,\n",
    "#Overall Qual, Year Built, Year Remod/Add, Mas Vnr Area, Total Bsmt SF\n",
    "\n"
   ]
  },
  {
   "cell_type": "markdown",
   "metadata": {},
   "source": [
    "### PREPROCESSING"
   ]
  },
  {
   "cell_type": "markdown",
   "metadata": {},
   "source": [
    "Seperate numeric and categorical data"
   ]
  },
  {
   "cell_type": "code",
   "execution_count": 12,
   "metadata": {},
   "outputs": [
    {
     "data": {
      "text/plain": [
       "{'float64': Index(['Lot Frontage', 'Mas Vnr Area', 'BsmtFin SF 1', 'BsmtFin SF 2',\n",
       "        'Bsmt Unf SF', 'Total Bsmt SF', 'Bsmt Full Bath', 'Bsmt Half Bath',\n",
       "        'Garage Yr Blt', 'Garage Cars', 'Garage Area'],\n",
       "       dtype='object'),\n",
       " 'int64': Index(['Id', 'PID', 'MS SubClass', 'Lot Area', 'Overall Qual', 'Overall Cond',\n",
       "        'Year Built', 'Year Remod/Add', '1st Flr SF', '2nd Flr SF',\n",
       "        'Low Qual Fin SF', 'Gr Liv Area', 'Full Bath', 'Half Bath',\n",
       "        'Bedroom AbvGr', 'Kitchen AbvGr', 'TotRms AbvGrd', 'Fireplaces',\n",
       "        'Wood Deck SF', 'Open Porch SF', 'Enclosed Porch', '3Ssn Porch',\n",
       "        'Screen Porch', 'Pool Area', 'Misc Val', 'Mo Sold', 'Yr Sold',\n",
       "        'SalePrice'],\n",
       "       dtype='object'),\n",
       " 'object': Index(['MS Zoning', 'Street', 'Alley', 'Lot Shape', 'Land Contour',\n",
       "        'Utilities', 'Lot Config', 'Land Slope', 'Neighborhood', 'Condition 1',\n",
       "        'Condition 2', 'Bldg Type', 'House Style', 'Roof Style', 'Roof Matl',\n",
       "        'Exterior 1st', 'Exterior 2nd', 'Mas Vnr Type', 'Exter Qual',\n",
       "        'Exter Cond', 'Foundation', 'Bsmt Qual', 'Bsmt Cond', 'Bsmt Exposure',\n",
       "        'BsmtFin Type 1', 'BsmtFin Type 2', 'Heating', 'Heating QC',\n",
       "        'Central Air', 'Electrical', 'Kitchen Qual', 'Functional',\n",
       "        'Fireplace Qu', 'Garage Type', 'Garage Finish', 'Garage Qual',\n",
       "        'Garage Cond', 'Paved Drive', 'Pool QC', 'Fence', 'Misc Feature',\n",
       "        'Sale Type', 'Sale Condition'],\n",
       "       dtype='object')}"
      ]
     },
     "execution_count": 12,
     "metadata": {},
     "output_type": "execute_result"
    }
   ],
   "source": [
    "g = ames.columns.to_series().groupby(ames.dtypes).groups\n",
    "d = {k.name: v for k, v in g.items()}\n",
    "d"
   ]
  },
  {
   "cell_type": "code",
   "execution_count": 13,
   "metadata": {
    "collapsed": true
   },
   "outputs": [],
   "source": [
    "ames_num = ames[['Lot Frontage', 'Mas Vnr Area', 'BsmtFin SF 1', 'BsmtFin SF 2',\n",
    "        'Bsmt Unf SF', 'Total Bsmt SF', 'Bsmt Full Bath', 'Bsmt Half Bath',\n",
    "        'Garage Yr Blt', 'Garage Cars', 'Garage Area', 'Id', 'PID', 'MS SubClass', 'Lot Area', 'Overall Qual', 'Overall Cond',\n",
    "        'Year Built', 'Year Remod/Add', '1st Flr SF', '2nd Flr SF',\n",
    "        'Low Qual Fin SF', 'Gr Liv Area', 'Full Bath', 'Half Bath',\n",
    "        'Bedroom AbvGr', 'Kitchen AbvGr', 'TotRms AbvGrd', 'Fireplaces',\n",
    "        'Wood Deck SF', 'Open Porch SF', 'Enclosed Porch', '3Ssn Porch',\n",
    "        'Screen Porch', 'Pool Area', 'Misc Val', 'Mo Sold', 'Yr Sold' ]]\n",
    "\n",
    "ames_cat = ames[['MS Zoning', 'Street', 'Alley', 'Lot Shape', 'Land Contour',\n",
    "        'Utilities', 'Lot Config', 'Land Slope', 'Neighborhood', 'Condition 1',\n",
    "        'Condition 2', 'Bldg Type', 'House Style', 'Roof Style', 'Roof Matl',\n",
    "        'Exterior 1st', 'Exterior 2nd', 'Mas Vnr Type', 'Exter Qual',\n",
    "        'Exter Cond', 'Foundation', 'Bsmt Qual', 'Bsmt Cond', 'Bsmt Exposure',\n",
    "        'BsmtFin Type 1', 'BsmtFin Type 2', 'Heating', 'Heating QC',\n",
    "        'Central Air', 'Electrical', 'Kitchen Qual', 'Functional',\n",
    "        'Fireplace Qu', 'Garage Type', 'Garage Finish', 'Garage Qual',\n",
    "        'Garage Cond', 'Paved Drive', 'Pool QC', 'Fence', 'Misc Feature',\n",
    "        'Sale Type', 'Sale Condition']]"
   ]
  },
  {
   "cell_type": "code",
   "execution_count": 14,
   "metadata": {},
   "outputs": [
    {
     "name": "stdout",
     "output_type": "stream",
     "text": [
      "(2051, 38) (2051,)\n"
     ]
    }
   ],
   "source": [
    "X = ames_num[[col for col in ames_num.columns if col != 'SalePrice']]\n",
    "y = ames.SalePrice\n",
    "\n",
    "print(X.shape, y.shape)"
   ]
  },
  {
   "cell_type": "markdown",
   "metadata": {},
   "source": [
    "TTS"
   ]
  },
  {
   "cell_type": "code",
   "execution_count": 15,
   "metadata": {},
   "outputs": [
    {
     "name": "stdout",
     "output_type": "stream",
     "text": [
      "(1538, 38) (513, 38) (1538,) (513,)\n"
     ]
    }
   ],
   "source": [
    "X_train, X_test, y_train, y_test = train_test_split(X, y)\n",
    "\n",
    "print(X_train.shape, X_test.shape, y_train.shape, y_test.shape)"
   ]
  },
  {
   "cell_type": "code",
   "execution_count": 16,
   "metadata": {},
   "outputs": [
    {
     "data": {
      "text/plain": [
       "Lot Frontage      258\n",
       "Mas Vnr Area       17\n",
       "BsmtFin SF 1        1\n",
       "BsmtFin SF 2        1\n",
       "Bsmt Unf SF         1\n",
       "Total Bsmt SF       1\n",
       "Bsmt Full Bath      2\n",
       "Bsmt Half Bath      2\n",
       "Garage Yr Blt      88\n",
       "Garage Cars         1\n",
       "Garage Area         1\n",
       "dtype: int64"
      ]
     },
     "execution_count": 16,
     "metadata": {},
     "output_type": "execute_result"
    }
   ],
   "source": [
    "X_train.isnull().sum()[X_train.isnull().sum()>0]"
   ]
  },
  {
   "cell_type": "code",
   "execution_count": 17,
   "metadata": {},
   "outputs": [
    {
     "data": {
      "text/html": [
       "<div>\n",
       "<style>\n",
       "    .dataframe thead tr:only-child th {\n",
       "        text-align: right;\n",
       "    }\n",
       "\n",
       "    .dataframe thead th {\n",
       "        text-align: left;\n",
       "    }\n",
       "\n",
       "    .dataframe tbody tr th {\n",
       "        vertical-align: top;\n",
       "    }\n",
       "</style>\n",
       "<table border=\"1\" class=\"dataframe\">\n",
       "  <thead>\n",
       "    <tr style=\"text-align: right;\">\n",
       "      <th></th>\n",
       "      <th>Lot Frontage</th>\n",
       "      <th>Mas Vnr Area</th>\n",
       "      <th>BsmtFin SF 1</th>\n",
       "      <th>BsmtFin SF 2</th>\n",
       "      <th>Bsmt Unf SF</th>\n",
       "      <th>Total Bsmt SF</th>\n",
       "      <th>Bsmt Full Bath</th>\n",
       "      <th>Bsmt Half Bath</th>\n",
       "      <th>Garage Yr Blt</th>\n",
       "      <th>Garage Cars</th>\n",
       "      <th>...</th>\n",
       "      <th>Fireplaces</th>\n",
       "      <th>Wood Deck SF</th>\n",
       "      <th>Open Porch SF</th>\n",
       "      <th>Enclosed Porch</th>\n",
       "      <th>3Ssn Porch</th>\n",
       "      <th>Screen Porch</th>\n",
       "      <th>Pool Area</th>\n",
       "      <th>Misc Val</th>\n",
       "      <th>Mo Sold</th>\n",
       "      <th>Yr Sold</th>\n",
       "    </tr>\n",
       "  </thead>\n",
       "  <tbody>\n",
       "    <tr>\n",
       "      <th>773</th>\n",
       "      <td>60.0</td>\n",
       "      <td>0.0</td>\n",
       "      <td>234.0</td>\n",
       "      <td>0.0</td>\n",
       "      <td>739.0</td>\n",
       "      <td>973.0</td>\n",
       "      <td>0.0</td>\n",
       "      <td>0.0</td>\n",
       "      <td>1930.0</td>\n",
       "      <td>2.0</td>\n",
       "      <td>...</td>\n",
       "      <td>0</td>\n",
       "      <td>0</td>\n",
       "      <td>0</td>\n",
       "      <td>219</td>\n",
       "      <td>0</td>\n",
       "      <td>0</td>\n",
       "      <td>0</td>\n",
       "      <td>0</td>\n",
       "      <td>4</td>\n",
       "      <td>2008</td>\n",
       "    </tr>\n",
       "    <tr>\n",
       "      <th>1574</th>\n",
       "      <td>63.0</td>\n",
       "      <td>106.0</td>\n",
       "      <td>0.0</td>\n",
       "      <td>0.0</td>\n",
       "      <td>1422.0</td>\n",
       "      <td>1422.0</td>\n",
       "      <td>0.0</td>\n",
       "      <td>0.0</td>\n",
       "      <td>2004.0</td>\n",
       "      <td>2.0</td>\n",
       "      <td>...</td>\n",
       "      <td>0</td>\n",
       "      <td>192</td>\n",
       "      <td>60</td>\n",
       "      <td>0</td>\n",
       "      <td>0</td>\n",
       "      <td>0</td>\n",
       "      <td>0</td>\n",
       "      <td>0</td>\n",
       "      <td>11</td>\n",
       "      <td>2007</td>\n",
       "    </tr>\n",
       "    <tr>\n",
       "      <th>1534</th>\n",
       "      <td>21.0</td>\n",
       "      <td>80.0</td>\n",
       "      <td>0.0</td>\n",
       "      <td>0.0</td>\n",
       "      <td>546.0</td>\n",
       "      <td>546.0</td>\n",
       "      <td>0.0</td>\n",
       "      <td>0.0</td>\n",
       "      <td>1970.0</td>\n",
       "      <td>1.0</td>\n",
       "      <td>...</td>\n",
       "      <td>0</td>\n",
       "      <td>0</td>\n",
       "      <td>0</td>\n",
       "      <td>0</td>\n",
       "      <td>0</td>\n",
       "      <td>0</td>\n",
       "      <td>0</td>\n",
       "      <td>0</td>\n",
       "      <td>1</td>\n",
       "      <td>2007</td>\n",
       "    </tr>\n",
       "    <tr>\n",
       "      <th>967</th>\n",
       "      <td>80.0</td>\n",
       "      <td>0.0</td>\n",
       "      <td>978.0</td>\n",
       "      <td>0.0</td>\n",
       "      <td>284.0</td>\n",
       "      <td>1262.0</td>\n",
       "      <td>0.0</td>\n",
       "      <td>1.0</td>\n",
       "      <td>1976.0</td>\n",
       "      <td>2.0</td>\n",
       "      <td>...</td>\n",
       "      <td>1</td>\n",
       "      <td>298</td>\n",
       "      <td>0</td>\n",
       "      <td>0</td>\n",
       "      <td>0</td>\n",
       "      <td>0</td>\n",
       "      <td>0</td>\n",
       "      <td>0</td>\n",
       "      <td>5</td>\n",
       "      <td>2007</td>\n",
       "    </tr>\n",
       "    <tr>\n",
       "      <th>1866</th>\n",
       "      <td>NaN</td>\n",
       "      <td>295.0</td>\n",
       "      <td>0.0</td>\n",
       "      <td>0.0</td>\n",
       "      <td>1519.0</td>\n",
       "      <td>1519.0</td>\n",
       "      <td>0.0</td>\n",
       "      <td>0.0</td>\n",
       "      <td>2000.0</td>\n",
       "      <td>3.0</td>\n",
       "      <td>...</td>\n",
       "      <td>1</td>\n",
       "      <td>162</td>\n",
       "      <td>153</td>\n",
       "      <td>0</td>\n",
       "      <td>0</td>\n",
       "      <td>0</td>\n",
       "      <td>0</td>\n",
       "      <td>0</td>\n",
       "      <td>6</td>\n",
       "      <td>2008</td>\n",
       "    </tr>\n",
       "  </tbody>\n",
       "</table>\n",
       "<p>5 rows × 38 columns</p>\n",
       "</div>"
      ],
      "text/plain": [
       "      Lot Frontage  Mas Vnr Area  BsmtFin SF 1  BsmtFin SF 2  Bsmt Unf SF  \\\n",
       "773           60.0           0.0         234.0           0.0        739.0   \n",
       "1574          63.0         106.0           0.0           0.0       1422.0   \n",
       "1534          21.0          80.0           0.0           0.0        546.0   \n",
       "967           80.0           0.0         978.0           0.0        284.0   \n",
       "1866           NaN         295.0           0.0           0.0       1519.0   \n",
       "\n",
       "      Total Bsmt SF  Bsmt Full Bath  Bsmt Half Bath  Garage Yr Blt  \\\n",
       "773           973.0             0.0             0.0         1930.0   \n",
       "1574         1422.0             0.0             0.0         2004.0   \n",
       "1534          546.0             0.0             0.0         1970.0   \n",
       "967          1262.0             0.0             1.0         1976.0   \n",
       "1866         1519.0             0.0             0.0         2000.0   \n",
       "\n",
       "      Garage Cars   ...     Fireplaces  Wood Deck SF  Open Porch SF  \\\n",
       "773           2.0   ...              0             0              0   \n",
       "1574          2.0   ...              0           192             60   \n",
       "1534          1.0   ...              0             0              0   \n",
       "967           2.0   ...              1           298              0   \n",
       "1866          3.0   ...              1           162            153   \n",
       "\n",
       "      Enclosed Porch  3Ssn Porch  Screen Porch  Pool Area  Misc Val  Mo Sold  \\\n",
       "773              219           0             0          0         0        4   \n",
       "1574               0           0             0          0         0       11   \n",
       "1534               0           0             0          0         0        1   \n",
       "967                0           0             0          0         0        5   \n",
       "1866               0           0             0          0         0        6   \n",
       "\n",
       "      Yr Sold  \n",
       "773      2008  \n",
       "1574     2007  \n",
       "1534     2007  \n",
       "967      2007  \n",
       "1866     2008  \n",
       "\n",
       "[5 rows x 38 columns]"
      ]
     },
     "execution_count": 17,
     "metadata": {},
     "output_type": "execute_result"
    }
   ],
   "source": [
    "X_train.head()"
   ]
  },
  {
   "cell_type": "code",
   "execution_count": 18,
   "metadata": {
    "collapsed": true
   },
   "outputs": [],
   "source": [
    "from sklearn.preprocessing import Imputer\n",
    "imputer = Imputer(strategy='median')\n",
    "\n",
    "X_train = imputer.fit_transform(X_train)"
   ]
  },
  {
   "cell_type": "code",
   "execution_count": 19,
   "metadata": {},
   "outputs": [
    {
     "data": {
      "text/plain": [
       "array([[  6.00000000e+01,   0.00000000e+00,   2.34000000e+02, ...,\n",
       "          0.00000000e+00,   4.00000000e+00,   2.00800000e+03],\n",
       "       [  6.30000000e+01,   1.06000000e+02,   0.00000000e+00, ...,\n",
       "          0.00000000e+00,   1.10000000e+01,   2.00700000e+03],\n",
       "       [  2.10000000e+01,   8.00000000e+01,   0.00000000e+00, ...,\n",
       "          0.00000000e+00,   1.00000000e+00,   2.00700000e+03],\n",
       "       ..., \n",
       "       [  2.40000000e+01,   0.00000000e+00,   4.35000000e+02, ...,\n",
       "          0.00000000e+00,   8.00000000e+00,   2.00900000e+03],\n",
       "       [  7.80000000e+01,   7.60000000e+01,   2.40000000e+01, ...,\n",
       "          0.00000000e+00,   3.00000000e+00,   2.00900000e+03],\n",
       "       [  7.90000000e+01,   2.40000000e+02,   2.80000000e+01, ...,\n",
       "          0.00000000e+00,   2.00000000e+00,   2.01000000e+03]])"
      ]
     },
     "execution_count": 19,
     "metadata": {},
     "output_type": "execute_result"
    }
   ],
   "source": [
    "X_train"
   ]
  },
  {
   "cell_type": "code",
   "execution_count": 20,
   "metadata": {},
   "outputs": [
    {
     "data": {
      "text/plain": [
       "array([[ -3.93675329e-01,  -5.62365260e-01,  -4.57065153e-01, ...,\n",
       "         -8.37064923e-02,  -8.15442555e-01,   1.74905283e-01],\n",
       "       [ -2.47614058e-01,   6.62173199e-02,  -9.87829941e-01, ...,\n",
       "         -8.37064923e-02,   1.75078210e+00,  -5.89311550e-01],\n",
       "       [ -2.29247185e+00,  -8.79633129e-02,  -9.87829941e-01, ...,\n",
       "         -8.37064923e-02,  -1.91525312e+00,  -5.89311550e-01],\n",
       "       ..., \n",
       "       [ -2.14641058e+00,  -5.62365260e-01,  -1.15181026e-03, ...,\n",
       "         -8.37064923e-02,   6.50971534e-01,   9.39122116e-01],\n",
       "       [  4.82692297e-01,  -1.11683410e-01,  -9.33392527e-01, ...,\n",
       "         -8.37064923e-02,  -1.18204608e+00,   9.39122116e-01],\n",
       "       [  5.31379388e-01,   8.60840581e-01,  -9.24319624e-01, ...,\n",
       "         -8.37064923e-02,  -1.54864960e+00,   1.70333895e+00]])"
      ]
     },
     "execution_count": 20,
     "metadata": {},
     "output_type": "execute_result"
    }
   ],
   "source": [
    "ss = StandardScaler()\n",
    "ss.fit(X_train)\n",
    "X_train = ss.transform(X_train)\n",
    "\n",
    "X_train"
   ]
  },
  {
   "cell_type": "code",
   "execution_count": 21,
   "metadata": {
    "collapsed": true
   },
   "outputs": [],
   "source": [
    "X_train = pd.DataFrame(X_train, columns=X.columns)\n"
   ]
  },
  {
   "cell_type": "markdown",
   "metadata": {},
   "source": [
    "Regularization - Lasso"
   ]
  },
  {
   "cell_type": "code",
   "execution_count": 22,
   "metadata": {
    "collapsed": true
   },
   "outputs": [],
   "source": [
    "\n",
    "from sklearn.linear_model import Lasso, LinearRegression, LogisticRegression, ElasticNet\n",
    "from sklearn.neighbors import KNeighborsClassifier\n",
    "from sklearn.model_selection import cross_val_score, GridSearchCV, train_test_split\n",
    "from sklearn.feature_selection import RFE, SelectKBest, f_classif, f_regression"
   ]
  },
  {
   "cell_type": "code",
   "execution_count": 23,
   "metadata": {},
   "outputs": [
    {
     "data": {
      "text/plain": [
       "Lasso(alpha=500, copy_X=True, fit_intercept=True, max_iter=1000,\n",
       "   normalize=False, positive=False, precompute=False, random_state=None,\n",
       "   selection='cyclic', tol=0.0001, warm_start=False)"
      ]
     },
     "execution_count": 23,
     "metadata": {},
     "output_type": "execute_result"
    }
   ],
   "source": [
    "lasso = Lasso(alpha=500)\n",
    "lasso.fit(X_train, y_train)"
   ]
  },
  {
   "cell_type": "code",
   "execution_count": 24,
   "metadata": {},
   "outputs": [
    {
     "data": {
      "text/plain": [
       "array([  3.01920205e+03,   6.71537543e+03,   8.54055191e+03,\n",
       "         0.00000000e+00,  -0.00000000e+00,   8.47321427e+03,\n",
       "         1.15314314e+03,  -1.03648826e+03,   3.79111145e+03,\n",
       "         7.92362226e+02,   3.69510035e+03,   0.00000000e+00,\n",
       "        -2.44125087e+02,  -4.04618688e+03,   4.87408469e+03,\n",
       "         2.38270280e+04,   4.01988849e+03,   6.64346504e+03,\n",
       "         4.50309814e+03,   4.22251459e+02,   0.00000000e+00,\n",
       "        -7.21641207e+02,   2.55714948e+04,   5.24797896e+00,\n",
       "        -0.00000000e+00,  -6.02885940e+03,  -1.19483887e+03,\n",
       "         3.80186076e+03,   1.97801181e+03,   1.54547445e+03,\n",
       "         0.00000000e+00,   1.96671914e+01,   2.04437521e+01,\n",
       "         4.28541355e+03,   1.26640374e+02,  -9.72138413e+03,\n",
       "        -0.00000000e+00,  -9.90201609e+01])"
      ]
     },
     "execution_count": 24,
     "metadata": {},
     "output_type": "execute_result"
    }
   ],
   "source": [
    "lasso.coef_"
   ]
  },
  {
   "cell_type": "code",
   "execution_count": 25,
   "metadata": {},
   "outputs": [
    {
     "name": "stdout",
     "output_type": "stream",
     "text": [
      "Lot Frontage 3019.20205181\n",
      "Mas Vnr Area 6715.3754321\n",
      "BsmtFin SF 1 8540.55190999\n",
      "BsmtFin SF 2 0.0\n",
      "Bsmt Unf SF -0.0\n",
      "Total Bsmt SF 8473.21427353\n",
      "Bsmt Full Bath 1153.14313698\n",
      "Bsmt Half Bath -1036.4882575\n",
      "Garage Yr Blt 3791.11144911\n",
      "Garage Cars 792.362225966\n",
      "Garage Area 3695.10034966\n",
      "Id 0.0\n",
      "PID -244.125086562\n",
      "MS SubClass -4046.18687667\n",
      "Lot Area 4874.0846917\n",
      "Overall Qual 23827.0280419\n",
      "Overall Cond 4019.88848903\n",
      "Year Built 6643.46503927\n",
      "Year Remod/Add 4503.09813924\n",
      "1st Flr SF 422.251458605\n",
      "2nd Flr SF 0.0\n",
      "Low Qual Fin SF -721.64120672\n",
      "Gr Liv Area 25571.4947989\n",
      "Full Bath 5.24797895657\n",
      "Half Bath -0.0\n",
      "Bedroom AbvGr -6028.85940337\n",
      "Kitchen AbvGr -1194.83887\n",
      "TotRms AbvGrd 3801.86075865\n",
      "Fireplaces 1978.01181294\n",
      "Wood Deck SF 1545.47444526\n",
      "Open Porch SF 0.0\n",
      "Enclosed Porch 19.6671913591\n",
      "3Ssn Porch 20.4437520946\n",
      "Screen Porch 4285.41355245\n",
      "Pool Area 126.640373982\n",
      "Misc Val -9721.38413428\n",
      "Mo Sold -0.0\n",
      "Yr Sold -99.0201609093\n"
     ]
    }
   ],
   "source": [
    "for i, col in enumerate(X.columns):\n",
    "    print(col, lasso.coef_[i])"
   ]
  },
  {
   "cell_type": "code",
   "execution_count": 26,
   "metadata": {
    "collapsed": true,
    "scrolled": true
   },
   "outputs": [],
   "source": [
    "selected_x = []\n",
    "for i, col in enumerate(X.columns):\n",
    "    if abs(lasso.coef_[i]) > 0:\n",
    "        selected_x.append(col)\n",
    "        \n",
    "selected_x = X_train[selected_x]"
   ]
  },
  {
   "cell_type": "code",
   "execution_count": 27,
   "metadata": {
    "scrolled": true
   },
   "outputs": [
    {
     "name": "stdout",
     "output_type": "stream",
     "text": [
      "All features\n",
      "[ 0.81045184  0.85654338  0.88095944  0.85318448  0.84597498  0.83398238\n",
      "  0.86911141  0.56314973  0.86769819  0.76836158] \n",
      " Mean:  0.814941741411\n",
      "Selected features\n",
      "[ 0.81193535  0.85963702  0.88052295  0.85854509  0.84591318  0.83523382\n",
      "  0.86898326  0.56384373  0.86796536  0.7717529 ] \n",
      " Mean:  0.816433265918\n"
     ]
    }
   ],
   "source": [
    "lr = LinearRegression()\n",
    "lr.fit(X_train, y_train)\n",
    "\n",
    "print('All features')\n",
    "scores = cross_val_score(lr, X_train, y_train, cv=10)\n",
    "print(scores, '\\n', 'Mean: ', scores.mean())\n",
    "\n",
    "\n",
    "print('Selected features')\n",
    "scores = cross_val_score(lr, selected_x , y_train, cv=10)\n",
    "print(scores, '\\n', 'Mean: ', scores.mean())\n",
    "\n"
   ]
  },
  {
   "cell_type": "markdown",
   "metadata": {},
   "source": [
    "Gridsearch"
   ]
  },
  {
   "cell_type": "code",
   "execution_count": 28,
   "metadata": {
    "collapsed": true
   },
   "outputs": [],
   "source": [
    "lasso = Lasso()\n",
    "params_grid = {\n",
    "    'fit_intercept': [True, False],\n",
    "    'alpha': np.linspace(0.01, 100, 10),\n",
    "    'normalize': [True, False],\n",
    "    'precompute':[True, False]\n",
    "}"
   ]
  },
  {
   "cell_type": "code",
   "execution_count": 29,
   "metadata": {
    "collapsed": true
   },
   "outputs": [],
   "source": [
    "grid_search = GridSearchCV(lasso, params_grid, verbose=2, n_jobs=-1, cv=3)"
   ]
  },
  {
   "cell_type": "code",
   "execution_count": 30,
   "metadata": {},
   "outputs": [
    {
     "name": "stdout",
     "output_type": "stream",
     "text": [
      "Fitting 3 folds for each of 80 candidates, totalling 240 fits\n",
      "[CV] alpha=0.01, fit_intercept=True, normalize=True, precompute=True .\n",
      "[CV] alpha=0.01, fit_intercept=True, normalize=True, precompute=True .\n",
      "[CV] alpha=0.01, fit_intercept=True, normalize=True, precompute=True .\n",
      "[CV] alpha=0.01, fit_intercept=True, normalize=True, precompute=False \n"
     ]
    },
    {
     "name": "stderr",
     "output_type": "stream",
     "text": [
      "/Users/jenelleverrochi/anaconda3/lib/python3.6/site-packages/sklearn/linear_model/coordinate_descent.py:491: ConvergenceWarning: Objective did not converge. You might want to increase the number of iterations. Fitting data with very small alpha may cause precision problems.\n",
      "  ConvergenceWarning)\n",
      "/Users/jenelleverrochi/anaconda3/lib/python3.6/site-packages/sklearn/linear_model/coordinate_descent.py:491: ConvergenceWarning: Objective did not converge. You might want to increase the number of iterations. Fitting data with very small alpha may cause precision problems.\n",
      "  ConvergenceWarning)\n"
     ]
    },
    {
     "name": "stdout",
     "output_type": "stream",
     "text": [
      "[CV]  alpha=0.01, fit_intercept=True, normalize=True, precompute=True, total=   0.1s\n",
      "[CV]  alpha=0.01, fit_intercept=True, normalize=True, precompute=True, total=   0.1s\n",
      "[CV] alpha=0.01, fit_intercept=True, normalize=True, precompute=False \n",
      "[CV]  alpha=0.01, fit_intercept=True, normalize=True, precompute=True, total=   0.1s\n",
      "[CV] alpha=0.01, fit_intercept=True, normalize=True, precompute=False \n"
     ]
    },
    {
     "name": "stderr",
     "output_type": "stream",
     "text": [
      "/Users/jenelleverrochi/anaconda3/lib/python3.6/site-packages/sklearn/linear_model/coordinate_descent.py:491: ConvergenceWarning: Objective did not converge. You might want to increase the number of iterations. Fitting data with very small alpha may cause precision problems.\n",
      "  ConvergenceWarning)\n"
     ]
    },
    {
     "name": "stdout",
     "output_type": "stream",
     "text": [
      "[CV]  alpha=0.01, fit_intercept=True, normalize=True, precompute=False, total=   0.1s\n",
      "[CV] alpha=0.01, fit_intercept=True, normalize=False, precompute=True \n",
      "[CV] alpha=0.01, fit_intercept=True, normalize=False, precompute=True \n"
     ]
    },
    {
     "name": "stderr",
     "output_type": "stream",
     "text": [
      "/Users/jenelleverrochi/anaconda3/lib/python3.6/site-packages/sklearn/linear_model/coordinate_descent.py:491: ConvergenceWarning: Objective did not converge. You might want to increase the number of iterations. Fitting data with very small alpha may cause precision problems.\n",
      "  ConvergenceWarning)\n",
      "/Users/jenelleverrochi/anaconda3/lib/python3.6/site-packages/sklearn/linear_model/coordinate_descent.py:491: ConvergenceWarning: Objective did not converge. You might want to increase the number of iterations. Fitting data with very small alpha may cause precision problems.\n",
      "  ConvergenceWarning)\n"
     ]
    },
    {
     "name": "stdout",
     "output_type": "stream",
     "text": [
      "[CV]  alpha=0.01, fit_intercept=True, normalize=True, precompute=False, total=   0.1s\n",
      "[CV]  alpha=0.01, fit_intercept=True, normalize=False, precompute=True, total=   0.0s\n",
      "[CV] alpha=0.01, fit_intercept=True, normalize=False, precompute=True \n",
      "[CV] alpha=0.01, fit_intercept=True, normalize=False, precompute=False \n",
      "[CV]  alpha=0.01, fit_intercept=True, normalize=False, precompute=True, total=   0.1s\n",
      "[CV] alpha=0.01, fit_intercept=False, normalize=True, precompute=True \n"
     ]
    },
    {
     "name": "stderr",
     "output_type": "stream",
     "text": [
      "/Users/jenelleverrochi/anaconda3/lib/python3.6/site-packages/sklearn/linear_model/coordinate_descent.py:491: ConvergenceWarning: Objective did not converge. You might want to increase the number of iterations. Fitting data with very small alpha may cause precision problems.\n",
      "  ConvergenceWarning)\n"
     ]
    },
    {
     "name": "stdout",
     "output_type": "stream",
     "text": [
      "[CV]  alpha=0.01, fit_intercept=False, normalize=True, precompute=True, total=   0.0s\n",
      "[CV] alpha=0.01, fit_intercept=False, normalize=True, precompute=True \n"
     ]
    },
    {
     "name": "stderr",
     "output_type": "stream",
     "text": [
      "/Users/jenelleverrochi/anaconda3/lib/python3.6/site-packages/sklearn/linear_model/coordinate_descent.py:491: ConvergenceWarning: Objective did not converge. You might want to increase the number of iterations. Fitting data with very small alpha may cause precision problems.\n",
      "  ConvergenceWarning)\n"
     ]
    },
    {
     "name": "stdout",
     "output_type": "stream",
     "text": [
      "[CV]  alpha=0.01, fit_intercept=False, normalize=True, precompute=True, total=   0.0s\n",
      "[CV]  alpha=0.01, fit_intercept=True, normalize=True, precompute=False, total=   0.1s\n",
      "[CV] alpha=0.01, fit_intercept=False, normalize=True, precompute=True \n"
     ]
    },
    {
     "name": "stderr",
     "output_type": "stream",
     "text": [
      "/Users/jenelleverrochi/anaconda3/lib/python3.6/site-packages/sklearn/linear_model/coordinate_descent.py:491: ConvergenceWarning: Objective did not converge. You might want to increase the number of iterations. Fitting data with very small alpha may cause precision problems.\n",
      "  ConvergenceWarning)\n"
     ]
    },
    {
     "name": "stdout",
     "output_type": "stream",
     "text": [
      "[CV] alpha=0.01, fit_intercept=False, normalize=True, precompute=False \n"
     ]
    },
    {
     "name": "stderr",
     "output_type": "stream",
     "text": [
      "/Users/jenelleverrochi/anaconda3/lib/python3.6/site-packages/sklearn/linear_model/coordinate_descent.py:491: ConvergenceWarning: Objective did not converge. You might want to increase the number of iterations. Fitting data with very small alpha may cause precision problems.\n",
      "  ConvergenceWarning)\n"
     ]
    },
    {
     "name": "stdout",
     "output_type": "stream",
     "text": [
      "[CV]  alpha=0.01, fit_intercept=False, normalize=True, precompute=True, total=   0.0s\n",
      "[CV] alpha=0.01, fit_intercept=False, normalize=True, precompute=False \n",
      "[CV]  alpha=0.01, fit_intercept=True, normalize=False, precompute=True, total=   0.1s\n",
      "[CV] alpha=0.01, fit_intercept=True, normalize=False, precompute=False \n",
      "[CV]  alpha=0.01, fit_intercept=True, normalize=False, precompute=False, total=   0.2s\n",
      "[CV] alpha=0.01, fit_intercept=True, normalize=False, precompute=False \n"
     ]
    },
    {
     "name": "stderr",
     "output_type": "stream",
     "text": [
      "/Users/jenelleverrochi/anaconda3/lib/python3.6/site-packages/sklearn/linear_model/coordinate_descent.py:491: ConvergenceWarning: Objective did not converge. You might want to increase the number of iterations. Fitting data with very small alpha may cause precision problems.\n",
      "  ConvergenceWarning)\n",
      "/Users/jenelleverrochi/anaconda3/lib/python3.6/site-packages/sklearn/linear_model/coordinate_descent.py:491: ConvergenceWarning: Objective did not converge. You might want to increase the number of iterations. Fitting data with very small alpha may cause precision problems.\n",
      "  ConvergenceWarning)\n"
     ]
    },
    {
     "name": "stdout",
     "output_type": "stream",
     "text": [
      "[CV]  alpha=0.01, fit_intercept=False, normalize=True, precompute=False, total=   0.1s\n",
      "[CV] alpha=0.01, fit_intercept=False, normalize=True, precompute=False \n",
      "[CV]  alpha=0.01, fit_intercept=True, normalize=False, precompute=False, total=   0.1s\n",
      "[CV] alpha=0.01, fit_intercept=False, normalize=False, precompute=True \n"
     ]
    },
    {
     "name": "stderr",
     "output_type": "stream",
     "text": [
      "/Users/jenelleverrochi/anaconda3/lib/python3.6/site-packages/sklearn/linear_model/coordinate_descent.py:491: ConvergenceWarning: Objective did not converge. You might want to increase the number of iterations. Fitting data with very small alpha may cause precision problems.\n",
      "  ConvergenceWarning)\n"
     ]
    },
    {
     "name": "stdout",
     "output_type": "stream",
     "text": [
      "[CV]  alpha=0.01, fit_intercept=False, normalize=True, precompute=False, total=   0.1s\n",
      "[CV] alpha=0.01, fit_intercept=False, normalize=False, precompute=True \n"
     ]
    },
    {
     "name": "stderr",
     "output_type": "stream",
     "text": [
      "/Users/jenelleverrochi/anaconda3/lib/python3.6/site-packages/sklearn/linear_model/coordinate_descent.py:491: ConvergenceWarning: Objective did not converge. You might want to increase the number of iterations. Fitting data with very small alpha may cause precision problems.\n",
      "  ConvergenceWarning)\n"
     ]
    },
    {
     "name": "stdout",
     "output_type": "stream",
     "text": [
      "[CV]  alpha=0.01, fit_intercept=False, normalize=False, precompute=True, total=   0.0s\n",
      "[CV] alpha=0.01, fit_intercept=False, normalize=False, precompute=True \n"
     ]
    },
    {
     "name": "stderr",
     "output_type": "stream",
     "text": [
      "/Users/jenelleverrochi/anaconda3/lib/python3.6/site-packages/sklearn/linear_model/coordinate_descent.py:491: ConvergenceWarning: Objective did not converge. You might want to increase the number of iterations. Fitting data with very small alpha may cause precision problems.\n",
      "  ConvergenceWarning)\n",
      "/Users/jenelleverrochi/anaconda3/lib/python3.6/site-packages/sklearn/linear_model/coordinate_descent.py:491: ConvergenceWarning: Objective did not converge. You might want to increase the number of iterations. Fitting data with very small alpha may cause precision problems.\n",
      "  ConvergenceWarning)\n",
      "/Users/jenelleverrochi/anaconda3/lib/python3.6/site-packages/sklearn/linear_model/coordinate_descent.py:491: ConvergenceWarning: Objective did not converge. You might want to increase the number of iterations. Fitting data with very small alpha may cause precision problems.\n",
      "  ConvergenceWarning)\n"
     ]
    },
    {
     "name": "stdout",
     "output_type": "stream",
     "text": [
      "[CV]  alpha=0.01, fit_intercept=False, normalize=False, precompute=True, total=   0.0s\n",
      "[CV] alpha=0.01, fit_intercept=False, normalize=False, precompute=False \n"
     ]
    },
    {
     "name": "stderr",
     "output_type": "stream",
     "text": [
      "/Users/jenelleverrochi/anaconda3/lib/python3.6/site-packages/sklearn/linear_model/coordinate_descent.py:491: ConvergenceWarning: Objective did not converge. You might want to increase the number of iterations. Fitting data with very small alpha may cause precision problems.\n",
      "  ConvergenceWarning)\n"
     ]
    },
    {
     "name": "stdout",
     "output_type": "stream",
     "text": [
      "[CV]  alpha=0.01, fit_intercept=True, normalize=False, precompute=False, total=   0.1s\n",
      "[CV] alpha=0.01, fit_intercept=False, normalize=False, precompute=False \n",
      "[CV]  alpha=0.01, fit_intercept=False, normalize=False, precompute=True, total=   0.0s\n",
      "[CV] alpha=11.12, fit_intercept=True, normalize=True, precompute=True \n",
      "[CV]  alpha=0.01, fit_intercept=False, normalize=True, precompute=False, total=   0.1s\n",
      "[CV] alpha=11.12, fit_intercept=True, normalize=False, precompute=True \n",
      "[CV]  alpha=11.12, fit_intercept=True, normalize=True, precompute=True, total=   0.0s\n",
      "[CV] alpha=11.12, fit_intercept=True, normalize=True, precompute=False \n"
     ]
    },
    {
     "name": "stderr",
     "output_type": "stream",
     "text": [
      "/Users/jenelleverrochi/anaconda3/lib/python3.6/site-packages/sklearn/linear_model/coordinate_descent.py:491: ConvergenceWarning: Objective did not converge. You might want to increase the number of iterations. Fitting data with very small alpha may cause precision problems.\n",
      "  ConvergenceWarning)\n",
      "/Users/jenelleverrochi/anaconda3/lib/python3.6/site-packages/sklearn/linear_model/coordinate_descent.py:491: ConvergenceWarning: Objective did not converge. You might want to increase the number of iterations. Fitting data with very small alpha may cause precision problems.\n",
      "  ConvergenceWarning)\n"
     ]
    },
    {
     "name": "stdout",
     "output_type": "stream",
     "text": [
      "[CV]  alpha=0.01, fit_intercept=False, normalize=False, precompute=False, total=   0.1s\n",
      "[CV] alpha=0.01, fit_intercept=False, normalize=False, precompute=False \n"
     ]
    },
    {
     "name": "stderr",
     "output_type": "stream",
     "text": [
      "/Users/jenelleverrochi/anaconda3/lib/python3.6/site-packages/sklearn/linear_model/coordinate_descent.py:491: ConvergenceWarning: Objective did not converge. You might want to increase the number of iterations. Fitting data with very small alpha may cause precision problems.\n",
      "  ConvergenceWarning)\n"
     ]
    },
    {
     "name": "stdout",
     "output_type": "stream",
     "text": [
      "[CV]  alpha=11.12, fit_intercept=True, normalize=False, precompute=True, total=   0.0s\n",
      "[CV]  alpha=11.12, fit_intercept=True, normalize=True, precompute=False, total=   0.0s\n",
      "[CV] alpha=11.12, fit_intercept=True, normalize=False, precompute=True \n",
      "[CV] alpha=11.12, fit_intercept=True, normalize=True, precompute=False \n",
      "[CV]  alpha=11.12, fit_intercept=True, normalize=True, precompute=False, total=   0.0s\n",
      "[CV]  alpha=0.01, fit_intercept=False, normalize=False, precompute=False, total=   0.1s\n",
      "[CV] alpha=11.12, fit_intercept=True, normalize=True, precompute=False \n",
      "[CV] alpha=11.12, fit_intercept=True, normalize=False, precompute=False \n",
      "[CV]  alpha=11.12, fit_intercept=True, normalize=False, precompute=True, total=   0.0s\n",
      "[CV] alpha=11.12, fit_intercept=True, normalize=False, precompute=True \n",
      "[CV]  alpha=11.12, fit_intercept=True, normalize=True, precompute=False, total=   0.0s\n",
      "[CV] alpha=11.12, fit_intercept=False, normalize=True, precompute=True \n"
     ]
    },
    {
     "name": "stderr",
     "output_type": "stream",
     "text": [
      "/Users/jenelleverrochi/anaconda3/lib/python3.6/site-packages/sklearn/linear_model/coordinate_descent.py:491: ConvergenceWarning: Objective did not converge. You might want to increase the number of iterations. Fitting data with very small alpha may cause precision problems.\n",
      "  ConvergenceWarning)\n"
     ]
    },
    {
     "name": "stdout",
     "output_type": "stream",
     "text": [
      "[CV]  alpha=11.12, fit_intercept=True, normalize=False, precompute=True, total=   0.0s\n",
      "[CV] alpha=11.12, fit_intercept=True, normalize=False, precompute=False \n"
     ]
    },
    {
     "name": "stderr",
     "output_type": "stream",
     "text": [
      "/Users/jenelleverrochi/anaconda3/lib/python3.6/site-packages/sklearn/linear_model/coordinate_descent.py:491: ConvergenceWarning: Objective did not converge. You might want to increase the number of iterations. Fitting data with very small alpha may cause precision problems.\n",
      "  ConvergenceWarning)\n",
      "/Users/jenelleverrochi/anaconda3/lib/python3.6/site-packages/sklearn/linear_model/coordinate_descent.py:491: ConvergenceWarning: Objective did not converge. You might want to increase the number of iterations. Fitting data with very small alpha may cause precision problems.\n",
      "  ConvergenceWarning)\n"
     ]
    },
    {
     "name": "stdout",
     "output_type": "stream",
     "text": [
      "[CV]  alpha=11.12, fit_intercept=False, normalize=True, precompute=True, total=   0.0s\n",
      "[CV] alpha=11.12, fit_intercept=False, normalize=True, precompute=False \n",
      "[CV]  alpha=0.01, fit_intercept=False, normalize=False, precompute=False, total=   0.1s\n",
      "[CV] alpha=11.12, fit_intercept=True, normalize=True, precompute=True \n"
     ]
    },
    {
     "name": "stderr",
     "output_type": "stream",
     "text": [
      "/Users/jenelleverrochi/anaconda3/lib/python3.6/site-packages/sklearn/linear_model/coordinate_descent.py:491: ConvergenceWarning: Objective did not converge. You might want to increase the number of iterations. Fitting data with very small alpha may cause precision problems.\n",
      "  ConvergenceWarning)\n"
     ]
    },
    {
     "name": "stdout",
     "output_type": "stream",
     "text": [
      "[CV]  alpha=11.12, fit_intercept=True, normalize=True, precompute=True, total=   0.0s\n",
      "[CV] alpha=11.12, fit_intercept=True, normalize=True, precompute=True \n",
      "[CV]  alpha=11.12, fit_intercept=True, normalize=False, precompute=False, total=   0.1s\n",
      "[CV]  alpha=11.12, fit_intercept=True, normalize=False, precompute=False, total=   0.1s\n",
      "[CV] alpha=11.12, fit_intercept=True, normalize=False, precompute=False \n"
     ]
    },
    {
     "name": "stderr",
     "output_type": "stream",
     "text": [
      "/Users/jenelleverrochi/anaconda3/lib/python3.6/site-packages/sklearn/linear_model/coordinate_descent.py:491: ConvergenceWarning: Objective did not converge. You might want to increase the number of iterations. Fitting data with very small alpha may cause precision problems.\n",
      "  ConvergenceWarning)\n"
     ]
    },
    {
     "name": "stdout",
     "output_type": "stream",
     "text": [
      "[CV] alpha=11.12, fit_intercept=False, normalize=False, precompute=True \n",
      "[CV]  alpha=11.12, fit_intercept=False, normalize=True, precompute=False, total=   0.1s\n",
      "[CV] alpha=11.12, fit_intercept=False, normalize=True, precompute=False \n",
      "[CV]  alpha=11.12, fit_intercept=True, normalize=True, precompute=True, total=   0.0s\n",
      "[CV] alpha=11.12, fit_intercept=False, normalize=False, precompute=False \n"
     ]
    },
    {
     "name": "stderr",
     "output_type": "stream",
     "text": [
      "/Users/jenelleverrochi/anaconda3/lib/python3.6/site-packages/sklearn/linear_model/coordinate_descent.py:491: ConvergenceWarning: Objective did not converge. You might want to increase the number of iterations. Fitting data with very small alpha may cause precision problems.\n",
      "  ConvergenceWarning)\n"
     ]
    },
    {
     "name": "stdout",
     "output_type": "stream",
     "text": [
      "[CV]  alpha=11.12, fit_intercept=False, normalize=False, precompute=True, total=   0.0s\n",
      "[CV] alpha=11.12, fit_intercept=False, normalize=False, precompute=True \n"
     ]
    },
    {
     "name": "stderr",
     "output_type": "stream",
     "text": [
      "/Users/jenelleverrochi/anaconda3/lib/python3.6/site-packages/sklearn/linear_model/coordinate_descent.py:491: ConvergenceWarning: Objective did not converge. You might want to increase the number of iterations. Fitting data with very small alpha may cause precision problems.\n",
      "  ConvergenceWarning)\n"
     ]
    },
    {
     "name": "stdout",
     "output_type": "stream",
     "text": [
      "[CV]  alpha=11.12, fit_intercept=False, normalize=False, precompute=True, total=   0.0s\n",
      "[CV] alpha=11.12, fit_intercept=False, normalize=False, precompute=True \n"
     ]
    },
    {
     "name": "stderr",
     "output_type": "stream",
     "text": [
      "/Users/jenelleverrochi/anaconda3/lib/python3.6/site-packages/sklearn/linear_model/coordinate_descent.py:491: ConvergenceWarning: Objective did not converge. You might want to increase the number of iterations. Fitting data with very small alpha may cause precision problems.\n",
      "  ConvergenceWarning)\n",
      "/Users/jenelleverrochi/anaconda3/lib/python3.6/site-packages/sklearn/linear_model/coordinate_descent.py:491: ConvergenceWarning: Objective did not converge. You might want to increase the number of iterations. Fitting data with very small alpha may cause precision problems.\n",
      "  ConvergenceWarning)\n"
     ]
    },
    {
     "name": "stdout",
     "output_type": "stream",
     "text": [
      "[CV]  alpha=11.12, fit_intercept=False, normalize=False, precompute=True, total=   0.0s\n",
      "[CV] alpha=11.12, fit_intercept=False, normalize=False, precompute=False \n"
     ]
    },
    {
     "name": "stderr",
     "output_type": "stream",
     "text": [
      "/Users/jenelleverrochi/anaconda3/lib/python3.6/site-packages/sklearn/linear_model/coordinate_descent.py:491: ConvergenceWarning: Objective did not converge. You might want to increase the number of iterations. Fitting data with very small alpha may cause precision problems.\n",
      "  ConvergenceWarning)\n",
      "/Users/jenelleverrochi/anaconda3/lib/python3.6/site-packages/sklearn/linear_model/coordinate_descent.py:491: ConvergenceWarning: Objective did not converge. You might want to increase the number of iterations. Fitting data with very small alpha may cause precision problems.\n",
      "  ConvergenceWarning)\n"
     ]
    },
    {
     "name": "stdout",
     "output_type": "stream",
     "text": [
      "[CV]  alpha=11.12, fit_intercept=False, normalize=True, precompute=False, total=   0.1s\n",
      "[CV]  alpha=11.12, fit_intercept=True, normalize=False, precompute=False, total=   0.1s\n",
      "[CV] alpha=11.12, fit_intercept=False, normalize=True, precompute=True \n",
      "[CV]  alpha=11.12, fit_intercept=False, normalize=False, precompute=False, total=   0.1s\n",
      "[CV] alpha=11.12, fit_intercept=False, normalize=True, precompute=False \n",
      "[CV] alpha=11.12, fit_intercept=False, normalize=False, precompute=False \n"
     ]
    },
    {
     "name": "stderr",
     "output_type": "stream",
     "text": [
      "/Users/jenelleverrochi/anaconda3/lib/python3.6/site-packages/sklearn/linear_model/coordinate_descent.py:491: ConvergenceWarning: Objective did not converge. You might want to increase the number of iterations. Fitting data with very small alpha may cause precision problems.\n",
      "  ConvergenceWarning)\n"
     ]
    },
    {
     "name": "stdout",
     "output_type": "stream",
     "text": [
      "[CV]  alpha=11.12, fit_intercept=False, normalize=True, precompute=True, total=   0.0s\n",
      "[CV] alpha=11.12, fit_intercept=False, normalize=True, precompute=True \n"
     ]
    },
    {
     "name": "stderr",
     "output_type": "stream",
     "text": [
      "/Users/jenelleverrochi/anaconda3/lib/python3.6/site-packages/sklearn/linear_model/coordinate_descent.py:491: ConvergenceWarning: Objective did not converge. You might want to increase the number of iterations. Fitting data with very small alpha may cause precision problems.\n",
      "  ConvergenceWarning)\n"
     ]
    },
    {
     "name": "stdout",
     "output_type": "stream",
     "text": [
      "[CV]  alpha=11.12, fit_intercept=False, normalize=True, precompute=True, total=   0.0s\n",
      "[CV] alpha=22.23, fit_intercept=True, normalize=True, precompute=True \n",
      "[CV]  alpha=22.23, fit_intercept=True, normalize=True, precompute=True, total=   0.0s\n",
      "[CV] alpha=22.23, fit_intercept=True, normalize=True, precompute=False \n",
      "[CV]  alpha=22.23, fit_intercept=True, normalize=True, precompute=False, total=   0.0s\n",
      "[CV] alpha=22.23, fit_intercept=True, normalize=True, precompute=False \n",
      "[CV]  alpha=22.23, fit_intercept=True, normalize=True, precompute=False, total=   0.0s\n"
     ]
    },
    {
     "name": "stderr",
     "output_type": "stream",
     "text": [
      "/Users/jenelleverrochi/anaconda3/lib/python3.6/site-packages/sklearn/linear_model/coordinate_descent.py:491: ConvergenceWarning: Objective did not converge. You might want to increase the number of iterations. Fitting data with very small alpha may cause precision problems.\n",
      "  ConvergenceWarning)\n"
     ]
    },
    {
     "name": "stdout",
     "output_type": "stream",
     "text": [
      "[CV] alpha=22.23, fit_intercept=True, normalize=True, precompute=False \n"
     ]
    },
    {
     "name": "stderr",
     "output_type": "stream",
     "text": [
      "/Users/jenelleverrochi/anaconda3/lib/python3.6/site-packages/sklearn/linear_model/coordinate_descent.py:491: ConvergenceWarning: Objective did not converge. You might want to increase the number of iterations. Fitting data with very small alpha may cause precision problems.\n",
      "  ConvergenceWarning)\n"
     ]
    },
    {
     "name": "stdout",
     "output_type": "stream",
     "text": [
      "[CV]  alpha=11.12, fit_intercept=False, normalize=False, precompute=False, total=   0.1s\n",
      "[CV] alpha=22.23, fit_intercept=True, normalize=False, precompute=True \n",
      "[CV]  alpha=11.12, fit_intercept=False, normalize=False, precompute=False, total=   0.1s\n"
     ]
    },
    {
     "name": "stderr",
     "output_type": "stream",
     "text": [
      "/Users/jenelleverrochi/anaconda3/lib/python3.6/site-packages/sklearn/linear_model/coordinate_descent.py:491: ConvergenceWarning: Objective did not converge. You might want to increase the number of iterations. Fitting data with very small alpha may cause precision problems.\n",
      "  ConvergenceWarning)\n"
     ]
    },
    {
     "name": "stdout",
     "output_type": "stream",
     "text": [
      "[CV] alpha=22.23, fit_intercept=True, normalize=True, precompute=True \n",
      "[CV]  alpha=22.23, fit_intercept=True, normalize=True, precompute=False, total=   0.0s\n",
      "[CV]  alpha=22.23, fit_intercept=True, normalize=True, precompute=True, total=   0.0s\n",
      "[CV] alpha=22.23, fit_intercept=True, normalize=True, precompute=True \n",
      "[CV]  alpha=22.23, fit_intercept=True, normalize=True, precompute=True, total=   0.0s\n",
      "[CV] alpha=22.23, fit_intercept=True, normalize=False, precompute=False \n",
      "[CV]  alpha=11.12, fit_intercept=False, normalize=True, precompute=False, total=   0.2s\n",
      "[CV] alpha=22.23, fit_intercept=False, normalize=True, precompute=True \n",
      "[CV] alpha=22.23, fit_intercept=False, normalize=False, precompute=True \n"
     ]
    },
    {
     "name": "stderr",
     "output_type": "stream",
     "text": [
      "/Users/jenelleverrochi/anaconda3/lib/python3.6/site-packages/sklearn/linear_model/coordinate_descent.py:491: ConvergenceWarning: Objective did not converge. You might want to increase the number of iterations. Fitting data with very small alpha may cause precision problems.\n",
      "  ConvergenceWarning)\n",
      "/Users/jenelleverrochi/anaconda3/lib/python3.6/site-packages/sklearn/linear_model/coordinate_descent.py:491: ConvergenceWarning: Objective did not converge. You might want to increase the number of iterations. Fitting data with very small alpha may cause precision problems.\n",
      "  ConvergenceWarning)\n"
     ]
    },
    {
     "name": "stdout",
     "output_type": "stream",
     "text": [
      "[CV]  alpha=22.23, fit_intercept=False, normalize=False, precompute=True, total=   0.0s\n",
      "[CV] alpha=22.23, fit_intercept=False, normalize=False, precompute=True \n",
      "[CV]  alpha=22.23, fit_intercept=True, normalize=False, precompute=True, total=   0.1s\n",
      "[CV] alpha=22.23, fit_intercept=True, normalize=False, precompute=True \n"
     ]
    },
    {
     "name": "stderr",
     "output_type": "stream",
     "text": [
      "/Users/jenelleverrochi/anaconda3/lib/python3.6/site-packages/sklearn/linear_model/coordinate_descent.py:491: ConvergenceWarning: Objective did not converge. You might want to increase the number of iterations. Fitting data with very small alpha may cause precision problems.\n",
      "  ConvergenceWarning)\n"
     ]
    },
    {
     "name": "stdout",
     "output_type": "stream",
     "text": [
      "[CV]  alpha=22.23, fit_intercept=False, normalize=True, precompute=True, total=   0.0s\n",
      "[CV] alpha=22.23, fit_intercept=False, normalize=True, precompute=False \n",
      "[CV]  alpha=22.23, fit_intercept=True, normalize=False, precompute=False, total=   0.1s\n",
      "[CV] alpha=22.23, fit_intercept=True, normalize=False, precompute=False \n",
      "[CV]  alpha=22.23, fit_intercept=False, normalize=False, precompute=True, total=   0.1s\n",
      "[CV] alpha=22.23, fit_intercept=False, normalize=False, precompute=True \n",
      "[CV]  alpha=22.23, fit_intercept=True, normalize=False, precompute=True, total=   0.0s\n",
      "[CV] alpha=22.23, fit_intercept=True, normalize=False, precompute=True \n"
     ]
    },
    {
     "name": "stderr",
     "output_type": "stream",
     "text": [
      "/Users/jenelleverrochi/anaconda3/lib/python3.6/site-packages/sklearn/linear_model/coordinate_descent.py:491: ConvergenceWarning: Objective did not converge. You might want to increase the number of iterations. Fitting data with very small alpha may cause precision problems.\n",
      "  ConvergenceWarning)\n"
     ]
    },
    {
     "name": "stdout",
     "output_type": "stream",
     "text": [
      "[CV]  alpha=22.23, fit_intercept=True, normalize=False, precompute=True, total=   0.0s\n",
      "[CV] alpha=22.23, fit_intercept=True, normalize=False, precompute=False \n"
     ]
    },
    {
     "name": "stderr",
     "output_type": "stream",
     "text": [
      "/Users/jenelleverrochi/anaconda3/lib/python3.6/site-packages/sklearn/linear_model/coordinate_descent.py:491: ConvergenceWarning: Objective did not converge. You might want to increase the number of iterations. Fitting data with very small alpha may cause precision problems.\n",
      "  ConvergenceWarning)\n"
     ]
    },
    {
     "name": "stdout",
     "output_type": "stream",
     "text": [
      "[CV]  alpha=22.23, fit_intercept=False, normalize=True, precompute=False, total=   0.1s\n"
     ]
    },
    {
     "name": "stderr",
     "output_type": "stream",
     "text": [
      "/Users/jenelleverrochi/anaconda3/lib/python3.6/site-packages/sklearn/linear_model/coordinate_descent.py:491: ConvergenceWarning: Objective did not converge. You might want to increase the number of iterations. Fitting data with very small alpha may cause precision problems.\n",
      "  ConvergenceWarning)\n"
     ]
    },
    {
     "name": "stdout",
     "output_type": "stream",
     "text": [
      "[CV] alpha=22.23, fit_intercept=False, normalize=True, precompute=False \n",
      "[CV]  alpha=22.23, fit_intercept=False, normalize=False, precompute=True, total=   0.1s\n",
      "[CV] alpha=22.23, fit_intercept=False, normalize=False, precompute=False \n"
     ]
    },
    {
     "name": "stderr",
     "output_type": "stream",
     "text": [
      "/Users/jenelleverrochi/anaconda3/lib/python3.6/site-packages/sklearn/linear_model/coordinate_descent.py:491: ConvergenceWarning: Objective did not converge. You might want to increase the number of iterations. Fitting data with very small alpha may cause precision problems.\n",
      "  ConvergenceWarning)\n"
     ]
    },
    {
     "name": "stdout",
     "output_type": "stream",
     "text": [
      "[CV]  alpha=22.23, fit_intercept=True, normalize=False, precompute=False, total=   0.1s\n",
      "[CV] alpha=22.23, fit_intercept=False, normalize=False, precompute=False \n"
     ]
    },
    {
     "name": "stderr",
     "output_type": "stream",
     "text": [
      "/Users/jenelleverrochi/anaconda3/lib/python3.6/site-packages/sklearn/linear_model/coordinate_descent.py:491: ConvergenceWarning: Objective did not converge. You might want to increase the number of iterations. Fitting data with very small alpha may cause precision problems.\n",
      "  ConvergenceWarning)\n",
      "/Users/jenelleverrochi/anaconda3/lib/python3.6/site-packages/sklearn/linear_model/coordinate_descent.py:491: ConvergenceWarning: Objective did not converge. You might want to increase the number of iterations. Fitting data with very small alpha may cause precision problems.\n",
      "  ConvergenceWarning)\n"
     ]
    },
    {
     "name": "stdout",
     "output_type": "stream",
     "text": [
      "[CV]  alpha=22.23, fit_intercept=False, normalize=False, precompute=False, total=   0.1s\n",
      "[CV] alpha=33.34, fit_intercept=True, normalize=True, precompute=True \n",
      "[CV]  alpha=33.34, fit_intercept=True, normalize=True, precompute=True, total=   0.0s\n",
      "[CV] alpha=33.34, fit_intercept=True, normalize=True, precompute=False \n",
      "[CV]  alpha=33.34, fit_intercept=True, normalize=True, precompute=False, total=   0.0s\n",
      "[CV] alpha=33.34, fit_intercept=True, normalize=True, precompute=False \n",
      "[CV]  alpha=22.23, fit_intercept=True, normalize=False, precompute=False, total=   0.2s\n",
      "[CV]  alpha=33.34, fit_intercept=True, normalize=True, precompute=False, total=   0.0s\n",
      "[CV] alpha=33.34, fit_intercept=True, normalize=True, precompute=False \n",
      "[CV] alpha=22.23, fit_intercept=False, normalize=True, precompute=True \n",
      "[CV]  alpha=33.34, fit_intercept=True, normalize=True, precompute=False, total=   0.0s\n",
      "[CV]  alpha=22.23, fit_intercept=False, normalize=True, precompute=False, total=   0.2s\n",
      "[CV] alpha=22.23, fit_intercept=False, normalize=True, precompute=False \n",
      "[CV] alpha=33.34, fit_intercept=True, normalize=False, precompute=True \n"
     ]
    },
    {
     "name": "stderr",
     "output_type": "stream",
     "text": [
      "/Users/jenelleverrochi/anaconda3/lib/python3.6/site-packages/sklearn/linear_model/coordinate_descent.py:491: ConvergenceWarning: Objective did not converge. You might want to increase the number of iterations. Fitting data with very small alpha may cause precision problems.\n",
      "  ConvergenceWarning)\n"
     ]
    },
    {
     "name": "stdout",
     "output_type": "stream",
     "text": [
      "[CV]  alpha=33.34, fit_intercept=True, normalize=False, precompute=True, total=   0.0s\n"
     ]
    },
    {
     "name": "stderr",
     "output_type": "stream",
     "text": [
      "/Users/jenelleverrochi/anaconda3/lib/python3.6/site-packages/sklearn/linear_model/coordinate_descent.py:491: ConvergenceWarning: Objective did not converge. You might want to increase the number of iterations. Fitting data with very small alpha may cause precision problems.\n",
      "  ConvergenceWarning)\n"
     ]
    },
    {
     "name": "stdout",
     "output_type": "stream",
     "text": [
      "[CV] alpha=33.34, fit_intercept=True, normalize=False, precompute=True \n",
      "[CV]  alpha=22.23, fit_intercept=False, normalize=False, precompute=False, total=   0.2s\n",
      "[CV] alpha=22.23, fit_intercept=False, normalize=False, precompute=False \n",
      "[CV]  alpha=22.23, fit_intercept=False, normalize=True, precompute=True, total=   0.1s\n",
      "[CV] alpha=22.23, fit_intercept=False, normalize=True, precompute=True \n",
      "[CV]  alpha=33.34, fit_intercept=True, normalize=False, precompute=True, total=   0.0s\n",
      "[CV] alpha=33.34, fit_intercept=True, normalize=False, precompute=True \n"
     ]
    },
    {
     "name": "stderr",
     "output_type": "stream",
     "text": [
      "/Users/jenelleverrochi/anaconda3/lib/python3.6/site-packages/sklearn/linear_model/coordinate_descent.py:491: ConvergenceWarning: Objective did not converge. You might want to increase the number of iterations. Fitting data with very small alpha may cause precision problems.\n",
      "  ConvergenceWarning)\n"
     ]
    },
    {
     "name": "stdout",
     "output_type": "stream",
     "text": [
      "[CV]  alpha=22.23, fit_intercept=False, normalize=True, precompute=True, total=   0.0s\n",
      "[CV] alpha=33.34, fit_intercept=True, normalize=False, precompute=False \n"
     ]
    },
    {
     "name": "stderr",
     "output_type": "stream",
     "text": [
      "/Users/jenelleverrochi/anaconda3/lib/python3.6/site-packages/sklearn/linear_model/coordinate_descent.py:491: ConvergenceWarning: Objective did not converge. You might want to increase the number of iterations. Fitting data with very small alpha may cause precision problems.\n",
      "  ConvergenceWarning)\n"
     ]
    },
    {
     "name": "stdout",
     "output_type": "stream",
     "text": [
      "[CV]  alpha=33.34, fit_intercept=True, normalize=False, precompute=True, total=   0.0s\n",
      "[CV] alpha=33.34, fit_intercept=True, normalize=False, precompute=False \n",
      "[CV]  alpha=22.23, fit_intercept=False, normalize=True, precompute=False, total=   0.1s\n",
      "[CV] alpha=33.34, fit_intercept=False, normalize=True, precompute=True \n"
     ]
    },
    {
     "name": "stderr",
     "output_type": "stream",
     "text": [
      "/Users/jenelleverrochi/anaconda3/lib/python3.6/site-packages/sklearn/linear_model/coordinate_descent.py:491: ConvergenceWarning: Objective did not converge. You might want to increase the number of iterations. Fitting data with very small alpha may cause precision problems.\n",
      "  ConvergenceWarning)\n"
     ]
    },
    {
     "name": "stdout",
     "output_type": "stream",
     "text": [
      "[CV]  alpha=22.23, fit_intercept=False, normalize=False, precompute=False, total=   0.1s\n",
      "[CV] alpha=33.34, fit_intercept=True, normalize=True, precompute=True \n",
      "[CV]  alpha=33.34, fit_intercept=True, normalize=False, precompute=False, total=   0.1s\n",
      "[CV] alpha=33.34, fit_intercept=True, normalize=False, precompute=False \n"
     ]
    },
    {
     "name": "stderr",
     "output_type": "stream",
     "text": [
      "/Users/jenelleverrochi/anaconda3/lib/python3.6/site-packages/sklearn/linear_model/coordinate_descent.py:491: ConvergenceWarning: Objective did not converge. You might want to increase the number of iterations. Fitting data with very small alpha may cause precision problems.\n",
      "  ConvergenceWarning)\n"
     ]
    },
    {
     "name": "stdout",
     "output_type": "stream",
     "text": [
      "[CV]  alpha=33.34, fit_intercept=False, normalize=True, precompute=True, total=   0.0s\n",
      "[CV] alpha=33.34, fit_intercept=False, normalize=True, precompute=False \n",
      "[CV]  alpha=33.34, fit_intercept=True, normalize=True, precompute=True, total=   0.0s\n",
      "[CV] alpha=33.34, fit_intercept=True, normalize=True, precompute=True \n"
     ]
    },
    {
     "name": "stderr",
     "output_type": "stream",
     "text": [
      "/Users/jenelleverrochi/anaconda3/lib/python3.6/site-packages/sklearn/linear_model/coordinate_descent.py:491: ConvergenceWarning: Objective did not converge. You might want to increase the number of iterations. Fitting data with very small alpha may cause precision problems.\n",
      "  ConvergenceWarning)\n"
     ]
    },
    {
     "name": "stdout",
     "output_type": "stream",
     "text": [
      "[CV]  alpha=33.34, fit_intercept=True, normalize=True, precompute=True, total=   0.0s\n",
      "[CV] alpha=33.34, fit_intercept=False, normalize=False, precompute=True \n",
      "[CV]  alpha=33.34, fit_intercept=True, normalize=False, precompute=False, total=   0.1s\n",
      "[CV] alpha=33.34, fit_intercept=False, normalize=False, precompute=False \n"
     ]
    },
    {
     "name": "stderr",
     "output_type": "stream",
     "text": [
      "/Users/jenelleverrochi/anaconda3/lib/python3.6/site-packages/sklearn/linear_model/coordinate_descent.py:491: ConvergenceWarning: Objective did not converge. You might want to increase the number of iterations. Fitting data with very small alpha may cause precision problems.\n",
      "  ConvergenceWarning)\n"
     ]
    },
    {
     "name": "stdout",
     "output_type": "stream",
     "text": [
      "[CV]  alpha=33.34, fit_intercept=True, normalize=False, precompute=False, total=   0.1s\n",
      "[CV]  alpha=33.34, fit_intercept=False, normalize=True, precompute=False, total=   0.1s\n",
      "[CV] alpha=33.34, fit_intercept=False, normalize=True, precompute=False \n",
      "[CV] alpha=33.34, fit_intercept=False, normalize=True, precompute=True \n",
      "[CV]  alpha=33.34, fit_intercept=False, normalize=False, precompute=True, total=   0.0s\n",
      "[CV] alpha=33.34, fit_intercept=False, normalize=False, precompute=True \n",
      "[CV]  alpha=33.34, fit_intercept=False, normalize=True, precompute=True, total=   0.0s\n",
      "[CV] alpha=33.34, fit_intercept=False, normalize=True, precompute=True \n"
     ]
    },
    {
     "name": "stderr",
     "output_type": "stream",
     "text": [
      "/Users/jenelleverrochi/anaconda3/lib/python3.6/site-packages/sklearn/linear_model/coordinate_descent.py:491: ConvergenceWarning: Objective did not converge. You might want to increase the number of iterations. Fitting data with very small alpha may cause precision problems.\n",
      "  ConvergenceWarning)\n"
     ]
    },
    {
     "name": "stdout",
     "output_type": "stream",
     "text": [
      "[CV]  alpha=33.34, fit_intercept=False, normalize=False, precompute=True, total=   0.0s\n",
      "[CV] alpha=33.34, fit_intercept=False, normalize=False, precompute=True \n"
     ]
    },
    {
     "name": "stderr",
     "output_type": "stream",
     "text": [
      "/Users/jenelleverrochi/anaconda3/lib/python3.6/site-packages/sklearn/linear_model/coordinate_descent.py:491: ConvergenceWarning: Objective did not converge. You might want to increase the number of iterations. Fitting data with very small alpha may cause precision problems.\n",
      "  ConvergenceWarning)\n"
     ]
    },
    {
     "name": "stdout",
     "output_type": "stream",
     "text": [
      "[CV]  alpha=33.34, fit_intercept=False, normalize=True, precompute=True, total=   0.0s\n",
      "[CV] alpha=44.45, fit_intercept=True, normalize=True, precompute=True \n"
     ]
    },
    {
     "name": "stderr",
     "output_type": "stream",
     "text": [
      "/Users/jenelleverrochi/anaconda3/lib/python3.6/site-packages/sklearn/linear_model/coordinate_descent.py:491: ConvergenceWarning: Objective did not converge. You might want to increase the number of iterations. Fitting data with very small alpha may cause precision problems.\n",
      "  ConvergenceWarning)\n",
      "/Users/jenelleverrochi/anaconda3/lib/python3.6/site-packages/sklearn/linear_model/coordinate_descent.py:491: ConvergenceWarning: Objective did not converge. You might want to increase the number of iterations. Fitting data with very small alpha may cause precision problems.\n",
      "  ConvergenceWarning)\n",
      "/Users/jenelleverrochi/anaconda3/lib/python3.6/site-packages/sklearn/linear_model/coordinate_descent.py:491: ConvergenceWarning: Objective did not converge. You might want to increase the number of iterations. Fitting data with very small alpha may cause precision problems.\n",
      "  ConvergenceWarning)\n"
     ]
    },
    {
     "name": "stdout",
     "output_type": "stream",
     "text": [
      "[CV]  alpha=33.34, fit_intercept=False, normalize=False, precompute=True, total=   0.0s\n",
      "[CV] alpha=33.34, fit_intercept=False, normalize=False, precompute=False \n",
      "[CV]  alpha=33.34, fit_intercept=False, normalize=True, precompute=False, total=   0.1s\n",
      "[CV] alpha=33.34, fit_intercept=False, normalize=True, precompute=False \n",
      "[CV]  alpha=33.34, fit_intercept=False, normalize=False, precompute=False, total=   0.1s\n",
      "[CV] alpha=33.34, fit_intercept=False, normalize=False, precompute=False \n",
      "[CV]  alpha=44.45, fit_intercept=True, normalize=True, precompute=True, total=   0.0s\n",
      "[CV] alpha=44.45, fit_intercept=True, normalize=True, precompute=False \n",
      "[CV]  alpha=44.45, fit_intercept=True, normalize=True, precompute=False, total=   0.0s\n",
      "[CV] alpha=44.45, fit_intercept=True, normalize=True, precompute=False \n",
      "[CV]  alpha=33.34, fit_intercept=False, normalize=False, precompute=False, total=   0.1s\n",
      "[CV]  alpha=44.45, fit_intercept=True, normalize=True, precompute=False, total=   0.0s\n",
      "[CV] alpha=44.45, fit_intercept=True, normalize=True, precompute=False \n",
      "[CV]  alpha=44.45, fit_intercept=True, normalize=True, precompute=False, total=   0.0s\n"
     ]
    },
    {
     "name": "stderr",
     "output_type": "stream",
     "text": [
      "/Users/jenelleverrochi/anaconda3/lib/python3.6/site-packages/sklearn/linear_model/coordinate_descent.py:491: ConvergenceWarning: Objective did not converge. You might want to increase the number of iterations. Fitting data with very small alpha may cause precision problems.\n",
      "  ConvergenceWarning)\n"
     ]
    },
    {
     "name": "stdout",
     "output_type": "stream",
     "text": [
      "[CV] alpha=44.45, fit_intercept=True, normalize=False, precompute=False \n",
      "[CV] alpha=44.45, fit_intercept=True, normalize=False, precompute=True \n",
      "[CV]  alpha=33.34, fit_intercept=False, normalize=False, precompute=False, total=   0.1s\n"
     ]
    },
    {
     "name": "stderr",
     "output_type": "stream",
     "text": [
      "/Users/jenelleverrochi/anaconda3/lib/python3.6/site-packages/sklearn/linear_model/coordinate_descent.py:491: ConvergenceWarning: Objective did not converge. You might want to increase the number of iterations. Fitting data with very small alpha may cause precision problems.\n",
      "  ConvergenceWarning)\n"
     ]
    },
    {
     "name": "stdout",
     "output_type": "stream",
     "text": [
      "[CV] alpha=44.45, fit_intercept=True, normalize=True, precompute=True \n",
      "[CV]  alpha=33.34, fit_intercept=False, normalize=True, precompute=False, total=   0.1s\n",
      "[CV] alpha=44.45, fit_intercept=False, normalize=True, precompute=True \n",
      "[CV]  alpha=44.45, fit_intercept=True, normalize=True, precompute=True, total=   0.0s\n",
      "[CV] alpha=44.45, fit_intercept=True, normalize=True, precompute=True \n"
     ]
    },
    {
     "name": "stderr",
     "output_type": "stream",
     "text": [
      "/Users/jenelleverrochi/anaconda3/lib/python3.6/site-packages/sklearn/linear_model/coordinate_descent.py:491: ConvergenceWarning: Objective did not converge. You might want to increase the number of iterations. Fitting data with very small alpha may cause precision problems.\n",
      "  ConvergenceWarning)\n"
     ]
    },
    {
     "name": "stdout",
     "output_type": "stream",
     "text": [
      "[CV]  alpha=44.45, fit_intercept=True, normalize=False, precompute=True, total=   0.0s\n",
      "[CV]  alpha=44.45, fit_intercept=True, normalize=False, precompute=False, total=   0.1s\n",
      "[CV] alpha=44.45, fit_intercept=True, normalize=False, precompute=False \n",
      "[CV] alpha=44.45, fit_intercept=True, normalize=False, precompute=True \n",
      "[CV]  alpha=44.45, fit_intercept=True, normalize=True, precompute=True, total=   0.0s\n",
      "[CV] alpha=44.45, fit_intercept=False, normalize=False, precompute=True \n",
      "[CV]  alpha=44.45, fit_intercept=False, normalize=True, precompute=True, total=   0.0s\n",
      "[CV]  alpha=44.45, fit_intercept=True, normalize=False, precompute=True, total=   0.0s\n",
      "[CV] alpha=44.45, fit_intercept=False, normalize=True, precompute=False \n",
      "[CV] alpha=44.45, fit_intercept=True, normalize=False, precompute=True \n",
      "[CV]  alpha=44.45, fit_intercept=False, normalize=False, precompute=True, total=   0.0s\n",
      "[CV] alpha=44.45, fit_intercept=False, normalize=False, precompute=True \n"
     ]
    },
    {
     "name": "stderr",
     "output_type": "stream",
     "text": [
      "/Users/jenelleverrochi/anaconda3/lib/python3.6/site-packages/sklearn/linear_model/coordinate_descent.py:491: ConvergenceWarning: Objective did not converge. You might want to increase the number of iterations. Fitting data with very small alpha may cause precision problems.\n",
      "  ConvergenceWarning)\n"
     ]
    },
    {
     "name": "stdout",
     "output_type": "stream",
     "text": [
      "[CV]  alpha=44.45, fit_intercept=True, normalize=False, precompute=True, total=   0.0s\n",
      "[CV]  alpha=44.45, fit_intercept=False, normalize=False, precompute=True, total=   0.0s\n",
      "[CV] alpha=44.45, fit_intercept=True, normalize=False, precompute=False \n",
      "[CV] alpha=44.45, fit_intercept=False, normalize=False, precompute=True \n"
     ]
    },
    {
     "name": "stderr",
     "output_type": "stream",
     "text": [
      "/Users/jenelleverrochi/anaconda3/lib/python3.6/site-packages/sklearn/linear_model/coordinate_descent.py:491: ConvergenceWarning: Objective did not converge. You might want to increase the number of iterations. Fitting data with very small alpha may cause precision problems.\n",
      "  ConvergenceWarning)\n"
     ]
    },
    {
     "name": "stdout",
     "output_type": "stream",
     "text": [
      "[CV]  alpha=44.45, fit_intercept=False, normalize=True, precompute=False, total=   0.1s\n",
      "[CV] alpha=44.45, fit_intercept=False, normalize=True, precompute=False \n",
      "[CV]  alpha=44.45, fit_intercept=True, normalize=False, precompute=False, total=   0.1s\n",
      "[CV] alpha=44.45, fit_intercept=False, normalize=True, precompute=True \n",
      "[CV]  alpha=44.45, fit_intercept=False, normalize=False, precompute=True, total=   0.0s\n",
      "[CV] alpha=44.45, fit_intercept=False, normalize=False, precompute=False \n"
     ]
    },
    {
     "name": "stderr",
     "output_type": "stream",
     "text": [
      "/Users/jenelleverrochi/anaconda3/lib/python3.6/site-packages/sklearn/linear_model/coordinate_descent.py:491: ConvergenceWarning: Objective did not converge. You might want to increase the number of iterations. Fitting data with very small alpha may cause precision problems.\n",
      "  ConvergenceWarning)\n",
      "[Parallel(n_jobs=-1)]: Done  94 tasks      | elapsed:    1.9s\n"
     ]
    },
    {
     "name": "stdout",
     "output_type": "stream",
     "text": [
      "[CV]  alpha=44.45, fit_intercept=True, normalize=False, precompute=False, total=   0.1s\n",
      "[CV] alpha=44.45, fit_intercept=False, normalize=False, precompute=False \n",
      "[CV]  alpha=44.45, fit_intercept=False, normalize=True, precompute=True, total=   0.0s\n",
      "[CV] alpha=44.45, fit_intercept=False, normalize=True, precompute=True \n",
      "[CV]  alpha=44.45, fit_intercept=False, normalize=True, precompute=True, total=   0.0s\n",
      "[CV] alpha=55.56, fit_intercept=True, normalize=True, precompute=True \n",
      "[CV]  alpha=44.45, fit_intercept=False, normalize=True, precompute=False, total=   0.1s\n",
      "[CV]  alpha=44.45, fit_intercept=False, normalize=False, precompute=False, total=   0.1s\n",
      "[CV]  alpha=55.56, fit_intercept=True, normalize=True, precompute=True, total=   0.0s\n",
      "[CV] alpha=55.56, fit_intercept=True, normalize=True, precompute=False \n",
      "[CV] alpha=55.56, fit_intercept=True, normalize=False, precompute=True \n",
      "[CV] alpha=44.45, fit_intercept=False, normalize=True, precompute=False \n",
      "[CV]  alpha=55.56, fit_intercept=True, normalize=True, precompute=False, total=   0.0s\n",
      "[CV] alpha=55.56, fit_intercept=True, normalize=True, precompute=False \n",
      "[CV]  alpha=55.56, fit_intercept=True, normalize=True, precompute=False, total=   0.0s\n",
      "[CV] alpha=55.56, fit_intercept=True, normalize=True, precompute=False \n",
      "[CV]  alpha=55.56, fit_intercept=True, normalize=True, precompute=False, total=   0.0s\n",
      "[CV]  alpha=55.56, fit_intercept=True, normalize=False, precompute=True, total=   0.0s\n",
      "[CV] alpha=55.56, fit_intercept=True, normalize=False, precompute=True \n",
      "[CV] alpha=55.56, fit_intercept=True, normalize=False, precompute=False \n",
      "[CV]  alpha=44.45, fit_intercept=False, normalize=True, precompute=False, total=   0.1s\n",
      "[CV] alpha=55.56, fit_intercept=False, normalize=True, precompute=True \n",
      "[CV]  alpha=44.45, fit_intercept=False, normalize=False, precompute=False, total=   0.1s\n",
      "[CV]  alpha=55.56, fit_intercept=True, normalize=False, precompute=True, total=   0.0s\n",
      "[CV] alpha=55.56, fit_intercept=True, normalize=False, precompute=True \n",
      "[CV] alpha=44.45, fit_intercept=False, normalize=False, precompute=False \n",
      "[CV]  alpha=55.56, fit_intercept=True, normalize=False, precompute=False, total=   0.0s\n",
      "[CV] alpha=55.56, fit_intercept=True, normalize=False, precompute=False \n",
      "[CV]  alpha=55.56, fit_intercept=False, normalize=True, precompute=True, total=   0.0s\n",
      "[CV] alpha=55.56, fit_intercept=False, normalize=True, precompute=False \n",
      "[CV]  alpha=55.56, fit_intercept=True, normalize=False, precompute=True, total=   0.0s\n",
      "[CV] alpha=55.56, fit_intercept=True, normalize=False, precompute=False \n",
      "[CV]  alpha=44.45, fit_intercept=False, normalize=False, precompute=False, total=   0.1s\n",
      "[CV] alpha=55.56, fit_intercept=True, normalize=True, precompute=True \n",
      "[CV]  alpha=55.56, fit_intercept=True, normalize=False, precompute=False, total=   0.0s\n",
      "[CV] alpha=55.56, fit_intercept=False, normalize=False, precompute=True \n",
      "[CV]  alpha=55.56, fit_intercept=True, normalize=True, precompute=True, total=   0.0s\n",
      "[CV] alpha=55.56, fit_intercept=True, normalize=True, precompute=True \n",
      "[CV]  alpha=55.56, fit_intercept=False, normalize=False, precompute=True, total=   0.0s\n",
      "[CV] alpha=55.56, fit_intercept=False, normalize=False, precompute=True \n",
      "[CV]  alpha=55.56, fit_intercept=False, normalize=True, precompute=False, total=   0.1s\n",
      "[CV] alpha=55.56, fit_intercept=False, normalize=True, precompute=False \n",
      "[CV]  alpha=55.56, fit_intercept=True, normalize=True, precompute=True, total=   0.0s\n",
      "[CV] alpha=55.56, fit_intercept=False, normalize=False, precompute=False \n",
      "[CV]  alpha=55.56, fit_intercept=True, normalize=False, precompute=False, total=   0.1s\n",
      "[CV] alpha=55.56, fit_intercept=False, normalize=True, precompute=True \n",
      "[CV]  alpha=55.56, fit_intercept=False, normalize=False, precompute=True, total=   0.0s\n",
      "[CV] alpha=55.56, fit_intercept=False, normalize=False, precompute=True \n",
      "[CV]  alpha=55.56, fit_intercept=False, normalize=True, precompute=True, total=   0.0s\n",
      "[CV] alpha=55.56, fit_intercept=False, normalize=True, precompute=True \n",
      "[CV]  alpha=55.56, fit_intercept=False, normalize=False, precompute=False, total=   0.1s\n",
      "[CV]  alpha=55.56, fit_intercept=False, normalize=True, precompute=True, total=   0.0s\n",
      "[CV] alpha=55.56, fit_intercept=False, normalize=False, precompute=False \n",
      "[CV]  alpha=55.56, fit_intercept=False, normalize=True, precompute=False, total=   0.1s\n",
      "[CV] alpha=55.56, fit_intercept=False, normalize=True, precompute=False \n",
      "[CV] alpha=66.67, fit_intercept=True, normalize=True, precompute=True \n",
      "[CV]  alpha=55.56, fit_intercept=False, normalize=False, precompute=True, total=   0.1s\n",
      "[CV] alpha=55.56, fit_intercept=False, normalize=False, precompute=False \n",
      "[CV]  alpha=55.56, fit_intercept=False, normalize=False, precompute=False, total=   0.0s\n",
      "[CV]  alpha=66.67, fit_intercept=True, normalize=True, precompute=True, total=   0.0s\n",
      "[CV] alpha=66.67, fit_intercept=True, normalize=True, precompute=False \n",
      "[CV] alpha=66.67, fit_intercept=True, normalize=True, precompute=True \n",
      "[CV]  alpha=55.56, fit_intercept=False, normalize=True, precompute=False, total=   0.1s\n",
      "[CV]  alpha=66.67, fit_intercept=True, normalize=True, precompute=False, total=   0.0s\n",
      "[CV] alpha=66.67, fit_intercept=True, normalize=True, precompute=False \n",
      "[CV]  alpha=55.56, fit_intercept=False, normalize=False, precompute=False, total=   0.0s\n",
      "[CV] alpha=66.67, fit_intercept=True, normalize=False, precompute=True \n",
      "[CV]  alpha=66.67, fit_intercept=True, normalize=True, precompute=False, total=   0.0s\n",
      "[CV] alpha=66.67, fit_intercept=True, normalize=False, precompute=False \n",
      "[CV] alpha=66.67, fit_intercept=True, normalize=True, precompute=False \n",
      "[CV]  alpha=66.67, fit_intercept=True, normalize=True, precompute=True, total=   0.0s\n",
      "[CV] alpha=66.67, fit_intercept=True, normalize=True, precompute=True \n",
      "[CV]  alpha=66.67, fit_intercept=True, normalize=True, precompute=False, total=   0.0s\n",
      "[CV] alpha=66.67, fit_intercept=False, normalize=True, precompute=True \n",
      "[CV]  alpha=66.67, fit_intercept=True, normalize=False, precompute=True, total=   0.0s\n",
      "[CV]  alpha=66.67, fit_intercept=False, normalize=True, precompute=True, total=   0.0s\n",
      "[CV] alpha=66.67, fit_intercept=True, normalize=False, precompute=True \n",
      "[CV] alpha=66.67, fit_intercept=False, normalize=True, precompute=False \n",
      "[CV]  alpha=66.67, fit_intercept=True, normalize=False, precompute=False, total=   0.0s\n",
      "[CV] alpha=66.67, fit_intercept=True, normalize=False, precompute=False \n",
      "[CV]  alpha=66.67, fit_intercept=True, normalize=True, precompute=True, total=   0.0s\n",
      "[CV] alpha=66.67, fit_intercept=False, normalize=False, precompute=True \n",
      "[CV]  alpha=66.67, fit_intercept=True, normalize=False, precompute=True, total=   0.0s\n",
      "[CV] alpha=66.67, fit_intercept=True, normalize=False, precompute=True \n",
      "[CV]  alpha=66.67, fit_intercept=False, normalize=False, precompute=True, total=   0.0s\n",
      "[CV] alpha=66.67, fit_intercept=False, normalize=False, precompute=True \n",
      "[CV]  alpha=66.67, fit_intercept=True, normalize=False, precompute=False, total=   0.0s\n",
      "[CV]  alpha=66.67, fit_intercept=False, normalize=True, precompute=False, total=   0.1s\n",
      "[CV] alpha=66.67, fit_intercept=False, normalize=True, precompute=True \n",
      "[CV]  alpha=66.67, fit_intercept=True, normalize=False, precompute=True, total=   0.0s\n",
      "[CV] alpha=66.67, fit_intercept=True, normalize=False, precompute=False \n",
      "[CV] alpha=66.67, fit_intercept=False, normalize=True, precompute=False \n",
      "[CV]  alpha=66.67, fit_intercept=False, normalize=True, precompute=True, total=   0.0s\n",
      "[CV] alpha=66.67, fit_intercept=False, normalize=True, precompute=True \n",
      "[CV]  alpha=66.67, fit_intercept=False, normalize=False, precompute=True, total=   0.0s\n",
      "[CV] alpha=66.67, fit_intercept=False, normalize=False, precompute=True \n",
      "[CV]  alpha=66.67, fit_intercept=True, normalize=False, precompute=False, total=   0.0s\n",
      "[CV] alpha=66.67, fit_intercept=False, normalize=False, precompute=False \n",
      "[CV]  alpha=66.67, fit_intercept=False, normalize=True, precompute=False, total=   0.0s\n",
      "[CV] alpha=66.67, fit_intercept=False, normalize=True, precompute=False \n",
      "[CV]  alpha=66.67, fit_intercept=False, normalize=False, precompute=True, total=   0.0s\n",
      "[CV] alpha=66.67, fit_intercept=False, normalize=False, precompute=False \n",
      "[CV]  alpha=66.67, fit_intercept=False, normalize=True, precompute=True, total=   0.1s\n"
     ]
    },
    {
     "name": "stdout",
     "output_type": "stream",
     "text": [
      "[CV] alpha=77.78, fit_intercept=True, normalize=True, precompute=True \n",
      "[CV]  alpha=66.67, fit_intercept=False, normalize=False, precompute=False, total=   0.0s\n",
      "[CV] alpha=77.78, fit_intercept=True, normalize=False, precompute=True \n",
      "[CV]  alpha=77.78, fit_intercept=True, normalize=True, precompute=True, total=   0.0s\n",
      "[CV] alpha=77.78, fit_intercept=True, normalize=True, precompute=False \n",
      "[CV]  alpha=66.67, fit_intercept=False, normalize=False, precompute=False, total=   0.1s\n",
      "[CV] alpha=66.67, fit_intercept=False, normalize=False, precompute=False \n",
      "[CV]  alpha=77.78, fit_intercept=True, normalize=True, precompute=False, total=   0.0s\n",
      "[CV]  alpha=66.67, fit_intercept=False, normalize=True, precompute=False, total=   0.1s\n",
      "[CV] alpha=77.78, fit_intercept=True, normalize=True, precompute=False \n",
      "[CV] alpha=77.78, fit_intercept=True, normalize=False, precompute=False \n",
      "[CV]  alpha=77.78, fit_intercept=True, normalize=False, precompute=True, total=   0.0s\n",
      "[CV] alpha=77.78, fit_intercept=True, normalize=False, precompute=True \n",
      "[CV]  alpha=77.78, fit_intercept=True, normalize=True, precompute=False, total=   0.0s\n",
      "[CV] alpha=77.78, fit_intercept=True, normalize=True, precompute=False \n",
      "[CV]  alpha=77.78, fit_intercept=True, normalize=True, precompute=False, total=   0.0s\n",
      "[CV] alpha=77.78, fit_intercept=False, normalize=True, precompute=True \n",
      "[CV]  alpha=66.67, fit_intercept=False, normalize=False, precompute=False, total=   0.1s\n",
      "[CV] alpha=77.78, fit_intercept=True, normalize=True, precompute=True \n",
      "[CV]  alpha=77.78, fit_intercept=True, normalize=False, precompute=True, total=   0.0s\n",
      "[CV] alpha=77.78, fit_intercept=True, normalize=False, precompute=True \n",
      "[CV]  alpha=77.78, fit_intercept=False, normalize=True, precompute=True, total=   0.0s\n",
      "[CV] alpha=77.78, fit_intercept=False, normalize=True, precompute=False \n",
      "[CV]  alpha=77.78, fit_intercept=True, normalize=False, precompute=True, total=   0.0s\n",
      "[CV] alpha=77.78, fit_intercept=True, normalize=False, precompute=False \n",
      "[CV]  alpha=77.78, fit_intercept=True, normalize=False, precompute=False, total=   0.1s\n",
      "[CV] alpha=77.78, fit_intercept=True, normalize=False, precompute=False \n",
      "[CV]  alpha=77.78, fit_intercept=True, normalize=True, precompute=True, total=   0.0s\n",
      "[CV] alpha=77.78, fit_intercept=True, normalize=True, precompute=True \n",
      "[CV]  alpha=77.78, fit_intercept=False, normalize=True, precompute=False, total=   0.0s\n",
      "[CV]  alpha=77.78, fit_intercept=True, normalize=False, precompute=False, total=   0.0s\n",
      "[CV] alpha=77.78, fit_intercept=False, normalize=True, precompute=False \n",
      "[CV] alpha=77.78, fit_intercept=False, normalize=False, precompute=True \n",
      "[CV]  alpha=77.78, fit_intercept=True, normalize=True, precompute=True, total=   0.0s\n",
      "[CV] alpha=77.78, fit_intercept=False, normalize=False, precompute=False \n",
      "[CV]  alpha=77.78, fit_intercept=True, normalize=False, precompute=False, total=   0.0s\n",
      "[CV] alpha=77.78, fit_intercept=False, normalize=True, precompute=True \n",
      "[CV]  alpha=77.78, fit_intercept=False, normalize=False, precompute=True, total=   0.0s\n",
      "[CV] alpha=77.78, fit_intercept=False, normalize=False, precompute=True \n",
      "[CV]  alpha=77.78, fit_intercept=False, normalize=True, precompute=True, total=   0.0s\n",
      "[CV] alpha=77.78, fit_intercept=False, normalize=True, precompute=True \n",
      "[CV]  alpha=77.78, fit_intercept=False, normalize=True, precompute=False, total=   0.1s\n",
      "[CV] alpha=77.78, fit_intercept=False, normalize=True, precompute=False \n",
      "[CV]  alpha=77.78, fit_intercept=False, normalize=False, precompute=False, total=   0.0s\n",
      "[CV] alpha=77.78, fit_intercept=False, normalize=False, precompute=False \n",
      "[CV]  alpha=77.78, fit_intercept=False, normalize=False, precompute=True, total=   0.0s\n",
      "[CV]  alpha=77.78, fit_intercept=False, normalize=True, precompute=True, total=   0.0s\n",
      "[CV] alpha=77.78, fit_intercept=False, normalize=False, precompute=True \n",
      "[CV] alpha=88.89, fit_intercept=True, normalize=True, precompute=True \n",
      "[CV]  alpha=77.78, fit_intercept=False, normalize=True, precompute=False, total=   0.0s\n",
      "[CV] alpha=88.89, fit_intercept=True, normalize=False, precompute=True \n",
      "[CV]  alpha=77.78, fit_intercept=False, normalize=False, precompute=False, total=   0.1s\n",
      "[CV] alpha=88.89, fit_intercept=True, normalize=True, precompute=True \n",
      "[CV]  alpha=88.89, fit_intercept=True, normalize=True, precompute=True, total=   0.0s\n",
      "[CV] alpha=88.89, fit_intercept=True, normalize=True, precompute=True \n",
      "[CV]  alpha=88.89, fit_intercept=True, normalize=True, precompute=True, total=   0.0s\n",
      "[CV] alpha=88.89, fit_intercept=True, normalize=False, precompute=False \n",
      "[CV]  alpha=77.78, fit_intercept=False, normalize=False, precompute=True, total=   0.1s\n",
      "[CV] alpha=77.78, fit_intercept=False, normalize=False, precompute=False \n",
      "[CV]  alpha=88.89, fit_intercept=True, normalize=True, precompute=True, total=   0.1s\n",
      "[CV] alpha=88.89, fit_intercept=True, normalize=True, precompute=False \n",
      "[CV]  alpha=77.78, fit_intercept=False, normalize=False, precompute=False, total=   0.0s\n",
      "[CV] alpha=88.89, fit_intercept=False, normalize=True, precompute=True \n",
      "[CV]  alpha=88.89, fit_intercept=True, normalize=False, precompute=True, total=   0.1s\n",
      "[CV] alpha=88.89, fit_intercept=True, normalize=False, precompute=True \n",
      "[CV]  alpha=88.89, fit_intercept=True, normalize=True, precompute=False, total=   0.0s\n",
      "[CV] alpha=88.89, fit_intercept=True, normalize=True, precompute=False \n",
      "[CV]  alpha=88.89, fit_intercept=False, normalize=True, precompute=True, total=   0.0s\n",
      "[CV]  alpha=88.89, fit_intercept=True, normalize=True, precompute=False, total=   0.0s\n",
      "[CV] alpha=88.89, fit_intercept=False, normalize=True, precompute=False \n",
      "[CV] alpha=88.89, fit_intercept=True, normalize=True, precompute=False \n",
      "[CV]  alpha=88.89, fit_intercept=True, normalize=False, precompute=False, total=   0.1s\n",
      "[CV] alpha=88.89, fit_intercept=True, normalize=False, precompute=False \n",
      "[CV]  alpha=88.89, fit_intercept=True, normalize=True, precompute=False, total=   0.0s\n",
      "[CV] alpha=88.89, fit_intercept=False, normalize=False, precompute=True \n",
      "[CV]  alpha=88.89, fit_intercept=False, normalize=True, precompute=False, total=   0.0s\n",
      "[CV] alpha=88.89, fit_intercept=False, normalize=True, precompute=False \n",
      "[CV]  alpha=88.89, fit_intercept=True, normalize=False, precompute=True, total=   0.1s\n",
      "[CV] alpha=88.89, fit_intercept=True, normalize=False, precompute=True \n",
      "[CV]  alpha=88.89, fit_intercept=False, normalize=True, precompute=False, total=   0.0s\n",
      "[CV] alpha=88.89, fit_intercept=False, normalize=True, precompute=False \n",
      "[CV]  alpha=88.89, fit_intercept=False, normalize=False, precompute=True, total=   0.0s\n",
      "[CV] alpha=88.89, fit_intercept=False, normalize=False, precompute=True \n",
      "[CV]  alpha=88.89, fit_intercept=True, normalize=False, precompute=True, total=   0.0s\n",
      "[CV] alpha=88.89, fit_intercept=True, normalize=False, precompute=False \n",
      "[CV]  alpha=88.89, fit_intercept=True, normalize=False, precompute=False, total=   0.1s\n",
      "[CV] alpha=88.89, fit_intercept=False, normalize=True, precompute=True \n",
      "[CV]  alpha=88.89, fit_intercept=False, normalize=False, precompute=True, total=   0.0s\n",
      "[CV] alpha=88.89, fit_intercept=False, normalize=False, precompute=True \n",
      "[CV]  alpha=88.89, fit_intercept=False, normalize=True, precompute=False, total=   0.0s\n",
      "[CV]  alpha=88.89, fit_intercept=True, normalize=False, precompute=False, total=   0.0s\n",
      "[CV] alpha=88.89, fit_intercept=False, normalize=False, precompute=False \n",
      "[CV]  alpha=88.89, fit_intercept=False, normalize=False, precompute=True, total=   0.0s\n",
      "[CV] alpha=88.89, fit_intercept=False, normalize=False, precompute=False \n",
      "[CV] alpha=100.0, fit_intercept=True, normalize=True, precompute=True \n",
      "[CV]  alpha=88.89, fit_intercept=False, normalize=True, precompute=True, total=   0.0s\n",
      "[CV] alpha=88.89, fit_intercept=False, normalize=True, precompute=True \n",
      "[CV]  alpha=88.89, fit_intercept=False, normalize=False, precompute=False, total=   0.0s\n",
      "[CV] alpha=88.89, fit_intercept=False, normalize=False, precompute=False \n",
      "[CV]  alpha=88.89, fit_intercept=False, normalize=False, precompute=False, total=   0.0s\n",
      "[CV] alpha=100.0, fit_intercept=True, normalize=False, precompute=True \n",
      "[CV]  alpha=100.0, fit_intercept=True, normalize=True, precompute=True, total=   0.0s\n",
      "[CV] alpha=100.0, fit_intercept=True, normalize=True, precompute=False \n"
     ]
    },
    {
     "name": "stdout",
     "output_type": "stream",
     "text": [
      "[CV]  alpha=100.0, fit_intercept=True, normalize=True, precompute=False, total=   0.0s\n",
      "[CV]  alpha=88.89, fit_intercept=False, normalize=True, precompute=True, total=   0.0s\n",
      "[CV] alpha=100.0, fit_intercept=True, normalize=True, precompute=False \n",
      "[CV] alpha=100.0, fit_intercept=True, normalize=False, precompute=False \n",
      "[CV]  alpha=100.0, fit_intercept=True, normalize=False, precompute=True, total=   0.0s\n",
      "[CV] alpha=100.0, fit_intercept=True, normalize=False, precompute=True \n",
      "[CV]  alpha=100.0, fit_intercept=True, normalize=True, precompute=False, total=   0.0s\n",
      "[CV] alpha=100.0, fit_intercept=True, normalize=True, precompute=False \n",
      "[CV]  alpha=100.0, fit_intercept=True, normalize=False, precompute=False, total=   0.0s\n",
      "[CV] alpha=100.0, fit_intercept=True, normalize=False, precompute=False \n",
      "[CV]  alpha=100.0, fit_intercept=True, normalize=False, precompute=True, total=   0.0s\n",
      "[CV] alpha=100.0, fit_intercept=True, normalize=False, precompute=True \n",
      "[CV]  alpha=100.0, fit_intercept=True, normalize=True, precompute=False, total=   0.0s\n",
      "[CV]  alpha=88.89, fit_intercept=False, normalize=False, precompute=False, total=   0.1s\n",
      "[CV] alpha=100.0, fit_intercept=True, normalize=True, precompute=True \n",
      "[CV]  alpha=100.0, fit_intercept=True, normalize=True, precompute=True, total=   0.0s\n",
      "[CV] alpha=100.0, fit_intercept=True, normalize=True, precompute=True \n",
      "[CV] alpha=100.0, fit_intercept=False, normalize=True, precompute=True \n",
      "[CV]  alpha=100.0, fit_intercept=True, normalize=True, precompute=True, total=   0.0s\n",
      "[CV] alpha=100.0, fit_intercept=False, normalize=False, precompute=True \n",
      "[CV]  alpha=100.0, fit_intercept=False, normalize=False, precompute=True, total=   0.0s\n",
      "[CV] alpha=100.0, fit_intercept=False, normalize=False, precompute=True \n",
      "[CV]  alpha=100.0, fit_intercept=False, normalize=False, precompute=True, total=   0.0s\n",
      "[CV] alpha=100.0, fit_intercept=False, normalize=False, precompute=True \n",
      "[CV]  alpha=100.0, fit_intercept=False, normalize=False, precompute=True, total=   0.0s\n",
      "[CV] alpha=100.0, fit_intercept=False, normalize=False, precompute=False \n",
      "[CV]  alpha=100.0, fit_intercept=True, normalize=False, precompute=True, total=   0.1s\n",
      "[CV] alpha=100.0, fit_intercept=True, normalize=False, precompute=False \n",
      "[CV]  alpha=100.0, fit_intercept=True, normalize=False, precompute=False, total=   0.1s\n",
      "[CV] alpha=100.0, fit_intercept=False, normalize=True, precompute=True \n",
      "[CV]  alpha=100.0, fit_intercept=False, normalize=True, precompute=True, total=   0.1s\n",
      "[CV] alpha=100.0, fit_intercept=False, normalize=True, precompute=False \n",
      "[CV]  alpha=100.0, fit_intercept=True, normalize=False, precompute=False, total=   0.0s\n",
      "[CV] alpha=100.0, fit_intercept=False, normalize=False, precompute=False \n",
      "[CV]  alpha=100.0, fit_intercept=False, normalize=False, precompute=False, total=   0.1s\n",
      "[CV]  alpha=100.0, fit_intercept=False, normalize=True, precompute=False, total=   0.0s\n",
      "[CV]  alpha=100.0, fit_intercept=False, normalize=True, precompute=True, total=   0.1s\n",
      "[CV] alpha=100.0, fit_intercept=False, normalize=True, precompute=False \n",
      "[CV] alpha=100.0, fit_intercept=False, normalize=True, precompute=True \n",
      "[CV]  alpha=100.0, fit_intercept=False, normalize=False, precompute=False, total=   0.0s\n",
      "[CV] alpha=100.0, fit_intercept=False, normalize=False, precompute=False \n",
      "[CV]  alpha=100.0, fit_intercept=False, normalize=True, precompute=False, total=   0.0s\n",
      "[CV]  alpha=100.0, fit_intercept=False, normalize=True, precompute=True, total=   0.0s\n",
      "[CV] alpha=100.0, fit_intercept=False, normalize=True, precompute=False \n",
      "[CV]  alpha=100.0, fit_intercept=False, normalize=False, precompute=False, total=   0.0s\n",
      "[CV]  alpha=100.0, fit_intercept=False, normalize=True, precompute=False, total=   0.0s\n"
     ]
    },
    {
     "name": "stderr",
     "output_type": "stream",
     "text": [
      "[Parallel(n_jobs=-1)]: Done 240 out of 240 | elapsed:    3.7s finished\n"
     ]
    },
    {
     "data": {
      "text/plain": [
       "GridSearchCV(cv=3, error_score='raise',\n",
       "       estimator=Lasso(alpha=1.0, copy_X=True, fit_intercept=True, max_iter=1000,\n",
       "   normalize=False, positive=False, precompute=False, random_state=None,\n",
       "   selection='cyclic', tol=0.0001, warm_start=False),\n",
       "       fit_params=None, iid=True, n_jobs=-1,\n",
       "       param_grid={'fit_intercept': [True, False], 'alpha': array([  1.00000e-02,   1.11200e+01,   2.22300e+01,   3.33400e+01,\n",
       "         4.44500e+01,   5.55600e+01,   6.66700e+01,   7.77800e+01,\n",
       "         8.88900e+01,   1.00000e+02]), 'normalize': [True, False], 'precompute': [True, False]},\n",
       "       pre_dispatch='2*n_jobs', refit=True, return_train_score=True,\n",
       "       scoring=None, verbose=2)"
      ]
     },
     "execution_count": 30,
     "metadata": {},
     "output_type": "execute_result"
    }
   ],
   "source": [
    "grid_search.fit(X_train, y_train)"
   ]
  },
  {
   "cell_type": "code",
   "execution_count": 31,
   "metadata": {},
   "outputs": [
    {
     "data": {
      "text/plain": [
       "(0.82378000601206636,\n",
       " {'alpha': 22.23,\n",
       "  'fit_intercept': True,\n",
       "  'normalize': True,\n",
       "  'precompute': True})"
      ]
     },
     "execution_count": 31,
     "metadata": {},
     "output_type": "execute_result"
    }
   ],
   "source": [
    "grid_search.best_score_ , grid_search.best_params_"
   ]
  },
  {
   "cell_type": "code",
   "execution_count": 32,
   "metadata": {},
   "outputs": [
    {
     "name": "stdout",
     "output_type": "stream",
     "text": [
      "0.855464224893\n"
     ]
    }
   ],
   "source": [
    "best_estimator = grid_search.best_estimator_\n",
    "\n",
    "print(best_estimator.score(X_train, y_train))"
   ]
  },
  {
   "cell_type": "markdown",
   "metadata": {},
   "source": [
    "Now test model using test data set"
   ]
  },
  {
   "cell_type": "code",
   "execution_count": 33,
   "metadata": {
    "collapsed": true
   },
   "outputs": [],
   "source": [
    "#Must impute and standardize X_test"
   ]
  },
  {
   "cell_type": "code",
   "execution_count": 103,
   "metadata": {
    "collapsed": true
   },
   "outputs": [],
   "source": [
    "X_test = imputer.transform(X_test)\n",
    "X_test = pd.DataFrame(X_test, columns=X.columns)"
   ]
  },
  {
   "cell_type": "code",
   "execution_count": 104,
   "metadata": {
    "collapsed": true
   },
   "outputs": [],
   "source": [
    "ss = StandardScaler()\n",
    "ss.fit(X_test)\n",
    "X_test = ss.transform(X_test)"
   ]
  },
  {
   "cell_type": "code",
   "execution_count": 105,
   "metadata": {},
   "outputs": [],
   "source": [
    "X_test = pd.DataFrame(X_test, columns=X.columns)"
   ]
  },
  {
   "cell_type": "code",
   "execution_count": 36,
   "metadata": {},
   "outputs": [
    {
     "name": "stdout",
     "output_type": "stream",
     "text": [
      "Training Score: 0.855464224893\n",
      "Testing Score:  0.752865845176\n"
     ]
    }
   ],
   "source": [
    "print('Training Score:', best_estimator.score(X_train, y_train))\n",
    "\n",
    "print('Testing Score: ', best_estimator.score(X_test, y_test))"
   ]
  },
  {
   "cell_type": "markdown",
   "metadata": {},
   "source": [
    "Predicting"
   ]
  },
  {
   "cell_type": "code",
   "execution_count": 37,
   "metadata": {},
   "outputs": [
    {
     "data": {
      "text/plain": [
       "(879, 80)"
      ]
     },
     "execution_count": 37,
     "metadata": {},
     "output_type": "execute_result"
    }
   ],
   "source": [
    "ames_test.shape"
   ]
  },
  {
   "cell_type": "code",
   "execution_count": 38,
   "metadata": {},
   "outputs": [
    {
     "data": {
      "text/plain": [
       "Lot Frontage      160\n",
       "Alley             821\n",
       "Mas Vnr Type        1\n",
       "Mas Vnr Area        1\n",
       "Bsmt Qual          25\n",
       "Bsmt Cond          25\n",
       "Bsmt Exposure      25\n",
       "BsmtFin Type 1     25\n",
       "BsmtFin Type 2     25\n",
       "Electrical          1\n",
       "Fireplace Qu      422\n",
       "Garage Type        44\n",
       "Garage Yr Blt      45\n",
       "Garage Finish      45\n",
       "Garage Qual        45\n",
       "Garage Cond        45\n",
       "Pool QC           875\n",
       "Fence             707\n",
       "Misc Feature      838\n",
       "dtype: int64"
      ]
     },
     "execution_count": 38,
     "metadata": {},
     "output_type": "execute_result"
    }
   ],
   "source": [
    "ames_test.isnull().sum()[ames_test.isnull().sum()> 0]"
   ]
  },
  {
   "cell_type": "code",
   "execution_count": 39,
   "metadata": {},
   "outputs": [
    {
     "name": "stdout",
     "output_type": "stream",
     "text": [
      "<class 'pandas.core.frame.DataFrame'>\n",
      "RangeIndex: 879 entries, 0 to 878\n",
      "Data columns (total 80 columns):\n",
      "Id                 879 non-null int64\n",
      "PID                879 non-null int64\n",
      "MS SubClass        879 non-null int64\n",
      "MS Zoning          879 non-null object\n",
      "Lot Frontage       719 non-null float64\n",
      "Lot Area           879 non-null int64\n",
      "Street             879 non-null object\n",
      "Alley              58 non-null object\n",
      "Lot Shape          879 non-null object\n",
      "Land Contour       879 non-null object\n",
      "Utilities          879 non-null object\n",
      "Lot Config         879 non-null object\n",
      "Land Slope         879 non-null object\n",
      "Neighborhood       879 non-null object\n",
      "Condition 1        879 non-null object\n",
      "Condition 2        879 non-null object\n",
      "Bldg Type          879 non-null object\n",
      "House Style        879 non-null object\n",
      "Overall Qual       879 non-null int64\n",
      "Overall Cond       879 non-null int64\n",
      "Year Built         879 non-null int64\n",
      "Year Remod/Add     879 non-null int64\n",
      "Roof Style         879 non-null object\n",
      "Roof Matl          879 non-null object\n",
      "Exterior 1st       879 non-null object\n",
      "Exterior 2nd       879 non-null object\n",
      "Mas Vnr Type       878 non-null object\n",
      "Mas Vnr Area       878 non-null float64\n",
      "Exter Qual         879 non-null object\n",
      "Exter Cond         879 non-null object\n",
      "Foundation         879 non-null object\n",
      "Bsmt Qual          854 non-null object\n",
      "Bsmt Cond          854 non-null object\n",
      "Bsmt Exposure      854 non-null object\n",
      "BsmtFin Type 1     854 non-null object\n",
      "BsmtFin SF 1       879 non-null float64\n",
      "BsmtFin Type 2     854 non-null object\n",
      "BsmtFin SF 2       879 non-null float64\n",
      "Bsmt Unf SF        879 non-null float64\n",
      "Total Bsmt SF      879 non-null float64\n",
      "Heating            879 non-null object\n",
      "Heating QC         879 non-null object\n",
      "Central Air        879 non-null object\n",
      "Electrical         878 non-null object\n",
      "1st Flr SF         879 non-null int64\n",
      "2nd Flr SF         879 non-null int64\n",
      "Low Qual Fin SF    879 non-null int64\n",
      "Gr Liv Area        879 non-null int64\n",
      "Bsmt Full Bath     879 non-null float64\n",
      "Bsmt Half Bath     879 non-null float64\n",
      "Full Bath          879 non-null int64\n",
      "Half Bath          879 non-null int64\n",
      "Bedroom AbvGr      879 non-null int64\n",
      "Kitchen AbvGr      879 non-null int64\n",
      "Kitchen Qual       879 non-null object\n",
      "TotRms AbvGrd      879 non-null int64\n",
      "Functional         879 non-null object\n",
      "Fireplaces         879 non-null int64\n",
      "Fireplace Qu       457 non-null object\n",
      "Garage Type        835 non-null object\n",
      "Garage Yr Blt      834 non-null float64\n",
      "Garage Finish      834 non-null object\n",
      "Garage Cars        879 non-null float64\n",
      "Garage Area        879 non-null float64\n",
      "Garage Qual        834 non-null object\n",
      "Garage Cond        834 non-null object\n",
      "Paved Drive        879 non-null object\n",
      "Wood Deck SF       879 non-null int64\n",
      "Open Porch SF      879 non-null int64\n",
      "Enclosed Porch     879 non-null int64\n",
      "3Ssn Porch         879 non-null int64\n",
      "Screen Porch       879 non-null int64\n",
      "Pool Area          879 non-null int64\n",
      "Pool QC            4 non-null object\n",
      "Fence              172 non-null object\n",
      "Misc Feature       41 non-null object\n",
      "Misc Val           879 non-null int64\n",
      "Mo Sold            879 non-null int64\n",
      "Yr Sold            879 non-null int64\n",
      "Sale Type          879 non-null object\n",
      "dtypes: float64(11), int64(27), object(42)\n",
      "memory usage: 549.5+ KB\n"
     ]
    }
   ],
   "source": [
    "ames_test.info()"
   ]
  },
  {
   "cell_type": "code",
   "execution_count": 40,
   "metadata": {},
   "outputs": [
    {
     "data": {
      "text/plain": [
       "{'float64': Index(['Lot Frontage', 'Mas Vnr Area', 'BsmtFin SF 1', 'BsmtFin SF 2',\n",
       "        'Bsmt Unf SF', 'Total Bsmt SF', 'Bsmt Full Bath', 'Bsmt Half Bath',\n",
       "        'Garage Yr Blt', 'Garage Cars', 'Garage Area'],\n",
       "       dtype='object'),\n",
       " 'int64': Index(['Id', 'PID', 'MS SubClass', 'Lot Area', 'Overall Qual', 'Overall Cond',\n",
       "        'Year Built', 'Year Remod/Add', '1st Flr SF', '2nd Flr SF',\n",
       "        'Low Qual Fin SF', 'Gr Liv Area', 'Full Bath', 'Half Bath',\n",
       "        'Bedroom AbvGr', 'Kitchen AbvGr', 'TotRms AbvGrd', 'Fireplaces',\n",
       "        'Wood Deck SF', 'Open Porch SF', 'Enclosed Porch', '3Ssn Porch',\n",
       "        'Screen Porch', 'Pool Area', 'Misc Val', 'Mo Sold', 'Yr Sold'],\n",
       "       dtype='object'),\n",
       " 'object': Index(['MS Zoning', 'Street', 'Alley', 'Lot Shape', 'Land Contour',\n",
       "        'Utilities', 'Lot Config', 'Land Slope', 'Neighborhood', 'Condition 1',\n",
       "        'Condition 2', 'Bldg Type', 'House Style', 'Roof Style', 'Roof Matl',\n",
       "        'Exterior 1st', 'Exterior 2nd', 'Mas Vnr Type', 'Exter Qual',\n",
       "        'Exter Cond', 'Foundation', 'Bsmt Qual', 'Bsmt Cond', 'Bsmt Exposure',\n",
       "        'BsmtFin Type 1', 'BsmtFin Type 2', 'Heating', 'Heating QC',\n",
       "        'Central Air', 'Electrical', 'Kitchen Qual', 'Functional',\n",
       "        'Fireplace Qu', 'Garage Type', 'Garage Finish', 'Garage Qual',\n",
       "        'Garage Cond', 'Paved Drive', 'Pool QC', 'Fence', 'Misc Feature',\n",
       "        'Sale Type'],\n",
       "       dtype='object')}"
      ]
     },
     "execution_count": 40,
     "metadata": {},
     "output_type": "execute_result"
    }
   ],
   "source": [
    "g = ames_test.columns.to_series().groupby(ames.dtypes).groups\n",
    "d = {k.name: v for k, v in g.items()}\n",
    "d"
   ]
  },
  {
   "cell_type": "code",
   "execution_count": 41,
   "metadata": {
    "collapsed": true
   },
   "outputs": [],
   "source": [
    "ames_test_num = ames_test[['Lot Frontage', 'Mas Vnr Area', 'BsmtFin SF 1', 'BsmtFin SF 2',\n",
    "        'Bsmt Unf SF', 'Total Bsmt SF', 'Bsmt Full Bath', 'Bsmt Half Bath',\n",
    "        'Garage Yr Blt', 'Garage Cars', 'Garage Area', 'Id', 'PID', 'MS SubClass', 'Lot Area', 'Overall Qual', 'Overall Cond',\n",
    "        'Year Built', 'Year Remod/Add', '1st Flr SF', '2nd Flr SF',\n",
    "        'Low Qual Fin SF', 'Gr Liv Area', 'Full Bath', 'Half Bath',\n",
    "        'Bedroom AbvGr', 'Kitchen AbvGr', 'TotRms AbvGrd', 'Fireplaces',\n",
    "        'Wood Deck SF', 'Open Porch SF', 'Enclosed Porch', '3Ssn Porch',\n",
    "        'Screen Porch', 'Pool Area', 'Misc Val', 'Mo Sold', 'Yr Sold']]"
   ]
  },
  {
   "cell_type": "code",
   "execution_count": 42,
   "metadata": {},
   "outputs": [
    {
     "data": {
      "text/plain": [
       "(879, 38)"
      ]
     },
     "execution_count": 42,
     "metadata": {},
     "output_type": "execute_result"
    }
   ],
   "source": [
    "ames_test_num.shape"
   ]
  },
  {
   "cell_type": "code",
   "execution_count": 47,
   "metadata": {},
   "outputs": [
    {
     "data": {
      "text/plain": [
       "(879, 38)"
      ]
     },
     "execution_count": 47,
     "metadata": {},
     "output_type": "execute_result"
    }
   ],
   "source": [
    "ames_test_ss.shape"
   ]
  },
  {
   "cell_type": "code",
   "execution_count": 48,
   "metadata": {
    "collapsed": true
   },
   "outputs": [],
   "source": [
    "ames_test_ss = imputer.transform(ames_test_num)\n",
    "ames_test_ss = pd.DataFrame(ames_test_ss)"
   ]
  },
  {
   "cell_type": "code",
   "execution_count": 49,
   "metadata": {
    "collapsed": true
   },
   "outputs": [],
   "source": [
    "ss = StandardScaler()\n",
    "ss.fit(ames_test_ss)\n",
    "ames_test_ss = ss.transform(ames_test_ss)"
   ]
  },
  {
   "cell_type": "code",
   "execution_count": 50,
   "metadata": {},
   "outputs": [
    {
     "data": {
      "text/plain": [
       "(879, 38)"
      ]
     },
     "execution_count": 50,
     "metadata": {},
     "output_type": "execute_result"
    }
   ],
   "source": [
    "ames_test_num.shape"
   ]
  },
  {
   "cell_type": "code",
   "execution_count": 51,
   "metadata": {
    "collapsed": true
   },
   "outputs": [],
   "source": [
    "ames_test_ss = pd.DataFrame(ames_test_ss, columns=ames_test_num.columns)"
   ]
  },
  {
   "cell_type": "code",
   "execution_count": 52,
   "metadata": {},
   "outputs": [
    {
     "data": {
      "text/plain": [
       "Index(['Lot Frontage', 'Mas Vnr Area', 'BsmtFin SF 1', 'Total Bsmt SF',\n",
       "       'Bsmt Full Bath', 'Bsmt Half Bath', 'Garage Yr Blt', 'Garage Cars',\n",
       "       'Garage Area', 'PID', 'MS SubClass', 'Lot Area', 'Overall Qual',\n",
       "       'Overall Cond', 'Year Built', 'Year Remod/Add', '1st Flr SF',\n",
       "       'Low Qual Fin SF', 'Gr Liv Area', 'Full Bath', 'Bedroom AbvGr',\n",
       "       'Kitchen AbvGr', 'TotRms AbvGrd', 'Fireplaces', 'Wood Deck SF',\n",
       "       'Enclosed Porch', '3Ssn Porch', 'Screen Porch', 'Pool Area', 'Misc Val',\n",
       "       'Yr Sold'],\n",
       "      dtype='object')"
      ]
     },
     "execution_count": 52,
     "metadata": {},
     "output_type": "execute_result"
    }
   ],
   "source": [
    "selected_x.columns"
   ]
  },
  {
   "cell_type": "code",
   "execution_count": 53,
   "metadata": {},
   "outputs": [
    {
     "data": {
      "text/plain": [
       "(879, 31)"
      ]
     },
     "execution_count": 53,
     "metadata": {},
     "output_type": "execute_result"
    }
   ],
   "source": [
    "ames_test_ss[selected_x.columns].shape"
   ]
  },
  {
   "cell_type": "code",
   "execution_count": 54,
   "metadata": {},
   "outputs": [
    {
     "data": {
      "text/plain": [
       "(879, 80)"
      ]
     },
     "execution_count": 54,
     "metadata": {},
     "output_type": "execute_result"
    }
   ],
   "source": [
    "ames_test.shape"
   ]
  },
  {
   "cell_type": "code",
   "execution_count": 55,
   "metadata": {
    "collapsed": true
   },
   "outputs": [],
   "source": [
    "y_hat = lr.predict(ames_test_ss)"
   ]
  },
  {
   "cell_type": "code",
   "execution_count": 56,
   "metadata": {},
   "outputs": [
    {
     "data": {
      "text/plain": [
       "181493.91807542232"
      ]
     },
     "execution_count": 56,
     "metadata": {},
     "output_type": "execute_result"
    }
   ],
   "source": [
    "y_hat.mean()"
   ]
  },
  {
   "cell_type": "code",
   "execution_count": 57,
   "metadata": {},
   "outputs": [
    {
     "data": {
      "text/plain": [
       "181493.91807542264"
      ]
     },
     "execution_count": 57,
     "metadata": {},
     "output_type": "execute_result"
    }
   ],
   "source": [
    "y_train.mean()"
   ]
  },
  {
   "cell_type": "code",
   "execution_count": 58,
   "metadata": {
    "collapsed": true
   },
   "outputs": [],
   "source": [
    "PRED = pd.DataFrame(y_hat, columns=['SalePrice'])"
   ]
  },
  {
   "cell_type": "code",
   "execution_count": 59,
   "metadata": {
    "collapsed": true
   },
   "outputs": [],
   "source": [
    "ID = ames_test[['Id']]"
   ]
  },
  {
   "cell_type": "code",
   "execution_count": 60,
   "metadata": {},
   "outputs": [
    {
     "data": {
      "text/html": [
       "<div>\n",
       "<style>\n",
       "    .dataframe thead tr:only-child th {\n",
       "        text-align: right;\n",
       "    }\n",
       "\n",
       "    .dataframe thead th {\n",
       "        text-align: left;\n",
       "    }\n",
       "\n",
       "    .dataframe tbody tr th {\n",
       "        vertical-align: top;\n",
       "    }\n",
       "</style>\n",
       "<table border=\"1\" class=\"dataframe\">\n",
       "  <thead>\n",
       "    <tr style=\"text-align: right;\">\n",
       "      <th></th>\n",
       "      <th>SalePrice</th>\n",
       "    </tr>\n",
       "  </thead>\n",
       "  <tbody>\n",
       "    <tr>\n",
       "      <th>0</th>\n",
       "      <td>144192.437562</td>\n",
       "    </tr>\n",
       "    <tr>\n",
       "      <th>1</th>\n",
       "      <td>163953.045274</td>\n",
       "    </tr>\n",
       "    <tr>\n",
       "      <th>2</th>\n",
       "      <td>208172.898121</td>\n",
       "    </tr>\n",
       "    <tr>\n",
       "      <th>3</th>\n",
       "      <td>114864.374091</td>\n",
       "    </tr>\n",
       "    <tr>\n",
       "      <th>4</th>\n",
       "      <td>199367.741695</td>\n",
       "    </tr>\n",
       "  </tbody>\n",
       "</table>\n",
       "</div>"
      ],
      "text/plain": [
       "       SalePrice\n",
       "0  144192.437562\n",
       "1  163953.045274\n",
       "2  208172.898121\n",
       "3  114864.374091\n",
       "4  199367.741695"
      ]
     },
     "execution_count": 60,
     "metadata": {},
     "output_type": "execute_result"
    }
   ],
   "source": [
    "PRED.head()"
   ]
  },
  {
   "cell_type": "code",
   "execution_count": 61,
   "metadata": {
    "collapsed": true
   },
   "outputs": [],
   "source": [
    "Prediction1 = pd.concat([ID, PRED], axis=1)"
   ]
  },
  {
   "cell_type": "code",
   "execution_count": 62,
   "metadata": {},
   "outputs": [
    {
     "data": {
      "text/plain": [
       "'/Users/jenelleverrochi/GA/PROJECTS/project-3'"
      ]
     },
     "execution_count": 62,
     "metadata": {},
     "output_type": "execute_result"
    }
   ],
   "source": [
    "pwd"
   ]
  },
  {
   "cell_type": "code",
   "execution_count": 63,
   "metadata": {
    "collapsed": true
   },
   "outputs": [],
   "source": [
    "Prediction1.to_csv('predictions.csv', index=False)"
   ]
  },
  {
   "cell_type": "code",
   "execution_count": null,
   "metadata": {
    "collapsed": true
   },
   "outputs": [],
   "source": []
  },
  {
   "cell_type": "code",
   "execution_count": 70,
   "metadata": {},
   "outputs": [
    {
     "data": {
      "text/plain": [
       "(1538, 38)"
      ]
     },
     "execution_count": 70,
     "metadata": {},
     "output_type": "execute_result"
    }
   ],
   "source": [
    "X_train.shape"
   ]
  },
  {
   "cell_type": "code",
   "execution_count": 71,
   "metadata": {
    "collapsed": true
   },
   "outputs": [],
   "source": [
    "lr = LinearRegression()\n",
    "rfe = RFE(lr, n_features_to_select=10, verbose=2)"
   ]
  },
  {
   "cell_type": "code",
   "execution_count": 73,
   "metadata": {},
   "outputs": [
    {
     "name": "stdout",
     "output_type": "stream",
     "text": [
      "Fitting estimator with 38 features.\n",
      "Fitting estimator with 37 features.\n",
      "Fitting estimator with 36 features.\n",
      "Fitting estimator with 35 features.\n",
      "Fitting estimator with 34 features.\n",
      "Fitting estimator with 33 features.\n",
      "Fitting estimator with 32 features.\n",
      "Fitting estimator with 31 features.\n",
      "Fitting estimator with 30 features.\n",
      "Fitting estimator with 29 features.\n",
      "Fitting estimator with 28 features.\n",
      "Fitting estimator with 27 features.\n",
      "Fitting estimator with 26 features.\n",
      "Fitting estimator with 25 features.\n",
      "Fitting estimator with 24 features.\n",
      "Fitting estimator with 23 features.\n",
      "Fitting estimator with 22 features.\n",
      "Fitting estimator with 21 features.\n",
      "Fitting estimator with 20 features.\n",
      "Fitting estimator with 19 features.\n",
      "Fitting estimator with 18 features.\n",
      "Fitting estimator with 17 features.\n",
      "Fitting estimator with 16 features.\n",
      "Fitting estimator with 15 features.\n",
      "Fitting estimator with 14 features.\n",
      "Fitting estimator with 13 features.\n",
      "Fitting estimator with 12 features.\n",
      "Fitting estimator with 11 features.\n"
     ]
    },
    {
     "data": {
      "text/plain": [
       "RFE(estimator=LinearRegression(copy_X=True, fit_intercept=True, n_jobs=1, normalize=False),\n",
       "  n_features_to_select=10, step=1, verbose=2)"
      ]
     },
     "execution_count": 73,
     "metadata": {},
     "output_type": "execute_result"
    }
   ],
   "source": [
    "rfe.fit(X_train, y_train)"
   ]
  },
  {
   "cell_type": "code",
   "execution_count": 74,
   "metadata": {},
   "outputs": [
    {
     "data": {
      "text/plain": [
       "array([False, False,  True,  True,  True, False, False, False, False,\n",
       "       False, False,  True, False, False,  True,  True, False,  True,\n",
       "       False, False, False, False,  True, False, False, False, False,\n",
       "       False, False, False, False, False, False, False, False,  True,\n",
       "       False,  True], dtype=bool)"
      ]
     },
     "execution_count": 74,
     "metadata": {},
     "output_type": "execute_result"
    }
   ],
   "source": [
    "rfe.support_"
   ]
  },
  {
   "cell_type": "code",
   "execution_count": 76,
   "metadata": {},
   "outputs": [],
   "source": [
    "rfe_list = []\n",
    "for i, col in enumerate(X):\n",
    "    if rfe.support_[i] == True:\n",
    "        rfe_list.append(col)"
   ]
  },
  {
   "cell_type": "code",
   "execution_count": 106,
   "metadata": {},
   "outputs": [],
   "source": [
    "X_train_rfe = X_train[rfe_list]\n",
    "X_test_rfe = X_test[rfe_list]"
   ]
  },
  {
   "cell_type": "code",
   "execution_count": 112,
   "metadata": {},
   "outputs": [
    {
     "data": {
      "text/plain": [
       "LinearRegression(copy_X=True, fit_intercept=True, n_jobs=1, normalize=False)"
      ]
     },
     "execution_count": 112,
     "metadata": {},
     "output_type": "execute_result"
    }
   ],
   "source": [
    "lr.fit(X_train_rfe, y_train)"
   ]
  },
  {
   "cell_type": "code",
   "execution_count": 113,
   "metadata": {},
   "outputs": [
    {
     "data": {
      "text/plain": [
       "(1538, 10)"
      ]
     },
     "execution_count": 113,
     "metadata": {},
     "output_type": "execute_result"
    }
   ],
   "source": [
    "X_train_rfe.shape"
   ]
  },
  {
   "cell_type": "code",
   "execution_count": 114,
   "metadata": {},
   "outputs": [
    {
     "data": {
      "text/plain": [
       "0.71503544320904511"
      ]
     },
     "execution_count": 114,
     "metadata": {},
     "output_type": "execute_result"
    }
   ],
   "source": [
    "lr.score(X_test_rfe, y_test)"
   ]
  },
  {
   "cell_type": "code",
   "execution_count": 115,
   "metadata": {},
   "outputs": [
    {
     "data": {
      "text/plain": [
       "LinearRegression(copy_X=True, fit_intercept=True, n_jobs=1, normalize=False)"
      ]
     },
     "execution_count": 115,
     "metadata": {},
     "output_type": "execute_result"
    }
   ],
   "source": [
    "lr.fit(X_train, y_train)"
   ]
  },
  {
   "cell_type": "code",
   "execution_count": 117,
   "metadata": {},
   "outputs": [
    {
     "data": {
      "text/plain": [
       "0.73931570622117371"
      ]
     },
     "execution_count": 117,
     "metadata": {},
     "output_type": "execute_result"
    }
   ],
   "source": [
    "lr.score(X_test, y_test)"
   ]
  },
  {
   "cell_type": "code",
   "execution_count": null,
   "metadata": {
    "collapsed": true
   },
   "outputs": [],
   "source": []
  },
  {
   "cell_type": "code",
   "execution_count": 93,
   "metadata": {},
   "outputs": [
    {
     "data": {
      "text/plain": [
       "(513, 38)"
      ]
     },
     "execution_count": 93,
     "metadata": {},
     "output_type": "execute_result"
    }
   ],
   "source": [
    "X_test.shape"
   ]
  },
  {
   "cell_type": "code",
   "execution_count": 94,
   "metadata": {},
   "outputs": [
    {
     "data": {
      "text/plain": [
       "(513,)"
      ]
     },
     "execution_count": 94,
     "metadata": {},
     "output_type": "execute_result"
    }
   ],
   "source": [
    "y_test.shape"
   ]
  },
  {
   "cell_type": "code",
   "execution_count": 198,
   "metadata": {
    "collapsed": true
   },
   "outputs": [],
   "source": [
    "selectkbest = SelectKBest(score_func=f_classif, k=20)"
   ]
  },
  {
   "cell_type": "code",
   "execution_count": 199,
   "metadata": {},
   "outputs": [
    {
     "data": {
      "text/plain": [
       "SelectKBest(k=20, score_func=<function f_classif at 0x1a17adf620>)"
      ]
     },
     "execution_count": 199,
     "metadata": {},
     "output_type": "execute_result"
    }
   ],
   "source": [
    "selectkbest.fit(X_train, y_train)"
   ]
  },
  {
   "cell_type": "code",
   "execution_count": 200,
   "metadata": {},
   "outputs": [
    {
     "data": {
      "text/plain": [
       "array([ True,  True,  True, False, False,  True, False, False,  True,\n",
       "        True,  True, False, False, False,  True,  True, False,  True,\n",
       "        True,  True, False,  True,  True,  True, False, False, False,\n",
       "        True,  True, False,  True, False,  True, False, False,  True,\n",
       "       False, False], dtype=bool)"
      ]
     },
     "execution_count": 200,
     "metadata": {},
     "output_type": "execute_result"
    }
   ],
   "source": [
    "selectkbest.get_support()"
   ]
  },
  {
   "cell_type": "code",
   "execution_count": 201,
   "metadata": {},
   "outputs": [
    {
     "data": {
      "text/html": [
       "<div>\n",
       "<style>\n",
       "    .dataframe thead tr:only-child th {\n",
       "        text-align: right;\n",
       "    }\n",
       "\n",
       "    .dataframe thead th {\n",
       "        text-align: left;\n",
       "    }\n",
       "\n",
       "    .dataframe tbody tr th {\n",
       "        vertical-align: top;\n",
       "    }\n",
       "</style>\n",
       "<table border=\"1\" class=\"dataframe\">\n",
       "  <thead>\n",
       "    <tr style=\"text-align: right;\">\n",
       "      <th></th>\n",
       "      <th>Lot Frontage</th>\n",
       "      <th>Mas Vnr Area</th>\n",
       "      <th>BsmtFin SF 1</th>\n",
       "      <th>Total Bsmt SF</th>\n",
       "      <th>Garage Yr Blt</th>\n",
       "      <th>Garage Cars</th>\n",
       "      <th>Garage Area</th>\n",
       "      <th>Lot Area</th>\n",
       "      <th>Overall Qual</th>\n",
       "      <th>Year Built</th>\n",
       "      <th>Year Remod/Add</th>\n",
       "      <th>1st Flr SF</th>\n",
       "      <th>Low Qual Fin SF</th>\n",
       "      <th>Gr Liv Area</th>\n",
       "      <th>Full Bath</th>\n",
       "      <th>TotRms AbvGrd</th>\n",
       "      <th>Fireplaces</th>\n",
       "      <th>Open Porch SF</th>\n",
       "      <th>3Ssn Porch</th>\n",
       "      <th>Misc Val</th>\n",
       "    </tr>\n",
       "  </thead>\n",
       "  <tbody>\n",
       "    <tr>\n",
       "      <th>0</th>\n",
       "      <td>-0.393675</td>\n",
       "      <td>-0.562365</td>\n",
       "      <td>-0.457065</td>\n",
       "      <td>-0.178264</td>\n",
       "      <td>-2.016406</td>\n",
       "      <td>0.291344</td>\n",
       "      <td>-0.370511</td>\n",
       "      <td>-0.074032</td>\n",
       "      <td>-0.788810</td>\n",
       "      <td>-1.701139</td>\n",
       "      <td>-1.152773</td>\n",
       "      <td>0.561891</td>\n",
       "      <td>-0.102719</td>\n",
       "      <td>1.730686</td>\n",
       "      <td>0.758914</td>\n",
       "      <td>2.300289</td>\n",
       "      <td>-0.927104</td>\n",
       "      <td>-0.718265</td>\n",
       "      <td>-0.111233</td>\n",
       "      <td>-0.083706</td>\n",
       "    </tr>\n",
       "    <tr>\n",
       "      <th>1</th>\n",
       "      <td>-0.247614</td>\n",
       "      <td>0.066217</td>\n",
       "      <td>-0.987830</td>\n",
       "      <td>0.859978</td>\n",
       "      <td>1.038019</td>\n",
       "      <td>0.291344</td>\n",
       "      <td>0.713660</td>\n",
       "      <td>-0.229707</td>\n",
       "      <td>0.630956</td>\n",
       "      <td>1.071049</td>\n",
       "      <td>0.937988</td>\n",
       "      <td>0.677691</td>\n",
       "      <td>-0.102719</td>\n",
       "      <td>-0.155147</td>\n",
       "      <td>0.758914</td>\n",
       "      <td>0.360681</td>\n",
       "      <td>-0.927104</td>\n",
       "      <td>0.190734</td>\n",
       "      <td>-0.111233</td>\n",
       "      <td>-0.083706</td>\n",
       "    </tr>\n",
       "    <tr>\n",
       "      <th>2</th>\n",
       "      <td>-2.292472</td>\n",
       "      <td>-0.087963</td>\n",
       "      <td>-0.987830</td>\n",
       "      <td>-1.165634</td>\n",
       "      <td>-0.365365</td>\n",
       "      <td>-1.018852</td>\n",
       "      <td>-0.868392</td>\n",
       "      <td>-1.149463</td>\n",
       "      <td>-1.498693</td>\n",
       "      <td>-0.051027</td>\n",
       "      <td>-0.677600</td>\n",
       "      <td>-1.576547</td>\n",
       "      <td>-0.102719</td>\n",
       "      <td>-0.825756</td>\n",
       "      <td>-1.062006</td>\n",
       "      <td>-0.285855</td>\n",
       "      <td>-0.927104</td>\n",
       "      <td>-0.718265</td>\n",
       "      <td>-0.111233</td>\n",
       "      <td>-0.083706</td>\n",
       "    </tr>\n",
       "    <tr>\n",
       "      <th>3</th>\n",
       "      <td>0.580066</td>\n",
       "      <td>-0.562365</td>\n",
       "      <td>1.230495</td>\n",
       "      <td>0.490003</td>\n",
       "      <td>-0.117709</td>\n",
       "      <td>0.291344</td>\n",
       "      <td>-0.058754</td>\n",
       "      <td>-0.074032</td>\n",
       "      <td>-0.078927</td>\n",
       "      <td>0.146987</td>\n",
       "      <td>-0.392497</td>\n",
       "      <td>0.265958</td>\n",
       "      <td>-0.102719</td>\n",
       "      <td>-0.480291</td>\n",
       "      <td>0.758914</td>\n",
       "      <td>-0.285855</td>\n",
       "      <td>0.651950</td>\n",
       "      <td>-0.718265</td>\n",
       "      <td>-0.111233</td>\n",
       "      <td>-0.083706</td>\n",
       "    </tr>\n",
       "    <tr>\n",
       "      <th>4</th>\n",
       "      <td>-0.052866</td>\n",
       "      <td>1.186992</td>\n",
       "      <td>-0.987830</td>\n",
       "      <td>1.084275</td>\n",
       "      <td>0.872915</td>\n",
       "      <td>1.601539</td>\n",
       "      <td>0.997499</td>\n",
       "      <td>0.124100</td>\n",
       "      <td>2.050722</td>\n",
       "      <td>0.939040</td>\n",
       "      <td>0.747918</td>\n",
       "      <td>0.963331</td>\n",
       "      <td>-0.102719</td>\n",
       "      <td>1.368963</td>\n",
       "      <td>0.758914</td>\n",
       "      <td>1.007217</td>\n",
       "      <td>0.651950</td>\n",
       "      <td>1.599683</td>\n",
       "      <td>-0.111233</td>\n",
       "      <td>-0.083706</td>\n",
       "    </tr>\n",
       "  </tbody>\n",
       "</table>\n",
       "</div>"
      ],
      "text/plain": [
       "   Lot Frontage  Mas Vnr Area  BsmtFin SF 1  Total Bsmt SF  Garage Yr Blt  \\\n",
       "0     -0.393675     -0.562365     -0.457065      -0.178264      -2.016406   \n",
       "1     -0.247614      0.066217     -0.987830       0.859978       1.038019   \n",
       "2     -2.292472     -0.087963     -0.987830      -1.165634      -0.365365   \n",
       "3      0.580066     -0.562365      1.230495       0.490003      -0.117709   \n",
       "4     -0.052866      1.186992     -0.987830       1.084275       0.872915   \n",
       "\n",
       "   Garage Cars  Garage Area  Lot Area  Overall Qual  Year Built  \\\n",
       "0     0.291344    -0.370511 -0.074032     -0.788810   -1.701139   \n",
       "1     0.291344     0.713660 -0.229707      0.630956    1.071049   \n",
       "2    -1.018852    -0.868392 -1.149463     -1.498693   -0.051027   \n",
       "3     0.291344    -0.058754 -0.074032     -0.078927    0.146987   \n",
       "4     1.601539     0.997499  0.124100      2.050722    0.939040   \n",
       "\n",
       "   Year Remod/Add  1st Flr SF  Low Qual Fin SF  Gr Liv Area  Full Bath  \\\n",
       "0       -1.152773    0.561891        -0.102719     1.730686   0.758914   \n",
       "1        0.937988    0.677691        -0.102719    -0.155147   0.758914   \n",
       "2       -0.677600   -1.576547        -0.102719    -0.825756  -1.062006   \n",
       "3       -0.392497    0.265958        -0.102719    -0.480291   0.758914   \n",
       "4        0.747918    0.963331        -0.102719     1.368963   0.758914   \n",
       "\n",
       "   TotRms AbvGrd  Fireplaces  Open Porch SF  3Ssn Porch  Misc Val  \n",
       "0       2.300289   -0.927104      -0.718265   -0.111233 -0.083706  \n",
       "1       0.360681   -0.927104       0.190734   -0.111233 -0.083706  \n",
       "2      -0.285855   -0.927104      -0.718265   -0.111233 -0.083706  \n",
       "3      -0.285855    0.651950      -0.718265   -0.111233 -0.083706  \n",
       "4       1.007217    0.651950       1.599683   -0.111233 -0.083706  "
      ]
     },
     "execution_count": 201,
     "metadata": {},
     "output_type": "execute_result"
    }
   ],
   "source": [
    "X_train.iloc[:,selectkbest.get_support()].head()"
   ]
  },
  {
   "cell_type": "code",
   "execution_count": 216,
   "metadata": {},
   "outputs": [
    {
     "name": "stdout",
     "output_type": "stream",
     "text": [
      "(1538, 38) (1538, 20)\n"
     ]
    }
   ],
   "source": [
    "selected_xs = selectkbest.transform(X_train)\n",
    "print(X_train.shape, selected_xs.shape)"
   ]
  },
  {
   "cell_type": "code",
   "execution_count": 217,
   "metadata": {},
   "outputs": [
    {
     "name": "stdout",
     "output_type": "stream",
     "text": [
      "All features\n",
      "[  8.41133628e-01  -4.26849109e+20   7.69890063e-01] \n",
      " Mean:  -1.42283036428e+20 \n",
      "\n",
      "Feature Selection via SelectKBest\n",
      "[ 0.83764512  0.83701004  0.77989393] \n",
      " Mean:  0.818183027976\n"
     ]
    }
   ],
   "source": [
    "print('All features')\n",
    "scores = cross_val_score(lr, X_train, y_train)\n",
    "print(scores, '\\n', 'Mean: ', scores.mean(),'\\n')\n",
    "\n",
    "print('Feature Selection via SelectKBest')\n",
    "scores = cross_val_score(lr, selected_xs, y_train)\n",
    "print(scores, '\\n', 'Mean: ', scores.mean())"
   ]
  },
  {
   "cell_type": "code",
   "execution_count": 218,
   "metadata": {},
   "outputs": [
    {
     "name": "stdout",
     "output_type": "stream",
     "text": [
      "(513, 38) (1538, 20)\n"
     ]
    }
   ],
   "source": [
    "selected_xs_test = selectkbest.transform(X_test)\n",
    "print(X_test.shape, selected_xs.shape)"
   ]
  },
  {
   "cell_type": "code",
   "execution_count": 220,
   "metadata": {},
   "outputs": [
    {
     "name": "stdout",
     "output_type": "stream",
     "text": [
      "All features\n",
      "[ 0.29810624  0.37798614  0.72665   ] \n",
      " Mean:  0.467580792064 \n",
      "\n",
      "Feature Selection via SelectKBest\n",
      "[ 0.24352506  0.77585803  0.80726462] \n",
      " Mean:  0.608882570366\n"
     ]
    }
   ],
   "source": [
    "print('All features')\n",
    "scores = cross_val_score(lr, X_test, y_test)\n",
    "print(scores, '\\n', 'Mean: ', scores.mean(),'\\n')\n",
    "\n",
    "print('Feature Selection via SelectKBest')\n",
    "scores = cross_val_score(lr, selected_xs_test, y_test)\n",
    "print(scores, '\\n', 'Mean: ', scores.mean())"
   ]
  },
  {
   "cell_type": "code",
   "execution_count": 224,
   "metadata": {},
   "outputs": [
    {
     "data": {
      "text/plain": [
       "(1538, 20)"
      ]
     },
     "execution_count": 224,
     "metadata": {},
     "output_type": "execute_result"
    }
   ],
   "source": [
    "selected_xs.shape"
   ]
  },
  {
   "cell_type": "code",
   "execution_count": null,
   "metadata": {
    "collapsed": true
   },
   "outputs": [],
   "source": []
  },
  {
   "cell_type": "code",
   "execution_count": 225,
   "metadata": {},
   "outputs": [
    {
     "data": {
      "text/plain": [
       "LinearRegression(copy_X=True, fit_intercept=True, n_jobs=1, normalize=False)"
      ]
     },
     "execution_count": 225,
     "metadata": {},
     "output_type": "execute_result"
    }
   ],
   "source": [
    "lr.fit(selected_xs, y_train)"
   ]
  },
  {
   "cell_type": "code",
   "execution_count": 227,
   "metadata": {},
   "outputs": [
    {
     "data": {
      "text/plain": [
       "0.7273766257908566"
      ]
     },
     "execution_count": 227,
     "metadata": {},
     "output_type": "execute_result"
    }
   ],
   "source": [
    "lr.score(selected_xs_test, y_test)"
   ]
  },
  {
   "cell_type": "code",
   "execution_count": 231,
   "metadata": {},
   "outputs": [
    {
     "data": {
      "text/plain": [
       "(879, 38)"
      ]
     },
     "execution_count": 231,
     "metadata": {},
     "output_type": "execute_result"
    }
   ],
   "source": [
    "ames_test_ss.shape"
   ]
  },
  {
   "cell_type": "code",
   "execution_count": 232,
   "metadata": {},
   "outputs": [
    {
     "name": "stdout",
     "output_type": "stream",
     "text": [
      "(879, 38) (879, 20)\n"
     ]
    }
   ],
   "source": [
    "selected_amestest = selectkbest.transform(ames_test_ss)\n",
    "print(ames_test_ss.shape, selected_amestest.shape)"
   ]
  },
  {
   "cell_type": "code",
   "execution_count": 238,
   "metadata": {},
   "outputs": [],
   "source": [
    "PRED2 = pd.DataFrame(lr.predict(selected_amestest), columns=['SalePrice'])"
   ]
  },
  {
   "cell_type": "code",
   "execution_count": 241,
   "metadata": {},
   "outputs": [],
   "source": [
    "Prediction2 = pd.concat((ID, PRED2), axis=1)"
   ]
  },
  {
   "cell_type": "code",
   "execution_count": 243,
   "metadata": {},
   "outputs": [],
   "source": [
    "Prediction2.to_csv('prediction_lr2', index=False)"
   ]
  },
  {
   "cell_type": "code",
   "execution_count": 333,
   "metadata": {
    "collapsed": true
   },
   "outputs": [],
   "source": [
    "en = ElasticNet(alpha=.1,l1_ratio=.9)\n",
    "params_grid = {\n",
    "    'fit_intercept': [True, False],\n",
    "    'alpha': np.linspace(0.01, 100, 10),\n",
    "    'l1_ratio': np.linspace(0.01, 0.99, 10)\n",
    "}"
   ]
  },
  {
   "cell_type": "code",
   "execution_count": 334,
   "metadata": {},
   "outputs": [
    {
     "data": {
      "text/plain": [
       "ElasticNet(alpha=0.1, copy_X=True, fit_intercept=True, l1_ratio=0.9,\n",
       "      max_iter=1000, normalize=False, positive=False, precompute=False,\n",
       "      random_state=None, selection='cyclic', tol=0.0001, warm_start=False)"
      ]
     },
     "execution_count": 334,
     "metadata": {},
     "output_type": "execute_result"
    }
   ],
   "source": [
    "en.fit(X_train, y_train)"
   ]
  },
  {
   "cell_type": "code",
   "execution_count": 336,
   "metadata": {},
   "outputs": [
    {
     "data": {
      "text/plain": [
       "0.7430046371281076"
      ]
     },
     "execution_count": 336,
     "metadata": {},
     "output_type": "execute_result"
    }
   ],
   "source": [
    "en.score(X_test, y_test)"
   ]
  },
  {
   "cell_type": "code",
   "execution_count": 340,
   "metadata": {},
   "outputs": [],
   "source": [
    "PRED4 = pd.DataFrame(en.predict(ames_test_ss), columns=['SalePrice'])"
   ]
  },
  {
   "cell_type": "code",
   "execution_count": 341,
   "metadata": {
    "collapsed": true
   },
   "outputs": [],
   "source": [
    "Prediction4 = pd.concat((ID, PRED4), axis=1)"
   ]
  },
  {
   "cell_type": "code",
   "execution_count": 343,
   "metadata": {},
   "outputs": [],
   "source": [
    "Prediction4.to_csv('prediction_lr4.csv', index=False)"
   ]
  },
  {
   "cell_type": "code",
   "execution_count": 248,
   "metadata": {
    "collapsed": true
   },
   "outputs": [],
   "source": [
    "grid_search = GridSearchCV(en, params_grid, verbose=2, n_jobs=-1)"
   ]
  },
  {
   "cell_type": "code",
   "execution_count": 249,
   "metadata": {},
   "outputs": [
    {
     "name": "stdout",
     "output_type": "stream",
     "text": [
      "Fitting 3 folds for each of 200 candidates, totalling 600 fits\n",
      "[CV] alpha=0.01, fit_intercept=True, l1_ratio=0.01 ...................\n",
      "[CV] alpha=0.01, fit_intercept=True, l1_ratio=0.01 ...................\n",
      "[CV] alpha=0.01, fit_intercept=True, l1_ratio=0.01 ...................\n",
      "[CV] alpha=0.01, fit_intercept=True, l1_ratio=0.118888888889 .........\n",
      "[CV] .... alpha=0.01, fit_intercept=True, l1_ratio=0.01, total=   0.1s\n",
      "[CV] .... alpha=0.01, fit_intercept=True, l1_ratio=0.01, total=   0.1s\n",
      "[CV] alpha=0.01, fit_intercept=True, l1_ratio=0.118888888889 .........\n",
      "[CV] .... alpha=0.01, fit_intercept=True, l1_ratio=0.01, total=   0.1s\n",
      "[CV] alpha=0.01, fit_intercept=True, l1_ratio=0.118888888889 .........\n",
      "[CV] alpha=0.01, fit_intercept=True, l1_ratio=0.227777777778 .........\n",
      "[CV]  alpha=0.01, fit_intercept=True, l1_ratio=0.118888888889, total=   0.1s\n",
      "[CV] alpha=0.01, fit_intercept=True, l1_ratio=0.227777777778 .........\n",
      "[CV]  alpha=0.01, fit_intercept=True, l1_ratio=0.118888888889, total=   0.1s\n",
      "[CV] alpha=0.01, fit_intercept=True, l1_ratio=0.227777777778 .........\n",
      "[CV]  alpha=0.01, fit_intercept=True, l1_ratio=0.227777777778, total=   0.1s\n",
      "[CV]  alpha=0.01, fit_intercept=True, l1_ratio=0.118888888889, total=   0.1s\n",
      "[CV] alpha=0.01, fit_intercept=True, l1_ratio=0.336666666667 .........\n",
      "[CV] alpha=0.01, fit_intercept=True, l1_ratio=0.445555555556 .........\n",
      "[CV]  alpha=0.01, fit_intercept=True, l1_ratio=0.227777777778, total=   0.1s\n",
      "[CV] alpha=0.01, fit_intercept=True, l1_ratio=0.445555555556 .........\n",
      "[CV]  alpha=0.01, fit_intercept=True, l1_ratio=0.227777777778, total=   0.1s\n",
      "[CV] alpha=0.01, fit_intercept=True, l1_ratio=0.336666666667 .........\n",
      "[CV]  alpha=0.01, fit_intercept=True, l1_ratio=0.336666666667, total=   0.1s\n",
      "[CV] alpha=0.01, fit_intercept=True, l1_ratio=0.336666666667 .........\n"
     ]
    },
    {
     "name": "stderr",
     "output_type": "stream",
     "text": [
      "/Users/jenelleverrochi/anaconda3/lib/python3.6/site-packages/sklearn/linear_model/coordinate_descent.py:491: ConvergenceWarning: Objective did not converge. You might want to increase the number of iterations. Fitting data with very small alpha may cause precision problems.\n",
      "  ConvergenceWarning)\n"
     ]
    },
    {
     "name": "stdout",
     "output_type": "stream",
     "text": [
      "[CV]  alpha=0.01, fit_intercept=True, l1_ratio=0.445555555556, total=   0.1s\n",
      "[CV] alpha=0.01, fit_intercept=True, l1_ratio=0.445555555556 .........\n"
     ]
    },
    {
     "name": "stderr",
     "output_type": "stream",
     "text": [
      "/Users/jenelleverrochi/anaconda3/lib/python3.6/site-packages/sklearn/linear_model/coordinate_descent.py:491: ConvergenceWarning: Objective did not converge. You might want to increase the number of iterations. Fitting data with very small alpha may cause precision problems.\n",
      "  ConvergenceWarning)\n"
     ]
    },
    {
     "name": "stdout",
     "output_type": "stream",
     "text": [
      "[CV]  alpha=0.01, fit_intercept=True, l1_ratio=0.336666666667, total=   0.1s\n",
      "[CV] alpha=0.01, fit_intercept=True, l1_ratio=0.554444444444 .........\n",
      "[CV]  alpha=0.01, fit_intercept=True, l1_ratio=0.336666666667, total=   0.1s\n",
      "[CV]  alpha=0.01, fit_intercept=True, l1_ratio=0.445555555556, total=   0.1s\n",
      "[CV] alpha=0.01, fit_intercept=True, l1_ratio=0.663333333333 .........\n",
      "[CV] alpha=0.01, fit_intercept=True, l1_ratio=0.554444444444 .........\n"
     ]
    },
    {
     "name": "stderr",
     "output_type": "stream",
     "text": [
      "/Users/jenelleverrochi/anaconda3/lib/python3.6/site-packages/sklearn/linear_model/coordinate_descent.py:491: ConvergenceWarning: Objective did not converge. You might want to increase the number of iterations. Fitting data with very small alpha may cause precision problems.\n",
      "  ConvergenceWarning)\n"
     ]
    },
    {
     "name": "stdout",
     "output_type": "stream",
     "text": [
      "[CV]  alpha=0.01, fit_intercept=True, l1_ratio=0.554444444444, total=   0.1s\n"
     ]
    },
    {
     "name": "stderr",
     "output_type": "stream",
     "text": [
      "/Users/jenelleverrochi/anaconda3/lib/python3.6/site-packages/sklearn/linear_model/coordinate_descent.py:491: ConvergenceWarning: Objective did not converge. You might want to increase the number of iterations. Fitting data with very small alpha may cause precision problems.\n",
      "  ConvergenceWarning)\n"
     ]
    },
    {
     "name": "stdout",
     "output_type": "stream",
     "text": [
      "[CV] alpha=0.01, fit_intercept=True, l1_ratio=0.554444444444 .........\n",
      "[CV]  alpha=0.01, fit_intercept=True, l1_ratio=0.445555555556, total=   0.1s\n",
      "[CV] alpha=0.01, fit_intercept=True, l1_ratio=0.663333333333 .........\n"
     ]
    },
    {
     "name": "stderr",
     "output_type": "stream",
     "text": [
      "/Users/jenelleverrochi/anaconda3/lib/python3.6/site-packages/sklearn/linear_model/coordinate_descent.py:491: ConvergenceWarning: Objective did not converge. You might want to increase the number of iterations. Fitting data with very small alpha may cause precision problems.\n",
      "  ConvergenceWarning)\n",
      "/Users/jenelleverrochi/anaconda3/lib/python3.6/site-packages/sklearn/linear_model/coordinate_descent.py:491: ConvergenceWarning: Objective did not converge. You might want to increase the number of iterations. Fitting data with very small alpha may cause precision problems.\n",
      "  ConvergenceWarning)\n"
     ]
    },
    {
     "name": "stdout",
     "output_type": "stream",
     "text": [
      "[CV]  alpha=0.01, fit_intercept=True, l1_ratio=0.663333333333, total=   0.1s\n",
      "[CV]  alpha=0.01, fit_intercept=True, l1_ratio=0.554444444444, total=   0.1s\n",
      "[CV] alpha=0.01, fit_intercept=True, l1_ratio=0.772222222222 .........\n",
      "[CV] alpha=0.01, fit_intercept=True, l1_ratio=0.663333333333 .........\n"
     ]
    },
    {
     "name": "stderr",
     "output_type": "stream",
     "text": [
      "/Users/jenelleverrochi/anaconda3/lib/python3.6/site-packages/sklearn/linear_model/coordinate_descent.py:491: ConvergenceWarning: Objective did not converge. You might want to increase the number of iterations. Fitting data with very small alpha may cause precision problems.\n",
      "  ConvergenceWarning)\n"
     ]
    },
    {
     "name": "stdout",
     "output_type": "stream",
     "text": [
      "[CV]  alpha=0.01, fit_intercept=True, l1_ratio=0.663333333333, total=   0.1s\n"
     ]
    },
    {
     "name": "stderr",
     "output_type": "stream",
     "text": [
      "/Users/jenelleverrochi/anaconda3/lib/python3.6/site-packages/sklearn/linear_model/coordinate_descent.py:491: ConvergenceWarning: Objective did not converge. You might want to increase the number of iterations. Fitting data with very small alpha may cause precision problems.\n",
      "  ConvergenceWarning)\n"
     ]
    },
    {
     "name": "stdout",
     "output_type": "stream",
     "text": [
      "[CV] alpha=0.01, fit_intercept=True, l1_ratio=0.772222222222 .........\n",
      "[CV]  alpha=0.01, fit_intercept=True, l1_ratio=0.554444444444, total=   0.1s\n"
     ]
    },
    {
     "name": "stderr",
     "output_type": "stream",
     "text": [
      "/Users/jenelleverrochi/anaconda3/lib/python3.6/site-packages/sklearn/linear_model/coordinate_descent.py:491: ConvergenceWarning: Objective did not converge. You might want to increase the number of iterations. Fitting data with very small alpha may cause precision problems.\n",
      "  ConvergenceWarning)\n"
     ]
    },
    {
     "name": "stdout",
     "output_type": "stream",
     "text": [
      "[CV] alpha=0.01, fit_intercept=True, l1_ratio=0.881111111111 .........\n",
      "[CV]  alpha=0.01, fit_intercept=True, l1_ratio=0.772222222222, total=   0.1s\n",
      "[CV] alpha=0.01, fit_intercept=True, l1_ratio=0.772222222222 .........\n"
     ]
    },
    {
     "name": "stderr",
     "output_type": "stream",
     "text": [
      "/Users/jenelleverrochi/anaconda3/lib/python3.6/site-packages/sklearn/linear_model/coordinate_descent.py:491: ConvergenceWarning: Objective did not converge. You might want to increase the number of iterations. Fitting data with very small alpha may cause precision problems.\n",
      "  ConvergenceWarning)\n"
     ]
    },
    {
     "name": "stdout",
     "output_type": "stream",
     "text": [
      "[CV]  alpha=0.01, fit_intercept=True, l1_ratio=0.663333333333, total=   0.1s\n",
      "[CV] alpha=0.01, fit_intercept=True, l1_ratio=0.881111111111 .........\n"
     ]
    },
    {
     "name": "stderr",
     "output_type": "stream",
     "text": [
      "/Users/jenelleverrochi/anaconda3/lib/python3.6/site-packages/sklearn/linear_model/coordinate_descent.py:491: ConvergenceWarning: Objective did not converge. You might want to increase the number of iterations. Fitting data with very small alpha may cause precision problems.\n",
      "  ConvergenceWarning)\n",
      "/Users/jenelleverrochi/anaconda3/lib/python3.6/site-packages/sklearn/linear_model/coordinate_descent.py:491: ConvergenceWarning: Objective did not converge. You might want to increase the number of iterations. Fitting data with very small alpha may cause precision problems.\n",
      "  ConvergenceWarning)\n"
     ]
    },
    {
     "name": "stdout",
     "output_type": "stream",
     "text": [
      "[CV]  alpha=0.01, fit_intercept=True, l1_ratio=0.772222222222, total=   0.1s\n",
      "[CV]  alpha=0.01, fit_intercept=True, l1_ratio=0.881111111111, total=   0.1s\n"
     ]
    },
    {
     "name": "stderr",
     "output_type": "stream",
     "text": [
      "/Users/jenelleverrochi/anaconda3/lib/python3.6/site-packages/sklearn/linear_model/coordinate_descent.py:491: ConvergenceWarning: Objective did not converge. You might want to increase the number of iterations. Fitting data with very small alpha may cause precision problems.\n",
      "  ConvergenceWarning)\n"
     ]
    },
    {
     "name": "stdout",
     "output_type": "stream",
     "text": [
      "[CV] alpha=0.01, fit_intercept=True, l1_ratio=0.881111111111 .........\n",
      "[CV]  alpha=0.01, fit_intercept=True, l1_ratio=0.772222222222, total=   0.1s\n",
      "[CV] alpha=0.01, fit_intercept=True, l1_ratio=0.99 ...................\n",
      "[CV] alpha=0.01, fit_intercept=False, l1_ratio=0.01 ..................\n"
     ]
    },
    {
     "name": "stderr",
     "output_type": "stream",
     "text": [
      "/Users/jenelleverrochi/anaconda3/lib/python3.6/site-packages/sklearn/linear_model/coordinate_descent.py:491: ConvergenceWarning: Objective did not converge. You might want to increase the number of iterations. Fitting data with very small alpha may cause precision problems.\n",
      "  ConvergenceWarning)\n"
     ]
    },
    {
     "name": "stdout",
     "output_type": "stream",
     "text": [
      "[CV]  alpha=0.01, fit_intercept=True, l1_ratio=0.881111111111, total=   0.1s\n",
      "[CV] alpha=0.01, fit_intercept=True, l1_ratio=0.99 ...................\n"
     ]
    },
    {
     "name": "stderr",
     "output_type": "stream",
     "text": [
      "/Users/jenelleverrochi/anaconda3/lib/python3.6/site-packages/sklearn/linear_model/coordinate_descent.py:491: ConvergenceWarning: Objective did not converge. You might want to increase the number of iterations. Fitting data with very small alpha may cause precision problems.\n",
      "  ConvergenceWarning)\n"
     ]
    },
    {
     "name": "stdout",
     "output_type": "stream",
     "text": [
      "[CV] ... alpha=0.01, fit_intercept=False, l1_ratio=0.01, total=   0.1s\n",
      "[CV] alpha=0.01, fit_intercept=False, l1_ratio=0.01 ..................\n",
      "[CV]  alpha=0.01, fit_intercept=True, l1_ratio=0.881111111111, total=   0.1s\n"
     ]
    },
    {
     "name": "stderr",
     "output_type": "stream",
     "text": [
      "/Users/jenelleverrochi/anaconda3/lib/python3.6/site-packages/sklearn/linear_model/coordinate_descent.py:491: ConvergenceWarning: Objective did not converge. You might want to increase the number of iterations. Fitting data with very small alpha may cause precision problems.\n",
      "  ConvergenceWarning)\n"
     ]
    },
    {
     "name": "stdout",
     "output_type": "stream",
     "text": [
      "[CV] alpha=0.01, fit_intercept=False, l1_ratio=0.01 ..................\n"
     ]
    },
    {
     "name": "stderr",
     "output_type": "stream",
     "text": [
      "/Users/jenelleverrochi/anaconda3/lib/python3.6/site-packages/sklearn/linear_model/coordinate_descent.py:491: ConvergenceWarning: Objective did not converge. You might want to increase the number of iterations. Fitting data with very small alpha may cause precision problems.\n",
      "  ConvergenceWarning)\n"
     ]
    },
    {
     "name": "stdout",
     "output_type": "stream",
     "text": [
      "[CV] .... alpha=0.01, fit_intercept=True, l1_ratio=0.99, total=   0.1s\n",
      "[CV] .... alpha=0.01, fit_intercept=True, l1_ratio=0.99, total=   0.1s\n",
      "[CV] alpha=0.01, fit_intercept=True, l1_ratio=0.99 ...................\n",
      "[CV] alpha=0.01, fit_intercept=False, l1_ratio=0.118888888889 ........\n",
      "[CV] ... alpha=0.01, fit_intercept=False, l1_ratio=0.01, total=   0.1s\n"
     ]
    },
    {
     "name": "stderr",
     "output_type": "stream",
     "text": [
      "/Users/jenelleverrochi/anaconda3/lib/python3.6/site-packages/sklearn/linear_model/coordinate_descent.py:491: ConvergenceWarning: Objective did not converge. You might want to increase the number of iterations. Fitting data with very small alpha may cause precision problems.\n",
      "  ConvergenceWarning)\n"
     ]
    },
    {
     "name": "stdout",
     "output_type": "stream",
     "text": [
      "[CV] ... alpha=0.01, fit_intercept=False, l1_ratio=0.01, total=   0.1s\n",
      "[CV] alpha=0.01, fit_intercept=False, l1_ratio=0.118888888889 ........\n",
      "[CV] .... alpha=0.01, fit_intercept=True, l1_ratio=0.99, total=   0.1s\n",
      "[CV]  alpha=0.01, fit_intercept=False, l1_ratio=0.118888888889, total=   0.1s\n",
      "[CV] alpha=0.01, fit_intercept=False, l1_ratio=0.118888888889 ........\n",
      "[CV] alpha=0.01, fit_intercept=False, l1_ratio=0.227777777778 ........\n",
      "[CV] alpha=0.01, fit_intercept=False, l1_ratio=0.227777777778 ........\n",
      "[CV]  alpha=0.01, fit_intercept=False, l1_ratio=0.118888888889, total=   0.1s\n",
      "[CV]  alpha=0.01, fit_intercept=False, l1_ratio=0.227777777778, total=   0.1s\n",
      "[CV] alpha=0.01, fit_intercept=False, l1_ratio=0.227777777778 ........\n",
      "[CV]  alpha=0.01, fit_intercept=False, l1_ratio=0.227777777778, total=   0.1s\n",
      "[CV]  alpha=0.01, fit_intercept=False, l1_ratio=0.118888888889, total=   0.1s\n",
      "[CV] alpha=0.01, fit_intercept=False, l1_ratio=0.336666666667 ........\n",
      "[CV] alpha=0.01, fit_intercept=False, l1_ratio=0.336666666667 ........\n",
      "[CV] alpha=0.01, fit_intercept=False, l1_ratio=0.445555555556 ........\n",
      "[CV]  alpha=0.01, fit_intercept=False, l1_ratio=0.227777777778, total=   0.1s\n"
     ]
    },
    {
     "name": "stderr",
     "output_type": "stream",
     "text": [
      "/Users/jenelleverrochi/anaconda3/lib/python3.6/site-packages/sklearn/linear_model/coordinate_descent.py:491: ConvergenceWarning: Objective did not converge. You might want to increase the number of iterations. Fitting data with very small alpha may cause precision problems.\n",
      "  ConvergenceWarning)\n",
      "/Users/jenelleverrochi/anaconda3/lib/python3.6/site-packages/sklearn/linear_model/coordinate_descent.py:491: ConvergenceWarning: Objective did not converge. You might want to increase the number of iterations. Fitting data with very small alpha may cause precision problems.\n",
      "  ConvergenceWarning)\n"
     ]
    },
    {
     "name": "stdout",
     "output_type": "stream",
     "text": [
      "[CV] alpha=0.01, fit_intercept=False, l1_ratio=0.445555555556 ........\n",
      "[CV]  alpha=0.01, fit_intercept=False, l1_ratio=0.336666666667, total=   0.1s\n",
      "[CV] alpha=0.01, fit_intercept=False, l1_ratio=0.336666666667 ........\n",
      "[CV]  alpha=0.01, fit_intercept=False, l1_ratio=0.336666666667, total=   0.1s\n"
     ]
    },
    {
     "name": "stderr",
     "output_type": "stream",
     "text": [
      "/Users/jenelleverrochi/anaconda3/lib/python3.6/site-packages/sklearn/linear_model/coordinate_descent.py:491: ConvergenceWarning: Objective did not converge. You might want to increase the number of iterations. Fitting data with very small alpha may cause precision problems.\n",
      "  ConvergenceWarning)\n"
     ]
    },
    {
     "name": "stdout",
     "output_type": "stream",
     "text": [
      "[CV]  alpha=0.01, fit_intercept=False, l1_ratio=0.445555555556, total=   0.1s\n",
      "[CV] alpha=0.01, fit_intercept=False, l1_ratio=0.445555555556 ........\n",
      "[CV] alpha=0.01, fit_intercept=False, l1_ratio=0.554444444444 ........\n"
     ]
    },
    {
     "name": "stderr",
     "output_type": "stream",
     "text": [
      "/Users/jenelleverrochi/anaconda3/lib/python3.6/site-packages/sklearn/linear_model/coordinate_descent.py:491: ConvergenceWarning: Objective did not converge. You might want to increase the number of iterations. Fitting data with very small alpha may cause precision problems.\n",
      "  ConvergenceWarning)\n",
      "/Users/jenelleverrochi/anaconda3/lib/python3.6/site-packages/sklearn/linear_model/coordinate_descent.py:491: ConvergenceWarning: Objective did not converge. You might want to increase the number of iterations. Fitting data with very small alpha may cause precision problems.\n",
      "  ConvergenceWarning)\n"
     ]
    },
    {
     "name": "stdout",
     "output_type": "stream",
     "text": [
      "[CV]  alpha=0.01, fit_intercept=False, l1_ratio=0.445555555556, total=   0.1s\n",
      "[CV] alpha=0.01, fit_intercept=False, l1_ratio=0.554444444444 ........\n"
     ]
    },
    {
     "name": "stderr",
     "output_type": "stream",
     "text": [
      "/Users/jenelleverrochi/anaconda3/lib/python3.6/site-packages/sklearn/linear_model/coordinate_descent.py:491: ConvergenceWarning: Objective did not converge. You might want to increase the number of iterations. Fitting data with very small alpha may cause precision problems.\n",
      "  ConvergenceWarning)\n"
     ]
    },
    {
     "name": "stdout",
     "output_type": "stream",
     "text": [
      "[CV]  alpha=0.01, fit_intercept=False, l1_ratio=0.554444444444, total=   0.1s\n",
      "[CV] alpha=0.01, fit_intercept=False, l1_ratio=0.554444444444 ........\n",
      "[CV]  alpha=0.01, fit_intercept=False, l1_ratio=0.336666666667, total=   0.1s\n"
     ]
    },
    {
     "name": "stderr",
     "output_type": "stream",
     "text": [
      "/Users/jenelleverrochi/anaconda3/lib/python3.6/site-packages/sklearn/linear_model/coordinate_descent.py:491: ConvergenceWarning: Objective did not converge. You might want to increase the number of iterations. Fitting data with very small alpha may cause precision problems.\n",
      "  ConvergenceWarning)\n"
     ]
    },
    {
     "name": "stdout",
     "output_type": "stream",
     "text": [
      "[CV]  alpha=0.01, fit_intercept=False, l1_ratio=0.445555555556, total=   0.1s\n",
      "[CV] alpha=0.01, fit_intercept=False, l1_ratio=0.663333333333 ........\n",
      "[CV] alpha=0.01, fit_intercept=False, l1_ratio=0.663333333333 ........\n"
     ]
    },
    {
     "name": "stderr",
     "output_type": "stream",
     "text": [
      "/Users/jenelleverrochi/anaconda3/lib/python3.6/site-packages/sklearn/linear_model/coordinate_descent.py:491: ConvergenceWarning: Objective did not converge. You might want to increase the number of iterations. Fitting data with very small alpha may cause precision problems.\n",
      "  ConvergenceWarning)\n"
     ]
    },
    {
     "name": "stdout",
     "output_type": "stream",
     "text": [
      "[CV]  alpha=0.01, fit_intercept=False, l1_ratio=0.554444444444, total=   0.1s\n"
     ]
    },
    {
     "name": "stderr",
     "output_type": "stream",
     "text": [
      "/Users/jenelleverrochi/anaconda3/lib/python3.6/site-packages/sklearn/linear_model/coordinate_descent.py:491: ConvergenceWarning: Objective did not converge. You might want to increase the number of iterations. Fitting data with very small alpha may cause precision problems.\n",
      "  ConvergenceWarning)\n",
      "/Users/jenelleverrochi/anaconda3/lib/python3.6/site-packages/sklearn/linear_model/coordinate_descent.py:491: ConvergenceWarning: Objective did not converge. You might want to increase the number of iterations. Fitting data with very small alpha may cause precision problems.\n",
      "  ConvergenceWarning)\n"
     ]
    },
    {
     "name": "stdout",
     "output_type": "stream",
     "text": [
      "[CV]  alpha=0.01, fit_intercept=False, l1_ratio=0.663333333333, total=   0.1s\n",
      "[CV]  alpha=0.01, fit_intercept=False, l1_ratio=0.554444444444, total=   0.1s\n",
      "[CV] alpha=0.01, fit_intercept=False, l1_ratio=0.663333333333 ........\n"
     ]
    },
    {
     "name": "stderr",
     "output_type": "stream",
     "text": [
      "/Users/jenelleverrochi/anaconda3/lib/python3.6/site-packages/sklearn/linear_model/coordinate_descent.py:491: ConvergenceWarning: Objective did not converge. You might want to increase the number of iterations. Fitting data with very small alpha may cause precision problems.\n",
      "  ConvergenceWarning)\n"
     ]
    },
    {
     "name": "stdout",
     "output_type": "stream",
     "text": [
      "[CV] alpha=0.01, fit_intercept=False, l1_ratio=0.772222222222 ........\n",
      "[CV]  alpha=0.01, fit_intercept=False, l1_ratio=0.663333333333, total=   0.1s\n",
      "[CV] alpha=0.01, fit_intercept=False, l1_ratio=0.772222222222 ........\n",
      "[CV] alpha=0.01, fit_intercept=False, l1_ratio=0.881111111111 ........\n"
     ]
    },
    {
     "name": "stderr",
     "output_type": "stream",
     "text": [
      "/Users/jenelleverrochi/anaconda3/lib/python3.6/site-packages/sklearn/linear_model/coordinate_descent.py:491: ConvergenceWarning: Objective did not converge. You might want to increase the number of iterations. Fitting data with very small alpha may cause precision problems.\n",
      "  ConvergenceWarning)\n",
      "/Users/jenelleverrochi/anaconda3/lib/python3.6/site-packages/sklearn/linear_model/coordinate_descent.py:491: ConvergenceWarning: Objective did not converge. You might want to increase the number of iterations. Fitting data with very small alpha may cause precision problems.\n",
      "  ConvergenceWarning)\n"
     ]
    },
    {
     "name": "stdout",
     "output_type": "stream",
     "text": [
      "[CV]  alpha=0.01, fit_intercept=False, l1_ratio=0.663333333333, total=   0.1s\n",
      "[CV]  alpha=0.01, fit_intercept=False, l1_ratio=0.772222222222, total=   0.1s\n"
     ]
    },
    {
     "name": "stderr",
     "output_type": "stream",
     "text": [
      "/Users/jenelleverrochi/anaconda3/lib/python3.6/site-packages/sklearn/linear_model/coordinate_descent.py:491: ConvergenceWarning: Objective did not converge. You might want to increase the number of iterations. Fitting data with very small alpha may cause precision problems.\n",
      "  ConvergenceWarning)\n"
     ]
    },
    {
     "name": "stdout",
     "output_type": "stream",
     "text": [
      "[CV]  alpha=0.01, fit_intercept=False, l1_ratio=0.772222222222, total=   0.2s\n",
      "[CV] alpha=0.01, fit_intercept=False, l1_ratio=0.772222222222 ........\n",
      "[CV] alpha=0.01, fit_intercept=False, l1_ratio=0.881111111111 ........\n"
     ]
    },
    {
     "name": "stderr",
     "output_type": "stream",
     "text": [
      "/Users/jenelleverrochi/anaconda3/lib/python3.6/site-packages/sklearn/linear_model/coordinate_descent.py:491: ConvergenceWarning: Objective did not converge. You might want to increase the number of iterations. Fitting data with very small alpha may cause precision problems.\n",
      "  ConvergenceWarning)\n"
     ]
    },
    {
     "name": "stdout",
     "output_type": "stream",
     "text": [
      "[CV] alpha=0.01, fit_intercept=False, l1_ratio=0.99 ..................\n",
      "[CV]  alpha=0.01, fit_intercept=False, l1_ratio=0.881111111111, total=   0.2s\n",
      "[CV] alpha=0.01, fit_intercept=False, l1_ratio=0.881111111111 ........\n"
     ]
    },
    {
     "name": "stderr",
     "output_type": "stream",
     "text": [
      "/Users/jenelleverrochi/anaconda3/lib/python3.6/site-packages/sklearn/linear_model/coordinate_descent.py:491: ConvergenceWarning: Objective did not converge. You might want to increase the number of iterations. Fitting data with very small alpha may cause precision problems.\n",
      "  ConvergenceWarning)\n",
      "/Users/jenelleverrochi/anaconda3/lib/python3.6/site-packages/sklearn/linear_model/coordinate_descent.py:491: ConvergenceWarning: Objective did not converge. You might want to increase the number of iterations. Fitting data with very small alpha may cause precision problems.\n",
      "  ConvergenceWarning)\n",
      "/Users/jenelleverrochi/anaconda3/lib/python3.6/site-packages/sklearn/linear_model/coordinate_descent.py:491: ConvergenceWarning: Objective did not converge. You might want to increase the number of iterations. Fitting data with very small alpha may cause precision problems.\n",
      "  ConvergenceWarning)\n"
     ]
    },
    {
     "name": "stdout",
     "output_type": "stream",
     "text": [
      "[CV]  alpha=0.01, fit_intercept=False, l1_ratio=0.881111111111, total=   0.1s\n",
      "[CV] alpha=0.01, fit_intercept=False, l1_ratio=0.99 ..................\n",
      "[CV]  alpha=0.01, fit_intercept=False, l1_ratio=0.772222222222, total=   0.1s\n",
      "[CV] ... alpha=0.01, fit_intercept=False, l1_ratio=0.99, total=   0.1s\n",
      "[CV] alpha=11.12, fit_intercept=True, l1_ratio=0.01 ..................\n",
      "[CV] alpha=0.01, fit_intercept=False, l1_ratio=0.99 ..................\n"
     ]
    },
    {
     "name": "stderr",
     "output_type": "stream",
     "text": [
      "/Users/jenelleverrochi/anaconda3/lib/python3.6/site-packages/sklearn/linear_model/coordinate_descent.py:491: ConvergenceWarning: Objective did not converge. You might want to increase the number of iterations. Fitting data with very small alpha may cause precision problems.\n",
      "  ConvergenceWarning)\n"
     ]
    },
    {
     "name": "stdout",
     "output_type": "stream",
     "text": [
      "[CV] ... alpha=11.12, fit_intercept=True, l1_ratio=0.01, total=   0.0s\n",
      "[CV] alpha=11.12, fit_intercept=True, l1_ratio=0.01 ..................\n",
      "[CV]  alpha=0.01, fit_intercept=False, l1_ratio=0.881111111111, total=   0.1s\n",
      "[CV] ... alpha=11.12, fit_intercept=True, l1_ratio=0.01, total=   0.0s\n",
      "[CV] alpha=11.12, fit_intercept=True, l1_ratio=0.01 ..................\n",
      "[CV] alpha=11.12, fit_intercept=True, l1_ratio=0.118888888889 ........\n",
      "[CV] ... alpha=11.12, fit_intercept=True, l1_ratio=0.01, total=   0.0s\n",
      "[CV] alpha=11.12, fit_intercept=True, l1_ratio=0.118888888889 ........\n",
      "[CV]  alpha=11.12, fit_intercept=True, l1_ratio=0.118888888889, total=   0.0s\n",
      "[CV] alpha=11.12, fit_intercept=True, l1_ratio=0.118888888889 ........\n",
      "[CV]  alpha=11.12, fit_intercept=True, l1_ratio=0.118888888889, total=   0.0s\n"
     ]
    },
    {
     "name": "stderr",
     "output_type": "stream",
     "text": [
      "/Users/jenelleverrochi/anaconda3/lib/python3.6/site-packages/sklearn/linear_model/coordinate_descent.py:491: ConvergenceWarning: Objective did not converge. You might want to increase the number of iterations. Fitting data with very small alpha may cause precision problems.\n",
      "  ConvergenceWarning)\n"
     ]
    },
    {
     "name": "stdout",
     "output_type": "stream",
     "text": [
      "[CV] alpha=11.12, fit_intercept=True, l1_ratio=0.227777777778 ........\n",
      "[CV]  alpha=11.12, fit_intercept=True, l1_ratio=0.118888888889, total=   0.0s\n"
     ]
    },
    {
     "name": "stderr",
     "output_type": "stream",
     "text": [
      "/Users/jenelleverrochi/anaconda3/lib/python3.6/site-packages/sklearn/linear_model/coordinate_descent.py:491: ConvergenceWarning: Objective did not converge. You might want to increase the number of iterations. Fitting data with very small alpha may cause precision problems.\n",
      "  ConvergenceWarning)\n"
     ]
    },
    {
     "name": "stdout",
     "output_type": "stream",
     "text": [
      "[CV] alpha=11.12, fit_intercept=True, l1_ratio=0.227777777778 ........\n",
      "[CV] ... alpha=0.01, fit_intercept=False, l1_ratio=0.99, total=   0.2s\n",
      "[CV] alpha=11.12, fit_intercept=True, l1_ratio=0.336666666667 ........\n",
      "[CV] ... alpha=0.01, fit_intercept=False, l1_ratio=0.99, total=   0.2s\n",
      "[CV]  alpha=11.12, fit_intercept=True, l1_ratio=0.227777777778, total=   0.0s\n",
      "[CV] alpha=11.12, fit_intercept=True, l1_ratio=0.227777777778 ........\n",
      "[CV]  alpha=11.12, fit_intercept=True, l1_ratio=0.336666666667, total=   0.0s\n",
      "[CV]  alpha=11.12, fit_intercept=True, l1_ratio=0.227777777778, total=   0.0s\n",
      "[CV] alpha=11.12, fit_intercept=True, l1_ratio=0.336666666667 ........\n",
      "[CV] alpha=11.12, fit_intercept=True, l1_ratio=0.336666666667 ........\n",
      "[CV] alpha=11.12, fit_intercept=True, l1_ratio=0.445555555556 ........\n",
      "[CV]  alpha=11.12, fit_intercept=True, l1_ratio=0.336666666667, total=   0.0s\n",
      "[CV]  alpha=11.12, fit_intercept=True, l1_ratio=0.227777777778, total=   0.0s\n",
      "[CV]  alpha=11.12, fit_intercept=True, l1_ratio=0.336666666667, total=   0.0s\n",
      "[CV]  alpha=11.12, fit_intercept=True, l1_ratio=0.445555555556, total=   0.0s\n",
      "[CV] alpha=11.12, fit_intercept=True, l1_ratio=0.445555555556 ........\n",
      "[CV] alpha=11.12, fit_intercept=True, l1_ratio=0.445555555556 ........\n",
      "[CV] alpha=11.12, fit_intercept=True, l1_ratio=0.554444444444 ........\n",
      "[CV] alpha=11.12, fit_intercept=True, l1_ratio=0.663333333333 ........\n",
      "[CV]  alpha=11.12, fit_intercept=True, l1_ratio=0.554444444444, total=   0.0s\n",
      "[CV]  alpha=11.12, fit_intercept=True, l1_ratio=0.445555555556, total=   0.0s\n",
      "[CV] alpha=11.12, fit_intercept=True, l1_ratio=0.554444444444 ........\n",
      "[CV] alpha=11.12, fit_intercept=True, l1_ratio=0.663333333333 ........\n",
      "[CV]  alpha=11.12, fit_intercept=True, l1_ratio=0.445555555556, total=   0.0s\n",
      "[CV] alpha=11.12, fit_intercept=True, l1_ratio=0.554444444444 ........\n",
      "[CV]  alpha=11.12, fit_intercept=True, l1_ratio=0.663333333333, total=   0.0s\n",
      "[CV] alpha=11.12, fit_intercept=True, l1_ratio=0.663333333333 ........\n"
     ]
    },
    {
     "name": "stderr",
     "output_type": "stream",
     "text": [
      "[Parallel(n_jobs=-1)]: Done  58 tasks      | elapsed:    1.9s\n"
     ]
    },
    {
     "name": "stdout",
     "output_type": "stream",
     "text": [
      "[CV]  alpha=11.12, fit_intercept=True, l1_ratio=0.663333333333, total=   0.0s\n",
      "[CV]  alpha=11.12, fit_intercept=True, l1_ratio=0.663333333333, total=   0.0s\n",
      "[CV] alpha=11.12, fit_intercept=True, l1_ratio=0.772222222222 ........\n",
      "[CV]  alpha=11.12, fit_intercept=True, l1_ratio=0.554444444444, total=   0.0s\n",
      "[CV] alpha=11.12, fit_intercept=True, l1_ratio=0.772222222222 ........\n",
      "[CV] alpha=11.12, fit_intercept=True, l1_ratio=0.881111111111 ........\n",
      "[CV]  alpha=11.12, fit_intercept=True, l1_ratio=0.772222222222, total=   0.0s\n",
      "[CV]  alpha=11.12, fit_intercept=True, l1_ratio=0.772222222222, total=   0.0s\n",
      "[CV] alpha=11.12, fit_intercept=True, l1_ratio=0.772222222222 ........\n",
      "[CV] alpha=11.12, fit_intercept=True, l1_ratio=0.881111111111 ........\n",
      "[CV]  alpha=11.12, fit_intercept=True, l1_ratio=0.554444444444, total=   0.0s\n",
      "[CV]  alpha=11.12, fit_intercept=True, l1_ratio=0.881111111111, total=   0.0s\n",
      "[CV]  alpha=11.12, fit_intercept=True, l1_ratio=0.881111111111, total=   0.0s\n",
      "[CV] alpha=11.12, fit_intercept=True, l1_ratio=0.881111111111 ........\n",
      "[CV] alpha=11.12, fit_intercept=True, l1_ratio=0.99 ..................\n",
      "[CV] alpha=11.12, fit_intercept=True, l1_ratio=0.99 ..................\n",
      "[CV] ... alpha=11.12, fit_intercept=True, l1_ratio=0.99, total=   0.0s\n",
      "[CV] alpha=11.12, fit_intercept=False, l1_ratio=0.01 .................\n",
      "[CV]  alpha=11.12, fit_intercept=True, l1_ratio=0.772222222222, total=   0.0s\n",
      "[CV] alpha=11.12, fit_intercept=False, l1_ratio=0.01 .................\n",
      "[CV]  alpha=11.12, fit_intercept=True, l1_ratio=0.881111111111, total=   0.0s\n",
      "[CV] ... alpha=11.12, fit_intercept=True, l1_ratio=0.99, total=   0.0s\n",
      "[CV] alpha=11.12, fit_intercept=True, l1_ratio=0.99 ..................\n",
      "[CV] alpha=11.12, fit_intercept=False, l1_ratio=0.118888888889 .......\n",
      "[CV] .. alpha=11.12, fit_intercept=False, l1_ratio=0.01, total=   0.0s\n",
      "[CV] alpha=11.12, fit_intercept=False, l1_ratio=0.01 .................\n",
      "[CV] .. alpha=11.12, fit_intercept=False, l1_ratio=0.01, total=   0.0s\n",
      "[CV] alpha=11.12, fit_intercept=False, l1_ratio=0.118888888889 .......\n",
      "[CV] ... alpha=11.12, fit_intercept=True, l1_ratio=0.99, total=   0.0s\n",
      "[CV]  alpha=11.12, fit_intercept=False, l1_ratio=0.118888888889, total=   0.0s\n",
      "[CV] alpha=11.12, fit_intercept=False, l1_ratio=0.227777777778 .......\n",
      "[CV] alpha=11.12, fit_intercept=False, l1_ratio=0.118888888889 .......\n",
      "[CV] .. alpha=11.12, fit_intercept=False, l1_ratio=0.01, total=   0.0s\n",
      "[CV]  alpha=11.12, fit_intercept=False, l1_ratio=0.118888888889, total=   0.0s\n",
      "[CV] alpha=11.12, fit_intercept=False, l1_ratio=0.227777777778 .......\n",
      "[CV]  alpha=11.12, fit_intercept=False, l1_ratio=0.227777777778, total=   0.0s\n",
      "[CV] alpha=11.12, fit_intercept=False, l1_ratio=0.227777777778 .......\n",
      "[CV] alpha=11.12, fit_intercept=False, l1_ratio=0.445555555556 .......\n",
      "[CV]  alpha=11.12, fit_intercept=False, l1_ratio=0.227777777778, total=   0.0s\n",
      "[CV]  alpha=11.12, fit_intercept=False, l1_ratio=0.118888888889, total=   0.0s\n",
      "[CV] alpha=11.12, fit_intercept=False, l1_ratio=0.554444444444 .......\n",
      "[CV] alpha=11.12, fit_intercept=False, l1_ratio=0.663333333333 .......\n",
      "[CV]  alpha=11.12, fit_intercept=False, l1_ratio=0.445555555556, total=   0.0s\n",
      "[CV] alpha=11.12, fit_intercept=False, l1_ratio=0.445555555556 .......\n",
      "[CV]  alpha=11.12, fit_intercept=False, l1_ratio=0.227777777778, total=   0.0s\n",
      "[CV] alpha=11.12, fit_intercept=False, l1_ratio=0.336666666667 .......\n",
      "[CV]  alpha=11.12, fit_intercept=False, l1_ratio=0.663333333333, total=   0.0s\n",
      "[CV] alpha=11.12, fit_intercept=False, l1_ratio=0.772222222222 .......\n",
      "[CV]  alpha=11.12, fit_intercept=False, l1_ratio=0.554444444444, total=   0.0s\n",
      "[CV] alpha=11.12, fit_intercept=False, l1_ratio=0.554444444444 .......\n",
      "[CV]  alpha=11.12, fit_intercept=False, l1_ratio=0.445555555556, total=   0.0s\n",
      "[CV]  alpha=11.12, fit_intercept=False, l1_ratio=0.336666666667, total=   0.0s\n",
      "[CV] alpha=11.12, fit_intercept=False, l1_ratio=0.445555555556 .......\n",
      "[CV] alpha=11.12, fit_intercept=False, l1_ratio=0.336666666667 .......\n",
      "[CV]  alpha=11.12, fit_intercept=False, l1_ratio=0.554444444444, total=   0.0s\n",
      "[CV]  alpha=11.12, fit_intercept=False, l1_ratio=0.772222222222, total=   0.0s\n",
      "[CV] alpha=11.12, fit_intercept=False, l1_ratio=0.772222222222 .......\n",
      "[CV] alpha=11.12, fit_intercept=False, l1_ratio=0.663333333333 .......\n",
      "[CV]  alpha=11.12, fit_intercept=False, l1_ratio=0.772222222222, total=   0.0s\n",
      "[CV]  alpha=11.12, fit_intercept=False, l1_ratio=0.445555555556, total=   0.0s\n",
      "[CV] alpha=11.12, fit_intercept=False, l1_ratio=0.772222222222 .......\n",
      "[CV] alpha=11.12, fit_intercept=False, l1_ratio=0.554444444444 .......\n",
      "[CV]  alpha=11.12, fit_intercept=False, l1_ratio=0.772222222222, total=   0.0s\n",
      "[CV]  alpha=11.12, fit_intercept=False, l1_ratio=0.663333333333, total=   0.0s\n",
      "[CV]  alpha=11.12, fit_intercept=False, l1_ratio=0.336666666667, total=   0.0s\n",
      "[CV] alpha=11.12, fit_intercept=False, l1_ratio=0.881111111111 .......\n",
      "[CV] alpha=11.12, fit_intercept=False, l1_ratio=0.663333333333 .......\n",
      "[CV] alpha=11.12, fit_intercept=False, l1_ratio=0.336666666667 .......\n",
      "[CV] alpha=11.12, fit_intercept=False, l1_ratio=0.881111111111 .......\n",
      "[CV] alpha=22.23, fit_intercept=True, l1_ratio=0.01 ..................\n",
      "[CV] alpha=11.12, fit_intercept=False, l1_ratio=0.99 .................\n",
      "[CV]  alpha=11.12, fit_intercept=False, l1_ratio=0.554444444444, total=   0.0s\n",
      "[CV] alpha=11.12, fit_intercept=False, l1_ratio=0.99 .................\n",
      "[CV]  alpha=11.12, fit_intercept=False, l1_ratio=0.663333333333, total=   0.0s\n",
      "[CV]  alpha=11.12, fit_intercept=False, l1_ratio=0.881111111111, total=   0.0s\n",
      "[CV] alpha=11.12, fit_intercept=False, l1_ratio=0.881111111111 .......\n",
      "[CV]  alpha=11.12, fit_intercept=False, l1_ratio=0.336666666667, total=   0.0s\n",
      "[CV]  alpha=11.12, fit_intercept=False, l1_ratio=0.881111111111, total=   0.0s\n",
      "[CV] .. alpha=11.12, fit_intercept=False, l1_ratio=0.99, total=   0.0s\n",
      "[CV] alpha=22.23, fit_intercept=True, l1_ratio=0.227777777778 ........\n",
      "[CV]  alpha=11.12, fit_intercept=False, l1_ratio=0.881111111111, total=   0.0s\n",
      "[CV] .. alpha=11.12, fit_intercept=False, l1_ratio=0.99, total=   0.0s\n",
      "[CV] alpha=11.12, fit_intercept=False, l1_ratio=0.99 .................\n",
      "[CV] alpha=22.23, fit_intercept=True, l1_ratio=0.01 ..................\n",
      "[CV]  alpha=22.23, fit_intercept=True, l1_ratio=0.227777777778, total=   0.0s\n",
      "[CV] alpha=22.23, fit_intercept=True, l1_ratio=0.227777777778 ........\n",
      "[CV] ... alpha=22.23, fit_intercept=True, l1_ratio=0.01, total=   0.0s\n",
      "[CV] alpha=22.23, fit_intercept=True, l1_ratio=0.118888888889 ........\n",
      "[CV]  alpha=22.23, fit_intercept=True, l1_ratio=0.227777777778, total=   0.0s\n",
      "[CV] alpha=22.23, fit_intercept=True, l1_ratio=0.227777777778 ........\n",
      "[CV]  alpha=22.23, fit_intercept=True, l1_ratio=0.118888888889, total=   0.0s\n",
      "[CV] ... alpha=22.23, fit_intercept=True, l1_ratio=0.01, total=   0.0s\n",
      "[CV] alpha=22.23, fit_intercept=True, l1_ratio=0.01 ..................\n",
      "[CV] alpha=22.23, fit_intercept=True, l1_ratio=0.118888888889 ........\n",
      "[CV] .. alpha=11.12, fit_intercept=False, l1_ratio=0.99, total=   0.0s\n",
      "[CV] ... alpha=22.23, fit_intercept=True, l1_ratio=0.01, total=   0.0s\n",
      "[CV] alpha=22.23, fit_intercept=True, l1_ratio=0.336666666667 ........\n",
      "[CV] alpha=22.23, fit_intercept=True, l1_ratio=0.881111111111 ........\n",
      "[CV] alpha=22.23, fit_intercept=True, l1_ratio=0.118888888889 ........\n",
      "[CV]  alpha=22.23, fit_intercept=True, l1_ratio=0.227777777778, total=   0.0s\n",
      "[CV]  alpha=22.23, fit_intercept=True, l1_ratio=0.118888888889, total=   0.0s\n",
      "[CV] alpha=22.23, fit_intercept=True, l1_ratio=0.336666666667 ........\n",
      "[CV]  alpha=22.23, fit_intercept=True, l1_ratio=0.336666666667, total=   0.0s\n",
      "[CV]  alpha=22.23, fit_intercept=True, l1_ratio=0.336666666667, total=   0.0s\n",
      "[CV] alpha=22.23, fit_intercept=True, l1_ratio=0.336666666667 ........\n",
      "[CV]  alpha=22.23, fit_intercept=True, l1_ratio=0.881111111111, total=   0.0s\n",
      "[CV] alpha=22.23, fit_intercept=False, l1_ratio=0.227777777778 .......\n",
      "[CV] alpha=22.23, fit_intercept=True, l1_ratio=0.881111111111 ........\n",
      "[CV]  alpha=22.23, fit_intercept=True, l1_ratio=0.118888888889, total=   0.0s\n",
      "[CV]  alpha=22.23, fit_intercept=True, l1_ratio=0.336666666667, total=   0.0s\n",
      "[CV] alpha=22.23, fit_intercept=True, l1_ratio=0.445555555556 ........\n"
     ]
    },
    {
     "name": "stdout",
     "output_type": "stream",
     "text": [
      "[CV] alpha=22.23, fit_intercept=False, l1_ratio=0.772222222222 .......\n",
      "[CV] alpha=22.23, fit_intercept=True, l1_ratio=0.881111111111 ........\n",
      "[CV] alpha=22.23, fit_intercept=False, l1_ratio=0.336666666667 .......\n",
      "[CV]  alpha=22.23, fit_intercept=False, l1_ratio=0.227777777778, total=   0.0s\n",
      "[CV]  alpha=22.23, fit_intercept=True, l1_ratio=0.881111111111, total=   0.0s\n",
      "[CV]  alpha=22.23, fit_intercept=False, l1_ratio=0.772222222222, total=   0.0s\n",
      "[CV] alpha=22.23, fit_intercept=False, l1_ratio=0.772222222222 .......\n",
      "[CV]  alpha=22.23, fit_intercept=True, l1_ratio=0.445555555556, total=   0.0s\n",
      "[CV]  alpha=22.23, fit_intercept=True, l1_ratio=0.881111111111, total=   0.0s\n",
      "[CV] alpha=22.23, fit_intercept=True, l1_ratio=0.445555555556 ........\n",
      "[CV] alpha=22.23, fit_intercept=True, l1_ratio=0.99 ..................\n",
      "[CV]  alpha=22.23, fit_intercept=False, l1_ratio=0.336666666667, total=   0.0s\n",
      "[CV] alpha=22.23, fit_intercept=False, l1_ratio=0.336666666667 .......\n",
      "[CV]  alpha=22.23, fit_intercept=True, l1_ratio=0.445555555556, total=   0.0s\n",
      "[CV] ... alpha=22.23, fit_intercept=True, l1_ratio=0.99, total=   0.0s\n",
      "[CV] alpha=22.23, fit_intercept=True, l1_ratio=0.445555555556 ........\n",
      "[CV] alpha=22.23, fit_intercept=True, l1_ratio=0.99 ..................\n",
      "[CV]  alpha=22.23, fit_intercept=False, l1_ratio=0.772222222222, total=   0.0s\n",
      "[CV]  alpha=22.23, fit_intercept=False, l1_ratio=0.336666666667, total=   0.0s\n",
      "[CV] alpha=22.23, fit_intercept=False, l1_ratio=0.881111111111 .......\n",
      "[CV] alpha=22.23, fit_intercept=False, l1_ratio=0.336666666667 .......\n",
      "[CV]  alpha=22.23, fit_intercept=False, l1_ratio=0.881111111111, total=   0.0s\n",
      "[CV] ... alpha=22.23, fit_intercept=True, l1_ratio=0.99, total=   0.0s\n",
      "[CV] alpha=22.23, fit_intercept=False, l1_ratio=0.881111111111 .......\n",
      "[CV] alpha=22.23, fit_intercept=True, l1_ratio=0.99 ..................\n",
      "[CV]  alpha=22.23, fit_intercept=True, l1_ratio=0.445555555556, total=   0.0s\n",
      "[CV]  alpha=22.23, fit_intercept=False, l1_ratio=0.336666666667, total=   0.0s\n",
      "[CV] alpha=22.23, fit_intercept=True, l1_ratio=0.554444444444 ........\n",
      "[CV] alpha=22.23, fit_intercept=False, l1_ratio=0.445555555556 .......\n",
      "[CV]  alpha=22.23, fit_intercept=False, l1_ratio=0.881111111111, total=   0.0s\n",
      "[CV]  alpha=22.23, fit_intercept=False, l1_ratio=0.445555555556, total=   0.0s\n",
      "[CV] alpha=22.23, fit_intercept=False, l1_ratio=0.881111111111 .......\n",
      "[CV] alpha=22.23, fit_intercept=False, l1_ratio=0.445555555556 .......\n",
      "[CV] ... alpha=22.23, fit_intercept=True, l1_ratio=0.99, total=   0.0s\n",
      "[CV] alpha=22.23, fit_intercept=False, l1_ratio=0.01 .................\n",
      "[CV]  alpha=22.23, fit_intercept=True, l1_ratio=0.554444444444, total=   0.0s\n",
      "[CV] alpha=22.23, fit_intercept=True, l1_ratio=0.554444444444 ........\n",
      "[CV]  alpha=22.23, fit_intercept=False, l1_ratio=0.445555555556, total=   0.0s\n",
      "[CV]  alpha=22.23, fit_intercept=False, l1_ratio=0.881111111111, total=   0.0s\n",
      "[CV] alpha=22.23, fit_intercept=False, l1_ratio=0.445555555556 .......\n",
      "[CV] alpha=22.23, fit_intercept=False, l1_ratio=0.99 .................\n",
      "[CV] .. alpha=22.23, fit_intercept=False, l1_ratio=0.01, total=   0.0s\n",
      "[CV]  alpha=22.23, fit_intercept=True, l1_ratio=0.554444444444, total=   0.0s\n",
      "[CV] alpha=22.23, fit_intercept=True, l1_ratio=0.554444444444 ........\n",
      "[CV] alpha=22.23, fit_intercept=False, l1_ratio=0.01 .................\n",
      "[CV] .. alpha=22.23, fit_intercept=False, l1_ratio=0.99, total=   0.0s\n",
      "[CV]  alpha=22.23, fit_intercept=False, l1_ratio=0.445555555556, total=   0.0s\n",
      "[CV] alpha=22.23, fit_intercept=False, l1_ratio=0.99 .................\n",
      "[CV] alpha=22.23, fit_intercept=False, l1_ratio=0.554444444444 .......\n",
      "[CV] .. alpha=22.23, fit_intercept=False, l1_ratio=0.01, total=   0.0s\n",
      "[CV]  alpha=22.23, fit_intercept=True, l1_ratio=0.554444444444, total=   0.0s\n",
      "[CV] alpha=22.23, fit_intercept=False, l1_ratio=0.01 .................\n",
      "[CV] alpha=22.23, fit_intercept=True, l1_ratio=0.663333333333 ........\n",
      "[CV] .. alpha=22.23, fit_intercept=False, l1_ratio=0.99, total=   0.0s\n",
      "[CV]  alpha=22.23, fit_intercept=True, l1_ratio=0.663333333333, total=   0.0s\n",
      "[CV] alpha=22.23, fit_intercept=False, l1_ratio=0.99 .................\n",
      "[CV] alpha=22.23, fit_intercept=True, l1_ratio=0.663333333333 ........\n",
      "[CV] .. alpha=22.23, fit_intercept=False, l1_ratio=0.01, total=   0.0s\n",
      "[CV]  alpha=22.23, fit_intercept=False, l1_ratio=0.554444444444, total=   0.0s\n",
      "[CV] alpha=22.23, fit_intercept=False, l1_ratio=0.118888888889 .......\n",
      "[CV] alpha=22.23, fit_intercept=False, l1_ratio=0.554444444444 .......\n",
      "[CV]  alpha=22.23, fit_intercept=True, l1_ratio=0.663333333333, total=   0.0s\n",
      "[CV] alpha=22.23, fit_intercept=True, l1_ratio=0.663333333333 ........\n",
      "[CV]  alpha=22.23, fit_intercept=False, l1_ratio=0.118888888889, total=   0.0s\n",
      "[CV] alpha=22.23, fit_intercept=False, l1_ratio=0.118888888889 .......\n",
      "[CV] .. alpha=22.23, fit_intercept=False, l1_ratio=0.99, total=   0.0s\n",
      "[CV] alpha=33.34, fit_intercept=True, l1_ratio=0.01 ..................\n",
      "[CV]  alpha=22.23, fit_intercept=False, l1_ratio=0.554444444444, total=   0.0s\n",
      "[CV] alpha=22.23, fit_intercept=False, l1_ratio=0.554444444444 .......\n",
      "[CV]  alpha=22.23, fit_intercept=True, l1_ratio=0.663333333333, total=   0.0s\n",
      "[CV] alpha=22.23, fit_intercept=True, l1_ratio=0.772222222222 ........\n",
      "[CV] ... alpha=33.34, fit_intercept=True, l1_ratio=0.01, total=   0.0s\n",
      "[CV] alpha=33.34, fit_intercept=True, l1_ratio=0.01 ..................\n",
      "[CV]  alpha=22.23, fit_intercept=False, l1_ratio=0.118888888889, total=   0.0s\n",
      "[CV] alpha=22.23, fit_intercept=False, l1_ratio=0.118888888889 .......\n",
      "[CV]  alpha=22.23, fit_intercept=False, l1_ratio=0.554444444444, total=   0.0s\n",
      "[CV] ... alpha=33.34, fit_intercept=True, l1_ratio=0.01, total=   0.0s\n",
      "[CV] alpha=22.23, fit_intercept=False, l1_ratio=0.663333333333 .......\n",
      "[CV] alpha=33.34, fit_intercept=True, l1_ratio=0.01 ..................\n",
      "[CV]  alpha=22.23, fit_intercept=True, l1_ratio=0.772222222222, total=   0.0s\n",
      "[CV] alpha=22.23, fit_intercept=True, l1_ratio=0.772222222222 ........\n",
      "[CV] ... alpha=33.34, fit_intercept=True, l1_ratio=0.01, total=   0.0s\n",
      "[CV]  alpha=22.23, fit_intercept=False, l1_ratio=0.663333333333, total=   0.0s\n",
      "[CV] alpha=33.34, fit_intercept=True, l1_ratio=0.118888888889 ........\n",
      "[CV] alpha=22.23, fit_intercept=False, l1_ratio=0.663333333333 .......\n",
      "[CV]  alpha=22.23, fit_intercept=True, l1_ratio=0.772222222222, total=   0.0s\n",
      "[CV]  alpha=22.23, fit_intercept=False, l1_ratio=0.118888888889, total=   0.0s\n",
      "[CV] alpha=22.23, fit_intercept=True, l1_ratio=0.772222222222 ........\n",
      "[CV] alpha=22.23, fit_intercept=False, l1_ratio=0.227777777778 .......\n",
      "[CV]  alpha=33.34, fit_intercept=True, l1_ratio=0.118888888889, total=   0.0s\n",
      "[CV]  alpha=22.23, fit_intercept=False, l1_ratio=0.663333333333, total=   0.0s\n",
      "[CV] alpha=33.34, fit_intercept=True, l1_ratio=0.118888888889 ........\n",
      "[CV] alpha=22.23, fit_intercept=False, l1_ratio=0.663333333333 .......\n",
      "[CV]  alpha=33.34, fit_intercept=True, l1_ratio=0.118888888889, total=   0.0s\n",
      "[CV]  alpha=22.23, fit_intercept=True, l1_ratio=0.772222222222, total=   0.0s\n",
      "[CV] alpha=33.34, fit_intercept=True, l1_ratio=0.118888888889 ........\n",
      "[CV] alpha=22.23, fit_intercept=False, l1_ratio=0.227777777778 .......\n",
      "[CV] alpha=33.34, fit_intercept=True, l1_ratio=0.227777777778 ........\n",
      "[CV]  alpha=22.23, fit_intercept=False, l1_ratio=0.227777777778, total=   0.0s\n",
      "[CV]  alpha=22.23, fit_intercept=False, l1_ratio=0.663333333333, total=   0.0s\n",
      "[CV]  alpha=22.23, fit_intercept=False, l1_ratio=0.227777777778, total=   0.0s\n",
      "[CV] alpha=22.23, fit_intercept=False, l1_ratio=0.772222222222 .......\n",
      "[CV] alpha=33.34, fit_intercept=True, l1_ratio=0.663333333333 ........\n",
      "[CV] alpha=33.34, fit_intercept=True, l1_ratio=0.227777777778 ........\n",
      "[CV]  alpha=33.34, fit_intercept=True, l1_ratio=0.118888888889, total=   0.0s\n",
      "[CV]  alpha=33.34, fit_intercept=True, l1_ratio=0.227777777778, total=   0.0s\n",
      "[CV]  alpha=22.23, fit_intercept=False, l1_ratio=0.772222222222, total=   0.0s\n",
      "[CV]  alpha=33.34, fit_intercept=True, l1_ratio=0.663333333333, total=   0.0s\n",
      "[CV] alpha=33.34, fit_intercept=True, l1_ratio=0.772222222222 ........\n",
      "[CV] alpha=33.34, fit_intercept=False, l1_ratio=0.118888888889 .......\n",
      "[CV]  alpha=33.34, fit_intercept=True, l1_ratio=0.227777777778, total=   0.0s\n"
     ]
    },
    {
     "name": "stdout",
     "output_type": "stream",
     "text": [
      "[CV] alpha=33.34, fit_intercept=True, l1_ratio=0.227777777778 ........\n",
      "[CV]  alpha=33.34, fit_intercept=True, l1_ratio=0.227777777778, total=   0.0s\n",
      "[CV] alpha=33.34, fit_intercept=False, l1_ratio=0.663333333333 .......\n",
      "[CV] alpha=33.34, fit_intercept=True, l1_ratio=0.336666666667 ........\n",
      "[CV]  alpha=33.34, fit_intercept=False, l1_ratio=0.118888888889, total=   0.0s\n",
      "[CV] alpha=33.34, fit_intercept=False, l1_ratio=0.118888888889 .......\n",
      "[CV]  alpha=33.34, fit_intercept=True, l1_ratio=0.336666666667, total=   0.0s\n",
      "[CV]  alpha=33.34, fit_intercept=True, l1_ratio=0.772222222222, total=   0.0s\n",
      "[CV] alpha=33.34, fit_intercept=True, l1_ratio=0.336666666667 ........\n",
      "[CV] alpha=33.34, fit_intercept=True, l1_ratio=0.772222222222 ........\n",
      "[CV]  alpha=33.34, fit_intercept=False, l1_ratio=0.663333333333, total=   0.0s\n",
      "[CV] alpha=33.34, fit_intercept=False, l1_ratio=0.663333333333 .......\n",
      "[CV]  alpha=33.34, fit_intercept=True, l1_ratio=0.336666666667, total=   0.0s\n",
      "[CV] alpha=33.34, fit_intercept=True, l1_ratio=0.336666666667 ........\n",
      "[CV]  alpha=33.34, fit_intercept=False, l1_ratio=0.118888888889, total=   0.0s\n",
      "[CV] alpha=33.34, fit_intercept=False, l1_ratio=0.227777777778 .......\n",
      "[CV]  alpha=33.34, fit_intercept=True, l1_ratio=0.772222222222, total=   0.0s\n",
      "[CV] alpha=33.34, fit_intercept=True, l1_ratio=0.772222222222 ........\n",
      "[CV]  alpha=33.34, fit_intercept=False, l1_ratio=0.663333333333, total=   0.0s\n",
      "[CV] alpha=33.34, fit_intercept=False, l1_ratio=0.663333333333 .......\n",
      "[CV]  alpha=33.34, fit_intercept=False, l1_ratio=0.227777777778, total=   0.0s\n",
      "[CV] alpha=33.34, fit_intercept=False, l1_ratio=0.227777777778 .......\n",
      "[CV]  alpha=33.34, fit_intercept=False, l1_ratio=0.663333333333, total=   0.0s\n",
      "[CV] alpha=33.34, fit_intercept=False, l1_ratio=0.772222222222 .......\n",
      "[CV]  alpha=33.34, fit_intercept=True, l1_ratio=0.336666666667, total=   0.0s\n",
      "[CV] alpha=33.34, fit_intercept=True, l1_ratio=0.445555555556 ........\n",
      "[CV]  alpha=33.34, fit_intercept=True, l1_ratio=0.772222222222, total=   0.0s\n",
      "[CV] alpha=33.34, fit_intercept=True, l1_ratio=0.881111111111 ........\n",
      "[CV]  alpha=33.34, fit_intercept=False, l1_ratio=0.227777777778, total=   0.0s\n",
      "[CV] alpha=33.34, fit_intercept=False, l1_ratio=0.227777777778 .......\n",
      "[CV]  alpha=33.34, fit_intercept=False, l1_ratio=0.772222222222, total=   0.0s\n",
      "[CV] alpha=33.34, fit_intercept=False, l1_ratio=0.772222222222 .......\n",
      "[CV]  alpha=33.34, fit_intercept=True, l1_ratio=0.445555555556, total=   0.0s\n",
      "[CV] alpha=33.34, fit_intercept=True, l1_ratio=0.445555555556 ........\n",
      "[CV]  alpha=33.34, fit_intercept=True, l1_ratio=0.881111111111, total=   0.0s\n",
      "[CV] alpha=33.34, fit_intercept=True, l1_ratio=0.881111111111 ........\n",
      "[CV]  alpha=33.34, fit_intercept=False, l1_ratio=0.227777777778, total=   0.0s\n",
      "[CV] alpha=33.34, fit_intercept=False, l1_ratio=0.336666666667 .......\n",
      "[CV]  alpha=33.34, fit_intercept=False, l1_ratio=0.772222222222, total=   0.0s\n",
      "[CV] alpha=33.34, fit_intercept=False, l1_ratio=0.772222222222 .......\n",
      "[CV]  alpha=33.34, fit_intercept=True, l1_ratio=0.445555555556, total=   0.0s\n",
      "[CV] alpha=33.34, fit_intercept=True, l1_ratio=0.445555555556 ........\n",
      "[CV]  alpha=33.34, fit_intercept=False, l1_ratio=0.336666666667, total=   0.0s\n",
      "[CV] alpha=33.34, fit_intercept=False, l1_ratio=0.336666666667 .......\n",
      "[CV]  alpha=33.34, fit_intercept=True, l1_ratio=0.881111111111, total=   0.0s\n",
      "[CV] alpha=33.34, fit_intercept=True, l1_ratio=0.881111111111 ........\n",
      "[CV]  alpha=33.34, fit_intercept=True, l1_ratio=0.445555555556, total=   0.0s\n",
      "[CV] alpha=33.34, fit_intercept=True, l1_ratio=0.554444444444 ........\n",
      "[CV]  alpha=33.34, fit_intercept=False, l1_ratio=0.772222222222, total=   0.0s\n",
      "[CV] alpha=33.34, fit_intercept=False, l1_ratio=0.881111111111 .......\n",
      "[CV]  alpha=33.34, fit_intercept=True, l1_ratio=0.881111111111, total=   0.0s\n",
      "[CV]  alpha=33.34, fit_intercept=False, l1_ratio=0.336666666667, total=   0.0s\n",
      "[CV] alpha=33.34, fit_intercept=False, l1_ratio=0.336666666667 .......\n",
      "[CV] alpha=33.34, fit_intercept=True, l1_ratio=0.99 ..................\n",
      "[CV]  alpha=33.34, fit_intercept=True, l1_ratio=0.554444444444, total=   0.0s\n",
      "[CV] alpha=33.34, fit_intercept=True, l1_ratio=0.554444444444 ........\n",
      "[CV]  alpha=33.34, fit_intercept=False, l1_ratio=0.881111111111, total=   0.0s\n",
      "[CV] alpha=33.34, fit_intercept=False, l1_ratio=0.881111111111 .......\n",
      "[CV]  alpha=33.34, fit_intercept=False, l1_ratio=0.336666666667, total=   0.0s\n",
      "[CV]  alpha=33.34, fit_intercept=True, l1_ratio=0.554444444444, total=   0.0s\n",
      "[CV] alpha=33.34, fit_intercept=False, l1_ratio=0.445555555556 .......\n",
      "[CV] alpha=33.34, fit_intercept=True, l1_ratio=0.554444444444 ........\n",
      "[CV]  alpha=33.34, fit_intercept=False, l1_ratio=0.881111111111, total=   0.0s\n",
      "[CV] ... alpha=33.34, fit_intercept=True, l1_ratio=0.99, total=   0.0s\n",
      "[CV] alpha=33.34, fit_intercept=True, l1_ratio=0.99 ..................\n",
      "[CV] alpha=33.34, fit_intercept=False, l1_ratio=0.881111111111 .......\n",
      "[CV]  alpha=33.34, fit_intercept=False, l1_ratio=0.445555555556, total=   0.0s\n",
      "[CV]  alpha=33.34, fit_intercept=False, l1_ratio=0.881111111111, total=   0.0s\n",
      "[CV] alpha=33.34, fit_intercept=False, l1_ratio=0.445555555556 .......\n",
      "[CV] alpha=33.34, fit_intercept=False, l1_ratio=0.99 .................\n",
      "[CV]  alpha=33.34, fit_intercept=True, l1_ratio=0.554444444444, total=   0.0s\n",
      "[CV] .. alpha=33.34, fit_intercept=False, l1_ratio=0.99, total=   0.0s\n",
      "[CV] alpha=33.34, fit_intercept=True, l1_ratio=0.663333333333 ........\n",
      "[CV] alpha=33.34, fit_intercept=False, l1_ratio=0.99 .................\n",
      "[CV] ... alpha=33.34, fit_intercept=True, l1_ratio=0.99, total=   0.0s\n",
      "[CV] alpha=33.34, fit_intercept=True, l1_ratio=0.99 ..................\n",
      "[CV]  alpha=33.34, fit_intercept=False, l1_ratio=0.445555555556, total=   0.0s\n",
      "[CV] alpha=33.34, fit_intercept=False, l1_ratio=0.445555555556 .......\n",
      "[CV]  alpha=33.34, fit_intercept=True, l1_ratio=0.663333333333, total=   0.0s\n",
      "[CV] .. alpha=33.34, fit_intercept=False, l1_ratio=0.99, total=   0.0s\n",
      "[CV] alpha=33.34, fit_intercept=True, l1_ratio=0.663333333333 ........\n",
      "[CV] alpha=33.34, fit_intercept=False, l1_ratio=0.99 .................\n",
      "[CV]  alpha=33.34, fit_intercept=True, l1_ratio=0.663333333333, total=   0.0s\n",
      "[CV] ... alpha=33.34, fit_intercept=True, l1_ratio=0.99, total=   0.0s\n",
      "[CV] alpha=44.45, fit_intercept=True, l1_ratio=0.01 ..................\n",
      "[CV] alpha=33.34, fit_intercept=False, l1_ratio=0.01 .................\n",
      "[CV] alpha=44.45, fit_intercept=True, l1_ratio=0.01 ..................\n",
      "[CV]  alpha=33.34, fit_intercept=False, l1_ratio=0.445555555556, total=   0.0s\n",
      "[CV] .. alpha=33.34, fit_intercept=False, l1_ratio=0.99, total=   0.0s\n",
      "[CV] alpha=33.34, fit_intercept=False, l1_ratio=0.554444444444 .......\n",
      "[CV] .. alpha=33.34, fit_intercept=False, l1_ratio=0.01, total=   0.0s\n",
      "[CV] alpha=33.34, fit_intercept=False, l1_ratio=0.01 .................\n",
      "[CV] ... alpha=44.45, fit_intercept=True, l1_ratio=0.01, total=   0.0s\n",
      "[CV] alpha=44.45, fit_intercept=True, l1_ratio=0.118888888889 ........\n",
      "[CV] .. alpha=33.34, fit_intercept=False, l1_ratio=0.01, total=   0.0s\n",
      "[CV] alpha=33.34, fit_intercept=False, l1_ratio=0.01 .................\n",
      "[CV]  alpha=33.34, fit_intercept=False, l1_ratio=0.554444444444, total=   0.0s\n",
      "[CV] alpha=33.34, fit_intercept=False, l1_ratio=0.554444444444 .......\n",
      "[CV] ... alpha=44.45, fit_intercept=True, l1_ratio=0.01, total=   0.0s\n",
      "[CV] alpha=44.45, fit_intercept=True, l1_ratio=0.01 ..................\n",
      "[CV]  alpha=44.45, fit_intercept=True, l1_ratio=0.118888888889, total=   0.0s\n",
      "[CV] alpha=44.45, fit_intercept=True, l1_ratio=0.118888888889 ........\n",
      "[CV]  alpha=33.34, fit_intercept=False, l1_ratio=0.554444444444, total=   0.0s\n",
      "[CV] alpha=33.34, fit_intercept=False, l1_ratio=0.554444444444 .......\n",
      "[CV] .. alpha=33.34, fit_intercept=False, l1_ratio=0.01, total=   0.0s\n",
      "[CV] alpha=33.34, fit_intercept=False, l1_ratio=0.118888888889 .......\n",
      "[CV] ... alpha=44.45, fit_intercept=True, l1_ratio=0.01, total=   0.0s\n",
      "[CV] alpha=44.45, fit_intercept=True, l1_ratio=0.554444444444 ........\n",
      "[CV]  alpha=33.34, fit_intercept=False, l1_ratio=0.554444444444, total=   0.0s\n",
      "[CV]  alpha=44.45, fit_intercept=True, l1_ratio=0.118888888889, total=   0.0s\n",
      "[CV] alpha=44.45, fit_intercept=True, l1_ratio=0.118888888889 ........\n"
     ]
    },
    {
     "name": "stdout",
     "output_type": "stream",
     "text": [
      "[CV] alpha=44.45, fit_intercept=False, l1_ratio=0.01 .................\n",
      "[CV]  alpha=33.34, fit_intercept=False, l1_ratio=0.118888888889, total=   0.0s\n",
      "[CV]  alpha=44.45, fit_intercept=True, l1_ratio=0.554444444444, total=   0.0s\n",
      "[CV] alpha=44.45, fit_intercept=True, l1_ratio=0.554444444444 ........\n",
      "[CV] alpha=44.45, fit_intercept=False, l1_ratio=0.445555555556 .......\n",
      "[CV] .. alpha=44.45, fit_intercept=False, l1_ratio=0.01, total=   0.0s\n",
      "[CV]  alpha=44.45, fit_intercept=True, l1_ratio=0.118888888889, total=   0.0s\n",
      "[CV]  alpha=44.45, fit_intercept=True, l1_ratio=0.554444444444, total=   0.0s\n",
      "[CV] alpha=44.45, fit_intercept=False, l1_ratio=0.01 .................\n",
      "[CV] alpha=44.45, fit_intercept=True, l1_ratio=0.227777777778 ........\n",
      "[CV] alpha=44.45, fit_intercept=True, l1_ratio=0.663333333333 ........\n",
      "[CV]  alpha=44.45, fit_intercept=False, l1_ratio=0.445555555556, total=   0.0s\n",
      "[CV]  alpha=44.45, fit_intercept=True, l1_ratio=0.663333333333, total=   0.0s\n",
      "[CV] alpha=44.45, fit_intercept=True, l1_ratio=0.663333333333 ........\n",
      "[CV] alpha=44.45, fit_intercept=False, l1_ratio=0.554444444444 .......\n",
      "[CV]  alpha=44.45, fit_intercept=False, l1_ratio=0.554444444444, total=   0.0s\n",
      "[CV] .. alpha=44.45, fit_intercept=False, l1_ratio=0.01, total=   0.0s\n",
      "[CV]  alpha=44.45, fit_intercept=True, l1_ratio=0.227777777778, total=   0.0s\n",
      "[CV] alpha=44.45, fit_intercept=False, l1_ratio=0.01 .................\n",
      "[CV] alpha=44.45, fit_intercept=False, l1_ratio=0.554444444444 .......\n",
      "[CV] alpha=44.45, fit_intercept=True, l1_ratio=0.227777777778 ........\n",
      "[CV]  alpha=44.45, fit_intercept=True, l1_ratio=0.663333333333, total=   0.0s\n",
      "[CV] alpha=44.45, fit_intercept=True, l1_ratio=0.663333333333 ........\n",
      "[CV]  alpha=44.45, fit_intercept=True, l1_ratio=0.227777777778, total=   0.0s\n",
      "[CV] alpha=44.45, fit_intercept=True, l1_ratio=0.227777777778 ........\n",
      "[CV]  alpha=44.45, fit_intercept=True, l1_ratio=0.663333333333, total=   0.0s\n",
      "[CV]  alpha=44.45, fit_intercept=False, l1_ratio=0.554444444444, total=   0.0s\n",
      "[CV] .. alpha=44.45, fit_intercept=False, l1_ratio=0.01, total=   0.0s\n",
      "[CV] alpha=44.45, fit_intercept=False, l1_ratio=0.118888888889 .......\n",
      "[CV] alpha=44.45, fit_intercept=False, l1_ratio=0.554444444444 .......\n",
      "[CV] alpha=44.45, fit_intercept=True, l1_ratio=0.772222222222 ........\n",
      "[CV]  alpha=44.45, fit_intercept=False, l1_ratio=0.554444444444, total=   0.0s\n",
      "[CV] alpha=44.45, fit_intercept=False, l1_ratio=0.663333333333 .......\n",
      "[CV]  alpha=44.45, fit_intercept=False, l1_ratio=0.118888888889, total=   0.0s\n",
      "[CV]  alpha=44.45, fit_intercept=True, l1_ratio=0.772222222222, total=   0.0s\n",
      "[CV] alpha=44.45, fit_intercept=False, l1_ratio=0.118888888889 .......\n",
      "[CV] alpha=44.45, fit_intercept=True, l1_ratio=0.772222222222 ........\n",
      "[CV]  alpha=44.45, fit_intercept=True, l1_ratio=0.227777777778, total=   0.0s\n",
      "[CV] alpha=44.45, fit_intercept=True, l1_ratio=0.336666666667 ........\n",
      "[CV]  alpha=44.45, fit_intercept=False, l1_ratio=0.118888888889, total=   0.0s\n",
      "[CV] alpha=44.45, fit_intercept=False, l1_ratio=0.118888888889 .......\n",
      "[CV]  alpha=44.45, fit_intercept=True, l1_ratio=0.336666666667, total=   0.0s\n",
      "[CV]  alpha=44.45, fit_intercept=False, l1_ratio=0.663333333333, total=   0.0s\n",
      "[CV] alpha=44.45, fit_intercept=True, l1_ratio=0.336666666667 ........\n",
      "[CV]  alpha=44.45, fit_intercept=True, l1_ratio=0.772222222222, total=   0.0s\n",
      "[CV] alpha=44.45, fit_intercept=False, l1_ratio=0.663333333333 .......\n",
      "[CV] alpha=44.45, fit_intercept=True, l1_ratio=0.772222222222 ........\n",
      "[CV]  alpha=44.45, fit_intercept=False, l1_ratio=0.118888888889, total=   0.0s\n",
      "[CV] alpha=44.45, fit_intercept=False, l1_ratio=0.227777777778 .......\n",
      "[CV]  alpha=44.45, fit_intercept=False, l1_ratio=0.663333333333, total=   0.0s\n",
      "[CV] alpha=44.45, fit_intercept=False, l1_ratio=0.663333333333 .......\n",
      "[CV]  alpha=44.45, fit_intercept=True, l1_ratio=0.772222222222, total=   0.0s\n",
      "[CV] alpha=44.45, fit_intercept=True, l1_ratio=0.881111111111 ........\n",
      "[CV]  alpha=44.45, fit_intercept=True, l1_ratio=0.336666666667, total=   0.0s\n",
      "[CV] alpha=44.45, fit_intercept=True, l1_ratio=0.336666666667 ........\n",
      "[CV]  alpha=44.45, fit_intercept=False, l1_ratio=0.227777777778, total=   0.0s\n",
      "[CV] alpha=44.45, fit_intercept=False, l1_ratio=0.227777777778 .......\n",
      "[CV]  alpha=44.45, fit_intercept=False, l1_ratio=0.663333333333, total=   0.0s\n",
      "[CV] alpha=44.45, fit_intercept=False, l1_ratio=0.772222222222 .......\n",
      "[CV]  alpha=44.45, fit_intercept=True, l1_ratio=0.881111111111, total=   0.0s\n",
      "[CV] alpha=44.45, fit_intercept=True, l1_ratio=0.881111111111 ........\n",
      "[CV]  alpha=44.45, fit_intercept=False, l1_ratio=0.772222222222, total=   0.0s\n",
      "[CV] alpha=44.45, fit_intercept=False, l1_ratio=0.772222222222 .......\n",
      "[CV]  alpha=44.45, fit_intercept=True, l1_ratio=0.336666666667, total=   0.0s\n",
      "[CV] alpha=44.45, fit_intercept=True, l1_ratio=0.445555555556 ........\n",
      "[CV]  alpha=44.45, fit_intercept=False, l1_ratio=0.227777777778, total=   0.0s\n",
      "[CV] alpha=44.45, fit_intercept=False, l1_ratio=0.227777777778 .......\n",
      "[CV]  alpha=44.45, fit_intercept=True, l1_ratio=0.881111111111, total=   0.0s\n",
      "[CV] alpha=44.45, fit_intercept=True, l1_ratio=0.881111111111 ........\n",
      "[CV]  alpha=44.45, fit_intercept=False, l1_ratio=0.772222222222, total=   0.0s\n",
      "[CV] alpha=44.45, fit_intercept=False, l1_ratio=0.772222222222 .......\n",
      "[CV]  alpha=44.45, fit_intercept=True, l1_ratio=0.445555555556, total=   0.0s\n",
      "[CV] alpha=44.45, fit_intercept=True, l1_ratio=0.445555555556 ........\n",
      "[CV]  alpha=44.45, fit_intercept=False, l1_ratio=0.227777777778, total=   0.0s\n",
      "[CV] alpha=44.45, fit_intercept=False, l1_ratio=0.336666666667 .......\n",
      "[CV]  alpha=44.45, fit_intercept=True, l1_ratio=0.881111111111, total=   0.0s\n",
      "[CV] alpha=44.45, fit_intercept=True, l1_ratio=0.99 ..................\n",
      "[CV]  alpha=44.45, fit_intercept=True, l1_ratio=0.445555555556, total=   0.0s\n",
      "[CV] alpha=44.45, fit_intercept=True, l1_ratio=0.445555555556 ........\n",
      "[CV]  alpha=44.45, fit_intercept=False, l1_ratio=0.772222222222, total=   0.0s\n",
      "[CV]  alpha=44.45, fit_intercept=False, l1_ratio=0.336666666667, total=   0.0s\n",
      "[CV] alpha=44.45, fit_intercept=False, l1_ratio=0.881111111111 .......\n",
      "[CV] alpha=44.45, fit_intercept=False, l1_ratio=0.336666666667 .......\n",
      "[CV]  alpha=44.45, fit_intercept=False, l1_ratio=0.336666666667, total=   0.0s\n",
      "[CV]  alpha=44.45, fit_intercept=False, l1_ratio=0.881111111111, total=   0.0s\n",
      "[CV] alpha=44.45, fit_intercept=False, l1_ratio=0.881111111111 .......\n",
      "[CV] alpha=44.45, fit_intercept=False, l1_ratio=0.336666666667 .......\n",
      "[CV]  alpha=44.45, fit_intercept=False, l1_ratio=0.336666666667, total=   0.0s\n",
      "[CV]  alpha=44.45, fit_intercept=True, l1_ratio=0.445555555556, total=   0.0s\n",
      "[CV] alpha=44.45, fit_intercept=False, l1_ratio=0.445555555556 .......\n",
      "[CV] alpha=44.45, fit_intercept=True, l1_ratio=0.554444444444 ........\n",
      "[CV] ... alpha=44.45, fit_intercept=True, l1_ratio=0.99, total=   0.0s\n",
      "[CV] alpha=44.45, fit_intercept=True, l1_ratio=0.99 ..................\n",
      "[CV]  alpha=44.45, fit_intercept=True, l1_ratio=0.554444444444, total=   0.0s\n",
      "[CV] alpha=44.45, fit_intercept=False, l1_ratio=0.99 .................\n",
      "[CV] alpha=44.45, fit_intercept=False, l1_ratio=0.445555555556 .......\n",
      "[CV]  alpha=44.45, fit_intercept=False, l1_ratio=0.881111111111, total=   0.0s\n",
      "[CV] alpha=44.45, fit_intercept=False, l1_ratio=0.881111111111 .......\n",
      "[CV]  alpha=44.45, fit_intercept=False, l1_ratio=0.445555555556, total=   0.0s\n",
      "[CV] ... alpha=44.45, fit_intercept=True, l1_ratio=0.99, total=   0.0s\n",
      "[CV] alpha=44.45, fit_intercept=True, l1_ratio=0.99 ..................\n",
      "[CV] .. alpha=44.45, fit_intercept=False, l1_ratio=0.99, total=   0.0s\n",
      "[CV] alpha=44.45, fit_intercept=False, l1_ratio=0.99 .................\n",
      "[CV] ... alpha=44.45, fit_intercept=True, l1_ratio=0.99, total=   0.0s\n",
      "[CV]  alpha=44.45, fit_intercept=False, l1_ratio=0.881111111111, total=   0.0s\n",
      "[CV] alpha=55.56, fit_intercept=True, l1_ratio=0.99 ..................\n",
      "[CV] alpha=44.45, fit_intercept=False, l1_ratio=0.99 .................\n",
      "[CV]  alpha=44.45, fit_intercept=False, l1_ratio=0.445555555556, total=   0.0s\n",
      "[CV] alpha=55.56, fit_intercept=True, l1_ratio=0.445555555556 ........\n",
      "[CV] alpha=55.56, fit_intercept=True, l1_ratio=0.881111111111 ........\n",
      "[CV] .. alpha=44.45, fit_intercept=False, l1_ratio=0.99, total=   0.0s\n"
     ]
    },
    {
     "name": "stdout",
     "output_type": "stream",
     "text": [
      "[CV] .. alpha=44.45, fit_intercept=False, l1_ratio=0.99, total=   0.0s\n",
      "[CV] alpha=55.56, fit_intercept=True, l1_ratio=0.01 ..................\n",
      "[CV] alpha=55.56, fit_intercept=False, l1_ratio=0.336666666667 .......\n",
      "[CV]  alpha=55.56, fit_intercept=True, l1_ratio=0.881111111111, total=   0.0s\n",
      "[CV]  alpha=55.56, fit_intercept=True, l1_ratio=0.445555555556, total=   0.0s\n",
      "[CV] alpha=55.56, fit_intercept=True, l1_ratio=0.445555555556 ........\n",
      "[CV] ... alpha=55.56, fit_intercept=True, l1_ratio=0.01, total=   0.0s\n",
      "[CV]  alpha=55.56, fit_intercept=True, l1_ratio=0.445555555556, total=   0.0s\n",
      "[CV] alpha=55.56, fit_intercept=True, l1_ratio=0.01 ..................\n",
      "[CV] alpha=55.56, fit_intercept=True, l1_ratio=0.445555555556 ........\n",
      "[CV]  alpha=55.56, fit_intercept=False, l1_ratio=0.336666666667, total=   0.0s\n",
      "[CV] ... alpha=55.56, fit_intercept=True, l1_ratio=0.99, total=   0.0s\n",
      "[CV] alpha=55.56, fit_intercept=True, l1_ratio=0.99 ..................\n",
      "[CV] alpha=55.56, fit_intercept=False, l1_ratio=0.336666666667 .......\n",
      "[CV]  alpha=55.56, fit_intercept=True, l1_ratio=0.445555555556, total=   0.0s\n",
      "[CV] ... alpha=55.56, fit_intercept=True, l1_ratio=0.01, total=   0.0s\n",
      "[CV] alpha=55.56, fit_intercept=True, l1_ratio=0.01 ..................\n",
      "[CV] alpha=55.56, fit_intercept=True, l1_ratio=0.554444444444 ........\n",
      "[CV] ... alpha=55.56, fit_intercept=True, l1_ratio=0.99, total=   0.0s\n",
      "[CV]  alpha=55.56, fit_intercept=False, l1_ratio=0.336666666667, total=   0.0s\n",
      "[CV] alpha=55.56, fit_intercept=True, l1_ratio=0.99 ..................\n",
      "[CV] alpha=55.56, fit_intercept=False, l1_ratio=0.445555555556 .......\n",
      "[CV]  alpha=55.56, fit_intercept=False, l1_ratio=0.445555555556, total=   0.0s\n",
      "[CV] alpha=55.56, fit_intercept=False, l1_ratio=0.445555555556 .......\n",
      "[CV] ... alpha=55.56, fit_intercept=True, l1_ratio=0.01, total=   0.0s\n",
      "[CV] alpha=55.56, fit_intercept=True, l1_ratio=0.118888888889 ........\n",
      "[CV]  alpha=55.56, fit_intercept=False, l1_ratio=0.445555555556, total=   0.0s\n",
      "[CV] alpha=55.56, fit_intercept=False, l1_ratio=0.445555555556 .......\n",
      "[CV]  alpha=55.56, fit_intercept=True, l1_ratio=0.554444444444, total=   0.0s\n",
      "[CV] alpha=55.56, fit_intercept=True, l1_ratio=0.554444444444 ........\n",
      "[CV] ... alpha=55.56, fit_intercept=True, l1_ratio=0.99, total=   0.0s\n",
      "[CV] alpha=55.56, fit_intercept=False, l1_ratio=0.01 .................\n",
      "[CV]  alpha=55.56, fit_intercept=False, l1_ratio=0.445555555556, total=   0.0s\n",
      "[CV]  alpha=55.56, fit_intercept=True, l1_ratio=0.118888888889, total=   0.0s\n",
      "[CV] alpha=55.56, fit_intercept=True, l1_ratio=0.118888888889 ........\n",
      "[CV] alpha=55.56, fit_intercept=False, l1_ratio=0.554444444444 .......\n",
      "[CV] .. alpha=55.56, fit_intercept=False, l1_ratio=0.01, total=   0.0s\n",
      "[CV]  alpha=55.56, fit_intercept=True, l1_ratio=0.554444444444, total=   0.0s\n",
      "[CV] alpha=55.56, fit_intercept=False, l1_ratio=0.01 .................\n",
      "[CV] alpha=55.56, fit_intercept=True, l1_ratio=0.554444444444 ........\n",
      "[CV]  alpha=55.56, fit_intercept=True, l1_ratio=0.118888888889, total=   0.0s\n",
      "[CV]  alpha=55.56, fit_intercept=False, l1_ratio=0.554444444444, total=   0.0s\n",
      "[CV] alpha=55.56, fit_intercept=True, l1_ratio=0.118888888889 ........\n",
      "[CV] alpha=55.56, fit_intercept=False, l1_ratio=0.554444444444 .......\n",
      "[CV] .. alpha=55.56, fit_intercept=False, l1_ratio=0.01, total=   0.0s\n",
      "[CV] alpha=55.56, fit_intercept=False, l1_ratio=0.01 .................\n",
      "[CV]  alpha=55.56, fit_intercept=True, l1_ratio=0.554444444444, total=   0.0s\n",
      "[CV] alpha=55.56, fit_intercept=True, l1_ratio=0.663333333333 ........\n",
      "[CV] .. alpha=55.56, fit_intercept=False, l1_ratio=0.01, total=   0.0s\n",
      "[CV]  alpha=55.56, fit_intercept=False, l1_ratio=0.554444444444, total=   0.0s\n",
      "[CV]  alpha=55.56, fit_intercept=True, l1_ratio=0.118888888889, total=   0.0s\n",
      "[CV] alpha=55.56, fit_intercept=True, l1_ratio=0.227777777778 ........\n",
      "[CV] alpha=55.56, fit_intercept=False, l1_ratio=0.118888888889 .......\n",
      "[CV] alpha=55.56, fit_intercept=False, l1_ratio=0.554444444444 .......\n",
      "[CV]  alpha=55.56, fit_intercept=False, l1_ratio=0.118888888889, total=   0.0s\n",
      "[CV]  alpha=55.56, fit_intercept=True, l1_ratio=0.663333333333, total=   0.0s\n",
      "[CV] alpha=55.56, fit_intercept=False, l1_ratio=0.118888888889 .......\n",
      "[CV] alpha=55.56, fit_intercept=True, l1_ratio=0.663333333333 ........\n",
      "[CV]  alpha=55.56, fit_intercept=True, l1_ratio=0.227777777778, total=   0.0s\n",
      "[CV] alpha=55.56, fit_intercept=True, l1_ratio=0.227777777778 ........\n",
      "[CV]  alpha=55.56, fit_intercept=False, l1_ratio=0.554444444444, total=   0.0s\n",
      "[CV] alpha=55.56, fit_intercept=False, l1_ratio=0.663333333333 .......\n",
      "[CV]  alpha=55.56, fit_intercept=True, l1_ratio=0.663333333333, total=   0.0s\n",
      "[CV]  alpha=55.56, fit_intercept=False, l1_ratio=0.663333333333, total=   0.0s\n",
      "[CV]  alpha=55.56, fit_intercept=True, l1_ratio=0.227777777778, total=   0.0s\n",
      "[CV] alpha=55.56, fit_intercept=True, l1_ratio=0.663333333333 ........\n",
      "[CV] alpha=55.56, fit_intercept=False, l1_ratio=0.663333333333 .......\n",
      "[CV] alpha=55.56, fit_intercept=True, l1_ratio=0.227777777778 ........\n",
      "[CV]  alpha=55.56, fit_intercept=False, l1_ratio=0.118888888889, total=   0.0s\n",
      "[CV] alpha=55.56, fit_intercept=False, l1_ratio=0.118888888889 .......\n",
      "[CV]  alpha=55.56, fit_intercept=False, l1_ratio=0.663333333333, total=   0.0s\n",
      "[CV] alpha=55.56, fit_intercept=False, l1_ratio=0.663333333333 .......\n",
      "[CV]  alpha=55.56, fit_intercept=True, l1_ratio=0.663333333333, total=   0.0s\n",
      "[CV]  alpha=55.56, fit_intercept=True, l1_ratio=0.227777777778, total=   0.0s\n",
      "[CV] alpha=55.56, fit_intercept=True, l1_ratio=0.772222222222 ........\n",
      "[CV] alpha=55.56, fit_intercept=True, l1_ratio=0.336666666667 ........\n",
      "[CV]  alpha=55.56, fit_intercept=False, l1_ratio=0.663333333333, total=   0.0s\n",
      "[CV]  alpha=55.56, fit_intercept=True, l1_ratio=0.772222222222, total=   0.0s\n",
      "[CV] alpha=55.56, fit_intercept=True, l1_ratio=0.772222222222 ........\n",
      "[CV] alpha=55.56, fit_intercept=False, l1_ratio=0.772222222222 .......\n",
      "[CV]  alpha=55.56, fit_intercept=False, l1_ratio=0.118888888889, total=   0.0s\n",
      "[CV]  alpha=55.56, fit_intercept=True, l1_ratio=0.336666666667, total=   0.0s\n",
      "[CV]  alpha=55.56, fit_intercept=True, l1_ratio=0.772222222222, total=   0.0s\n",
      "[CV] alpha=55.56, fit_intercept=True, l1_ratio=0.336666666667 ........\n",
      "[CV] alpha=55.56, fit_intercept=False, l1_ratio=0.227777777778 .......\n",
      "[CV] alpha=55.56, fit_intercept=True, l1_ratio=0.772222222222 ........\n",
      "[CV]  alpha=55.56, fit_intercept=True, l1_ratio=0.772222222222, total=   0.0s\n",
      "[CV]  alpha=55.56, fit_intercept=False, l1_ratio=0.772222222222, total=   0.0s\n",
      "[CV] alpha=55.56, fit_intercept=True, l1_ratio=0.881111111111 ........\n",
      "[CV] alpha=55.56, fit_intercept=False, l1_ratio=0.772222222222 .......\n",
      "[CV]  alpha=55.56, fit_intercept=False, l1_ratio=0.227777777778, total=   0.0s\n",
      "[CV]  alpha=55.56, fit_intercept=True, l1_ratio=0.336666666667, total=   0.0s\n",
      "[CV] alpha=55.56, fit_intercept=False, l1_ratio=0.227777777778 .......\n",
      "[CV] alpha=55.56, fit_intercept=True, l1_ratio=0.336666666667 ........\n",
      "[CV]  alpha=55.56, fit_intercept=True, l1_ratio=0.881111111111, total=   0.0s\n",
      "[CV] alpha=55.56, fit_intercept=True, l1_ratio=0.881111111111 ........\n",
      "[CV]  alpha=55.56, fit_intercept=False, l1_ratio=0.227777777778, total=   0.0s\n",
      "[CV] alpha=55.56, fit_intercept=False, l1_ratio=0.227777777778 .......\n",
      "[CV]  alpha=55.56, fit_intercept=False, l1_ratio=0.772222222222, total=   0.0s\n",
      "[CV] alpha=55.56, fit_intercept=False, l1_ratio=0.772222222222 .......\n",
      "[CV]  alpha=55.56, fit_intercept=True, l1_ratio=0.336666666667, total=   0.0s\n",
      "[CV]  alpha=55.56, fit_intercept=True, l1_ratio=0.881111111111, total=   0.0s\n",
      "[CV] alpha=55.56, fit_intercept=False, l1_ratio=0.881111111111 .......\n",
      "[CV] alpha=55.56, fit_intercept=False, l1_ratio=0.881111111111 .......\n",
      "[CV]  alpha=55.56, fit_intercept=False, l1_ratio=0.227777777778, total=   0.0s\n",
      "[CV] alpha=55.56, fit_intercept=False, l1_ratio=0.336666666667 .......\n",
      "[CV]  alpha=55.56, fit_intercept=False, l1_ratio=0.772222222222, total=   0.0s\n",
      "[CV]  alpha=55.56, fit_intercept=False, l1_ratio=0.881111111111, total=   0.0s\n",
      "[CV] alpha=55.56, fit_intercept=False, l1_ratio=0.881111111111 .......\n",
      "[CV]  alpha=55.56, fit_intercept=False, l1_ratio=0.881111111111, total=   0.0s\n",
      "[CV]  alpha=55.56, fit_intercept=False, l1_ratio=0.881111111111, total=   0.0s\n"
     ]
    },
    {
     "name": "stdout",
     "output_type": "stream",
     "text": [
      "[CV] alpha=55.56, fit_intercept=False, l1_ratio=0.99 .................\n",
      "[CV]  alpha=55.56, fit_intercept=False, l1_ratio=0.336666666667, total=   0.0s\n",
      "[CV] .. alpha=55.56, fit_intercept=False, l1_ratio=0.99, total=   0.0s\n",
      "[CV] alpha=55.56, fit_intercept=False, l1_ratio=0.99 .................\n",
      "[CV] alpha=66.67, fit_intercept=True, l1_ratio=0.227777777778 ........\n",
      "[CV] .. alpha=55.56, fit_intercept=False, l1_ratio=0.99, total=   0.0s\n",
      "[CV] alpha=55.56, fit_intercept=False, l1_ratio=0.99 .................\n",
      "[CV] .. alpha=55.56, fit_intercept=False, l1_ratio=0.99, total=   0.0s\n",
      "[CV] alpha=66.67, fit_intercept=True, l1_ratio=0.01 ..................\n",
      "[CV] alpha=66.67, fit_intercept=False, l1_ratio=0.227777777778 .......\n",
      "[CV] alpha=66.67, fit_intercept=True, l1_ratio=0.772222222222 ........\n",
      "[CV] ... alpha=66.67, fit_intercept=True, l1_ratio=0.01, total=   0.0s\n",
      "[CV] alpha=66.67, fit_intercept=True, l1_ratio=0.01 ..................\n",
      "[CV]  alpha=66.67, fit_intercept=True, l1_ratio=0.772222222222, total=   0.0s\n",
      "[CV] alpha=66.67, fit_intercept=True, l1_ratio=0.772222222222 ........\n",
      "[CV] ... alpha=66.67, fit_intercept=True, l1_ratio=0.01, total=   0.0s\n",
      "[CV]  alpha=66.67, fit_intercept=True, l1_ratio=0.772222222222, total=   0.0s\n",
      "[CV] alpha=66.67, fit_intercept=True, l1_ratio=0.01 ..................\n",
      "[CV] alpha=66.67, fit_intercept=True, l1_ratio=0.881111111111 ........\n",
      "[CV]  alpha=66.67, fit_intercept=True, l1_ratio=0.881111111111, total=   0.0s\n",
      "[CV] ... alpha=66.67, fit_intercept=True, l1_ratio=0.01, total=   0.0s\n",
      "[CV] alpha=66.67, fit_intercept=True, l1_ratio=0.881111111111 ........\n",
      "[CV]  alpha=66.67, fit_intercept=False, l1_ratio=0.227777777778, total=   0.0s\n",
      "[CV] alpha=66.67, fit_intercept=True, l1_ratio=0.118888888889 ........\n",
      "[CV]  alpha=66.67, fit_intercept=True, l1_ratio=0.227777777778, total=   0.0s\n",
      "[CV] alpha=66.67, fit_intercept=False, l1_ratio=0.227777777778 .......\n",
      "[CV]  alpha=66.67, fit_intercept=True, l1_ratio=0.881111111111, total=   0.0s\n",
      "[CV] alpha=66.67, fit_intercept=True, l1_ratio=0.881111111111 ........\n",
      "[CV] alpha=66.67, fit_intercept=True, l1_ratio=0.336666666667 ........\n",
      "[CV]  alpha=66.67, fit_intercept=True, l1_ratio=0.881111111111, total=   0.0s\n",
      "[CV] alpha=66.67, fit_intercept=True, l1_ratio=0.99 ..................\n",
      "[CV]  alpha=66.67, fit_intercept=False, l1_ratio=0.227777777778, total=   0.0s\n",
      "[CV] alpha=66.67, fit_intercept=False, l1_ratio=0.227777777778 .......\n",
      "[CV] ... alpha=66.67, fit_intercept=True, l1_ratio=0.99, total=   0.0s\n",
      "[CV]  alpha=66.67, fit_intercept=True, l1_ratio=0.336666666667, total=   0.0s\n",
      "[CV] alpha=66.67, fit_intercept=True, l1_ratio=0.336666666667 ........\n",
      "[CV] alpha=66.67, fit_intercept=True, l1_ratio=0.99 ..................\n",
      "[CV] ... alpha=66.67, fit_intercept=True, l1_ratio=0.99, total=   0.0s\n",
      "[CV] alpha=66.67, fit_intercept=True, l1_ratio=0.99 ..................\n",
      "[CV]  alpha=66.67, fit_intercept=False, l1_ratio=0.227777777778, total=   0.0s\n",
      "[CV] alpha=66.67, fit_intercept=False, l1_ratio=0.336666666667 .......\n",
      "[CV] ... alpha=66.67, fit_intercept=True, l1_ratio=0.99, total=   0.0s\n",
      "[CV]  alpha=66.67, fit_intercept=True, l1_ratio=0.336666666667, total=   0.0s\n",
      "[CV] alpha=66.67, fit_intercept=False, l1_ratio=0.01 .................\n",
      "[CV] alpha=66.67, fit_intercept=True, l1_ratio=0.336666666667 ........\n",
      "[CV] .. alpha=66.67, fit_intercept=False, l1_ratio=0.01, total=   0.0s\n",
      "[CV]  alpha=66.67, fit_intercept=True, l1_ratio=0.336666666667, total=   0.0s\n",
      "[CV] alpha=66.67, fit_intercept=True, l1_ratio=0.445555555556 ........\n",
      "[CV]  alpha=66.67, fit_intercept=False, l1_ratio=0.336666666667, total=   0.0s\n",
      "[CV] alpha=66.67, fit_intercept=False, l1_ratio=0.336666666667 .......\n",
      "[CV]  alpha=66.67, fit_intercept=True, l1_ratio=0.118888888889, total=   0.1s\n",
      "[CV] alpha=66.67, fit_intercept=True, l1_ratio=0.118888888889 ........\n",
      "[CV]  alpha=66.67, fit_intercept=True, l1_ratio=0.118888888889, total=   0.0s\n",
      "[CV] alpha=66.67, fit_intercept=True, l1_ratio=0.118888888889 ........\n",
      "[CV]  alpha=66.67, fit_intercept=False, l1_ratio=0.336666666667, total=   0.0s\n",
      "[CV] alpha=66.67, fit_intercept=False, l1_ratio=0.01 .................\n",
      "[CV] alpha=66.67, fit_intercept=False, l1_ratio=0.336666666667 .......\n",
      "[CV]  alpha=66.67, fit_intercept=True, l1_ratio=0.445555555556, total=   0.0s\n",
      "[CV] alpha=66.67, fit_intercept=True, l1_ratio=0.445555555556 ........\n",
      "[CV] .. alpha=66.67, fit_intercept=False, l1_ratio=0.01, total=   0.0s\n",
      "[CV]  alpha=66.67, fit_intercept=False, l1_ratio=0.336666666667, total=   0.0s\n",
      "[CV] alpha=66.67, fit_intercept=False, l1_ratio=0.445555555556 .......\n",
      "[CV]  alpha=66.67, fit_intercept=True, l1_ratio=0.118888888889, total=   0.0s\n",
      "[CV] alpha=66.67, fit_intercept=True, l1_ratio=0.227777777778 ........\n",
      "[CV] alpha=66.67, fit_intercept=False, l1_ratio=0.01 .................\n",
      "[CV]  alpha=66.67, fit_intercept=True, l1_ratio=0.227777777778, total=   0.0s\n",
      "[CV] alpha=66.67, fit_intercept=True, l1_ratio=0.227777777778 ........\n",
      "[CV] .. alpha=66.67, fit_intercept=False, l1_ratio=0.01, total=   0.0s\n",
      "[CV]  alpha=66.67, fit_intercept=True, l1_ratio=0.445555555556, total=   0.0s\n",
      "[CV] alpha=66.67, fit_intercept=False, l1_ratio=0.118888888889 .......\n",
      "[CV] alpha=66.67, fit_intercept=True, l1_ratio=0.445555555556 ........\n",
      "[CV]  alpha=66.67, fit_intercept=False, l1_ratio=0.445555555556, total=   0.0s\n",
      "[CV] alpha=66.67, fit_intercept=False, l1_ratio=0.445555555556 .......\n",
      "[CV]  alpha=66.67, fit_intercept=True, l1_ratio=0.227777777778, total=   0.0s\n",
      "[CV]  alpha=66.67, fit_intercept=False, l1_ratio=0.118888888889, total=   0.0s\n",
      "[CV] alpha=66.67, fit_intercept=True, l1_ratio=0.554444444444 ........\n",
      "[CV]  alpha=66.67, fit_intercept=True, l1_ratio=0.445555555556, total=   0.0s\n",
      "[CV] alpha=66.67, fit_intercept=False, l1_ratio=0.663333333333 .......\n",
      "[CV] alpha=66.67, fit_intercept=False, l1_ratio=0.118888888889 .......\n",
      "[CV]  alpha=66.67, fit_intercept=True, l1_ratio=0.554444444444, total=   0.0s\n",
      "[CV] alpha=66.67, fit_intercept=True, l1_ratio=0.554444444444 ........\n",
      "[CV]  alpha=66.67, fit_intercept=False, l1_ratio=0.445555555556, total=   0.0s\n",
      "[CV] alpha=66.67, fit_intercept=False, l1_ratio=0.445555555556 .......\n",
      "[CV]  alpha=66.67, fit_intercept=True, l1_ratio=0.554444444444, total=   0.0s\n",
      "[CV] alpha=66.67, fit_intercept=True, l1_ratio=0.554444444444 ........\n",
      "[CV]  alpha=66.67, fit_intercept=True, l1_ratio=0.554444444444, total=   0.0s\n",
      "[CV] alpha=66.67, fit_intercept=True, l1_ratio=0.663333333333 ........\n",
      "[CV]  alpha=66.67, fit_intercept=False, l1_ratio=0.663333333333, total=   0.0s\n",
      "[CV]  alpha=66.67, fit_intercept=False, l1_ratio=0.445555555556, total=   0.0s\n",
      "[CV]  alpha=66.67, fit_intercept=True, l1_ratio=0.663333333333, total=   0.0s\n",
      "[CV] alpha=66.67, fit_intercept=False, l1_ratio=0.554444444444 .......\n",
      "[CV] alpha=66.67, fit_intercept=False, l1_ratio=0.772222222222 .......\n",
      "[CV] alpha=66.67, fit_intercept=True, l1_ratio=0.663333333333 ........\n",
      "[CV]  alpha=66.67, fit_intercept=True, l1_ratio=0.663333333333, total=   0.0s\n",
      "[CV] alpha=66.67, fit_intercept=True, l1_ratio=0.663333333333 ........\n",
      "[CV]  alpha=66.67, fit_intercept=True, l1_ratio=0.663333333333, total=   0.0s\n",
      "[CV] alpha=66.67, fit_intercept=True, l1_ratio=0.772222222222 ........\n",
      "[CV]  alpha=66.67, fit_intercept=True, l1_ratio=0.772222222222, total=   0.0s\n",
      "[CV] alpha=77.78, fit_intercept=True, l1_ratio=0.118888888889 ........\n",
      "[CV]  alpha=77.78, fit_intercept=True, l1_ratio=0.118888888889, total=   0.0s\n",
      "[CV] alpha=77.78, fit_intercept=True, l1_ratio=0.118888888889 ........\n",
      "[CV]  alpha=66.67, fit_intercept=False, l1_ratio=0.554444444444, total=   0.0s\n",
      "[CV] alpha=66.67, fit_intercept=False, l1_ratio=0.554444444444 .......\n",
      "[CV]  alpha=66.67, fit_intercept=False, l1_ratio=0.118888888889, total=   0.0s\n",
      "[CV]  alpha=66.67, fit_intercept=False, l1_ratio=0.554444444444, total=   0.0s\n",
      "[CV]  alpha=66.67, fit_intercept=False, l1_ratio=0.772222222222, total=   0.0s\n",
      "[CV] alpha=66.67, fit_intercept=False, l1_ratio=0.554444444444 .......\n",
      "[CV] alpha=66.67, fit_intercept=False, l1_ratio=0.118888888889 .......\n",
      "[CV]  alpha=66.67, fit_intercept=False, l1_ratio=0.554444444444, total=   0.0s\n",
      "[CV] alpha=66.67, fit_intercept=False, l1_ratio=0.663333333333 .......\n",
      "[CV]  alpha=66.67, fit_intercept=False, l1_ratio=0.663333333333, total=   0.0s\n"
     ]
    },
    {
     "name": "stdout",
     "output_type": "stream",
     "text": [
      "[CV] alpha=66.67, fit_intercept=False, l1_ratio=0.772222222222 .......\n",
      "[CV] alpha=66.67, fit_intercept=False, l1_ratio=0.663333333333 .......\n",
      "[CV]  alpha=66.67, fit_intercept=False, l1_ratio=0.663333333333, total=   0.0s\n",
      "[CV] alpha=77.78, fit_intercept=True, l1_ratio=0.663333333333 ........\n",
      "[CV]  alpha=66.67, fit_intercept=False, l1_ratio=0.118888888889, total=   0.0s\n",
      "[CV] alpha=77.78, fit_intercept=False, l1_ratio=0.01 .................\n",
      "[CV]  alpha=66.67, fit_intercept=False, l1_ratio=0.772222222222, total=   0.0s\n",
      "[CV] alpha=66.67, fit_intercept=False, l1_ratio=0.772222222222 .......\n",
      "[CV]  alpha=77.78, fit_intercept=True, l1_ratio=0.118888888889, total=   0.0s\n",
      "[CV] .. alpha=77.78, fit_intercept=False, l1_ratio=0.01, total=   0.0s\n",
      "[CV] alpha=77.78, fit_intercept=False, l1_ratio=0.118888888889 .......\n",
      "[CV] alpha=77.78, fit_intercept=True, l1_ratio=0.227777777778 ........\n",
      "[CV]  alpha=77.78, fit_intercept=True, l1_ratio=0.663333333333, total=   0.0s\n",
      "[CV]  alpha=66.67, fit_intercept=False, l1_ratio=0.772222222222, total=   0.0s\n",
      "[CV] alpha=66.67, fit_intercept=False, l1_ratio=0.881111111111 .......\n",
      "[CV] alpha=77.78, fit_intercept=True, l1_ratio=0.663333333333 ........\n",
      "[CV]  alpha=77.78, fit_intercept=True, l1_ratio=0.663333333333, total=   0.0s\n",
      "[CV]  alpha=77.78, fit_intercept=True, l1_ratio=0.227777777778, total=   0.0s\n",
      "[CV] alpha=77.78, fit_intercept=True, l1_ratio=0.227777777778 ........\n",
      "[CV]  alpha=77.78, fit_intercept=False, l1_ratio=0.118888888889, total=   0.0s\n",
      "[CV] alpha=77.78, fit_intercept=False, l1_ratio=0.118888888889 .......\n",
      "[CV] alpha=77.78, fit_intercept=True, l1_ratio=0.663333333333 ........\n",
      "[CV]  alpha=77.78, fit_intercept=True, l1_ratio=0.227777777778, total=   0.0s\n",
      "[CV] alpha=77.78, fit_intercept=True, l1_ratio=0.227777777778 ........\n",
      "[CV]  alpha=77.78, fit_intercept=True, l1_ratio=0.663333333333, total=   0.0s\n",
      "[CV]  alpha=66.67, fit_intercept=False, l1_ratio=0.881111111111, total=   0.0s\n",
      "[CV] alpha=66.67, fit_intercept=False, l1_ratio=0.881111111111 .......\n",
      "[CV] alpha=77.78, fit_intercept=True, l1_ratio=0.772222222222 ........\n",
      "[CV]  alpha=77.78, fit_intercept=True, l1_ratio=0.772222222222, total=   0.0s\n",
      "[CV] alpha=77.78, fit_intercept=True, l1_ratio=0.772222222222 ........\n",
      "[CV]  alpha=77.78, fit_intercept=False, l1_ratio=0.118888888889, total=   0.0s\n",
      "[CV] alpha=77.78, fit_intercept=False, l1_ratio=0.118888888889 .......\n",
      "[CV]  alpha=66.67, fit_intercept=False, l1_ratio=0.881111111111, total=   0.0s\n",
      "[CV]  alpha=77.78, fit_intercept=True, l1_ratio=0.772222222222, total=   0.0s\n",
      "[CV] alpha=66.67, fit_intercept=False, l1_ratio=0.881111111111 .......\n",
      "[CV]  alpha=77.78, fit_intercept=True, l1_ratio=0.227777777778, total=   0.0s\n",
      "[CV] alpha=77.78, fit_intercept=True, l1_ratio=0.336666666667 ........\n",
      "[CV] alpha=77.78, fit_intercept=True, l1_ratio=0.772222222222 ........\n",
      "[CV]  alpha=77.78, fit_intercept=False, l1_ratio=0.118888888889, total=   0.0s\n",
      "[CV] alpha=77.78, fit_intercept=False, l1_ratio=0.227777777778 .......\n",
      "[CV]  alpha=66.67, fit_intercept=False, l1_ratio=0.881111111111, total=   0.0s\n",
      "[CV] alpha=66.67, fit_intercept=False, l1_ratio=0.99 .................\n",
      "[CV]  alpha=77.78, fit_intercept=True, l1_ratio=0.336666666667, total=   0.0s\n",
      "[CV] alpha=77.78, fit_intercept=True, l1_ratio=0.336666666667 ........\n",
      "[CV]  alpha=77.78, fit_intercept=True, l1_ratio=0.772222222222, total=   0.0s\n",
      "[CV]  alpha=77.78, fit_intercept=False, l1_ratio=0.227777777778, total=   0.0s\n",
      "[CV] alpha=77.78, fit_intercept=False, l1_ratio=0.227777777778 .......\n",
      "[CV] alpha=77.78, fit_intercept=True, l1_ratio=0.881111111111 ........\n",
      "[CV] .. alpha=66.67, fit_intercept=False, l1_ratio=0.99, total=   0.0s\n",
      "[CV]  alpha=77.78, fit_intercept=True, l1_ratio=0.336666666667, total=   0.0s\n",
      "[CV] alpha=66.67, fit_intercept=False, l1_ratio=0.99 .................\n",
      "[CV] alpha=77.78, fit_intercept=True, l1_ratio=0.336666666667 ........\n",
      "[CV]  alpha=77.78, fit_intercept=True, l1_ratio=0.881111111111, total=   0.0s\n",
      "[CV] alpha=77.78, fit_intercept=True, l1_ratio=0.881111111111 ........\n",
      "[CV]  alpha=77.78, fit_intercept=False, l1_ratio=0.227777777778, total=   0.0s\n",
      "[CV] alpha=77.78, fit_intercept=False, l1_ratio=0.227777777778 .......\n",
      "[CV] .. alpha=66.67, fit_intercept=False, l1_ratio=0.99, total=   0.0s\n",
      "[CV] alpha=66.67, fit_intercept=False, l1_ratio=0.99 .................\n",
      "[CV]  alpha=77.78, fit_intercept=False, l1_ratio=0.227777777778, total=   0.0s\n",
      "[CV] alpha=77.78, fit_intercept=False, l1_ratio=0.336666666667 .......\n",
      "[CV]  alpha=77.78, fit_intercept=True, l1_ratio=0.336666666667, total=   0.0s\n",
      "[CV]  alpha=77.78, fit_intercept=True, l1_ratio=0.881111111111, total=   0.0s\n",
      "[CV] alpha=77.78, fit_intercept=True, l1_ratio=0.445555555556 ........\n",
      "[CV] alpha=77.78, fit_intercept=True, l1_ratio=0.881111111111 ........\n",
      "[CV] .. alpha=66.67, fit_intercept=False, l1_ratio=0.99, total=   0.0s\n",
      "[CV]  alpha=77.78, fit_intercept=False, l1_ratio=0.336666666667, total=   0.0s\n",
      "[CV] alpha=77.78, fit_intercept=True, l1_ratio=0.01 ..................\n",
      "[CV] alpha=77.78, fit_intercept=False, l1_ratio=0.336666666667 .......\n",
      "[CV]  alpha=77.78, fit_intercept=True, l1_ratio=0.881111111111, total=   0.0s\n",
      "[CV] ... alpha=77.78, fit_intercept=True, l1_ratio=0.01, total=   0.0s\n",
      "[CV]  alpha=77.78, fit_intercept=True, l1_ratio=0.445555555556, total=   0.0s\n",
      "[CV] alpha=77.78, fit_intercept=True, l1_ratio=0.01 ..................\n",
      "[CV] alpha=77.78, fit_intercept=True, l1_ratio=0.445555555556 ........\n",
      "[CV] alpha=77.78, fit_intercept=True, l1_ratio=0.99 ..................\n",
      "[CV]  alpha=77.78, fit_intercept=False, l1_ratio=0.336666666667, total=   0.0s\n",
      "[CV] alpha=77.78, fit_intercept=False, l1_ratio=0.336666666667 .......\n",
      "[CV] ... alpha=77.78, fit_intercept=True, l1_ratio=0.01, total=   0.0s\n",
      "[CV]  alpha=77.78, fit_intercept=False, l1_ratio=0.336666666667, total=   0.0s\n",
      "[CV] alpha=77.78, fit_intercept=True, l1_ratio=0.01 ..................\n",
      "[CV] alpha=77.78, fit_intercept=False, l1_ratio=0.445555555556 .......\n",
      "[CV] ... alpha=77.78, fit_intercept=True, l1_ratio=0.99, total=   0.0s\n",
      "[CV]  alpha=77.78, fit_intercept=True, l1_ratio=0.445555555556, total=   0.0s\n",
      "[CV] alpha=77.78, fit_intercept=True, l1_ratio=0.99 ..................\n",
      "[CV] alpha=77.78, fit_intercept=True, l1_ratio=0.445555555556 ........\n",
      "[CV]  alpha=77.78, fit_intercept=False, l1_ratio=0.445555555556, total=   0.0s\n",
      "[CV] alpha=77.78, fit_intercept=False, l1_ratio=0.445555555556 .......\n",
      "[CV] ... alpha=77.78, fit_intercept=True, l1_ratio=0.01, total=   0.0s\n",
      "[CV] alpha=77.78, fit_intercept=True, l1_ratio=0.118888888889 ........\n",
      "[CV]  alpha=77.78, fit_intercept=True, l1_ratio=0.445555555556, total=   0.0s\n",
      "[CV] alpha=77.78, fit_intercept=True, l1_ratio=0.554444444444 ........\n",
      "[CV] ... alpha=77.78, fit_intercept=True, l1_ratio=0.99, total=   0.0s\n",
      "[CV] alpha=77.78, fit_intercept=True, l1_ratio=0.99 ..................\n",
      "[CV]  alpha=77.78, fit_intercept=False, l1_ratio=0.445555555556, total=   0.0s\n",
      "[CV] alpha=77.78, fit_intercept=False, l1_ratio=0.445555555556 .......\n",
      "[CV]  alpha=77.78, fit_intercept=True, l1_ratio=0.118888888889, total=   0.0s\n",
      "[CV] alpha=77.78, fit_intercept=False, l1_ratio=0.554444444444 .......\n",
      "[CV]  alpha=77.78, fit_intercept=True, l1_ratio=0.554444444444, total=   0.0s\n",
      "[CV] alpha=77.78, fit_intercept=True, l1_ratio=0.554444444444 ........\n",
      "[CV] ... alpha=77.78, fit_intercept=True, l1_ratio=0.99, total=   0.0s\n",
      "[CV]  alpha=77.78, fit_intercept=False, l1_ratio=0.445555555556, total=   0.0s\n",
      "[CV] alpha=77.78, fit_intercept=False, l1_ratio=0.01 .................\n",
      "[CV] alpha=77.78, fit_intercept=False, l1_ratio=0.554444444444 .......\n",
      "[CV]  alpha=77.78, fit_intercept=True, l1_ratio=0.554444444444, total=   0.0s\n",
      "[CV]  alpha=77.78, fit_intercept=False, l1_ratio=0.554444444444, total=   0.0s\n",
      "[CV] alpha=77.78, fit_intercept=True, l1_ratio=0.554444444444 ........\n",
      "[CV] alpha=77.78, fit_intercept=False, l1_ratio=0.554444444444 .......\n",
      "[CV]  alpha=77.78, fit_intercept=True, l1_ratio=0.554444444444, total=   0.0s\n",
      "[CV]  alpha=77.78, fit_intercept=False, l1_ratio=0.554444444444, total=   0.0s\n",
      "[CV] alpha=77.78, fit_intercept=False, l1_ratio=0.663333333333 .......\n",
      "[CV] alpha=88.89, fit_intercept=True, l1_ratio=0.01 ..................\n",
      "[CV]  alpha=77.78, fit_intercept=False, l1_ratio=0.554444444444, total=   0.0s\n"
     ]
    },
    {
     "name": "stdout",
     "output_type": "stream",
     "text": [
      "[CV] .. alpha=77.78, fit_intercept=False, l1_ratio=0.01, total=   0.0s\n",
      "[CV] alpha=77.78, fit_intercept=False, l1_ratio=0.01 .................\n",
      "[CV] alpha=88.89, fit_intercept=True, l1_ratio=0.445555555556 ........\n",
      "[CV]  alpha=77.78, fit_intercept=False, l1_ratio=0.663333333333, total=   0.0s\n",
      "[CV] alpha=77.78, fit_intercept=False, l1_ratio=0.663333333333 .......\n",
      "[CV]  alpha=88.89, fit_intercept=True, l1_ratio=0.445555555556, total=   0.0s\n",
      "[CV] ... alpha=88.89, fit_intercept=True, l1_ratio=0.01, total=   0.0s\n",
      "[CV] alpha=88.89, fit_intercept=True, l1_ratio=0.554444444444 ........\n",
      "[CV] alpha=88.89, fit_intercept=True, l1_ratio=0.01 ..................\n",
      "[CV] .. alpha=77.78, fit_intercept=False, l1_ratio=0.01, total=   0.0s\n",
      "[CV] alpha=88.89, fit_intercept=True, l1_ratio=0.99 ..................\n",
      "[CV]  alpha=88.89, fit_intercept=True, l1_ratio=0.554444444444, total=   0.0s\n",
      "[CV] alpha=88.89, fit_intercept=True, l1_ratio=0.554444444444 ........\n",
      "[CV]  alpha=77.78, fit_intercept=False, l1_ratio=0.663333333333, total=   0.0s\n",
      "[CV] alpha=77.78, fit_intercept=False, l1_ratio=0.663333333333 .......\n",
      "[CV] ... alpha=88.89, fit_intercept=True, l1_ratio=0.01, total=   0.0s\n",
      "[CV] alpha=88.89, fit_intercept=True, l1_ratio=0.01 ..................\n",
      "[CV] ... alpha=88.89, fit_intercept=True, l1_ratio=0.99, total=   0.0s\n",
      "[CV] alpha=88.89, fit_intercept=True, l1_ratio=0.99 ..................\n",
      "[CV]  alpha=88.89, fit_intercept=True, l1_ratio=0.554444444444, total=   0.0s\n",
      "[CV] alpha=88.89, fit_intercept=True, l1_ratio=0.554444444444 ........\n",
      "[CV]  alpha=77.78, fit_intercept=False, l1_ratio=0.663333333333, total=   0.0s\n",
      "[CV] alpha=77.78, fit_intercept=False, l1_ratio=0.772222222222 .......\n",
      "[CV] ... alpha=88.89, fit_intercept=True, l1_ratio=0.01, total=   0.0s\n",
      "[CV] alpha=88.89, fit_intercept=True, l1_ratio=0.118888888889 ........\n",
      "[CV]  alpha=88.89, fit_intercept=True, l1_ratio=0.554444444444, total=   0.0s\n",
      "[CV] alpha=88.89, fit_intercept=True, l1_ratio=0.663333333333 ........\n",
      "[CV] ... alpha=88.89, fit_intercept=True, l1_ratio=0.99, total=   0.0s\n",
      "[CV] alpha=88.89, fit_intercept=False, l1_ratio=0.01 .................\n",
      "[CV]  alpha=77.78, fit_intercept=False, l1_ratio=0.772222222222, total=   0.0s\n",
      "[CV] alpha=77.78, fit_intercept=False, l1_ratio=0.772222222222 .......\n",
      "[CV]  alpha=88.89, fit_intercept=True, l1_ratio=0.118888888889, total=   0.0s\n",
      "[CV] alpha=88.89, fit_intercept=True, l1_ratio=0.118888888889 ........\n",
      "[CV]  alpha=88.89, fit_intercept=True, l1_ratio=0.663333333333, total=   0.0s\n",
      "[CV] alpha=88.89, fit_intercept=True, l1_ratio=0.663333333333 ........\n",
      "[CV] .. alpha=88.89, fit_intercept=False, l1_ratio=0.01, total=   0.0s\n",
      "[CV] alpha=88.89, fit_intercept=False, l1_ratio=0.01 .................\n",
      "[CV]  alpha=88.89, fit_intercept=True, l1_ratio=0.118888888889, total=   0.0s\n",
      "[CV]  alpha=77.78, fit_intercept=False, l1_ratio=0.772222222222, total=   0.0s\n",
      "[CV] alpha=88.89, fit_intercept=True, l1_ratio=0.118888888889 ........\n",
      "[CV] alpha=77.78, fit_intercept=False, l1_ratio=0.772222222222 .......\n",
      "[CV]  alpha=77.78, fit_intercept=False, l1_ratio=0.772222222222, total=   0.0s\n",
      "[CV]  alpha=88.89, fit_intercept=True, l1_ratio=0.663333333333, total=   0.0s\n",
      "[CV] alpha=77.78, fit_intercept=False, l1_ratio=0.881111111111 .......\n",
      "[CV] alpha=88.89, fit_intercept=True, l1_ratio=0.663333333333 ........\n",
      "[CV] .. alpha=88.89, fit_intercept=False, l1_ratio=0.01, total=   0.0s\n",
      "[CV] alpha=88.89, fit_intercept=False, l1_ratio=0.01 .................\n",
      "[CV]  alpha=88.89, fit_intercept=True, l1_ratio=0.118888888889, total=   0.0s\n",
      "[CV] alpha=88.89, fit_intercept=True, l1_ratio=0.227777777778 ........\n",
      "[CV]  alpha=88.89, fit_intercept=True, l1_ratio=0.663333333333, total=   0.0s\n",
      "[CV] .. alpha=88.89, fit_intercept=False, l1_ratio=0.01, total=   0.0s\n",
      "[CV]  alpha=88.89, fit_intercept=True, l1_ratio=0.227777777778, total=   0.0s\n",
      "[CV] alpha=88.89, fit_intercept=True, l1_ratio=0.772222222222 ........\n",
      "[CV] alpha=88.89, fit_intercept=False, l1_ratio=0.118888888889 .......\n",
      "[CV] alpha=88.89, fit_intercept=True, l1_ratio=0.227777777778 ........\n",
      "[CV]  alpha=77.78, fit_intercept=False, l1_ratio=0.881111111111, total=   0.0s\n",
      "[CV] alpha=77.78, fit_intercept=False, l1_ratio=0.881111111111 .......\n",
      "[CV]  alpha=88.89, fit_intercept=False, l1_ratio=0.118888888889, total=   0.0s\n",
      "[CV]  alpha=88.89, fit_intercept=True, l1_ratio=0.227777777778, total=   0.0s\n",
      "[CV] alpha=88.89, fit_intercept=True, l1_ratio=0.227777777778 ........\n",
      "[CV] alpha=88.89, fit_intercept=False, l1_ratio=0.118888888889 .......\n",
      "[CV]  alpha=77.78, fit_intercept=False, l1_ratio=0.881111111111, total=   0.0s\n",
      "[CV] alpha=77.78, fit_intercept=False, l1_ratio=0.881111111111 .......\n",
      "[CV]  alpha=88.89, fit_intercept=True, l1_ratio=0.772222222222, total=   0.0s\n",
      "[CV] alpha=88.89, fit_intercept=True, l1_ratio=0.772222222222 ........\n",
      "[CV]  alpha=88.89, fit_intercept=True, l1_ratio=0.227777777778, total=   0.0s\n",
      "[CV] alpha=88.89, fit_intercept=True, l1_ratio=0.336666666667 ........\n",
      "[CV]  alpha=88.89, fit_intercept=False, l1_ratio=0.118888888889, total=   0.0s\n",
      "[CV] alpha=88.89, fit_intercept=False, l1_ratio=0.118888888889 .......\n",
      "[CV]  alpha=77.78, fit_intercept=False, l1_ratio=0.881111111111, total=   0.0s\n",
      "[CV] alpha=77.78, fit_intercept=False, l1_ratio=0.99 .................\n",
      "[CV]  alpha=88.89, fit_intercept=True, l1_ratio=0.772222222222, total=   0.0s\n",
      "[CV] alpha=88.89, fit_intercept=True, l1_ratio=0.772222222222 ........\n",
      "[CV]  alpha=88.89, fit_intercept=True, l1_ratio=0.336666666667, total=   0.0s\n",
      "[CV] alpha=88.89, fit_intercept=True, l1_ratio=0.336666666667 ........\n",
      "[CV] .. alpha=77.78, fit_intercept=False, l1_ratio=0.99, total=   0.0s\n",
      "[CV] alpha=77.78, fit_intercept=False, l1_ratio=0.99 .................\n",
      "[CV]  alpha=88.89, fit_intercept=False, l1_ratio=0.118888888889, total=   0.0s\n",
      "[CV]  alpha=88.89, fit_intercept=True, l1_ratio=0.772222222222, total=   0.0s\n",
      "[CV] alpha=88.89, fit_intercept=False, l1_ratio=0.227777777778 .......\n",
      "[CV] alpha=88.89, fit_intercept=True, l1_ratio=0.881111111111 ........\n",
      "[CV]  alpha=88.89, fit_intercept=True, l1_ratio=0.336666666667, total=   0.0s\n",
      "[CV] alpha=88.89, fit_intercept=True, l1_ratio=0.336666666667 ........\n",
      "[CV] .. alpha=77.78, fit_intercept=False, l1_ratio=0.99, total=   0.0s\n",
      "[CV]  alpha=88.89, fit_intercept=False, l1_ratio=0.227777777778, total=   0.0s\n",
      "[CV] alpha=88.89, fit_intercept=False, l1_ratio=0.227777777778 .......\n",
      "[CV] alpha=77.78, fit_intercept=False, l1_ratio=0.99 .................\n",
      "[CV]  alpha=88.89, fit_intercept=True, l1_ratio=0.881111111111, total=   0.0s\n",
      "[CV] alpha=88.89, fit_intercept=True, l1_ratio=0.881111111111 ........\n",
      "[CV] .. alpha=77.78, fit_intercept=False, l1_ratio=0.99, total=   0.0s\n",
      "[CV]  alpha=88.89, fit_intercept=True, l1_ratio=0.881111111111, total=   0.0s\n",
      "[CV] alpha=88.89, fit_intercept=True, l1_ratio=0.881111111111 ........\n",
      "[CV] alpha=88.89, fit_intercept=True, l1_ratio=0.445555555556 ........\n",
      "[CV] alpha=88.89, fit_intercept=False, l1_ratio=0.445555555556 .......\n",
      "[CV]  alpha=88.89, fit_intercept=True, l1_ratio=0.336666666667, total=   0.0s\n",
      "[CV]  alpha=88.89, fit_intercept=False, l1_ratio=0.227777777778, total=   0.0s\n",
      "[CV] alpha=88.89, fit_intercept=False, l1_ratio=0.227777777778 .......\n",
      "[CV]  alpha=88.89, fit_intercept=True, l1_ratio=0.445555555556, total=   0.0s\n",
      "[CV] alpha=88.89, fit_intercept=True, l1_ratio=0.445555555556 ........\n",
      "[CV]  alpha=88.89, fit_intercept=False, l1_ratio=0.445555555556, total=   0.0s\n",
      "[CV] alpha=88.89, fit_intercept=False, l1_ratio=0.445555555556 .......\n",
      "[CV]  alpha=88.89, fit_intercept=False, l1_ratio=0.227777777778, total=   0.0s\n",
      "[CV]  alpha=88.89, fit_intercept=False, l1_ratio=0.445555555556, total=   0.0s\n",
      "[CV] alpha=88.89, fit_intercept=False, l1_ratio=0.445555555556 .......\n",
      "[CV] alpha=88.89, fit_intercept=False, l1_ratio=0.336666666667 .......\n",
      "[CV]  alpha=88.89, fit_intercept=True, l1_ratio=0.881111111111, total=   0.0s\n",
      "[CV] alpha=88.89, fit_intercept=True, l1_ratio=0.99 ..................\n",
      "[CV]  alpha=88.89, fit_intercept=False, l1_ratio=0.336666666667, total=   0.0s\n",
      "[CV]  alpha=88.89, fit_intercept=True, l1_ratio=0.445555555556, total=   0.0s\n",
      "[CV] alpha=88.89, fit_intercept=False, l1_ratio=0.336666666667 .......\n",
      "[CV] alpha=88.89, fit_intercept=False, l1_ratio=0.881111111111 .......\n"
     ]
    },
    {
     "name": "stdout",
     "output_type": "stream",
     "text": [
      "[CV]  alpha=88.89, fit_intercept=False, l1_ratio=0.445555555556, total=   0.0s\n",
      "[CV] alpha=88.89, fit_intercept=False, l1_ratio=0.554444444444 .......\n",
      "[CV] ... alpha=88.89, fit_intercept=True, l1_ratio=0.99, total=   0.0s\n",
      "[CV] alpha=100.0, fit_intercept=True, l1_ratio=0.336666666667 ........\n",
      "[CV]  alpha=88.89, fit_intercept=False, l1_ratio=0.336666666667, total=   0.0s\n",
      "[CV] alpha=88.89, fit_intercept=False, l1_ratio=0.336666666667 .......\n",
      "[CV]  alpha=88.89, fit_intercept=False, l1_ratio=0.881111111111, total=   0.0s\n",
      "[CV] alpha=88.89, fit_intercept=False, l1_ratio=0.99 .................\n",
      "[CV]  alpha=88.89, fit_intercept=False, l1_ratio=0.554444444444, total=   0.0s\n",
      "[CV] alpha=88.89, fit_intercept=False, l1_ratio=0.554444444444 .......\n",
      "[CV]  alpha=100.0, fit_intercept=True, l1_ratio=0.336666666667, total=   0.0s\n",
      "[CV]  alpha=88.89, fit_intercept=False, l1_ratio=0.336666666667, total=   0.0s\n",
      "[CV] alpha=100.0, fit_intercept=True, l1_ratio=0.336666666667 ........\n",
      "[CV] alpha=100.0, fit_intercept=True, l1_ratio=0.881111111111 ........\n",
      "[CV]  alpha=88.89, fit_intercept=False, l1_ratio=0.554444444444, total=   0.0s\n",
      "[CV] alpha=88.89, fit_intercept=False, l1_ratio=0.554444444444 .......\n",
      "[CV] .. alpha=88.89, fit_intercept=False, l1_ratio=0.99, total=   0.0s\n",
      "[CV] alpha=88.89, fit_intercept=False, l1_ratio=0.99 .................\n",
      "[CV]  alpha=100.0, fit_intercept=True, l1_ratio=0.336666666667, total=   0.0s\n",
      "[CV] alpha=100.0, fit_intercept=True, l1_ratio=0.445555555556 ........\n",
      "[CV]  alpha=100.0, fit_intercept=True, l1_ratio=0.881111111111, total=   0.0s\n",
      "[CV] alpha=100.0, fit_intercept=True, l1_ratio=0.881111111111 ........\n",
      "[CV]  alpha=88.89, fit_intercept=False, l1_ratio=0.554444444444, total=   0.0s\n",
      "[CV] alpha=88.89, fit_intercept=False, l1_ratio=0.663333333333 .......\n",
      "[CV] .. alpha=88.89, fit_intercept=False, l1_ratio=0.99, total=   0.0s\n",
      "[CV] alpha=88.89, fit_intercept=False, l1_ratio=0.99 .................\n",
      "[CV]  alpha=100.0, fit_intercept=True, l1_ratio=0.445555555556, total=   0.0s\n",
      "[CV]  alpha=100.0, fit_intercept=True, l1_ratio=0.881111111111, total=   0.0s\n",
      "[CV] alpha=100.0, fit_intercept=True, l1_ratio=0.445555555556 ........\n",
      "[CV] alpha=100.0, fit_intercept=True, l1_ratio=0.881111111111 ........\n",
      "[CV]  alpha=88.89, fit_intercept=False, l1_ratio=0.663333333333, total=   0.0s\n",
      "[CV] alpha=88.89, fit_intercept=False, l1_ratio=0.663333333333 .......\n",
      "[CV]  alpha=100.0, fit_intercept=True, l1_ratio=0.445555555556, total=   0.0s\n",
      "[CV] .. alpha=88.89, fit_intercept=False, l1_ratio=0.99, total=   0.0s\n",
      "[CV] alpha=100.0, fit_intercept=True, l1_ratio=0.445555555556 ........\n",
      "[CV] alpha=100.0, fit_intercept=True, l1_ratio=0.01 ..................\n",
      "[CV]  alpha=100.0, fit_intercept=True, l1_ratio=0.881111111111, total=   0.0s\n",
      "[CV] alpha=100.0, fit_intercept=True, l1_ratio=0.99 ..................\n",
      "[CV]  alpha=88.89, fit_intercept=False, l1_ratio=0.663333333333, total=   0.0s\n",
      "[CV]  alpha=100.0, fit_intercept=True, l1_ratio=0.445555555556, total=   0.0s\n",
      "[CV] alpha=88.89, fit_intercept=False, l1_ratio=0.663333333333 .......\n",
      "[CV] alpha=100.0, fit_intercept=True, l1_ratio=0.554444444444 ........\n",
      "[CV] ... alpha=100.0, fit_intercept=True, l1_ratio=0.01, total=   0.0s\n",
      "[CV] alpha=100.0, fit_intercept=True, l1_ratio=0.01 ..................\n",
      "[CV]  alpha=88.89, fit_intercept=False, l1_ratio=0.663333333333, total=   0.0s\n",
      "[CV] alpha=88.89, fit_intercept=False, l1_ratio=0.772222222222 .......\n",
      "[CV] ... alpha=100.0, fit_intercept=True, l1_ratio=0.99, total=   0.0s\n",
      "[CV] alpha=100.0, fit_intercept=True, l1_ratio=0.99 ..................\n",
      "[CV]  alpha=100.0, fit_intercept=True, l1_ratio=0.554444444444, total=   0.0s\n",
      "[CV] alpha=100.0, fit_intercept=True, l1_ratio=0.554444444444 ........\n",
      "[CV] ... alpha=100.0, fit_intercept=True, l1_ratio=0.01, total=   0.0s\n",
      "[CV] alpha=100.0, fit_intercept=True, l1_ratio=0.01 ..................\n",
      "[CV]  alpha=88.89, fit_intercept=False, l1_ratio=0.772222222222, total=   0.0s\n",
      "[CV] alpha=88.89, fit_intercept=False, l1_ratio=0.772222222222 .......\n",
      "[CV] ... alpha=100.0, fit_intercept=True, l1_ratio=0.99, total=   0.0s\n",
      "[CV] alpha=100.0, fit_intercept=True, l1_ratio=0.99 ..................\n",
      "[CV]  alpha=100.0, fit_intercept=True, l1_ratio=0.554444444444, total=   0.0s\n",
      "[CV] alpha=100.0, fit_intercept=True, l1_ratio=0.554444444444 ........\n",
      "[CV]  alpha=88.89, fit_intercept=False, l1_ratio=0.772222222222, total=   0.0s\n",
      "[CV] alpha=88.89, fit_intercept=False, l1_ratio=0.772222222222 .......\n",
      "[CV] ... alpha=100.0, fit_intercept=True, l1_ratio=0.01, total=   0.0s\n",
      "[CV] alpha=100.0, fit_intercept=True, l1_ratio=0.118888888889 ........\n",
      "[CV] ... alpha=100.0, fit_intercept=True, l1_ratio=0.99, total=   0.0s\n",
      "[CV] alpha=100.0, fit_intercept=False, l1_ratio=0.01 .................\n",
      "[CV]  alpha=100.0, fit_intercept=True, l1_ratio=0.554444444444, total=   0.0s\n",
      "[CV] .. alpha=100.0, fit_intercept=False, l1_ratio=0.01, total=   0.0s\n",
      "[CV] alpha=100.0, fit_intercept=True, l1_ratio=0.663333333333 ........\n",
      "[CV] alpha=100.0, fit_intercept=False, l1_ratio=0.01 .................\n",
      "[CV]  alpha=88.89, fit_intercept=False, l1_ratio=0.772222222222, total=   0.0s\n",
      "[CV]  alpha=100.0, fit_intercept=True, l1_ratio=0.118888888889, total=   0.0s\n",
      "[CV] alpha=88.89, fit_intercept=False, l1_ratio=0.881111111111 .......\n",
      "[CV] alpha=100.0, fit_intercept=True, l1_ratio=0.118888888889 ........\n",
      "[CV]  alpha=100.0, fit_intercept=True, l1_ratio=0.663333333333, total=   0.0s\n",
      "[CV] .. alpha=100.0, fit_intercept=False, l1_ratio=0.01, total=   0.0s\n",
      "[CV] alpha=100.0, fit_intercept=True, l1_ratio=0.663333333333 ........\n",
      "[CV] alpha=100.0, fit_intercept=False, l1_ratio=0.01 .................\n",
      "[CV]  alpha=100.0, fit_intercept=True, l1_ratio=0.118888888889, total=   0.0s\n",
      "[CV] alpha=100.0, fit_intercept=True, l1_ratio=0.118888888889 ........\n",
      "[CV]  alpha=88.89, fit_intercept=False, l1_ratio=0.881111111111, total=   0.0s\n",
      "[CV] alpha=88.89, fit_intercept=False, l1_ratio=0.881111111111 .......\n",
      "[CV] .. alpha=100.0, fit_intercept=False, l1_ratio=0.01, total=   0.0s\n",
      "[CV]  alpha=100.0, fit_intercept=True, l1_ratio=0.663333333333, total=   0.0s\n",
      "[CV] alpha=100.0, fit_intercept=False, l1_ratio=0.118888888889 .......\n",
      "[CV] alpha=100.0, fit_intercept=True, l1_ratio=0.663333333333 ........\n",
      "[CV]  alpha=100.0, fit_intercept=False, l1_ratio=0.118888888889, total=   0.0s\n",
      "[CV]  alpha=100.0, fit_intercept=True, l1_ratio=0.118888888889, total=   0.0s\n",
      "[CV] alpha=100.0, fit_intercept=True, l1_ratio=0.227777777778 ........\n",
      "[CV] alpha=100.0, fit_intercept=False, l1_ratio=0.118888888889 .......\n",
      "[CV]  alpha=88.89, fit_intercept=False, l1_ratio=0.881111111111, total=   0.0s\n",
      "[CV]  alpha=100.0, fit_intercept=False, l1_ratio=0.118888888889, total=   0.0s\n",
      "[CV] alpha=100.0, fit_intercept=False, l1_ratio=0.227777777778 .......\n",
      "[CV] alpha=100.0, fit_intercept=False, l1_ratio=0.118888888889 .......\n",
      "[CV]  alpha=100.0, fit_intercept=True, l1_ratio=0.227777777778, total=   0.0s\n",
      "[CV]  alpha=100.0, fit_intercept=True, l1_ratio=0.663333333333, total=   0.0s\n",
      "[CV] alpha=100.0, fit_intercept=True, l1_ratio=0.227777777778 ........\n",
      "[CV] alpha=100.0, fit_intercept=True, l1_ratio=0.772222222222 ........\n",
      "[CV]  alpha=100.0, fit_intercept=False, l1_ratio=0.227777777778, total=   0.0s\n",
      "[CV]  alpha=100.0, fit_intercept=False, l1_ratio=0.118888888889, total=   0.0s\n",
      "[CV] alpha=100.0, fit_intercept=False, l1_ratio=0.336666666667 .......\n",
      "[CV] alpha=100.0, fit_intercept=False, l1_ratio=0.227777777778 .......\n",
      "[CV]  alpha=100.0, fit_intercept=True, l1_ratio=0.227777777778, total=   0.0s\n",
      "[CV]  alpha=100.0, fit_intercept=True, l1_ratio=0.772222222222, total=   0.0s\n",
      "[CV] alpha=100.0, fit_intercept=True, l1_ratio=0.227777777778 ........\n",
      "[CV] alpha=100.0, fit_intercept=True, l1_ratio=0.772222222222 ........\n",
      "[CV]  alpha=100.0, fit_intercept=False, l1_ratio=0.227777777778, total=   0.0s\n",
      "[CV]  alpha=100.0, fit_intercept=True, l1_ratio=0.772222222222, total=   0.0s\n",
      "[CV] alpha=100.0, fit_intercept=False, l1_ratio=0.227777777778 .......\n",
      "[CV] alpha=100.0, fit_intercept=True, l1_ratio=0.772222222222 ........\n",
      "[CV]  alpha=100.0, fit_intercept=False, l1_ratio=0.336666666667, total=   0.0s\n",
      "[CV]  alpha=100.0, fit_intercept=True, l1_ratio=0.227777777778, total=   0.0s\n",
      "[CV] alpha=100.0, fit_intercept=False, l1_ratio=0.336666666667 .......\n"
     ]
    },
    {
     "name": "stdout",
     "output_type": "stream",
     "text": [
      "[CV] alpha=100.0, fit_intercept=True, l1_ratio=0.336666666667 ........\n",
      "[CV]  alpha=100.0, fit_intercept=False, l1_ratio=0.336666666667, total=   0.0s\n",
      "[CV]  alpha=100.0, fit_intercept=True, l1_ratio=0.772222222222, total=   0.0s\n",
      "[CV] alpha=100.0, fit_intercept=False, l1_ratio=0.336666666667 .......\n",
      "[CV] alpha=100.0, fit_intercept=False, l1_ratio=0.772222222222 .......\n",
      "[CV]  alpha=100.0, fit_intercept=False, l1_ratio=0.227777777778, total=   0.0s\n",
      "[CV]  alpha=100.0, fit_intercept=True, l1_ratio=0.336666666667, total=   0.0s\n",
      "[CV]  alpha=100.0, fit_intercept=False, l1_ratio=0.772222222222, total=   0.0s\n",
      "[CV] alpha=100.0, fit_intercept=False, l1_ratio=0.772222222222 .......\n",
      "[CV]  alpha=100.0, fit_intercept=False, l1_ratio=0.336666666667, total=   0.0s\n",
      "[CV] alpha=100.0, fit_intercept=False, l1_ratio=0.445555555556 .......\n",
      "[CV]  alpha=100.0, fit_intercept=False, l1_ratio=0.772222222222, total=   0.0s\n",
      "[CV] alpha=100.0, fit_intercept=False, l1_ratio=0.881111111111 .......\n",
      "[CV]  alpha=100.0, fit_intercept=False, l1_ratio=0.445555555556, total=   0.0s\n",
      "[CV] alpha=100.0, fit_intercept=False, l1_ratio=0.445555555556 .......\n",
      "[CV]  alpha=100.0, fit_intercept=False, l1_ratio=0.881111111111, total=   0.0s\n",
      "[CV] alpha=100.0, fit_intercept=False, l1_ratio=0.881111111111 .......\n",
      "[CV]  alpha=100.0, fit_intercept=False, l1_ratio=0.445555555556, total=   0.0s\n",
      "[CV]  alpha=100.0, fit_intercept=False, l1_ratio=0.881111111111, total=   0.0s\n",
      "[CV] alpha=100.0, fit_intercept=False, l1_ratio=0.445555555556 .......\n",
      "[CV] alpha=100.0, fit_intercept=False, l1_ratio=0.881111111111 .......\n",
      "[CV]  alpha=100.0, fit_intercept=False, l1_ratio=0.881111111111, total=   0.0s\n",
      "[CV]  alpha=100.0, fit_intercept=False, l1_ratio=0.445555555556, total=   0.0s\n",
      "[CV] alpha=100.0, fit_intercept=False, l1_ratio=0.99 .................\n",
      "[CV] alpha=100.0, fit_intercept=False, l1_ratio=0.554444444444 .......\n",
      "[CV] .. alpha=100.0, fit_intercept=False, l1_ratio=0.99, total=   0.0s\n",
      "[CV]  alpha=100.0, fit_intercept=False, l1_ratio=0.554444444444, total=   0.0s\n",
      "[CV] alpha=100.0, fit_intercept=False, l1_ratio=0.554444444444 .......\n",
      "[CV] alpha=100.0, fit_intercept=False, l1_ratio=0.99 .................\n",
      "[CV]  alpha=100.0, fit_intercept=False, l1_ratio=0.554444444444, total=   0.0s\n",
      "[CV] .. alpha=100.0, fit_intercept=False, l1_ratio=0.99, total=   0.0s\n",
      "[CV] alpha=100.0, fit_intercept=False, l1_ratio=0.554444444444 .......\n",
      "[CV] alpha=100.0, fit_intercept=False, l1_ratio=0.99 .................\n",
      "[CV] .. alpha=100.0, fit_intercept=False, l1_ratio=0.99, total=   0.0s\n",
      "[CV]  alpha=100.0, fit_intercept=False, l1_ratio=0.554444444444, total=   0.0s\n",
      "[CV] alpha=100.0, fit_intercept=False, l1_ratio=0.663333333333 .......\n",
      "[CV]  alpha=100.0, fit_intercept=False, l1_ratio=0.663333333333, total=   0.0s\n",
      "[CV] alpha=100.0, fit_intercept=False, l1_ratio=0.663333333333 .......\n",
      "[CV]  alpha=100.0, fit_intercept=False, l1_ratio=0.663333333333, total=   0.0s\n",
      "[CV] alpha=100.0, fit_intercept=False, l1_ratio=0.663333333333 .......\n",
      "[CV]  alpha=100.0, fit_intercept=False, l1_ratio=0.663333333333, total=   0.0s\n",
      "[CV] alpha=100.0, fit_intercept=False, l1_ratio=0.772222222222 .......\n",
      "[CV]  alpha=100.0, fit_intercept=False, l1_ratio=0.772222222222, total=   0.0s\n"
     ]
    },
    {
     "name": "stderr",
     "output_type": "stream",
     "text": [
      "[Parallel(n_jobs=-1)]: Done 600 out of 600 | elapsed:    5.2s finished\n"
     ]
    },
    {
     "data": {
      "text/plain": [
       "GridSearchCV(cv=None, error_score='raise',\n",
       "       estimator=ElasticNet(alpha=1.0, copy_X=True, fit_intercept=True, l1_ratio=0.5,\n",
       "      max_iter=1000, normalize=False, positive=False, precompute=False,\n",
       "      random_state=None, selection='cyclic', tol=0.0001, warm_start=False),\n",
       "       fit_params=None, iid=True, n_jobs=-1,\n",
       "       param_grid={'fit_intercept': [True, False], 'alpha': array([  1.00000e-02,   1.11200e+01,   2.22300e+01,   3.33400e+01,\n",
       "         4.44500e+01,   5.55600e+01,   6.66700e+01,   7.77800e+01,\n",
       "         8.88900e+01,   1.00000e+02]), 'l1_ratio': array([ 0.01   ,  0.11889,  0.22778,  0.33667,  0.44556,  0.55444,\n",
       "        0.66333,  0.77222,  0.88111,  0.99   ])},\n",
       "       pre_dispatch='2*n_jobs', refit=True, return_train_score=True,\n",
       "       scoring=None, verbose=2)"
      ]
     },
     "execution_count": 249,
     "metadata": {},
     "output_type": "execute_result"
    }
   ],
   "source": [
    "grid_search.fit(X_train, y_train)"
   ]
  },
  {
   "cell_type": "code",
   "execution_count": 250,
   "metadata": {},
   "outputs": [
    {
     "name": "stdout",
     "output_type": "stream",
     "text": [
      "0.825123255976 {'alpha': 11.119999999999999, 'fit_intercept': True, 'l1_ratio': 0.98999999999999999}\n"
     ]
    }
   ],
   "source": [
    "print(grid_search.best_score_, grid_search.best_params_)"
   ]
  },
  {
   "cell_type": "code",
   "execution_count": 258,
   "metadata": {},
   "outputs": [
    {
     "data": {
      "text/plain": [
       "ElasticNet(alpha=11.119999999999999, copy_X=True, fit_intercept=True,\n",
       "      l1_ratio=0.98999999999999999, max_iter=1000, normalize=False,\n",
       "      positive=False, precompute=False, random_state=None,\n",
       "      selection='cyclic', tol=0.0001, warm_start=False)"
      ]
     },
     "execution_count": 258,
     "metadata": {},
     "output_type": "execute_result"
    }
   ],
   "source": [
    "best_estimator.fit(X_train, y_train)"
   ]
  },
  {
   "cell_type": "code",
   "execution_count": 259,
   "metadata": {},
   "outputs": [
    {
     "name": "stdout",
     "output_type": "stream",
     "text": [
      "0.855418262581\n",
      "0.755288407493\n"
     ]
    }
   ],
   "source": [
    "best_estimator = grid_search.best_estimator_\n",
    "\n",
    "print(best_estimator.score(X_train, y_train))\n",
    "print(best_estimator.score(X_test, y_test))"
   ]
  },
  {
   "cell_type": "code",
   "execution_count": 273,
   "metadata": {},
   "outputs": [],
   "source": [
    "PRED3 = best_estimator.predict(ames_test_ss)"
   ]
  },
  {
   "cell_type": "code",
   "execution_count": 274,
   "metadata": {},
   "outputs": [],
   "source": [
    "PRED3 = pd.DataFrame(PRED3, columns=['SalePrice'])"
   ]
  },
  {
   "cell_type": "code",
   "execution_count": 275,
   "metadata": {},
   "outputs": [
    {
     "data": {
      "text/html": [
       "<div>\n",
       "<style>\n",
       "    .dataframe thead tr:only-child th {\n",
       "        text-align: right;\n",
       "    }\n",
       "\n",
       "    .dataframe thead th {\n",
       "        text-align: left;\n",
       "    }\n",
       "\n",
       "    .dataframe tbody tr th {\n",
       "        vertical-align: top;\n",
       "    }\n",
       "</style>\n",
       "<table border=\"1\" class=\"dataframe\">\n",
       "  <thead>\n",
       "    <tr style=\"text-align: right;\">\n",
       "      <th></th>\n",
       "      <th>SalePrice</th>\n",
       "    </tr>\n",
       "  </thead>\n",
       "  <tbody>\n",
       "    <tr>\n",
       "      <th>0</th>\n",
       "      <td>134726.789529</td>\n",
       "    </tr>\n",
       "    <tr>\n",
       "      <th>1</th>\n",
       "      <td>167565.399235</td>\n",
       "    </tr>\n",
       "    <tr>\n",
       "      <th>2</th>\n",
       "      <td>208285.708375</td>\n",
       "    </tr>\n",
       "    <tr>\n",
       "      <th>3</th>\n",
       "      <td>115166.589655</td>\n",
       "    </tr>\n",
       "    <tr>\n",
       "      <th>4</th>\n",
       "      <td>205380.234829</td>\n",
       "    </tr>\n",
       "  </tbody>\n",
       "</table>\n",
       "</div>"
      ],
      "text/plain": [
       "       SalePrice\n",
       "0  134726.789529\n",
       "1  167565.399235\n",
       "2  208285.708375\n",
       "3  115166.589655\n",
       "4  205380.234829"
      ]
     },
     "execution_count": 275,
     "metadata": {},
     "output_type": "execute_result"
    }
   ],
   "source": [
    "PRED3.head()"
   ]
  },
  {
   "cell_type": "code",
   "execution_count": 276,
   "metadata": {
    "collapsed": true
   },
   "outputs": [],
   "source": [
    "Prediction3= pd.concat((ID, PRED3), axis=1)"
   ]
  },
  {
   "cell_type": "code",
   "execution_count": 277,
   "metadata": {},
   "outputs": [
    {
     "data": {
      "text/html": [
       "<div>\n",
       "<style>\n",
       "    .dataframe thead tr:only-child th {\n",
       "        text-align: right;\n",
       "    }\n",
       "\n",
       "    .dataframe thead th {\n",
       "        text-align: left;\n",
       "    }\n",
       "\n",
       "    .dataframe tbody tr th {\n",
       "        vertical-align: top;\n",
       "    }\n",
       "</style>\n",
       "<table border=\"1\" class=\"dataframe\">\n",
       "  <thead>\n",
       "    <tr style=\"text-align: right;\">\n",
       "      <th></th>\n",
       "      <th>Id</th>\n",
       "      <th>SalePrice</th>\n",
       "    </tr>\n",
       "  </thead>\n",
       "  <tbody>\n",
       "    <tr>\n",
       "      <th>0</th>\n",
       "      <td>2658</td>\n",
       "      <td>134726.789529</td>\n",
       "    </tr>\n",
       "    <tr>\n",
       "      <th>1</th>\n",
       "      <td>2718</td>\n",
       "      <td>167565.399235</td>\n",
       "    </tr>\n",
       "    <tr>\n",
       "      <th>2</th>\n",
       "      <td>2414</td>\n",
       "      <td>208285.708375</td>\n",
       "    </tr>\n",
       "    <tr>\n",
       "      <th>3</th>\n",
       "      <td>1989</td>\n",
       "      <td>115166.589655</td>\n",
       "    </tr>\n",
       "    <tr>\n",
       "      <th>4</th>\n",
       "      <td>625</td>\n",
       "      <td>205380.234829</td>\n",
       "    </tr>\n",
       "  </tbody>\n",
       "</table>\n",
       "</div>"
      ],
      "text/plain": [
       "     Id      SalePrice\n",
       "0  2658  134726.789529\n",
       "1  2718  167565.399235\n",
       "2  2414  208285.708375\n",
       "3  1989  115166.589655\n",
       "4   625  205380.234829"
      ]
     },
     "execution_count": 277,
     "metadata": {},
     "output_type": "execute_result"
    }
   ],
   "source": [
    "Prediction3.head()"
   ]
  },
  {
   "cell_type": "code",
   "execution_count": 278,
   "metadata": {
    "collapsed": true
   },
   "outputs": [],
   "source": [
    "Prediction3.to_csv('prediction_lr3.csv', index=False)"
   ]
  },
  {
   "cell_type": "code",
   "execution_count": 345,
   "metadata": {
    "collapsed": true
   },
   "outputs": [],
   "source": [
    "from sklearn.linear_model import Ridge"
   ]
  },
  {
   "cell_type": "code",
   "execution_count": 400,
   "metadata": {
    "collapsed": true
   },
   "outputs": [],
   "source": [
    "params = {\n",
    "    'fit_intercept': [True, False],\n",
    "    'alpha': np.linspace(100, 1000, 10),\n",
    "    'normalize': [True, False]\n",
    "}"
   ]
  },
  {
   "cell_type": "code",
   "execution_count": 401,
   "metadata": {},
   "outputs": [
    {
     "data": {
      "text/plain": [
       "array([  100.,   200.,   300.,   400.,   500.,   600.,   700.,   800.,\n",
       "         900.,  1000.])"
      ]
     },
     "execution_count": 401,
     "metadata": {},
     "output_type": "execute_result"
    }
   ],
   "source": [
    "np.linspace(100, 1000, 10)"
   ]
  },
  {
   "cell_type": "code",
   "execution_count": 402,
   "metadata": {},
   "outputs": [],
   "source": [
    "ridge = Ridge()\n",
    "grid_search = GridSearchCV(ridge, params, verbose=1)"
   ]
  },
  {
   "cell_type": "code",
   "execution_count": 403,
   "metadata": {},
   "outputs": [
    {
     "name": "stdout",
     "output_type": "stream",
     "text": [
      "Fitting 3 folds for each of 40 candidates, totalling 120 fits\n"
     ]
    },
    {
     "name": "stderr",
     "output_type": "stream",
     "text": [
      "[Parallel(n_jobs=1)]: Done 120 out of 120 | elapsed:    0.5s finished\n"
     ]
    },
    {
     "data": {
      "text/plain": [
       "GridSearchCV(cv=None, error_score='raise',\n",
       "       estimator=Ridge(alpha=1.0, copy_X=True, fit_intercept=True, max_iter=None,\n",
       "   normalize=False, random_state=None, solver='auto', tol=0.001),\n",
       "       fit_params=None, iid=True, n_jobs=1,\n",
       "       param_grid={'fit_intercept': [True, False], 'alpha': array([  100.,   200.,   300.,   400.,   500.,   600.,   700.,   800.,\n",
       "         900.,  1000.]), 'normalize': [True, False]},\n",
       "       pre_dispatch='2*n_jobs', refit=True, return_train_score=True,\n",
       "       scoring=None, verbose=1)"
      ]
     },
     "execution_count": 403,
     "metadata": {},
     "output_type": "execute_result"
    }
   ],
   "source": [
    "grid_search.fit(X_train, y_train)"
   ]
  },
  {
   "cell_type": "code",
   "execution_count": 394,
   "metadata": {},
   "outputs": [
    {
     "name": "stdout",
     "output_type": "stream",
     "text": [
      "0.825153403341 {'alpha': 100.0, 'fit_intercept': True, 'normalize': False}\n"
     ]
    }
   ],
   "source": [
    "print(grid_search.best_score_, grid_search.best_params_)"
   ]
  },
  {
   "cell_type": "code",
   "execution_count": 404,
   "metadata": {},
   "outputs": [
    {
     "name": "stdout",
     "output_type": "stream",
     "text": [
      "0.856958809256\n",
      "0.750696701478\n"
     ]
    }
   ],
   "source": [
    "best_estimator = grid_search.best_estimator_\n",
    "\n",
    "print(best_estimator.score(X_train, y_train))\n",
    "print(best_estimator.score(X_test, y_test))"
   ]
  },
  {
   "cell_type": "code",
   "execution_count": 405,
   "metadata": {},
   "outputs": [
    {
     "name": "stdout",
     "output_type": "stream",
     "text": [
      "Fitting 3 folds for each of 40 candidates, totalling 120 fits\n"
     ]
    },
    {
     "name": "stderr",
     "output_type": "stream",
     "text": [
      "[Parallel(n_jobs=1)]: Done 120 out of 120 | elapsed:    0.5s finished\n"
     ]
    },
    {
     "data": {
      "text/plain": [
       "GridSearchCV(cv=None, error_score='raise',\n",
       "       estimator=Ridge(alpha=1.0, copy_X=True, fit_intercept=True, max_iter=None,\n",
       "   normalize=False, random_state=None, solver='auto', tol=0.001),\n",
       "       fit_params=None, iid=True, n_jobs=1,\n",
       "       param_grid={'fit_intercept': [True, False], 'alpha': array([  100.,   200.,   300.,   400.,   500.,   600.,   700.,   800.,\n",
       "         900.,  1000.]), 'normalize': [True, False]},\n",
       "       pre_dispatch='2*n_jobs', refit=True, return_train_score=True,\n",
       "       scoring=None, verbose=1)"
      ]
     },
     "execution_count": 405,
     "metadata": {},
     "output_type": "execute_result"
    }
   ],
   "source": [
    "grid_search.fit(X_train, y_train)"
   ]
  },
  {
   "cell_type": "code",
   "execution_count": 398,
   "metadata": {},
   "outputs": [
    {
     "data": {
      "text/plain": [
       "0.75069670147795364"
      ]
     },
     "execution_count": 398,
     "metadata": {},
     "output_type": "execute_result"
    }
   ],
   "source": [
    "grid_search.score(X_test, y_test)"
   ]
  },
  {
   "cell_type": "code",
   "execution_count": 413,
   "metadata": {},
   "outputs": [],
   "source": [
    "PRED6 = pd.DataFrame(grid_search.predict(ames_test_ss), columns=['SalePrice'])"
   ]
  },
  {
   "cell_type": "code",
   "execution_count": 414,
   "metadata": {
    "collapsed": true
   },
   "outputs": [],
   "source": [
    "Prediction6 = pd.concat((ID, PRED6), axis=1)"
   ]
  },
  {
   "cell_type": "code",
   "execution_count": 415,
   "metadata": {
    "collapsed": true
   },
   "outputs": [],
   "source": [
    "Prediction6.to_csv('prediction_lr6.csv', index=False)"
   ]
  },
  {
   "cell_type": "code",
   "execution_count": 420,
   "metadata": {},
   "outputs": [],
   "source": [
    "PRED7= pd.DataFrame(best_estimator.predict(ames_test_ss), columns=['SalePrice'])"
   ]
  },
  {
   "cell_type": "code",
   "execution_count": 421,
   "metadata": {
    "collapsed": true
   },
   "outputs": [],
   "source": [
    "Predictions7 = pd.concat((ID, PRED7), axis=1)"
   ]
  },
  {
   "cell_type": "code",
   "execution_count": 422,
   "metadata": {},
   "outputs": [
    {
     "data": {
      "text/html": [
       "<div>\n",
       "<style>\n",
       "    .dataframe thead tr:only-child th {\n",
       "        text-align: right;\n",
       "    }\n",
       "\n",
       "    .dataframe thead th {\n",
       "        text-align: left;\n",
       "    }\n",
       "\n",
       "    .dataframe tbody tr th {\n",
       "        vertical-align: top;\n",
       "    }\n",
       "</style>\n",
       "<table border=\"1\" class=\"dataframe\">\n",
       "  <thead>\n",
       "    <tr style=\"text-align: right;\">\n",
       "      <th></th>\n",
       "      <th>Id</th>\n",
       "      <th>SalePrice</th>\n",
       "    </tr>\n",
       "  </thead>\n",
       "  <tbody>\n",
       "    <tr>\n",
       "      <th>0</th>\n",
       "      <td>2658</td>\n",
       "      <td>136550.243651</td>\n",
       "    </tr>\n",
       "    <tr>\n",
       "      <th>1</th>\n",
       "      <td>2718</td>\n",
       "      <td>164818.629552</td>\n",
       "    </tr>\n",
       "    <tr>\n",
       "      <th>2</th>\n",
       "      <td>2414</td>\n",
       "      <td>208347.923460</td>\n",
       "    </tr>\n",
       "    <tr>\n",
       "      <th>3</th>\n",
       "      <td>1989</td>\n",
       "      <td>114003.291715</td>\n",
       "    </tr>\n",
       "    <tr>\n",
       "      <th>4</th>\n",
       "      <td>625</td>\n",
       "      <td>203793.547567</td>\n",
       "    </tr>\n",
       "  </tbody>\n",
       "</table>\n",
       "</div>"
      ],
      "text/plain": [
       "     Id      SalePrice\n",
       "0  2658  136550.243651\n",
       "1  2718  164818.629552\n",
       "2  2414  208347.923460\n",
       "3  1989  114003.291715\n",
       "4   625  203793.547567"
      ]
     },
     "execution_count": 422,
     "metadata": {},
     "output_type": "execute_result"
    }
   ],
   "source": [
    "Predictions7.head()"
   ]
  },
  {
   "cell_type": "code",
   "execution_count": 423,
   "metadata": {
    "collapsed": true
   },
   "outputs": [],
   "source": [
    "Predictions7.to_csv('prediction_lr7.csv', index=False)"
   ]
  },
  {
   "cell_type": "code",
   "execution_count": null,
   "metadata": {
    "collapsed": true
   },
   "outputs": [],
   "source": []
  },
  {
   "cell_type": "code",
   "execution_count": null,
   "metadata": {
    "collapsed": true
   },
   "outputs": [],
   "source": []
  },
  {
   "cell_type": "code",
   "execution_count": 375,
   "metadata": {},
   "outputs": [
    {
     "data": {
      "text/plain": [
       "Ridge(alpha=1000, copy_X=True, fit_intercept=True, max_iter=None,\n",
       "   normalize=False, random_state=None, solver='auto', tol=0.001)"
      ]
     },
     "execution_count": 375,
     "metadata": {},
     "output_type": "execute_result"
    }
   ],
   "source": [
    "ridge.fit(X_train, y_train)"
   ]
  },
  {
   "cell_type": "code",
   "execution_count": 376,
   "metadata": {},
   "outputs": [
    {
     "data": {
      "text/plain": [
       "0.83324017225760005"
      ]
     },
     "execution_count": 376,
     "metadata": {},
     "output_type": "execute_result"
    }
   ],
   "source": [
    "ridge.score(X_train, y_train)"
   ]
  },
  {
   "cell_type": "code",
   "execution_count": 377,
   "metadata": {},
   "outputs": [
    {
     "data": {
      "text/plain": [
       "0.76788573643303315"
      ]
     },
     "execution_count": 377,
     "metadata": {},
     "output_type": "execute_result"
    }
   ],
   "source": [
    "ridge.score(X_test, y_test)"
   ]
  },
  {
   "cell_type": "code",
   "execution_count": 367,
   "metadata": {},
   "outputs": [],
   "source": [
    "PRED5 = pd.DataFrame(ridge.predict(ames_test_ss), columns=['SalePrice'])"
   ]
  },
  {
   "cell_type": "code",
   "execution_count": 368,
   "metadata": {
    "collapsed": true
   },
   "outputs": [],
   "source": [
    "Prediction5 = pd.concat((ID, PRED5), axis=1)"
   ]
  },
  {
   "cell_type": "code",
   "execution_count": 369,
   "metadata": {
    "collapsed": true
   },
   "outputs": [],
   "source": [
    "Prediction5.to_csv('predictions_lr5.csv', index=False)"
   ]
  },
  {
   "cell_type": "code",
   "execution_count": null,
   "metadata": {
    "collapsed": true
   },
   "outputs": [],
   "source": []
  }
 ],
 "metadata": {
  "kernelspec": {
   "display_name": "Python 3",
   "language": "python",
   "name": "python3"
  },
  "language_info": {
   "codemirror_mode": {
    "name": "ipython",
    "version": 3
   },
   "file_extension": ".py",
   "mimetype": "text/x-python",
   "name": "python",
   "nbconvert_exporter": "python",
   "pygments_lexer": "ipython3",
   "version": "3.6.2"
  }
 },
 "nbformat": 4,
 "nbformat_minor": 2
}
